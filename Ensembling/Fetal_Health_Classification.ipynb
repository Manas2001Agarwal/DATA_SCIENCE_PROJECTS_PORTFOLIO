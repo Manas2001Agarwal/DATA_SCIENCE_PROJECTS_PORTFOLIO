{
  "nbformat": 4,
  "nbformat_minor": 0,
  "metadata": {
    "colab": {
      "provenance": [],
      "collapsed_sections": [],
      "authorship_tag": "ABX9TyOLTxz8Ct0MXYtJozS7jbYk",
      "include_colab_link": true
    },
    "kernelspec": {
      "name": "python3",
      "display_name": "Python 3"
    },
    "language_info": {
      "name": "python"
    }
  },
  "cells": [
    {
      "cell_type": "markdown",
      "metadata": {
        "id": "view-in-github",
        "colab_type": "text"
      },
      "source": [
        "<a href=\"https://colab.research.google.com/github/Manas2001Agarwal/DATA_SCIENCE_PROJECTS_PORTFOLIO/blob/main/Ensembling/Fetal_Health_Classification.ipynb\" target=\"_parent\"><img src=\"https://colab.research.google.com/assets/colab-badge.svg\" alt=\"Open In Colab\"/></a>"
      ]
    },
    {
      "cell_type": "code",
      "execution_count": null,
      "metadata": {
        "id": "xOixq-tU-2PZ"
      },
      "outputs": [],
      "source": [
        "import pandas as pd\n",
        "import numpy as np\n",
        "import matplotlib.pyplot as plt\n",
        "import seaborn as sns"
      ]
    },
    {
      "cell_type": "code",
      "source": [
        "data = pd.read_csv(\"/content/fetal_health.csv\")"
      ],
      "metadata": {
        "id": "zoNL3_GzBj9E"
      },
      "execution_count": null,
      "outputs": []
    },
    {
      "cell_type": "markdown",
      "source": [
        "Context\n",
        "\n",
        "Reduction of child mortality is reflected in several of the United Nations' Sustainable Development Goals and is a key indicator of human progress.\n",
        "The UN expects that by 2030, countries end preventable deaths of newborns and children under 5 years of age, with all countries aiming to reduce under‑5 mortality to at least as low as 25 per 1,000 live births.\n",
        "\n",
        "Parallel to notion of child mortality is of course maternal mortality, which accounts for 295 000 deaths during and following pregnancy and childbirth (as of 2017). The vast majority of these deaths (94%) occurred in low-resource settings, and most could have been prevented.\n",
        "\n",
        "In light of what was mentioned above, Cardiotocograms (CTGs) are a simple and cost accessible option to assess fetal health, allowing healthcare professionals to take action in order to prevent child and maternal mortality. The equipment itself works by sending ultrasound pulses and reading its response, thus shedding light on fetal heart rate (FHR), fetal movements, uterine contractions and more.\n",
        "\n",
        "Data\n",
        "\n",
        "This dataset contains 2126 records of features extracted from Cardiotocogram exams, which were then classified by three expert obstetritians into 3 classes:\n",
        "\n",
        "Normal\n",
        "\n",
        "Suspect\n",
        "\n",
        "Pathological"
      ],
      "metadata": {
        "id": "TlapP4bjCiQz"
      }
    },
    {
      "cell_type": "markdown",
      "source": [
        "To get this dataset :- https://www.kaggle.com/datasets/andrewmvd/fetal-health-classification"
      ],
      "metadata": {
        "id": "HDT1QdO7C1mS"
      }
    },
    {
      "cell_type": "code",
      "source": [
        "data.shape"
      ],
      "metadata": {
        "colab": {
          "base_uri": "https://localhost:8080/"
        },
        "id": "kZgnJVPrCGkX",
        "outputId": "a16e2274-6657-4bb3-b978-94e0aa808978"
      },
      "execution_count": null,
      "outputs": [
        {
          "output_type": "execute_result",
          "data": {
            "text/plain": [
              "(2126, 22)"
            ]
          },
          "metadata": {},
          "execution_count": 91
        }
      ]
    },
    {
      "cell_type": "code",
      "source": [
        "data.head()"
      ],
      "metadata": {
        "colab": {
          "base_uri": "https://localhost:8080/",
          "height": 314
        },
        "id": "XD6hqcczCBR4",
        "outputId": "bf5f5453-d3e0-457a-92a6-9576d95dba46"
      },
      "execution_count": null,
      "outputs": [
        {
          "output_type": "execute_result",
          "data": {
            "text/plain": [
              "   baseline value  accelerations  fetal_movement  uterine_contractions  \\\n",
              "0           120.0          0.000             0.0                 0.000   \n",
              "1           132.0          0.006             0.0                 0.006   \n",
              "2           133.0          0.003             0.0                 0.008   \n",
              "3           134.0          0.003             0.0                 0.008   \n",
              "4           132.0          0.007             0.0                 0.008   \n",
              "\n",
              "   light_decelerations  severe_decelerations  prolongued_decelerations  \\\n",
              "0                0.000                   0.0                       0.0   \n",
              "1                0.003                   0.0                       0.0   \n",
              "2                0.003                   0.0                       0.0   \n",
              "3                0.003                   0.0                       0.0   \n",
              "4                0.000                   0.0                       0.0   \n",
              "\n",
              "   abnormal_short_term_variability  mean_value_of_short_term_variability  \\\n",
              "0                             73.0                                   0.5   \n",
              "1                             17.0                                   2.1   \n",
              "2                             16.0                                   2.1   \n",
              "3                             16.0                                   2.4   \n",
              "4                             16.0                                   2.4   \n",
              "\n",
              "   percentage_of_time_with_abnormal_long_term_variability  ...  histogram_min  \\\n",
              "0                                               43.0       ...           62.0   \n",
              "1                                                0.0       ...           68.0   \n",
              "2                                                0.0       ...           68.0   \n",
              "3                                                0.0       ...           53.0   \n",
              "4                                                0.0       ...           53.0   \n",
              "\n",
              "   histogram_max  histogram_number_of_peaks  histogram_number_of_zeroes  \\\n",
              "0          126.0                        2.0                         0.0   \n",
              "1          198.0                        6.0                         1.0   \n",
              "2          198.0                        5.0                         1.0   \n",
              "3          170.0                       11.0                         0.0   \n",
              "4          170.0                        9.0                         0.0   \n",
              "\n",
              "   histogram_mode  histogram_mean  histogram_median  histogram_variance  \\\n",
              "0           120.0           137.0             121.0                73.0   \n",
              "1           141.0           136.0             140.0                12.0   \n",
              "2           141.0           135.0             138.0                13.0   \n",
              "3           137.0           134.0             137.0                13.0   \n",
              "4           137.0           136.0             138.0                11.0   \n",
              "\n",
              "   histogram_tendency  fetal_health  \n",
              "0                 1.0           2.0  \n",
              "1                 0.0           1.0  \n",
              "2                 0.0           1.0  \n",
              "3                 1.0           1.0  \n",
              "4                 1.0           1.0  \n",
              "\n",
              "[5 rows x 22 columns]"
            ],
            "text/html": [
              "\n",
              "  <div id=\"df-5a62274f-3976-44b8-b67f-831be0dbfd19\">\n",
              "    <div class=\"colab-df-container\">\n",
              "      <div>\n",
              "<style scoped>\n",
              "    .dataframe tbody tr th:only-of-type {\n",
              "        vertical-align: middle;\n",
              "    }\n",
              "\n",
              "    .dataframe tbody tr th {\n",
              "        vertical-align: top;\n",
              "    }\n",
              "\n",
              "    .dataframe thead th {\n",
              "        text-align: right;\n",
              "    }\n",
              "</style>\n",
              "<table border=\"1\" class=\"dataframe\">\n",
              "  <thead>\n",
              "    <tr style=\"text-align: right;\">\n",
              "      <th></th>\n",
              "      <th>baseline value</th>\n",
              "      <th>accelerations</th>\n",
              "      <th>fetal_movement</th>\n",
              "      <th>uterine_contractions</th>\n",
              "      <th>light_decelerations</th>\n",
              "      <th>severe_decelerations</th>\n",
              "      <th>prolongued_decelerations</th>\n",
              "      <th>abnormal_short_term_variability</th>\n",
              "      <th>mean_value_of_short_term_variability</th>\n",
              "      <th>percentage_of_time_with_abnormal_long_term_variability</th>\n",
              "      <th>...</th>\n",
              "      <th>histogram_min</th>\n",
              "      <th>histogram_max</th>\n",
              "      <th>histogram_number_of_peaks</th>\n",
              "      <th>histogram_number_of_zeroes</th>\n",
              "      <th>histogram_mode</th>\n",
              "      <th>histogram_mean</th>\n",
              "      <th>histogram_median</th>\n",
              "      <th>histogram_variance</th>\n",
              "      <th>histogram_tendency</th>\n",
              "      <th>fetal_health</th>\n",
              "    </tr>\n",
              "  </thead>\n",
              "  <tbody>\n",
              "    <tr>\n",
              "      <th>0</th>\n",
              "      <td>120.0</td>\n",
              "      <td>0.000</td>\n",
              "      <td>0.0</td>\n",
              "      <td>0.000</td>\n",
              "      <td>0.000</td>\n",
              "      <td>0.0</td>\n",
              "      <td>0.0</td>\n",
              "      <td>73.0</td>\n",
              "      <td>0.5</td>\n",
              "      <td>43.0</td>\n",
              "      <td>...</td>\n",
              "      <td>62.0</td>\n",
              "      <td>126.0</td>\n",
              "      <td>2.0</td>\n",
              "      <td>0.0</td>\n",
              "      <td>120.0</td>\n",
              "      <td>137.0</td>\n",
              "      <td>121.0</td>\n",
              "      <td>73.0</td>\n",
              "      <td>1.0</td>\n",
              "      <td>2.0</td>\n",
              "    </tr>\n",
              "    <tr>\n",
              "      <th>1</th>\n",
              "      <td>132.0</td>\n",
              "      <td>0.006</td>\n",
              "      <td>0.0</td>\n",
              "      <td>0.006</td>\n",
              "      <td>0.003</td>\n",
              "      <td>0.0</td>\n",
              "      <td>0.0</td>\n",
              "      <td>17.0</td>\n",
              "      <td>2.1</td>\n",
              "      <td>0.0</td>\n",
              "      <td>...</td>\n",
              "      <td>68.0</td>\n",
              "      <td>198.0</td>\n",
              "      <td>6.0</td>\n",
              "      <td>1.0</td>\n",
              "      <td>141.0</td>\n",
              "      <td>136.0</td>\n",
              "      <td>140.0</td>\n",
              "      <td>12.0</td>\n",
              "      <td>0.0</td>\n",
              "      <td>1.0</td>\n",
              "    </tr>\n",
              "    <tr>\n",
              "      <th>2</th>\n",
              "      <td>133.0</td>\n",
              "      <td>0.003</td>\n",
              "      <td>0.0</td>\n",
              "      <td>0.008</td>\n",
              "      <td>0.003</td>\n",
              "      <td>0.0</td>\n",
              "      <td>0.0</td>\n",
              "      <td>16.0</td>\n",
              "      <td>2.1</td>\n",
              "      <td>0.0</td>\n",
              "      <td>...</td>\n",
              "      <td>68.0</td>\n",
              "      <td>198.0</td>\n",
              "      <td>5.0</td>\n",
              "      <td>1.0</td>\n",
              "      <td>141.0</td>\n",
              "      <td>135.0</td>\n",
              "      <td>138.0</td>\n",
              "      <td>13.0</td>\n",
              "      <td>0.0</td>\n",
              "      <td>1.0</td>\n",
              "    </tr>\n",
              "    <tr>\n",
              "      <th>3</th>\n",
              "      <td>134.0</td>\n",
              "      <td>0.003</td>\n",
              "      <td>0.0</td>\n",
              "      <td>0.008</td>\n",
              "      <td>0.003</td>\n",
              "      <td>0.0</td>\n",
              "      <td>0.0</td>\n",
              "      <td>16.0</td>\n",
              "      <td>2.4</td>\n",
              "      <td>0.0</td>\n",
              "      <td>...</td>\n",
              "      <td>53.0</td>\n",
              "      <td>170.0</td>\n",
              "      <td>11.0</td>\n",
              "      <td>0.0</td>\n",
              "      <td>137.0</td>\n",
              "      <td>134.0</td>\n",
              "      <td>137.0</td>\n",
              "      <td>13.0</td>\n",
              "      <td>1.0</td>\n",
              "      <td>1.0</td>\n",
              "    </tr>\n",
              "    <tr>\n",
              "      <th>4</th>\n",
              "      <td>132.0</td>\n",
              "      <td>0.007</td>\n",
              "      <td>0.0</td>\n",
              "      <td>0.008</td>\n",
              "      <td>0.000</td>\n",
              "      <td>0.0</td>\n",
              "      <td>0.0</td>\n",
              "      <td>16.0</td>\n",
              "      <td>2.4</td>\n",
              "      <td>0.0</td>\n",
              "      <td>...</td>\n",
              "      <td>53.0</td>\n",
              "      <td>170.0</td>\n",
              "      <td>9.0</td>\n",
              "      <td>0.0</td>\n",
              "      <td>137.0</td>\n",
              "      <td>136.0</td>\n",
              "      <td>138.0</td>\n",
              "      <td>11.0</td>\n",
              "      <td>1.0</td>\n",
              "      <td>1.0</td>\n",
              "    </tr>\n",
              "  </tbody>\n",
              "</table>\n",
              "<p>5 rows × 22 columns</p>\n",
              "</div>\n",
              "      <button class=\"colab-df-convert\" onclick=\"convertToInteractive('df-5a62274f-3976-44b8-b67f-831be0dbfd19')\"\n",
              "              title=\"Convert this dataframe to an interactive table.\"\n",
              "              style=\"display:none;\">\n",
              "        \n",
              "  <svg xmlns=\"http://www.w3.org/2000/svg\" height=\"24px\"viewBox=\"0 0 24 24\"\n",
              "       width=\"24px\">\n",
              "    <path d=\"M0 0h24v24H0V0z\" fill=\"none\"/>\n",
              "    <path d=\"M18.56 5.44l.94 2.06.94-2.06 2.06-.94-2.06-.94-.94-2.06-.94 2.06-2.06.94zm-11 1L8.5 8.5l.94-2.06 2.06-.94-2.06-.94L8.5 2.5l-.94 2.06-2.06.94zm10 10l.94 2.06.94-2.06 2.06-.94-2.06-.94-.94-2.06-.94 2.06-2.06.94z\"/><path d=\"M17.41 7.96l-1.37-1.37c-.4-.4-.92-.59-1.43-.59-.52 0-1.04.2-1.43.59L10.3 9.45l-7.72 7.72c-.78.78-.78 2.05 0 2.83L4 21.41c.39.39.9.59 1.41.59.51 0 1.02-.2 1.41-.59l7.78-7.78 2.81-2.81c.8-.78.8-2.07 0-2.86zM5.41 20L4 18.59l7.72-7.72 1.47 1.35L5.41 20z\"/>\n",
              "  </svg>\n",
              "      </button>\n",
              "      \n",
              "  <style>\n",
              "    .colab-df-container {\n",
              "      display:flex;\n",
              "      flex-wrap:wrap;\n",
              "      gap: 12px;\n",
              "    }\n",
              "\n",
              "    .colab-df-convert {\n",
              "      background-color: #E8F0FE;\n",
              "      border: none;\n",
              "      border-radius: 50%;\n",
              "      cursor: pointer;\n",
              "      display: none;\n",
              "      fill: #1967D2;\n",
              "      height: 32px;\n",
              "      padding: 0 0 0 0;\n",
              "      width: 32px;\n",
              "    }\n",
              "\n",
              "    .colab-df-convert:hover {\n",
              "      background-color: #E2EBFA;\n",
              "      box-shadow: 0px 1px 2px rgba(60, 64, 67, 0.3), 0px 1px 3px 1px rgba(60, 64, 67, 0.15);\n",
              "      fill: #174EA6;\n",
              "    }\n",
              "\n",
              "    [theme=dark] .colab-df-convert {\n",
              "      background-color: #3B4455;\n",
              "      fill: #D2E3FC;\n",
              "    }\n",
              "\n",
              "    [theme=dark] .colab-df-convert:hover {\n",
              "      background-color: #434B5C;\n",
              "      box-shadow: 0px 1px 3px 1px rgba(0, 0, 0, 0.15);\n",
              "      filter: drop-shadow(0px 1px 2px rgba(0, 0, 0, 0.3));\n",
              "      fill: #FFFFFF;\n",
              "    }\n",
              "  </style>\n",
              "\n",
              "      <script>\n",
              "        const buttonEl =\n",
              "          document.querySelector('#df-5a62274f-3976-44b8-b67f-831be0dbfd19 button.colab-df-convert');\n",
              "        buttonEl.style.display =\n",
              "          google.colab.kernel.accessAllowed ? 'block' : 'none';\n",
              "\n",
              "        async function convertToInteractive(key) {\n",
              "          const element = document.querySelector('#df-5a62274f-3976-44b8-b67f-831be0dbfd19');\n",
              "          const dataTable =\n",
              "            await google.colab.kernel.invokeFunction('convertToInteractive',\n",
              "                                                     [key], {});\n",
              "          if (!dataTable) return;\n",
              "\n",
              "          const docLinkHtml = 'Like what you see? Visit the ' +\n",
              "            '<a target=\"_blank\" href=https://colab.research.google.com/notebooks/data_table.ipynb>data table notebook</a>'\n",
              "            + ' to learn more about interactive tables.';\n",
              "          element.innerHTML = '';\n",
              "          dataTable['output_type'] = 'display_data';\n",
              "          await google.colab.output.renderOutput(dataTable, element);\n",
              "          const docLink = document.createElement('div');\n",
              "          docLink.innerHTML = docLinkHtml;\n",
              "          element.appendChild(docLink);\n",
              "        }\n",
              "      </script>\n",
              "    </div>\n",
              "  </div>\n",
              "  "
            ]
          },
          "metadata": {},
          "execution_count": 92
        }
      ]
    },
    {
      "cell_type": "code",
      "source": [
        "data.info()"
      ],
      "metadata": {
        "colab": {
          "base_uri": "https://localhost:8080/"
        },
        "id": "d0y27EV2CCoF",
        "outputId": "f548be65-c061-4ad7-bc0c-d181dfd8dbb8"
      },
      "execution_count": null,
      "outputs": [
        {
          "output_type": "stream",
          "name": "stdout",
          "text": [
            "<class 'pandas.core.frame.DataFrame'>\n",
            "RangeIndex: 2126 entries, 0 to 2125\n",
            "Data columns (total 22 columns):\n",
            " #   Column                                                  Non-Null Count  Dtype  \n",
            "---  ------                                                  --------------  -----  \n",
            " 0   baseline value                                          2126 non-null   float64\n",
            " 1   accelerations                                           2126 non-null   float64\n",
            " 2   fetal_movement                                          2126 non-null   float64\n",
            " 3   uterine_contractions                                    2126 non-null   float64\n",
            " 4   light_decelerations                                     2126 non-null   float64\n",
            " 5   severe_decelerations                                    2126 non-null   float64\n",
            " 6   prolongued_decelerations                                2126 non-null   float64\n",
            " 7   abnormal_short_term_variability                         2126 non-null   float64\n",
            " 8   mean_value_of_short_term_variability                    2126 non-null   float64\n",
            " 9   percentage_of_time_with_abnormal_long_term_variability  2126 non-null   float64\n",
            " 10  mean_value_of_long_term_variability                     2126 non-null   float64\n",
            " 11  histogram_width                                         2126 non-null   float64\n",
            " 12  histogram_min                                           2126 non-null   float64\n",
            " 13  histogram_max                                           2126 non-null   float64\n",
            " 14  histogram_number_of_peaks                               2126 non-null   float64\n",
            " 15  histogram_number_of_zeroes                              2126 non-null   float64\n",
            " 16  histogram_mode                                          2126 non-null   float64\n",
            " 17  histogram_mean                                          2126 non-null   float64\n",
            " 18  histogram_median                                        2126 non-null   float64\n",
            " 19  histogram_variance                                      2126 non-null   float64\n",
            " 20  histogram_tendency                                      2126 non-null   float64\n",
            " 21  fetal_health                                            2126 non-null   float64\n",
            "dtypes: float64(22)\n",
            "memory usage: 365.5 KB\n"
          ]
        }
      ]
    },
    {
      "cell_type": "code",
      "source": [
        "data.columns"
      ],
      "metadata": {
        "colab": {
          "base_uri": "https://localhost:8080/"
        },
        "id": "dtu4yiLwC38Q",
        "outputId": "85f415bf-701b-4ca6-9b3d-443936bdc6fb"
      },
      "execution_count": null,
      "outputs": [
        {
          "output_type": "execute_result",
          "data": {
            "text/plain": [
              "Index(['baseline value', 'accelerations', 'fetal_movement',\n",
              "       'uterine_contractions', 'light_decelerations', 'severe_decelerations',\n",
              "       'prolongued_decelerations', 'abnormal_short_term_variability',\n",
              "       'mean_value_of_short_term_variability',\n",
              "       'percentage_of_time_with_abnormal_long_term_variability',\n",
              "       'mean_value_of_long_term_variability', 'histogram_width',\n",
              "       'histogram_min', 'histogram_max', 'histogram_number_of_peaks',\n",
              "       'histogram_number_of_zeroes', 'histogram_mode', 'histogram_mean',\n",
              "       'histogram_median', 'histogram_variance', 'histogram_tendency',\n",
              "       'fetal_health'],\n",
              "      dtype='object')"
            ]
          },
          "metadata": {},
          "execution_count": 94
        }
      ]
    },
    {
      "cell_type": "code",
      "source": [
        "data['fetal_movement'].unique()"
      ],
      "metadata": {
        "colab": {
          "base_uri": "https://localhost:8080/"
        },
        "id": "qLiLdJpMCDyC",
        "outputId": "a45ce0a6-c047-43ba-994a-05c4b80de71d"
      },
      "execution_count": null,
      "outputs": [
        {
          "output_type": "execute_result",
          "data": {
            "text/plain": [
              "array([0.   , 0.072, 0.222, 0.408, 0.38 , 0.441, 0.383, 0.451, 0.469,\n",
              "       0.34 , 0.425, 0.334, 0.135, 0.099, 0.108, 0.112, 0.089, 0.103,\n",
              "       0.085, 0.109, 0.079, 0.065, 0.055, 0.058, 0.047, 0.038, 0.012,\n",
              "       0.018, 0.02 , 0.005, 0.003, 0.006, 0.001, 0.004, 0.009, 0.01 ,\n",
              "       0.002, 0.008, 0.007, 0.028, 0.026, 0.107, 0.013, 0.016, 0.029,\n",
              "       0.05 , 0.053, 0.011, 0.015, 0.022, 0.021, 0.017, 0.019, 0.025,\n",
              "       0.014, 0.024, 0.023, 0.035, 0.054, 0.03 , 0.048, 0.088, 0.043,\n",
              "       0.052, 0.091, 0.033, 0.092, 0.084, 0.115, 0.041, 0.04 , 0.027,\n",
              "       0.031, 0.063, 0.06 , 0.071, 0.306, 0.298, 0.139, 0.189, 0.157,\n",
              "       0.235, 0.36 , 0.455, 0.443, 0.47 , 0.477, 0.446, 0.481, 0.369,\n",
              "       0.335, 0.43 , 0.346, 0.323, 0.375, 0.353, 0.045, 0.032, 0.051,\n",
              "       0.036, 0.037, 0.049])"
            ]
          },
          "metadata": {},
          "execution_count": 95
        }
      ]
    },
    {
      "cell_type": "code",
      "source": [
        "data['fetal_health'].value_counts()"
      ],
      "metadata": {
        "colab": {
          "base_uri": "https://localhost:8080/"
        },
        "id": "7kKTXjvLCOyA",
        "outputId": "8f02e313-82ef-4d68-87c4-a874b388c17e"
      },
      "execution_count": null,
      "outputs": [
        {
          "output_type": "execute_result",
          "data": {
            "text/plain": [
              "1.0    1655\n",
              "2.0     295\n",
              "3.0     176\n",
              "Name: fetal_health, dtype: int64"
            ]
          },
          "metadata": {},
          "execution_count": 96
        }
      ]
    },
    {
      "cell_type": "markdown",
      "source": [
        "We can see that this dataset is already preprocessed for use on machine learning algorithm"
      ],
      "metadata": {
        "id": "23t_if-LC6Uo"
      }
    },
    {
      "cell_type": "code",
      "source": [
        "len(data.columns)"
      ],
      "metadata": {
        "colab": {
          "base_uri": "https://localhost:8080/"
        },
        "id": "CSFvUdEdCukK",
        "outputId": "640a5051-6b7b-400a-c059-6f159c6273cc"
      },
      "execution_count": null,
      "outputs": [
        {
          "output_type": "execute_result",
          "data": {
            "text/plain": [
              "22"
            ]
          },
          "metadata": {},
          "execution_count": 97
        }
      ]
    },
    {
      "cell_type": "code",
      "source": [
        "from sklearn.model_selection import train_test_split\n",
        "X_train,X_test,y_train,y_test=train_test_split(data.drop(labels=['fetal_health'], axis=1),\n",
        "    data['fetal_health'],\n",
        "    test_size=0.33,\n",
        "    random_state=32)"
      ],
      "metadata": {
        "id": "m4NmdlPTDMlQ"
      },
      "execution_count": null,
      "outputs": []
    },
    {
      "cell_type": "markdown",
      "source": [
        "**FEATURE_SELECTION**"
      ],
      "metadata": {
        "id": "ZjnAa91r8w3X"
      }
    },
    {
      "cell_type": "markdown",
      "source": [
        "**The dataset has 22 number of total features. For classification I intend to select only top 12 features**"
      ],
      "metadata": {
        "id": "4eKmhPshDYk1"
      }
    },
    {
      "cell_type": "code",
      "source": [
        "X_train.head()"
      ],
      "metadata": {
        "colab": {
          "base_uri": "https://localhost:8080/",
          "height": 314
        },
        "id": "g3X76ONEFlcH",
        "outputId": "4953dc71-b541-4b2f-b8f7-3abcfebeb8fe"
      },
      "execution_count": null,
      "outputs": [
        {
          "output_type": "execute_result",
          "data": {
            "text/plain": [
              "      baseline value  accelerations  fetal_movement  uterine_contractions  \\\n",
              "1806           143.0          0.000             0.0                 0.001   \n",
              "1303           137.0          0.005             0.0                 0.005   \n",
              "1533           136.0          0.001             0.0                 0.007   \n",
              "1109           122.0          0.003             0.0                 0.004   \n",
              "707            130.0          0.001             0.0                 0.008   \n",
              "\n",
              "      light_decelerations  severe_decelerations  prolongued_decelerations  \\\n",
              "1806                0.000                   0.0                       0.0   \n",
              "1303                0.002                   0.0                       0.0   \n",
              "1533                0.000                   0.0                       0.0   \n",
              "1109                0.000                   0.0                       0.0   \n",
              "707                 0.000                   0.0                       0.0   \n",
              "\n",
              "      abnormal_short_term_variability  mean_value_of_short_term_variability  \\\n",
              "1806                             68.0                                   0.3   \n",
              "1303                             36.0                                   0.9   \n",
              "1533                             42.0                                   0.8   \n",
              "1109                             21.0                                   2.0   \n",
              "707                              54.0                                   0.6   \n",
              "\n",
              "      percentage_of_time_with_abnormal_long_term_variability  ...  \\\n",
              "1806                                                6.0       ...   \n",
              "1303                                                0.0       ...   \n",
              "1533                                                9.0       ...   \n",
              "1109                                                0.0       ...   \n",
              "707                                                 6.0       ...   \n",
              "\n",
              "      histogram_width  histogram_min  histogram_max  \\\n",
              "1806             27.0          132.0          159.0   \n",
              "1303             63.0          115.0          178.0   \n",
              "1533             45.0          117.0          162.0   \n",
              "1109             49.0          107.0          156.0   \n",
              "707              30.0          116.0          146.0   \n",
              "\n",
              "      histogram_number_of_peaks  histogram_number_of_zeroes  histogram_mode  \\\n",
              "1806                        1.0                         0.0           144.0   \n",
              "1303                        4.0                         0.0           148.0   \n",
              "1533                        2.0                         0.0           139.0   \n",
              "1109                        3.0                         0.0           126.0   \n",
              "707                         2.0                         0.0           133.0   \n",
              "\n",
              "      histogram_mean  histogram_median  histogram_variance  histogram_tendency  \n",
              "1806           144.0             146.0                 1.0                 0.0  \n",
              "1303           148.0             149.0                 9.0                 0.0  \n",
              "1533           138.0             140.0                 2.0                 0.0  \n",
              "1109           125.0             126.0                 5.0                 0.0  \n",
              "707            133.0             134.0                 1.0                 0.0  \n",
              "\n",
              "[5 rows x 21 columns]"
            ],
            "text/html": [
              "\n",
              "  <div id=\"df-edc8f2a9-b13c-4ac2-aaf0-55aca71e7917\">\n",
              "    <div class=\"colab-df-container\">\n",
              "      <div>\n",
              "<style scoped>\n",
              "    .dataframe tbody tr th:only-of-type {\n",
              "        vertical-align: middle;\n",
              "    }\n",
              "\n",
              "    .dataframe tbody tr th {\n",
              "        vertical-align: top;\n",
              "    }\n",
              "\n",
              "    .dataframe thead th {\n",
              "        text-align: right;\n",
              "    }\n",
              "</style>\n",
              "<table border=\"1\" class=\"dataframe\">\n",
              "  <thead>\n",
              "    <tr style=\"text-align: right;\">\n",
              "      <th></th>\n",
              "      <th>baseline value</th>\n",
              "      <th>accelerations</th>\n",
              "      <th>fetal_movement</th>\n",
              "      <th>uterine_contractions</th>\n",
              "      <th>light_decelerations</th>\n",
              "      <th>severe_decelerations</th>\n",
              "      <th>prolongued_decelerations</th>\n",
              "      <th>abnormal_short_term_variability</th>\n",
              "      <th>mean_value_of_short_term_variability</th>\n",
              "      <th>percentage_of_time_with_abnormal_long_term_variability</th>\n",
              "      <th>...</th>\n",
              "      <th>histogram_width</th>\n",
              "      <th>histogram_min</th>\n",
              "      <th>histogram_max</th>\n",
              "      <th>histogram_number_of_peaks</th>\n",
              "      <th>histogram_number_of_zeroes</th>\n",
              "      <th>histogram_mode</th>\n",
              "      <th>histogram_mean</th>\n",
              "      <th>histogram_median</th>\n",
              "      <th>histogram_variance</th>\n",
              "      <th>histogram_tendency</th>\n",
              "    </tr>\n",
              "  </thead>\n",
              "  <tbody>\n",
              "    <tr>\n",
              "      <th>1806</th>\n",
              "      <td>143.0</td>\n",
              "      <td>0.000</td>\n",
              "      <td>0.0</td>\n",
              "      <td>0.001</td>\n",
              "      <td>0.000</td>\n",
              "      <td>0.0</td>\n",
              "      <td>0.0</td>\n",
              "      <td>68.0</td>\n",
              "      <td>0.3</td>\n",
              "      <td>6.0</td>\n",
              "      <td>...</td>\n",
              "      <td>27.0</td>\n",
              "      <td>132.0</td>\n",
              "      <td>159.0</td>\n",
              "      <td>1.0</td>\n",
              "      <td>0.0</td>\n",
              "      <td>144.0</td>\n",
              "      <td>144.0</td>\n",
              "      <td>146.0</td>\n",
              "      <td>1.0</td>\n",
              "      <td>0.0</td>\n",
              "    </tr>\n",
              "    <tr>\n",
              "      <th>1303</th>\n",
              "      <td>137.0</td>\n",
              "      <td>0.005</td>\n",
              "      <td>0.0</td>\n",
              "      <td>0.005</td>\n",
              "      <td>0.002</td>\n",
              "      <td>0.0</td>\n",
              "      <td>0.0</td>\n",
              "      <td>36.0</td>\n",
              "      <td>0.9</td>\n",
              "      <td>0.0</td>\n",
              "      <td>...</td>\n",
              "      <td>63.0</td>\n",
              "      <td>115.0</td>\n",
              "      <td>178.0</td>\n",
              "      <td>4.0</td>\n",
              "      <td>0.0</td>\n",
              "      <td>148.0</td>\n",
              "      <td>148.0</td>\n",
              "      <td>149.0</td>\n",
              "      <td>9.0</td>\n",
              "      <td>0.0</td>\n",
              "    </tr>\n",
              "    <tr>\n",
              "      <th>1533</th>\n",
              "      <td>136.0</td>\n",
              "      <td>0.001</td>\n",
              "      <td>0.0</td>\n",
              "      <td>0.007</td>\n",
              "      <td>0.000</td>\n",
              "      <td>0.0</td>\n",
              "      <td>0.0</td>\n",
              "      <td>42.0</td>\n",
              "      <td>0.8</td>\n",
              "      <td>9.0</td>\n",
              "      <td>...</td>\n",
              "      <td>45.0</td>\n",
              "      <td>117.0</td>\n",
              "      <td>162.0</td>\n",
              "      <td>2.0</td>\n",
              "      <td>0.0</td>\n",
              "      <td>139.0</td>\n",
              "      <td>138.0</td>\n",
              "      <td>140.0</td>\n",
              "      <td>2.0</td>\n",
              "      <td>0.0</td>\n",
              "    </tr>\n",
              "    <tr>\n",
              "      <th>1109</th>\n",
              "      <td>122.0</td>\n",
              "      <td>0.003</td>\n",
              "      <td>0.0</td>\n",
              "      <td>0.004</td>\n",
              "      <td>0.000</td>\n",
              "      <td>0.0</td>\n",
              "      <td>0.0</td>\n",
              "      <td>21.0</td>\n",
              "      <td>2.0</td>\n",
              "      <td>0.0</td>\n",
              "      <td>...</td>\n",
              "      <td>49.0</td>\n",
              "      <td>107.0</td>\n",
              "      <td>156.0</td>\n",
              "      <td>3.0</td>\n",
              "      <td>0.0</td>\n",
              "      <td>126.0</td>\n",
              "      <td>125.0</td>\n",
              "      <td>126.0</td>\n",
              "      <td>5.0</td>\n",
              "      <td>0.0</td>\n",
              "    </tr>\n",
              "    <tr>\n",
              "      <th>707</th>\n",
              "      <td>130.0</td>\n",
              "      <td>0.001</td>\n",
              "      <td>0.0</td>\n",
              "      <td>0.008</td>\n",
              "      <td>0.000</td>\n",
              "      <td>0.0</td>\n",
              "      <td>0.0</td>\n",
              "      <td>54.0</td>\n",
              "      <td>0.6</td>\n",
              "      <td>6.0</td>\n",
              "      <td>...</td>\n",
              "      <td>30.0</td>\n",
              "      <td>116.0</td>\n",
              "      <td>146.0</td>\n",
              "      <td>2.0</td>\n",
              "      <td>0.0</td>\n",
              "      <td>133.0</td>\n",
              "      <td>133.0</td>\n",
              "      <td>134.0</td>\n",
              "      <td>1.0</td>\n",
              "      <td>0.0</td>\n",
              "    </tr>\n",
              "  </tbody>\n",
              "</table>\n",
              "<p>5 rows × 21 columns</p>\n",
              "</div>\n",
              "      <button class=\"colab-df-convert\" onclick=\"convertToInteractive('df-edc8f2a9-b13c-4ac2-aaf0-55aca71e7917')\"\n",
              "              title=\"Convert this dataframe to an interactive table.\"\n",
              "              style=\"display:none;\">\n",
              "        \n",
              "  <svg xmlns=\"http://www.w3.org/2000/svg\" height=\"24px\"viewBox=\"0 0 24 24\"\n",
              "       width=\"24px\">\n",
              "    <path d=\"M0 0h24v24H0V0z\" fill=\"none\"/>\n",
              "    <path d=\"M18.56 5.44l.94 2.06.94-2.06 2.06-.94-2.06-.94-.94-2.06-.94 2.06-2.06.94zm-11 1L8.5 8.5l.94-2.06 2.06-.94-2.06-.94L8.5 2.5l-.94 2.06-2.06.94zm10 10l.94 2.06.94-2.06 2.06-.94-2.06-.94-.94-2.06-.94 2.06-2.06.94z\"/><path d=\"M17.41 7.96l-1.37-1.37c-.4-.4-.92-.59-1.43-.59-.52 0-1.04.2-1.43.59L10.3 9.45l-7.72 7.72c-.78.78-.78 2.05 0 2.83L4 21.41c.39.39.9.59 1.41.59.51 0 1.02-.2 1.41-.59l7.78-7.78 2.81-2.81c.8-.78.8-2.07 0-2.86zM5.41 20L4 18.59l7.72-7.72 1.47 1.35L5.41 20z\"/>\n",
              "  </svg>\n",
              "      </button>\n",
              "      \n",
              "  <style>\n",
              "    .colab-df-container {\n",
              "      display:flex;\n",
              "      flex-wrap:wrap;\n",
              "      gap: 12px;\n",
              "    }\n",
              "\n",
              "    .colab-df-convert {\n",
              "      background-color: #E8F0FE;\n",
              "      border: none;\n",
              "      border-radius: 50%;\n",
              "      cursor: pointer;\n",
              "      display: none;\n",
              "      fill: #1967D2;\n",
              "      height: 32px;\n",
              "      padding: 0 0 0 0;\n",
              "      width: 32px;\n",
              "    }\n",
              "\n",
              "    .colab-df-convert:hover {\n",
              "      background-color: #E2EBFA;\n",
              "      box-shadow: 0px 1px 2px rgba(60, 64, 67, 0.3), 0px 1px 3px 1px rgba(60, 64, 67, 0.15);\n",
              "      fill: #174EA6;\n",
              "    }\n",
              "\n",
              "    [theme=dark] .colab-df-convert {\n",
              "      background-color: #3B4455;\n",
              "      fill: #D2E3FC;\n",
              "    }\n",
              "\n",
              "    [theme=dark] .colab-df-convert:hover {\n",
              "      background-color: #434B5C;\n",
              "      box-shadow: 0px 1px 3px 1px rgba(0, 0, 0, 0.15);\n",
              "      filter: drop-shadow(0px 1px 2px rgba(0, 0, 0, 0.3));\n",
              "      fill: #FFFFFF;\n",
              "    }\n",
              "  </style>\n",
              "\n",
              "      <script>\n",
              "        const buttonEl =\n",
              "          document.querySelector('#df-edc8f2a9-b13c-4ac2-aaf0-55aca71e7917 button.colab-df-convert');\n",
              "        buttonEl.style.display =\n",
              "          google.colab.kernel.accessAllowed ? 'block' : 'none';\n",
              "\n",
              "        async function convertToInteractive(key) {\n",
              "          const element = document.querySelector('#df-edc8f2a9-b13c-4ac2-aaf0-55aca71e7917');\n",
              "          const dataTable =\n",
              "            await google.colab.kernel.invokeFunction('convertToInteractive',\n",
              "                                                     [key], {});\n",
              "          if (!dataTable) return;\n",
              "\n",
              "          const docLinkHtml = 'Like what you see? Visit the ' +\n",
              "            '<a target=\"_blank\" href=https://colab.research.google.com/notebooks/data_table.ipynb>data table notebook</a>'\n",
              "            + ' to learn more about interactive tables.';\n",
              "          element.innerHTML = '';\n",
              "          dataTable['output_type'] = 'display_data';\n",
              "          await google.colab.output.renderOutput(dataTable, element);\n",
              "          const docLink = document.createElement('div');\n",
              "          docLink.innerHTML = docLinkHtml;\n",
              "          element.appendChild(docLink);\n",
              "        }\n",
              "      </script>\n",
              "    </div>\n",
              "  </div>\n",
              "  "
            ]
          },
          "metadata": {},
          "execution_count": 99
        }
      ]
    },
    {
      "cell_type": "code",
      "source": [
        "from sklearn.feature_selection import mutual_info_classif\n",
        "# determine the mutual information\n",
        "mutual_info = mutual_info_classif(X_train, y_train)\n",
        "mutual_info"
      ],
      "metadata": {
        "colab": {
          "base_uri": "https://localhost:8080/"
        },
        "id": "C7h5S7tIFk48",
        "outputId": "97f5f563-90a4-4946-8719-71734d1b063b"
      },
      "execution_count": null,
      "outputs": [
        {
          "output_type": "execute_result",
          "data": {
            "text/plain": [
              "array([0.11940572, 0.1457964 , 0.05964268, 0.07459946, 0.02533074,\n",
              "       0.        , 0.07488298, 0.20847502, 0.21589817, 0.20228969,\n",
              "       0.07889304, 0.13020217, 0.12138907, 0.06480576, 0.01546862,\n",
              "       0.00383732, 0.14108006, 0.16994074, 0.13681446, 0.15853161,\n",
              "       0.03872056])"
            ]
          },
          "metadata": {},
          "execution_count": 100
        }
      ]
    },
    {
      "cell_type": "code",
      "source": [
        "mutual_info = pd.Series(mutual_info)\n",
        "mutual_info.index = X_train.columns\n",
        "mutual_info.sort_values(ascending=False)"
      ],
      "metadata": {
        "colab": {
          "base_uri": "https://localhost:8080/"
        },
        "id": "KhM_A0EuFcW4",
        "outputId": "b79a3c31-1c88-4c96-8771-77d76140fdf3"
      },
      "execution_count": null,
      "outputs": [
        {
          "output_type": "execute_result",
          "data": {
            "text/plain": [
              "mean_value_of_short_term_variability                      0.215898\n",
              "abnormal_short_term_variability                           0.208475\n",
              "percentage_of_time_with_abnormal_long_term_variability    0.202290\n",
              "histogram_mean                                            0.169941\n",
              "histogram_variance                                        0.158532\n",
              "accelerations                                             0.145796\n",
              "histogram_mode                                            0.141080\n",
              "histogram_median                                          0.136814\n",
              "histogram_width                                           0.130202\n",
              "histogram_min                                             0.121389\n",
              "baseline value                                            0.119406\n",
              "mean_value_of_long_term_variability                       0.078893\n",
              "prolongued_decelerations                                  0.074883\n",
              "uterine_contractions                                      0.074599\n",
              "histogram_max                                             0.064806\n",
              "fetal_movement                                            0.059643\n",
              "histogram_tendency                                        0.038721\n",
              "light_decelerations                                       0.025331\n",
              "histogram_number_of_peaks                                 0.015469\n",
              "histogram_number_of_zeroes                                0.003837\n",
              "severe_decelerations                                      0.000000\n",
              "dtype: float64"
            ]
          },
          "metadata": {},
          "execution_count": 101
        }
      ]
    },
    {
      "cell_type": "code",
      "source": [
        "mutual_info.sort_values(ascending=False).plot.bar(figsize=(20, 8))"
      ],
      "metadata": {
        "colab": {
          "base_uri": "https://localhost:8080/",
          "height": 777
        },
        "id": "sABMLZ37Ff1M",
        "outputId": "1d65b045-a53f-42d5-a239-6844837bd8c3"
      },
      "execution_count": null,
      "outputs": [
        {
          "output_type": "execute_result",
          "data": {
            "text/plain": [
              "<matplotlib.axes._subplots.AxesSubplot at 0x7faf97d1a310>"
            ]
          },
          "metadata": {},
          "execution_count": 102
        },
        {
          "output_type": "display_data",
          "data": {
            "text/plain": [
              "<Figure size 1440x576 with 1 Axes>"
            ],
            "image/png": "[encoded data removed]"
          },
          "metadata": {
            "needs_background": "light"
          }
        }
      ]
    },
    {
      "cell_type": "code",
      "source": [
        "from sklearn.feature_selection import SelectKBest\n"
      ],
      "metadata": {
        "id": "pLboAkOdFw65"
      },
      "execution_count": null,
      "outputs": []
    },
    {
      "cell_type": "code",
      "source": [
        "#No we Will select the  top 12 important features\n",
        "sel_five_cols = SelectKBest(mutual_info_classif, k=12)\n",
        "sel_five_cols.fit(X_train, y_train)\n",
        "columns_select = X_train.columns[sel_five_cols.get_support()]\n",
        "print(columns_select)"
      ],
      "metadata": {
        "colab": {
          "base_uri": "https://localhost:8080/"
        },
        "id": "rC-XrA5wGB1j",
        "outputId": "2950be96-611e-4400-c380-ca951457b4eb"
      },
      "execution_count": null,
      "outputs": [
        {
          "output_type": "stream",
          "name": "stdout",
          "text": [
            "Index(['baseline value', 'accelerations', 'prolongued_decelerations',\n",
            "       'abnormal_short_term_variability',\n",
            "       'mean_value_of_short_term_variability',\n",
            "       'percentage_of_time_with_abnormal_long_term_variability',\n",
            "       'histogram_width', 'histogram_min', 'histogram_mode', 'histogram_mean',\n",
            "       'histogram_median', 'histogram_variance'],\n",
            "      dtype='object')\n"
          ]
        }
      ]
    },
    {
      "cell_type": "code",
      "source": [
        "X_train[columns_select]"
      ],
      "metadata": {
        "colab": {
          "base_uri": "https://localhost:8080/",
          "height": 500
        },
        "id": "3yVQkVxACFh_",
        "outputId": "889b0173-351b-4217-b3d3-e5b62e114f83"
      },
      "execution_count": null,
      "outputs": [
        {
          "output_type": "execute_result",
          "data": {
            "text/plain": [
              "      baseline value  accelerations  prolongued_decelerations  \\\n",
              "1806           143.0          0.000                     0.000   \n",
              "1303           137.0          0.005                     0.000   \n",
              "1533           136.0          0.001                     0.000   \n",
              "1109           122.0          0.003                     0.000   \n",
              "707            130.0          0.001                     0.000   \n",
              "...              ...            ...                       ...   \n",
              "997            129.0          0.007                     0.000   \n",
              "510            154.0          0.006                     0.000   \n",
              "252            130.0          0.002                     0.000   \n",
              "1334           128.0          0.003                     0.003   \n",
              "1579           132.0          0.001                     0.000   \n",
              "\n",
              "      abnormal_short_term_variability  mean_value_of_short_term_variability  \\\n",
              "1806                             68.0                                   0.3   \n",
              "1303                             36.0                                   0.9   \n",
              "1533                             42.0                                   0.8   \n",
              "1109                             21.0                                   2.0   \n",
              "707                              54.0                                   0.6   \n",
              "...                               ...                                   ...   \n",
              "997                              23.0                                   1.5   \n",
              "510                              48.0                                   0.7   \n",
              "252                              57.0                                   0.6   \n",
              "1334                             14.0                                   2.7   \n",
              "1579                             25.0                                   1.9   \n",
              "\n",
              "      percentage_of_time_with_abnormal_long_term_variability  histogram_width  \\\n",
              "1806                                                6.0                  27.0   \n",
              "1303                                                0.0                  63.0   \n",
              "1533                                                9.0                  45.0   \n",
              "1109                                                0.0                  49.0   \n",
              "707                                                 6.0                  30.0   \n",
              "...                                                 ...                   ...   \n",
              "997                                                 0.0                  44.0   \n",
              "510                                                 0.0                  66.0   \n",
              "252                                                26.0                  91.0   \n",
              "1334                                                0.0                  89.0   \n",
              "1579                                                0.0                  99.0   \n",
              "\n",
              "      histogram_min  histogram_mode  histogram_mean  histogram_median  \\\n",
              "1806          132.0           144.0           144.0             146.0   \n",
              "1303          115.0           148.0           148.0             149.0   \n",
              "1533          117.0           139.0           138.0             140.0   \n",
              "1109          107.0           126.0           125.0             126.0   \n",
              "707           116.0           133.0           133.0             134.0   \n",
              "...             ...             ...             ...               ...   \n",
              "997           115.0           133.0           139.0             141.0   \n",
              "510           123.0           161.0           164.0             164.0   \n",
              "252            65.0           129.0           131.0             133.0   \n",
              "1334           67.0           115.0           115.0             116.0   \n",
              "1579           54.0           133.0           127.0             133.0   \n",
              "\n",
              "      histogram_variance  \n",
              "1806                 1.0  \n",
              "1303                 9.0  \n",
              "1533                 2.0  \n",
              "1109                 5.0  \n",
              "707                  1.0  \n",
              "...                  ...  \n",
              "997                 11.0  \n",
              "510                  8.0  \n",
              "252                 10.0  \n",
              "1334                44.0  \n",
              "1579                34.0  \n",
              "\n",
              "[1424 rows x 12 columns]"
            ],
            "text/html": [
              "\n",
              "  <div id=\"df-4d16f5a5-3afe-4b4f-bb5c-bbf89f2147a8\">\n",
              "    <div class=\"colab-df-container\">\n",
              "      <div>\n",
              "<style scoped>\n",
              "    .dataframe tbody tr th:only-of-type {\n",
              "        vertical-align: middle;\n",
              "    }\n",
              "\n",
              "    .dataframe tbody tr th {\n",
              "        vertical-align: top;\n",
              "    }\n",
              "\n",
              "    .dataframe thead th {\n",
              "        text-align: right;\n",
              "    }\n",
              "</style>\n",
              "<table border=\"1\" class=\"dataframe\">\n",
              "  <thead>\n",
              "    <tr style=\"text-align: right;\">\n",
              "      <th></th>\n",
              "      <th>baseline value</th>\n",
              "      <th>accelerations</th>\n",
              "      <th>prolongued_decelerations</th>\n",
              "      <th>abnormal_short_term_variability</th>\n",
              "      <th>mean_value_of_short_term_variability</th>\n",
              "      <th>percentage_of_time_with_abnormal_long_term_variability</th>\n",
              "      <th>histogram_width</th>\n",
              "      <th>histogram_min</th>\n",
              "      <th>histogram_mode</th>\n",
              "      <th>histogram_mean</th>\n",
              "      <th>histogram_median</th>\n",
              "      <th>histogram_variance</th>\n",
              "    </tr>\n",
              "  </thead>\n",
              "  <tbody>\n",
              "    <tr>\n",
              "      <th>1806</th>\n",
              "      <td>143.0</td>\n",
              "      <td>0.000</td>\n",
              "      <td>0.000</td>\n",
              "      <td>68.0</td>\n",
              "      <td>0.3</td>\n",
              "      <td>6.0</td>\n",
              "      <td>27.0</td>\n",
              "      <td>132.0</td>\n",
              "      <td>144.0</td>\n",
              "      <td>144.0</td>\n",
              "      <td>146.0</td>\n",
              "      <td>1.0</td>\n",
              "    </tr>\n",
              "    <tr>\n",
              "      <th>1303</th>\n",
              "      <td>137.0</td>\n",
              "      <td>0.005</td>\n",
              "      <td>0.000</td>\n",
              "      <td>36.0</td>\n",
              "      <td>0.9</td>\n",
              "      <td>0.0</td>\n",
              "      <td>63.0</td>\n",
              "      <td>115.0</td>\n",
              "      <td>148.0</td>\n",
              "      <td>148.0</td>\n",
              "      <td>149.0</td>\n",
              "      <td>9.0</td>\n",
              "    </tr>\n",
              "    <tr>\n",
              "      <th>1533</th>\n",
              "      <td>136.0</td>\n",
              "      <td>0.001</td>\n",
              "      <td>0.000</td>\n",
              "      <td>42.0</td>\n",
              "      <td>0.8</td>\n",
              "      <td>9.0</td>\n",
              "      <td>45.0</td>\n",
              "      <td>117.0</td>\n",
              "      <td>139.0</td>\n",
              "      <td>138.0</td>\n",
              "      <td>140.0</td>\n",
              "      <td>2.0</td>\n",
              "    </tr>\n",
              "    <tr>\n",
              "      <th>1109</th>\n",
              "      <td>122.0</td>\n",
              "      <td>0.003</td>\n",
              "      <td>0.000</td>\n",
              "      <td>21.0</td>\n",
              "      <td>2.0</td>\n",
              "      <td>0.0</td>\n",
              "      <td>49.0</td>\n",
              "      <td>107.0</td>\n",
              "      <td>126.0</td>\n",
              "      <td>125.0</td>\n",
              "      <td>126.0</td>\n",
              "      <td>5.0</td>\n",
              "    </tr>\n",
              "    <tr>\n",
              "      <th>707</th>\n",
              "      <td>130.0</td>\n",
              "      <td>0.001</td>\n",
              "      <td>0.000</td>\n",
              "      <td>54.0</td>\n",
              "      <td>0.6</td>\n",
              "      <td>6.0</td>\n",
              "      <td>30.0</td>\n",
              "      <td>116.0</td>\n",
              "      <td>133.0</td>\n",
              "      <td>133.0</td>\n",
              "      <td>134.0</td>\n",
              "      <td>1.0</td>\n",
              "    </tr>\n",
              "    <tr>\n",
              "      <th>...</th>\n",
              "      <td>...</td>\n",
              "      <td>...</td>\n",
              "      <td>...</td>\n",
              "      <td>...</td>\n",
              "      <td>...</td>\n",
              "      <td>...</td>\n",
              "      <td>...</td>\n",
              "      <td>...</td>\n",
              "      <td>...</td>\n",
              "      <td>...</td>\n",
              "      <td>...</td>\n",
              "      <td>...</td>\n",
              "    </tr>\n",
              "    <tr>\n",
              "      <th>997</th>\n",
              "      <td>129.0</td>\n",
              "      <td>0.007</td>\n",
              "      <td>0.000</td>\n",
              "      <td>23.0</td>\n",
              "      <td>1.5</td>\n",
              "      <td>0.0</td>\n",
              "      <td>44.0</td>\n",
              "      <td>115.0</td>\n",
              "      <td>133.0</td>\n",
              "      <td>139.0</td>\n",
              "      <td>141.0</td>\n",
              "      <td>11.0</td>\n",
              "    </tr>\n",
              "    <tr>\n",
              "      <th>510</th>\n",
              "      <td>154.0</td>\n",
              "      <td>0.006</td>\n",
              "      <td>0.000</td>\n",
              "      <td>48.0</td>\n",
              "      <td>0.7</td>\n",
              "      <td>0.0</td>\n",
              "      <td>66.0</td>\n",
              "      <td>123.0</td>\n",
              "      <td>161.0</td>\n",
              "      <td>164.0</td>\n",
              "      <td>164.0</td>\n",
              "      <td>8.0</td>\n",
              "    </tr>\n",
              "    <tr>\n",
              "      <th>252</th>\n",
              "      <td>130.0</td>\n",
              "      <td>0.002</td>\n",
              "      <td>0.000</td>\n",
              "      <td>57.0</td>\n",
              "      <td>0.6</td>\n",
              "      <td>26.0</td>\n",
              "      <td>91.0</td>\n",
              "      <td>65.0</td>\n",
              "      <td>129.0</td>\n",
              "      <td>131.0</td>\n",
              "      <td>133.0</td>\n",
              "      <td>10.0</td>\n",
              "    </tr>\n",
              "    <tr>\n",
              "      <th>1334</th>\n",
              "      <td>128.0</td>\n",
              "      <td>0.003</td>\n",
              "      <td>0.003</td>\n",
              "      <td>14.0</td>\n",
              "      <td>2.7</td>\n",
              "      <td>0.0</td>\n",
              "      <td>89.0</td>\n",
              "      <td>67.0</td>\n",
              "      <td>115.0</td>\n",
              "      <td>115.0</td>\n",
              "      <td>116.0</td>\n",
              "      <td>44.0</td>\n",
              "    </tr>\n",
              "    <tr>\n",
              "      <th>1579</th>\n",
              "      <td>132.0</td>\n",
              "      <td>0.001</td>\n",
              "      <td>0.000</td>\n",
              "      <td>25.0</td>\n",
              "      <td>1.9</td>\n",
              "      <td>0.0</td>\n",
              "      <td>99.0</td>\n",
              "      <td>54.0</td>\n",
              "      <td>133.0</td>\n",
              "      <td>127.0</td>\n",
              "      <td>133.0</td>\n",
              "      <td>34.0</td>\n",
              "    </tr>\n",
              "  </tbody>\n",
              "</table>\n",
              "<p>1424 rows × 12 columns</p>\n",
              "</div>\n",
              "      <button class=\"colab-df-convert\" onclick=\"convertToInteractive('df-4d16f5a5-3afe-4b4f-bb5c-bbf89f2147a8')\"\n",
              "              title=\"Convert this dataframe to an interactive table.\"\n",
              "              style=\"display:none;\">\n",
              "        \n",
              "  <svg xmlns=\"http://www.w3.org/2000/svg\" height=\"24px\"viewBox=\"0 0 24 24\"\n",
              "       width=\"24px\">\n",
              "    <path d=\"M0 0h24v24H0V0z\" fill=\"none\"/>\n",
              "    <path d=\"M18.56 5.44l.94 2.06.94-2.06 2.06-.94-2.06-.94-.94-2.06-.94 2.06-2.06.94zm-11 1L8.5 8.5l.94-2.06 2.06-.94-2.06-.94L8.5 2.5l-.94 2.06-2.06.94zm10 10l.94 2.06.94-2.06 2.06-.94-2.06-.94-.94-2.06-.94 2.06-2.06.94z\"/><path d=\"M17.41 7.96l-1.37-1.37c-.4-.4-.92-.59-1.43-.59-.52 0-1.04.2-1.43.59L10.3 9.45l-7.72 7.72c-.78.78-.78 2.05 0 2.83L4 21.41c.39.39.9.59 1.41.59.51 0 1.02-.2 1.41-.59l7.78-7.78 2.81-2.81c.8-.78.8-2.07 0-2.86zM5.41 20L4 18.59l7.72-7.72 1.47 1.35L5.41 20z\"/>\n",
              "  </svg>\n",
              "      </button>\n",
              "      \n",
              "  <style>\n",
              "    .colab-df-container {\n",
              "      display:flex;\n",
              "      flex-wrap:wrap;\n",
              "      gap: 12px;\n",
              "    }\n",
              "\n",
              "    .colab-df-convert {\n",
              "      background-color: #E8F0FE;\n",
              "      border: none;\n",
              "      border-radius: 50%;\n",
              "      cursor: pointer;\n",
              "      display: none;\n",
              "      fill: #1967D2;\n",
              "      height: 32px;\n",
              "      padding: 0 0 0 0;\n",
              "      width: 32px;\n",
              "    }\n",
              "\n",
              "    .colab-df-convert:hover {\n",
              "      background-color: #E2EBFA;\n",
              "      box-shadow: 0px 1px 2px rgba(60, 64, 67, 0.3), 0px 1px 3px 1px rgba(60, 64, 67, 0.15);\n",
              "      fill: #174EA6;\n",
              "    }\n",
              "\n",
              "    [theme=dark] .colab-df-convert {\n",
              "      background-color: #3B4455;\n",
              "      fill: #D2E3FC;\n",
              "    }\n",
              "\n",
              "    [theme=dark] .colab-df-convert:hover {\n",
              "      background-color: #434B5C;\n",
              "      box-shadow: 0px 1px 3px 1px rgba(0, 0, 0, 0.15);\n",
              "      filter: drop-shadow(0px 1px 2px rgba(0, 0, 0, 0.3));\n",
              "      fill: #FFFFFF;\n",
              "    }\n",
              "  </style>\n",
              "\n",
              "      <script>\n",
              "        const buttonEl =\n",
              "          document.querySelector('#df-4d16f5a5-3afe-4b4f-bb5c-bbf89f2147a8 button.colab-df-convert');\n",
              "        buttonEl.style.display =\n",
              "          google.colab.kernel.accessAllowed ? 'block' : 'none';\n",
              "\n",
              "        async function convertToInteractive(key) {\n",
              "          const element = document.querySelector('#df-4d16f5a5-3afe-4b4f-bb5c-bbf89f2147a8');\n",
              "          const dataTable =\n",
              "            await google.colab.kernel.invokeFunction('convertToInteractive',\n",
              "                                                     [key], {});\n",
              "          if (!dataTable) return;\n",
              "\n",
              "          const docLinkHtml = 'Like what you see? Visit the ' +\n",
              "            '<a target=\"_blank\" href=https://colab.research.google.com/notebooks/data_table.ipynb>data table notebook</a>'\n",
              "            + ' to learn more about interactive tables.';\n",
              "          element.innerHTML = '';\n",
              "          dataTable['output_type'] = 'display_data';\n",
              "          await google.colab.output.renderOutput(dataTable, element);\n",
              "          const docLink = document.createElement('div');\n",
              "          docLink.innerHTML = docLinkHtml;\n",
              "          element.appendChild(docLink);\n",
              "        }\n",
              "      </script>\n",
              "    </div>\n",
              "  </div>\n",
              "  "
            ]
          },
          "metadata": {},
          "execution_count": 105
        }
      ]
    },
    {
      "cell_type": "code",
      "source": [
        "X_train = X_train[columns_select]\n",
        "X_test = X_test[columns_select]"
      ],
      "metadata": {
        "id": "2YVkLgLwDy6d"
      },
      "execution_count": null,
      "outputs": []
    },
    {
      "cell_type": "markdown",
      "source": [
        "**BUILDING_MODEL,Training and CALCULATING ACCURACY**"
      ],
      "metadata": {
        "id": "pEpD_ndp86Cl"
      }
    },
    {
      "cell_type": "code",
      "source": [
        "from sklearn.tree import DecisionTreeClassifier\n",
        "from sklearn.metrics import confusion_matrix, classification_report, accuracy_score, precision_score\n",
        "from sklearn.metrics import roc_curve, auc, log_loss, recall_score, ConfusionMatrixDisplay \n",
        "clf = DecisionTreeClassifier()\n",
        "\n",
        "clf.fit(X_train,y_train)"
      ],
      "metadata": {
        "colab": {
          "base_uri": "https://localhost:8080/"
        },
        "id": "dw2ZN0kJGPVC",
        "outputId": "e44c8f4a-cc4e-48b1-eefe-ffd875e8b9ef"
      },
      "execution_count": null,
      "outputs": [
        {
          "output_type": "execute_result",
          "data": {
            "text/plain": [
              "DecisionTreeClassifier()"
            ]
          },
          "metadata": {},
          "execution_count": 107
        }
      ]
    },
    {
      "cell_type": "code",
      "source": [
        "y_pred = clf.predict(X_test)"
      ],
      "metadata": {
        "id": "Ydwa7dnEGmyN"
      },
      "execution_count": null,
      "outputs": []
    },
    {
      "cell_type": "code",
      "source": [
        "print(\"accuracy\")\n",
        "print(accuracy_score(y_test,y_pred))\n",
        "\n",
        "print(\" \")\n",
        "print(\"classification report\")\n",
        "print(classification_report(y_test,y_pred))\n",
        "print(\" \")\n",
        "cm = confusion_matrix(y_test,y_pred,normalize = 'true')\n",
        "print(cm)"
      ],
      "metadata": {
        "colab": {
          "base_uri": "https://localhost:8080/"
        },
        "id": "QljAww3oHI72",
        "outputId": "d61ee64c-5478-485a-f023-a4f6b6d516f5"
      },
      "execution_count": null,
      "outputs": [
        {
          "output_type": "stream",
          "name": "stdout",
          "text": [
            "accuracy\n",
            "0.9230769230769231\n",
            " \n",
            "classification report\n",
            "              precision    recall  f1-score   support\n",
            "\n",
            "         1.0       0.95      0.96      0.96       557\n",
            "         2.0       0.72      0.77      0.74        83\n",
            "         3.0       0.94      0.82      0.88        62\n",
            "\n",
            "    accuracy                           0.92       702\n",
            "   macro avg       0.87      0.85      0.86       702\n",
            "weighted avg       0.92      0.92      0.92       702\n",
            "\n",
            " \n",
            "[[0.95691203 0.03949731 0.00359066]\n",
            " [0.21686747 0.77108434 0.01204819]\n",
            " [0.12903226 0.0483871  0.82258065]]\n"
          ]
        }
      ]
    },
    {
      "cell_type": "code",
      "source": [
        "dsp = ConfusionMatrixDisplay(cm)\n",
        "dsp.plot()\n",
        "plt.figure(figsize=(12,7))\n",
        "plt.show()"
      ],
      "metadata": {
        "colab": {
          "base_uri": "https://localhost:8080/",
          "height": 296
        },
        "id": "ijal73d9HeaU",
        "outputId": "132c10b5-c43a-42bb-8f4d-196cfaa1acf4"
      },
      "execution_count": null,
      "outputs": [
        {
          "output_type": "display_data",
          "data": {
            "text/plain": [
              "<Figure size 432x288 with 2 Axes>"
            ],
            "image/png": "[encoded data removed]"
          },
          "metadata": {
            "needs_background": "light"
          }
        },
        {
          "output_type": "display_data",
          "data": {
            "text/plain": [
              "<Figure size 864x504 with 0 Axes>"
            ]
          },
          "metadata": {}
        }
      ]
    },
    {
      "cell_type": "markdown",
      "source": [
        "**TREE_PLOT**"
      ],
      "metadata": {
        "id": "RXXuH_Ci9P7B"
      }
    },
    {
      "cell_type": "code",
      "source": [
        "from sklearn import tree\n",
        "tree.plot_tree(clf)"
      ],
      "metadata": {
        "colab": {
          "base_uri": "https://localhost:8080/",
          "height": 1000
        },
        "id": "HuwWj9Xg9ULj",
        "outputId": "25af27f4-8978-4848-cc6c-96ca0f5720ba"
      },
      "execution_count": null,
      "outputs": [
        {
          "output_type": "execute_result",
          "data": {
            "text/plain": [
              "[Text(0.41636244158878505, 0.9615384615384616, 'X[4] <= 0.55\\ngini = 0.377\\nsamples = 1424\\nvalue = [1098, 212, 114]'),\n",
              " Text(0.22188960280373832, 0.8846153846153846, 'X[5] <= 68.5\\ngini = 0.597\\nsamples = 270\\nvalue = [72, 147, 51]'),\n",
              " Text(0.15727219626168223, 0.8076923076923077, 'X[3] <= 58.5\\ngini = 0.521\\nsamples = 237\\nvalue = [70, 147, 20]'),\n",
              " Text(0.056074766355140186, 0.7307692307692307, 'X[5] <= 61.0\\ngini = 0.283\\nsamples = 41\\nvalue = [34, 7, 0]'),\n",
              " Text(0.04672897196261682, 0.6538461538461539, 'X[9] <= 167.0\\ngini = 0.224\\nsamples = 39\\nvalue = [34, 5, 0]'),\n",
              " Text(0.037383177570093455, 0.5769230769230769, 'X[7] <= 135.5\\ngini = 0.188\\nsamples = 38\\nvalue = [34, 4, 0]'),\n",
              " Text(0.018691588785046728, 0.5, 'X[11] <= 6.5\\ngini = 0.071\\nsamples = 27\\nvalue = [26, 1, 0]'),\n",
              " Text(0.009345794392523364, 0.4230769230769231, 'gini = 0.0\\nsamples = 25\\nvalue = [25, 0, 0]'),\n",
              " Text(0.028037383177570093, 0.4230769230769231, 'X[5] <= 12.5\\ngini = 0.5\\nsamples = 2\\nvalue = [1, 1, 0]'),\n",
              " Text(0.018691588785046728, 0.34615384615384615, 'gini = 0.0\\nsamples = 1\\nvalue = [1, 0, 0]'),\n",
              " Text(0.037383177570093455, 0.34615384615384615, 'gini = 0.0\\nsamples = 1\\nvalue = [0, 1, 0]'),\n",
              " Text(0.056074766355140186, 0.5, 'X[6] <= 17.5\\ngini = 0.397\\nsamples = 11\\nvalue = [8, 3, 0]'),\n",
              " Text(0.04672897196261682, 0.4230769230769231, 'gini = 0.0\\nsamples = 7\\nvalue = [7, 0, 0]'),\n",
              " Text(0.06542056074766354, 0.4230769230769231, 'X[1] <= 0.003\\ngini = 0.375\\nsamples = 4\\nvalue = [1, 3, 0]'),\n",
              " Text(0.056074766355140186, 0.34615384615384615, 'gini = 0.0\\nsamples = 3\\nvalue = [0, 3, 0]'),\n",
              " Text(0.07476635514018691, 0.34615384615384615, 'gini = 0.0\\nsamples = 1\\nvalue = [1, 0, 0]'),\n",
              " Text(0.056074766355140186, 0.5769230769230769, 'gini = 0.0\\nsamples = 1\\nvalue = [0, 1, 0]'),\n",
              " Text(0.06542056074766354, 0.6538461538461539, 'gini = 0.0\\nsamples = 2\\nvalue = [0, 2, 0]'),\n",
              " Text(0.2584696261682243, 0.7307692307692307, 'X[3] <= 79.5\\ngini = 0.446\\nsamples = 196\\nvalue = [36, 140, 20]'),\n",
              " Text(0.18983644859813084, 0.6538461538461539, 'X[5] <= 7.5\\ngini = 0.332\\nsamples = 176\\nvalue = [33, 140, 3]'),\n",
              " Text(0.11214953271028037, 0.5769230769230769, 'X[0] <= 143.5\\ngini = 0.401\\nsamples = 27\\nvalue = [20, 6, 1]'),\n",
              " Text(0.09345794392523364, 0.5, 'X[6] <= 19.0\\ngini = 0.172\\nsamples = 21\\nvalue = [19, 2, 0]'),\n",
              " Text(0.08411214953271028, 0.4230769230769231, 'gini = 0.0\\nsamples = 1\\nvalue = [0, 1, 0]'),\n",
              " Text(0.102803738317757, 0.4230769230769231, 'X[6] <= 86.0\\ngini = 0.095\\nsamples = 20\\nvalue = [19, 1, 0]'),\n",
              " Text(0.09345794392523364, 0.34615384615384615, 'gini = 0.0\\nsamples = 19\\nvalue = [19, 0, 0]'),\n",
              " Text(0.11214953271028037, 0.34615384615384615, 'gini = 0.0\\nsamples = 1\\nvalue = [0, 1, 0]'),\n",
              " Text(0.1308411214953271, 0.5, 'X[5] <= 3.5\\ngini = 0.5\\nsamples = 6\\nvalue = [1, 4, 1]'),\n",
              " Text(0.12149532710280374, 0.4230769230769231, 'gini = 0.0\\nsamples = 1\\nvalue = [1, 0, 0]'),\n",
              " Text(0.14018691588785046, 0.4230769230769231, 'X[9] <= 150.5\\ngini = 0.32\\nsamples = 5\\nvalue = [0, 4, 1]'),\n",
              " Text(0.1308411214953271, 0.34615384615384615, 'X[0] <= 146.5\\ngini = 0.5\\nsamples = 2\\nvalue = [0, 1, 1]'),\n",
              " Text(0.12149532710280374, 0.2692307692307692, 'gini = 0.0\\nsamples = 1\\nvalue = [0, 1, 0]'),\n",
              " Text(0.14018691588785046, 0.2692307692307692, 'gini = 0.0\\nsamples = 1\\nvalue = [0, 0, 1]'),\n",
              " Text(0.14953271028037382, 0.34615384615384615, 'gini = 0.0\\nsamples = 3\\nvalue = [0, 3, 0]'),\n",
              " Text(0.2675233644859813, 0.5769230769230769, 'X[3] <= 78.5\\ngini = 0.183\\nsamples = 149\\nvalue = [13, 134, 2]'),\n",
              " Text(0.2266355140186916, 0.5, 'X[0] <= 136.5\\ngini = 0.143\\nsamples = 143\\nvalue = [10, 132, 1]'),\n",
              " Text(0.18691588785046728, 0.4230769230769231, 'X[10] <= 138.5\\ngini = 0.334\\nsamples = 33\\nvalue = [7, 26, 0]'),\n",
              " Text(0.16822429906542055, 0.34615384615384615, 'X[3] <= 59.5\\ngini = 0.204\\nsamples = 26\\nvalue = [3, 23, 0]'),\n",
              " Text(0.1588785046728972, 0.2692307692307692, 'gini = 0.0\\nsamples = 1\\nvalue = [1, 0, 0]'),\n",
              " Text(0.17757009345794392, 0.2692307692307692, 'X[6] <= 18.5\\ngini = 0.147\\nsamples = 25\\nvalue = [2, 23, 0]'),\n",
              " Text(0.16822429906542055, 0.19230769230769232, 'X[8] <= 124.0\\ngini = 0.444\\nsamples = 6\\nvalue = [2, 4, 0]'),\n",
              " Text(0.1588785046728972, 0.11538461538461539, 'gini = 0.0\\nsamples = 2\\nvalue = [2, 0, 0]'),\n",
              " Text(0.17757009345794392, 0.11538461538461539, 'gini = 0.0\\nsamples = 4\\nvalue = [0, 4, 0]'),\n",
              " Text(0.18691588785046728, 0.19230769230769232, 'gini = 0.0\\nsamples = 19\\nvalue = [0, 19, 0]'),\n",
              " Text(0.205607476635514, 0.34615384615384615, 'X[8] <= 140.5\\ngini = 0.49\\nsamples = 7\\nvalue = [4, 3, 0]'),\n",
              " Text(0.19626168224299065, 0.2692307692307692, 'gini = 0.0\\nsamples = 4\\nvalue = [4, 0, 0]'),\n",
              " Text(0.21495327102803738, 0.2692307692307692, 'gini = 0.0\\nsamples = 3\\nvalue = [0, 3, 0]'),\n",
              " Text(0.26635514018691586, 0.4230769230769231, 'X[5] <= 18.5\\ngini = 0.071\\nsamples = 110\\nvalue = [3, 106, 1]'),\n",
              " Text(0.24299065420560748, 0.34615384615384615, 'X[5] <= 17.5\\ngini = 0.244\\nsamples = 22\\nvalue = [2, 19, 1]'),\n",
              " Text(0.2336448598130841, 0.2692307692307692, 'X[3] <= 67.5\\ngini = 0.172\\nsamples = 21\\nvalue = [2, 19, 0]'),\n",
              " Text(0.21495327102803738, 0.19230769230769232, 'X[7] <= 77.5\\ngini = 0.1\\nsamples = 19\\nvalue = [1, 18, 0]'),\n",
              " Text(0.205607476635514, 0.11538461538461539, 'X[10] <= 148.5\\ngini = 0.375\\nsamples = 4\\nvalue = [1, 3, 0]'),\n",
              " Text(0.19626168224299065, 0.038461538461538464, 'gini = 0.0\\nsamples = 3\\nvalue = [0, 3, 0]'),\n",
              " Text(0.21495327102803738, 0.038461538461538464, 'gini = 0.0\\nsamples = 1\\nvalue = [1, 0, 0]'),\n",
              " Text(0.22429906542056074, 0.11538461538461539, 'gini = 0.0\\nsamples = 15\\nvalue = [0, 15, 0]'),\n",
              " Text(0.2523364485981308, 0.19230769230769232, 'X[6] <= 21.0\\ngini = 0.5\\nsamples = 2\\nvalue = [1, 1, 0]'),\n",
              " Text(0.24299065420560748, 0.11538461538461539, 'gini = 0.0\\nsamples = 1\\nvalue = [0, 1, 0]'),\n",
              " Text(0.2616822429906542, 0.11538461538461539, 'gini = 0.0\\nsamples = 1\\nvalue = [1, 0, 0]'),\n",
              " Text(0.2523364485981308, 0.2692307692307692, 'gini = 0.0\\nsamples = 1\\nvalue = [0, 0, 1]'),\n",
              " Text(0.2897196261682243, 0.34615384615384615, 'X[3] <= 59.5\\ngini = 0.022\\nsamples = 88\\nvalue = [1, 87, 0]'),\n",
              " Text(0.2803738317757009, 0.2692307692307692, 'X[10] <= 147.5\\ngini = 0.32\\nsamples = 5\\nvalue = [1, 4, 0]'),\n",
              " Text(0.27102803738317754, 0.19230769230769232, 'gini = 0.0\\nsamples = 1\\nvalue = [1, 0, 0]'),\n",
              " Text(0.2897196261682243, 0.19230769230769232, 'gini = 0.0\\nsamples = 4\\nvalue = [0, 4, 0]'),\n",
              " Text(0.29906542056074764, 0.2692307692307692, 'gini = 0.0\\nsamples = 83\\nvalue = [0, 83, 0]'),\n",
              " Text(0.308411214953271, 0.5, 'X[5] <= 40.5\\ngini = 0.611\\nsamples = 6\\nvalue = [3, 2, 1]'),\n",
              " Text(0.29906542056074764, 0.4230769230769231, 'gini = 0.0\\nsamples = 3\\nvalue = [3, 0, 0]'),\n",
              " Text(0.3177570093457944, 0.4230769230769231, 'X[5] <= 41.5\\ngini = 0.444\\nsamples = 3\\nvalue = [0, 2, 1]'),\n",
              " Text(0.308411214953271, 0.34615384615384615, 'gini = 0.0\\nsamples = 1\\nvalue = [0, 0, 1]'),\n",
              " Text(0.32710280373831774, 0.34615384615384615, 'gini = 0.0\\nsamples = 2\\nvalue = [0, 2, 0]'),\n",
              " Text(0.32710280373831774, 0.6538461538461539, 'X[5] <= 32.0\\ngini = 0.255\\nsamples = 20\\nvalue = [3, 0, 17]'),\n",
              " Text(0.3177570093457944, 0.5769230769230769, 'gini = 0.0\\nsamples = 15\\nvalue = [0, 0, 15]'),\n",
              " Text(0.3364485981308411, 0.5769230769230769, 'X[0] <= 142.0\\ngini = 0.48\\nsamples = 5\\nvalue = [3, 0, 2]'),\n",
              " Text(0.32710280373831774, 0.5, 'gini = 0.0\\nsamples = 3\\nvalue = [3, 0, 0]'),\n",
              " Text(0.34579439252336447, 0.5, 'gini = 0.0\\nsamples = 2\\nvalue = [0, 0, 2]'),\n",
              " Text(0.2865070093457944, 0.8076923076923077, 'X[4] <= 0.45\\ngini = 0.114\\nsamples = 33\\nvalue = [2, 0, 31]'),\n",
              " Text(0.277161214953271, 0.7307692307692307, 'gini = 0.0\\nsamples = 31\\nvalue = [0, 0, 31]'),\n",
              " Text(0.29585280373831774, 0.7307692307692307, 'gini = 0.0\\nsamples = 2\\nvalue = [2, 0, 0]'),\n",
              " Text(0.6108352803738317, 0.8846153846153846, 'X[9] <= 107.5\\ngini = 0.203\\nsamples = 1154\\nvalue = [1026, 65, 63]'),\n",
              " Text(0.3925233644859813, 0.8076923076923077, 'X[6] <= 168.5\\ngini = 0.242\\nsamples = 66\\nvalue = [7, 2, 57]'),\n",
              " Text(0.38317757009345793, 0.7307692307692307, 'X[3] <= 25.0\\ngini = 0.151\\nsamples = 62\\nvalue = [3, 2, 57]'),\n",
              " Text(0.37383177570093457, 0.6538461538461539, 'gini = 0.0\\nsamples = 2\\nvalue = [0, 2, 0]'),\n",
              " Text(0.3925233644859813, 0.6538461538461539, 'X[7] <= 71.5\\ngini = 0.095\\nsamples = 60\\nvalue = [3, 0, 57]'),\n",
              " Text(0.37383177570093457, 0.5769230769230769, 'X[0] <= 115.0\\ngini = 0.034\\nsamples = 57\\nvalue = [1, 0, 56]'),\n",
              " Text(0.3644859813084112, 0.5, 'X[4] <= 2.3\\ngini = 0.245\\nsamples = 7\\nvalue = [1, 0, 6]'),\n",
              " Text(0.35514018691588783, 0.4230769230769231, 'gini = 0.0\\nsamples = 1\\nvalue = [1, 0, 0]'),\n",
              " Text(0.37383177570093457, 0.4230769230769231, 'gini = 0.0\\nsamples = 6\\nvalue = [0, 0, 6]'),\n",
              " Text(0.38317757009345793, 0.5, 'gini = 0.0\\nsamples = 50\\nvalue = [0, 0, 50]'),\n",
              " Text(0.411214953271028, 0.5769230769230769, 'X[11] <= 36.5\\ngini = 0.444\\nsamples = 3\\nvalue = [2, 0, 1]'),\n",
              " Text(0.40186915887850466, 0.5, 'gini = 0.0\\nsamples = 2\\nvalue = [2, 0, 0]'),\n",
              " Text(0.4205607476635514, 0.5, 'gini = 0.0\\nsamples = 1\\nvalue = [0, 0, 1]'),\n",
              " Text(0.40186915887850466, 0.7307692307692307, 'gini = 0.0\\nsamples = 4\\nvalue = [4, 0, 0]'),\n",
              " Text(0.8291471962616822, 0.8076923076923077, 'X[0] <= 143.5\\ngini = 0.119\\nsamples = 1088\\nvalue = [1019, 63, 6]'),\n",
              " Text(0.7202102803738317, 0.7307692307692307, 'X[2] <= 0.002\\ngini = 0.073\\nsamples = 951\\nvalue = [915, 30, 6]'),\n",
              " Text(0.6086448598130841, 0.6538461538461539, 'X[5] <= 13.5\\ngini = 0.054\\nsamples = 930\\nvalue = [904, 25, 1]'),\n",
              " Text(0.48364485981308414, 0.5769230769230769, 'X[8] <= 102.5\\ngini = 0.024\\nsamples = 834\\nvalue = [824, 9, 1]'),\n",
              " Text(0.4392523364485981, 0.5, 'X[7] <= 60.5\\ngini = 0.444\\nsamples = 3\\nvalue = [2, 0, 1]'),\n",
              " Text(0.42990654205607476, 0.4230769230769231, 'gini = 0.0\\nsamples = 1\\nvalue = [0, 0, 1]'),\n",
              " Text(0.4485981308411215, 0.4230769230769231, 'gini = 0.0\\nsamples = 2\\nvalue = [2, 0, 0]'),\n",
              " Text(0.5280373831775701, 0.5, 'X[4] <= 0.65\\ngini = 0.021\\nsamples = 831\\nvalue = [822, 9, 0]'),\n",
              " Text(0.4672897196261682, 0.4230769230769231, 'X[7] <= 63.5\\ngini = 0.17\\nsamples = 32\\nvalue = [29, 3, 0]'),\n",
              " Text(0.45794392523364486, 0.34615384615384615, 'gini = 0.0\\nsamples = 1\\nvalue = [0, 1, 0]'),\n",
              " Text(0.4766355140186916, 0.34615384615384615, 'X[3] <= 64.5\\ngini = 0.121\\nsamples = 31\\nvalue = [29, 2, 0]'),\n",
              " Text(0.45794392523364486, 0.2692307692307692, 'X[7] <= 89.5\\ngini = 0.069\\nsamples = 28\\nvalue = [27, 1, 0]'),\n",
              " Text(0.4485981308411215, 0.19230769230769232, 'X[9] <= 128.0\\ngini = 0.32\\nsamples = 5\\nvalue = [4, 1, 0]'),\n",
              " Text(0.4392523364485981, 0.11538461538461539, 'gini = 0.0\\nsamples = 1\\nvalue = [0, 1, 0]'),\n",
              " Text(0.45794392523364486, 0.11538461538461539, 'gini = 0.0\\nsamples = 4\\nvalue = [4, 0, 0]'),\n",
              " Text(0.4672897196261682, 0.19230769230769232, 'gini = 0.0\\nsamples = 23\\nvalue = [23, 0, 0]'),\n",
              " Text(0.4953271028037383, 0.2692307692307692, 'X[0] <= 138.0\\ngini = 0.444\\nsamples = 3\\nvalue = [2, 1, 0]'),\n",
              " Text(0.48598130841121495, 0.19230769230769232, 'gini = 0.0\\nsamples = 2\\nvalue = [2, 0, 0]'),\n",
              " Text(0.5046728971962616, 0.19230769230769232, 'gini = 0.0\\nsamples = 1\\nvalue = [0, 1, 0]'),\n",
              " Text(0.5887850467289719, 0.4230769230769231, 'X[6] <= 140.0\\ngini = 0.015\\nsamples = 799\\nvalue = [793, 6, 0]'),\n",
              " Text(0.5514018691588785, 0.34615384615384615, 'X[10] <= 152.5\\ngini = 0.008\\nsamples = 762\\nvalue = [759, 3, 0]'),\n",
              " Text(0.5327102803738317, 0.2692307692307692, 'X[7] <= 126.5\\ngini = 0.003\\nsamples = 718\\nvalue = [717, 1, 0]'),\n",
              " Text(0.5233644859813084, 0.19230769230769232, 'gini = 0.0\\nsamples = 691\\nvalue = [691, 0, 0]'),\n",
              " Text(0.5420560747663551, 0.19230769230769232, 'X[6] <= 57.0\\ngini = 0.071\\nsamples = 27\\nvalue = [26, 1, 0]'),\n",
              " Text(0.5327102803738317, 0.11538461538461539, 'gini = 0.0\\nsamples = 26\\nvalue = [26, 0, 0]'),\n",
              " Text(0.5514018691588785, 0.11538461538461539, 'gini = 0.0\\nsamples = 1\\nvalue = [0, 1, 0]'),\n",
              " Text(0.5700934579439252, 0.2692307692307692, 'X[1] <= 0.002\\ngini = 0.087\\nsamples = 44\\nvalue = [42, 2, 0]'),\n",
              " Text(0.5607476635514018, 0.19230769230769232, 'gini = 0.0\\nsamples = 2\\nvalue = [0, 2, 0]'),\n",
              " Text(0.5794392523364486, 0.19230769230769232, 'gini = 0.0\\nsamples = 42\\nvalue = [42, 0, 0]'),\n",
              " Text(0.6261682242990654, 0.34615384615384615, 'X[2] <= 0.001\\ngini = 0.149\\nsamples = 37\\nvalue = [34, 3, 0]'),\n",
              " Text(0.6074766355140186, 0.2692307692307692, 'X[3] <= 48.5\\ngini = 0.057\\nsamples = 34\\nvalue = [33, 1, 0]'),\n",
              " Text(0.5981308411214953, 0.19230769230769232, 'gini = 0.0\\nsamples = 29\\nvalue = [29, 0, 0]'),\n",
              " Text(0.616822429906542, 0.19230769230769232, 'X[9] <= 129.0\\ngini = 0.32\\nsamples = 5\\nvalue = [4, 1, 0]'),\n",
              " Text(0.6074766355140186, 0.11538461538461539, 'gini = 0.0\\nsamples = 4\\nvalue = [4, 0, 0]'),\n",
              " Text(0.6261682242990654, 0.11538461538461539, 'gini = 0.0\\nsamples = 1\\nvalue = [0, 1, 0]'),\n",
              " Text(0.6448598130841121, 0.2692307692307692, 'X[6] <= 142.0\\ngini = 0.444\\nsamples = 3\\nvalue = [1, 2, 0]'),\n",
              " Text(0.6355140186915887, 0.19230769230769232, 'gini = 0.0\\nsamples = 2\\nvalue = [0, 2, 0]'),\n",
              " Text(0.6542056074766355, 0.19230769230769232, 'gini = 0.0\\nsamples = 1\\nvalue = [1, 0, 0]'),\n",
              " Text(0.7336448598130841, 0.5769230769230769, 'X[9] <= 149.5\\ngini = 0.278\\nsamples = 96\\nvalue = [80, 16, 0]'),\n",
              " Text(0.7009345794392523, 0.5, 'X[3] <= 59.5\\ngini = 0.229\\nsamples = 91\\nvalue = [79, 12, 0]'),\n",
              " Text(0.6822429906542056, 0.4230769230769231, 'X[5] <= 59.5\\ngini = 0.086\\nsamples = 67\\nvalue = [64, 3, 0]'),\n",
              " Text(0.6728971962616822, 0.34615384615384615, 'X[8] <= 142.5\\ngini = 0.059\\nsamples = 66\\nvalue = [64, 2, 0]'),\n",
              " Text(0.6635514018691588, 0.2692307692307692, 'gini = 0.0\\nsamples = 51\\nvalue = [51, 0, 0]'),\n",
              " Text(0.6822429906542056, 0.2692307692307692, 'X[0] <= 135.5\\ngini = 0.231\\nsamples = 15\\nvalue = [13, 2, 0]'),\n",
              " Text(0.6728971962616822, 0.19230769230769232, 'X[10] <= 141.0\\ngini = 0.5\\nsamples = 4\\nvalue = [2, 2, 0]'),\n",
              " Text(0.6635514018691588, 0.11538461538461539, 'gini = 0.0\\nsamples = 2\\nvalue = [2, 0, 0]'),\n",
              " Text(0.6822429906542056, 0.11538461538461539, 'gini = 0.0\\nsamples = 2\\nvalue = [0, 2, 0]'),\n",
              " Text(0.6915887850467289, 0.19230769230769232, 'gini = 0.0\\nsamples = 11\\nvalue = [11, 0, 0]'),\n",
              " Text(0.6915887850467289, 0.34615384615384615, 'gini = 0.0\\nsamples = 1\\nvalue = [0, 1, 0]'),\n",
              " Text(0.719626168224299, 0.4230769230769231, 'X[6] <= 28.5\\ngini = 0.469\\nsamples = 24\\nvalue = [15, 9, 0]'),\n",
              " Text(0.7102803738317757, 0.34615384615384615, 'gini = 0.0\\nsamples = 13\\nvalue = [13, 0, 0]'),\n",
              " Text(0.7289719626168224, 0.34615384615384615, 'X[7] <= 122.0\\ngini = 0.298\\nsamples = 11\\nvalue = [2, 9, 0]'),\n",
              " Text(0.719626168224299, 0.2692307692307692, 'X[8] <= 146.5\\ngini = 0.18\\nsamples = 10\\nvalue = [1, 9, 0]'),\n",
              " Text(0.7102803738317757, 0.19230769230769232, 'gini = 0.0\\nsamples = 9\\nvalue = [0, 9, 0]'),\n",
              " Text(0.7289719626168224, 0.19230769230769232, 'gini = 0.0\\nsamples = 1\\nvalue = [1, 0, 0]'),\n",
              " Text(0.7383177570093458, 0.2692307692307692, 'gini = 0.0\\nsamples = 1\\nvalue = [1, 0, 0]'),\n",
              " Text(0.7663551401869159, 0.5, 'X[7] <= 102.5\\ngini = 0.32\\nsamples = 5\\nvalue = [1, 4, 0]'),\n",
              " Text(0.7570093457943925, 0.4230769230769231, 'X[1] <= 0.001\\ngini = 0.5\\nsamples = 2\\nvalue = [1, 1, 0]'),\n",
              " Text(0.7476635514018691, 0.34615384615384615, 'gini = 0.0\\nsamples = 1\\nvalue = [0, 1, 0]'),\n",
              " Text(0.7663551401869159, 0.34615384615384615, 'gini = 0.0\\nsamples = 1\\nvalue = [1, 0, 0]'),\n",
              " Text(0.7757009345794392, 0.4230769230769231, 'gini = 0.0\\nsamples = 3\\nvalue = [0, 3, 0]'),\n",
              " Text(0.8317757009345794, 0.6538461538461539, 'X[0] <= 137.0\\ngini = 0.612\\nsamples = 21\\nvalue = [11, 5, 5]'),\n",
              " Text(0.822429906542056, 0.5769230769230769, 'X[0] <= 132.5\\ngini = 0.491\\nsamples = 17\\nvalue = [11, 1, 5]'),\n",
              " Text(0.8037383177570093, 0.5, 'X[3] <= 51.0\\ngini = 0.292\\nsamples = 12\\nvalue = [10, 1, 1]'),\n",
              " Text(0.794392523364486, 0.4230769230769231, 'X[4] <= 2.35\\ngini = 0.165\\nsamples = 11\\nvalue = [10, 1, 0]'),\n",
              " Text(0.7850467289719626, 0.34615384615384615, 'gini = 0.0\\nsamples = 8\\nvalue = [8, 0, 0]'),\n",
              " Text(0.8037383177570093, 0.34615384615384615, 'X[3] <= 17.5\\ngini = 0.444\\nsamples = 3\\nvalue = [2, 1, 0]'),\n",
              " Text(0.794392523364486, 0.2692307692307692, 'gini = 0.0\\nsamples = 2\\nvalue = [2, 0, 0]'),\n",
              " Text(0.8130841121495327, 0.2692307692307692, 'gini = 0.0\\nsamples = 1\\nvalue = [0, 1, 0]'),\n",
              " Text(0.8130841121495327, 0.4230769230769231, 'gini = 0.0\\nsamples = 1\\nvalue = [0, 0, 1]'),\n",
              " Text(0.8411214953271028, 0.5, 'X[0] <= 135.0\\ngini = 0.32\\nsamples = 5\\nvalue = [1, 0, 4]'),\n",
              " Text(0.8317757009345794, 0.4230769230769231, 'gini = 0.0\\nsamples = 4\\nvalue = [0, 0, 4]'),\n",
              " Text(0.8504672897196262, 0.4230769230769231, 'gini = 0.0\\nsamples = 1\\nvalue = [1, 0, 0]'),\n",
              " Text(0.8411214953271028, 0.5769230769230769, 'gini = 0.0\\nsamples = 4\\nvalue = [0, 4, 0]'),\n",
              " Text(0.9380841121495327, 0.7307692307692307, 'X[1] <= 0.003\\ngini = 0.366\\nsamples = 137\\nvalue = [104, 33, 0]'),\n",
              " Text(0.8995327102803738, 0.6538461538461539, 'X[3] <= 42.5\\ngini = 0.492\\nsamples = 71\\nvalue = [40, 31, 0]'),\n",
              " Text(0.8691588785046729, 0.5769230769230769, 'X[10] <= 157.0\\ngini = 0.211\\nsamples = 25\\nvalue = [22, 3, 0]'),\n",
              " Text(0.8598130841121495, 0.5, 'gini = 0.0\\nsamples = 21\\nvalue = [21, 0, 0]'),\n",
              " Text(0.8785046728971962, 0.5, 'X[4] <= 0.85\\ngini = 0.375\\nsamples = 4\\nvalue = [1, 3, 0]'),\n",
              " Text(0.8691588785046729, 0.4230769230769231, 'gini = 0.0\\nsamples = 1\\nvalue = [1, 0, 0]'),\n",
              " Text(0.8878504672897196, 0.4230769230769231, 'gini = 0.0\\nsamples = 3\\nvalue = [0, 3, 0]'),\n",
              " Text(0.9299065420560748, 0.5769230769230769, 'X[7] <= 59.5\\ngini = 0.476\\nsamples = 46\\nvalue = [18, 28, 0]'),\n",
              " Text(0.9205607476635514, 0.5, 'gini = 0.0\\nsamples = 10\\nvalue = [0, 10, 0]'),\n",
              " Text(0.9392523364485982, 0.5, 'X[7] <= 125.5\\ngini = 0.5\\nsamples = 36\\nvalue = [18, 18, 0]'),\n",
              " Text(0.9065420560747663, 0.4230769230769231, 'X[7] <= 75.5\\ngini = 0.401\\nsamples = 18\\nvalue = [13, 5, 0]'),\n",
              " Text(0.8878504672897196, 0.34615384615384615, 'X[11] <= 7.0\\ngini = 0.444\\nsamples = 6\\nvalue = [2, 4, 0]'),\n",
              " Text(0.8785046728971962, 0.2692307692307692, 'gini = 0.0\\nsamples = 4\\nvalue = [0, 4, 0]'),\n",
              " Text(0.897196261682243, 0.2692307692307692, 'gini = 0.0\\nsamples = 2\\nvalue = [2, 0, 0]'),\n",
              " Text(0.9252336448598131, 0.34615384615384615, 'X[1] <= 0.001\\ngini = 0.153\\nsamples = 12\\nvalue = [11, 1, 0]'),\n",
              " Text(0.9158878504672897, 0.2692307692307692, 'gini = 0.0\\nsamples = 9\\nvalue = [9, 0, 0]'),\n",
              " Text(0.9345794392523364, 0.2692307692307692, 'X[6] <= 59.5\\ngini = 0.444\\nsamples = 3\\nvalue = [2, 1, 0]'),\n",
              " Text(0.9252336448598131, 0.19230769230769232, 'gini = 0.0\\nsamples = 2\\nvalue = [2, 0, 0]'),\n",
              " Text(0.9439252336448598, 0.19230769230769232, 'gini = 0.0\\nsamples = 1\\nvalue = [0, 1, 0]'),\n",
              " Text(0.9719626168224299, 0.4230769230769231, 'X[5] <= 4.5\\ngini = 0.401\\nsamples = 18\\nvalue = [5, 13, 0]'),\n",
              " Text(0.9626168224299065, 0.34615384615384615, 'gini = 0.0\\nsamples = 8\\nvalue = [0, 8, 0]'),\n",
              " Text(0.9813084112149533, 0.34615384615384615, 'X[1] <= 0.001\\ngini = 0.5\\nsamples = 10\\nvalue = [5, 5, 0]'),\n",
              " Text(0.9719626168224299, 0.2692307692307692, 'X[6] <= 25.5\\ngini = 0.469\\nsamples = 8\\nvalue = [3, 5, 0]'),\n",
              " Text(0.9626168224299065, 0.19230769230769232, 'X[6] <= 15.5\\ngini = 0.278\\nsamples = 6\\nvalue = [1, 5, 0]'),\n",
              " Text(0.9532710280373832, 0.11538461538461539, 'X[9] <= 158.5\\ngini = 0.5\\nsamples = 2\\nvalue = [1, 1, 0]'),\n",
              " Text(0.9439252336448598, 0.038461538461538464, 'gini = 0.0\\nsamples = 1\\nvalue = [0, 1, 0]'),\n",
              " Text(0.9626168224299065, 0.038461538461538464, 'gini = 0.0\\nsamples = 1\\nvalue = [1, 0, 0]'),\n",
              " Text(0.9719626168224299, 0.11538461538461539, 'gini = 0.0\\nsamples = 4\\nvalue = [0, 4, 0]'),\n",
              " Text(0.9813084112149533, 0.19230769230769232, 'gini = 0.0\\nsamples = 2\\nvalue = [2, 0, 0]'),\n",
              " Text(0.9906542056074766, 0.2692307692307692, 'gini = 0.0\\nsamples = 2\\nvalue = [2, 0, 0]'),\n",
              " Text(0.9766355140186916, 0.6538461538461539, 'X[6] <= 26.5\\ngini = 0.059\\nsamples = 66\\nvalue = [64, 2, 0]'),\n",
              " Text(0.9672897196261683, 0.5769230769230769, 'X[11] <= 2.5\\ngini = 0.444\\nsamples = 3\\nvalue = [1, 2, 0]'),\n",
              " Text(0.9579439252336449, 0.5, 'gini = 0.0\\nsamples = 2\\nvalue = [0, 2, 0]'),\n",
              " Text(0.9766355140186916, 0.5, 'gini = 0.0\\nsamples = 1\\nvalue = [1, 0, 0]'),\n",
              " Text(0.985981308411215, 0.5769230769230769, 'gini = 0.0\\nsamples = 63\\nvalue = [63, 0, 0]')]"
            ]
          },
          "metadata": {},
          "execution_count": 115
        },
        {
          "output_type": "display_data",
          "data": {
            "text/plain": [
              "<Figure size 432x288 with 1 Axes>"
            ],
            "image/png": "[encoded data removed]"
          },
          "metadata": {
            "needs_background": "light"
          }
        }
      ]
    },
    {
      "cell_type": "code",
      "source": [
        "!pip install graphviz"
      ],
      "metadata": {
        "colab": {
          "base_uri": "https://localhost:8080/"
        },
        "id": "5-9sMZ5L9k5z",
        "outputId": "521be57e-9ebe-4ac2-e2b4-2e65d52e2120"
      },
      "execution_count": null,
      "outputs": [
        {
          "output_type": "stream",
          "name": "stdout",
          "text": [
            "Looking in indexes: https://pypi.org/simple, https://us-python.pkg.dev/colab-wheels/public/simple/\n",
            "Requirement already satisfied: graphviz in /usr/local/lib/python3.7/dist-packages (0.10.1)\n"
          ]
        }
      ]
    },
    {
      "cell_type": "code",
      "source": [
        "X_train.columns\n",
        "clf.classes_"
      ],
      "metadata": {
        "colab": {
          "base_uri": "https://localhost:8080/"
        },
        "id": "s9fX2o6Q-fdH",
        "outputId": "23b9f5f8-0351-4b45-cb04-4634408c00d6"
      },
      "execution_count": null,
      "outputs": [
        {
          "output_type": "execute_result",
          "data": {
            "text/plain": [
              "array([1., 2., 3.])"
            ]
          },
          "metadata": {},
          "execution_count": 63
        }
      ]
    },
    {
      "cell_type": "code",
      "source": [
        "import graphviz\n",
        "dot_data = tree.export_graphviz(clf, out_file=None, \n",
        "                    feature_names= X_train.columns,\n",
        "                    class_names= ['1','2','3'],  \n",
        "                    filled=True, rounded=True,  \n",
        "                    special_characters=True)  \n",
        "graph = graphviz.Source(dot_data)  \n",
        "graph "
      ],
      "metadata": {
        "colab": {
          "base_uri": "https://localhost:8080/",
          "height": 1000
        },
        "id": "oITFlVdM9xc5",
        "outputId": "5ab3fe92-4641-41f1-9d4d-fdb241943bec"
      },
      "execution_count": null,
      "outputs": [
        {
          "output_type": "execute_result",
          "data": {
            "text/plain": [
              "<graphviz.files.Source at 0x7faf97eb9a10>"
            ],
            "image/svg+xml": "<?xml version=\"1.0\" encoding=\"UTF-8\" standalone=\"no\"?>\n<!DOCTYPE svg PUBLIC \"-//W3C//DTD SVG 1.1//EN\"\n \"http://www.w3.org/Graphics/SVG/1.1/DTD/svg11.dtd\">\n<!-- Generated by graphviz version 2.40.1 (20161225.0304)\n -->\n<!-- Title: Tree Pages: 1 -->\n<svg width=\"7088pt\" height=\"1504pt\"\n viewBox=\"0.00 0.00 7088.00 1504.00\" xmlns=\"http://www.w3.org/2000/svg\" xmlns:xlink=\"http://www.w3.org/1999/xlink\">\n<g id=\"graph0\" class=\"graph\" transform=\"scale(1 1) rotate(0) translate(4 1500)\">\n<title>Tree</title>\n<polygon fill=\"#ffffff\" stroke=\"transparent\" points=\"-4,4 -4,-1500 7084,-1500 7084,4 -4,4\"/>\n<!-- 0 -->\n<g id=\"node1\" class=\"node\">\n<title>0</title>\n<path fill=\"#eca36e\" stroke=\"#000000\" d=\"M3080.5,-1496C3080.5,-1496 2798.5,-1496 2798.5,-1496 2792.5,-1496 2786.5,-1490 2786.5,-1484 2786.5,-1484 2786.5,-1425 2786.5,-1425 2786.5,-1419 2792.5,-1413 2798.5,-1413 2798.5,-1413 3080.5,-1413 3080.5,-1413 3086.5,-1413 3092.5,-1419 3092.5,-1425 3092.5,-1425 3092.5,-1484 3092.5,-1484 3092.5,-1490 3086.5,-1496 3080.5,-1496\"/>\n<text text-anchor=\"start\" x=\"2794.5\" y=\"-1480.8\" font-family=\"Helvetica,sans-Serif\" font-size=\"14.00\" fill=\"#000000\">mean_value_of_short_term_variability ≤ 0.55</text>\n<text text-anchor=\"start\" x=\"2901.5\" y=\"-1465.8\" font-family=\"Helvetica,sans-Serif\" font-size=\"14.00\" fill=\"#000000\">gini = 0.377</text>\n<text text-anchor=\"start\" x=\"2887.5\" y=\"-1450.8\" font-family=\"Helvetica,sans-Serif\" font-size=\"14.00\" fill=\"#000000\">samples = 1424</text>\n<text text-anchor=\"start\" x=\"2861\" y=\"-1435.8\" font-family=\"Helvetica,sans-Serif\" font-size=\"14.00\" fill=\"#000000\">value = [1098, 212, 114]</text>\n<text text-anchor=\"start\" x=\"2910.5\" y=\"-1420.8\" font-family=\"Helvetica,sans-Serif\" font-size=\"14.00\" fill=\"#000000\">class = 1</text>\n</g>\n<!-- 1 -->\n<g id=\"node2\" class=\"node\">\n<title>1</title>\n<path fill=\"#b4f5cf\" stroke=\"#000000\" d=\"M2971,-1377C2971,-1377 2562,-1377 2562,-1377 2556,-1377 2550,-1371 2550,-1365 2550,-1365 2550,-1306 2550,-1306 2550,-1300 2556,-1294 2562,-1294 2562,-1294 2971,-1294 2971,-1294 2977,-1294 2983,-1300 2983,-1306 2983,-1306 2983,-1365 2983,-1365 2983,-1371 2977,-1377 2971,-1377\"/>\n<text text-anchor=\"start\" x=\"2558\" y=\"-1361.8\" font-family=\"Helvetica,sans-Serif\" font-size=\"14.00\" fill=\"#000000\">percentage_of_time_with_abnormal_long_term_variability ≤ 68.5</text>\n<text text-anchor=\"start\" x=\"2728.5\" y=\"-1346.8\" font-family=\"Helvetica,sans-Serif\" font-size=\"14.00\" fill=\"#000000\">gini = 0.597</text>\n<text text-anchor=\"start\" x=\"2718.5\" y=\"-1331.8\" font-family=\"Helvetica,sans-Serif\" font-size=\"14.00\" fill=\"#000000\">samples = 270</text>\n<text text-anchor=\"start\" x=\"2700.5\" y=\"-1316.8\" font-family=\"Helvetica,sans-Serif\" font-size=\"14.00\" fill=\"#000000\">value = [72, 147, 51]</text>\n<text text-anchor=\"start\" x=\"2737.5\" y=\"-1301.8\" font-family=\"Helvetica,sans-Serif\" font-size=\"14.00\" fill=\"#000000\">class = 2</text>\n</g>\n<!-- 0&#45;&gt;1 -->\n<g id=\"edge1\" class=\"edge\">\n<title>0&#45;&gt;1</title>\n<path fill=\"none\" stroke=\"#000000\" d=\"M2878.993,-1412.8796C2864.9018,-1403.1868 2849.7961,-1392.7961 2835.3731,-1382.8752\"/>\n<polygon fill=\"#000000\" stroke=\"#000000\" points=\"2837.1955,-1379.8806 2826.9728,-1377.0969 2833.2283,-1385.6479 2837.1955,-1379.8806\"/>\n<text text-anchor=\"middle\" x=\"2831.519\" y=\"-1397.9801\" font-family=\"Helvetica,sans-Serif\" font-size=\"14.00\" fill=\"#000000\">True</text>\n</g>\n<!-- 76 -->\n<g id=\"node77\" class=\"node\">\n<title>76</title>\n<path fill=\"#e89050\" stroke=\"#000000\" d=\"M3488,-1377C3488,-1377 3335,-1377 3335,-1377 3329,-1377 3323,-1371 3323,-1365 3323,-1365 3323,-1306 3323,-1306 3323,-1300 3329,-1294 3335,-1294 3335,-1294 3488,-1294 3488,-1294 3494,-1294 3500,-1300 3500,-1306 3500,-1306 3500,-1365 3500,-1365 3500,-1371 3494,-1377 3488,-1377\"/>\n<text text-anchor=\"start\" x=\"3331\" y=\"-1361.8\" font-family=\"Helvetica,sans-Serif\" font-size=\"14.00\" fill=\"#000000\">histogram_mean ≤ 107.5</text>\n<text text-anchor=\"start\" x=\"3373.5\" y=\"-1346.8\" font-family=\"Helvetica,sans-Serif\" font-size=\"14.00\" fill=\"#000000\">gini = 0.203</text>\n<text text-anchor=\"start\" x=\"3359.5\" y=\"-1331.8\" font-family=\"Helvetica,sans-Serif\" font-size=\"14.00\" fill=\"#000000\">samples = 1154</text>\n<text text-anchor=\"start\" x=\"3341.5\" y=\"-1316.8\" font-family=\"Helvetica,sans-Serif\" font-size=\"14.00\" fill=\"#000000\">value = [1026, 65, 63]</text>\n<text text-anchor=\"start\" x=\"3382.5\" y=\"-1301.8\" font-family=\"Helvetica,sans-Serif\" font-size=\"14.00\" fill=\"#000000\">class = 1</text>\n</g>\n<!-- 0&#45;&gt;76 -->\n<g id=\"edge76\" class=\"edge\">\n<title>0&#45;&gt;76</title>\n<path fill=\"none\" stroke=\"#000000\" d=\"M3092.7449,-1415.8641C3165.0548,-1397.6334 3249.2327,-1376.4106 3312.9201,-1360.3538\"/>\n<polygon fill=\"#000000\" stroke=\"#000000\" points=\"3314.1197,-1363.661 3322.9606,-1357.8224 3312.4084,-1356.8734 3314.1197,-1363.661\"/>\n<text text-anchor=\"middle\" x=\"3310.141\" y=\"-1375.5853\" font-family=\"Helvetica,sans-Serif\" font-size=\"14.00\" fill=\"#000000\">False</text>\n</g>\n<!-- 2 -->\n<g id=\"node3\" class=\"node\">\n<title>2</title>\n<path fill=\"#a4f3c5\" stroke=\"#000000\" d=\"M2409.5,-1258C2409.5,-1258 2167.5,-1258 2167.5,-1258 2161.5,-1258 2155.5,-1252 2155.5,-1246 2155.5,-1246 2155.5,-1187 2155.5,-1187 2155.5,-1181 2161.5,-1175 2167.5,-1175 2167.5,-1175 2409.5,-1175 2409.5,-1175 2415.5,-1175 2421.5,-1181 2421.5,-1187 2421.5,-1187 2421.5,-1246 2421.5,-1246 2421.5,-1252 2415.5,-1258 2409.5,-1258\"/>\n<text text-anchor=\"start\" x=\"2163.5\" y=\"-1242.8\" font-family=\"Helvetica,sans-Serif\" font-size=\"14.00\" fill=\"#000000\">abnormal_short_term_variability ≤ 58.5</text>\n<text text-anchor=\"start\" x=\"2250.5\" y=\"-1227.8\" font-family=\"Helvetica,sans-Serif\" font-size=\"14.00\" fill=\"#000000\">gini = 0.521</text>\n<text text-anchor=\"start\" x=\"2240.5\" y=\"-1212.8\" font-family=\"Helvetica,sans-Serif\" font-size=\"14.00\" fill=\"#000000\">samples = 237</text>\n<text text-anchor=\"start\" x=\"2222.5\" y=\"-1197.8\" font-family=\"Helvetica,sans-Serif\" font-size=\"14.00\" fill=\"#000000\">value = [70, 147, 20]</text>\n<text text-anchor=\"start\" x=\"2259.5\" y=\"-1182.8\" font-family=\"Helvetica,sans-Serif\" font-size=\"14.00\" fill=\"#000000\">class = 2</text>\n</g>\n<!-- 1&#45;&gt;2 -->\n<g id=\"edge2\" class=\"edge\">\n<title>1&#45;&gt;2</title>\n<path fill=\"none\" stroke=\"#000000\" d=\"M2599.6544,-1293.9631C2544.7614,-1280.2973 2484.2648,-1265.2364 2431.3244,-1252.0567\"/>\n<polygon fill=\"#000000\" stroke=\"#000000\" points=\"2432.0796,-1248.638 2421.5303,-1249.6184 2430.3885,-1255.4306 2432.0796,-1248.638\"/>\n</g>\n<!-- 73 -->\n<g id=\"node74\" class=\"node\">\n<title>73</title>\n<path fill=\"#8946e7\" stroke=\"#000000\" d=\"M2907.5,-1258C2907.5,-1258 2625.5,-1258 2625.5,-1258 2619.5,-1258 2613.5,-1252 2613.5,-1246 2613.5,-1246 2613.5,-1187 2613.5,-1187 2613.5,-1181 2619.5,-1175 2625.5,-1175 2625.5,-1175 2907.5,-1175 2907.5,-1175 2913.5,-1175 2919.5,-1181 2919.5,-1187 2919.5,-1187 2919.5,-1246 2919.5,-1246 2919.5,-1252 2913.5,-1258 2907.5,-1258\"/>\n<text text-anchor=\"start\" x=\"2621.5\" y=\"-1242.8\" font-family=\"Helvetica,sans-Serif\" font-size=\"14.00\" fill=\"#000000\">mean_value_of_short_term_variability ≤ 0.45</text>\n<text text-anchor=\"start\" x=\"2728.5\" y=\"-1227.8\" font-family=\"Helvetica,sans-Serif\" font-size=\"14.00\" fill=\"#000000\">gini = 0.114</text>\n<text text-anchor=\"start\" x=\"2722.5\" y=\"-1212.8\" font-family=\"Helvetica,sans-Serif\" font-size=\"14.00\" fill=\"#000000\">samples = 33</text>\n<text text-anchor=\"start\" x=\"2713\" y=\"-1197.8\" font-family=\"Helvetica,sans-Serif\" font-size=\"14.00\" fill=\"#000000\">value = [2, 0, 31]</text>\n<text text-anchor=\"start\" x=\"2737.5\" y=\"-1182.8\" font-family=\"Helvetica,sans-Serif\" font-size=\"14.00\" fill=\"#000000\">class = 3</text>\n</g>\n<!-- 1&#45;&gt;73 -->\n<g id=\"edge73\" class=\"edge\">\n<title>1&#45;&gt;73</title>\n<path fill=\"none\" stroke=\"#000000\" d=\"M2766.5,-1293.8796C2766.5,-1285.6838 2766.5,-1276.9891 2766.5,-1268.5013\"/>\n<polygon fill=\"#000000\" stroke=\"#000000\" points=\"2770.0001,-1268.298 2766.5,-1258.2981 2763.0001,-1268.2981 2770.0001,-1268.298\"/>\n</g>\n<!-- 3 -->\n<g id=\"node4\" class=\"node\">\n<title>3</title>\n<path fill=\"#ea9b62\" stroke=\"#000000\" d=\"M1566,-1139C1566,-1139 1157,-1139 1157,-1139 1151,-1139 1145,-1133 1145,-1127 1145,-1127 1145,-1068 1145,-1068 1145,-1062 1151,-1056 1157,-1056 1157,-1056 1566,-1056 1566,-1056 1572,-1056 1578,-1062 1578,-1068 1578,-1068 1578,-1127 1578,-1127 1578,-1133 1572,-1139 1566,-1139\"/>\n<text text-anchor=\"start\" x=\"1153\" y=\"-1123.8\" font-family=\"Helvetica,sans-Serif\" font-size=\"14.00\" fill=\"#000000\">percentage_of_time_with_abnormal_long_term_variability ≤ 61.0</text>\n<text text-anchor=\"start\" x=\"1323.5\" y=\"-1108.8\" font-family=\"Helvetica,sans-Serif\" font-size=\"14.00\" fill=\"#000000\">gini = 0.283</text>\n<text text-anchor=\"start\" x=\"1317.5\" y=\"-1093.8\" font-family=\"Helvetica,sans-Serif\" font-size=\"14.00\" fill=\"#000000\">samples = 41</text>\n<text text-anchor=\"start\" x=\"1308\" y=\"-1078.8\" font-family=\"Helvetica,sans-Serif\" font-size=\"14.00\" fill=\"#000000\">value = [34, 7, 0]</text>\n<text text-anchor=\"start\" x=\"1332.5\" y=\"-1063.8\" font-family=\"Helvetica,sans-Serif\" font-size=\"14.00\" fill=\"#000000\">class = 1</text>\n</g>\n<!-- 2&#45;&gt;3 -->\n<g id=\"edge3\" class=\"edge\">\n<title>2&#45;&gt;3</title>\n<path fill=\"none\" stroke=\"#000000\" d=\"M2155.1902,-1199.3869C2007.3057,-1180.4028 1766.1453,-1149.4448 1588.407,-1126.6283\"/>\n<polygon fill=\"#000000\" stroke=\"#000000\" points=\"1588.7596,-1123.1449 1578.3954,-1125.3431 1587.8683,-1130.088 1588.7596,-1123.1449\"/>\n</g>\n<!-- 18 -->\n<g id=\"node19\" class=\"node\">\n<title>18</title>\n<path fill=\"#7eeead\" stroke=\"#000000\" d=\"M2409.5,-1139C2409.5,-1139 2167.5,-1139 2167.5,-1139 2161.5,-1139 2155.5,-1133 2155.5,-1127 2155.5,-1127 2155.5,-1068 2155.5,-1068 2155.5,-1062 2161.5,-1056 2167.5,-1056 2167.5,-1056 2409.5,-1056 2409.5,-1056 2415.5,-1056 2421.5,-1062 2421.5,-1068 2421.5,-1068 2421.5,-1127 2421.5,-1127 2421.5,-1133 2415.5,-1139 2409.5,-1139\"/>\n<text text-anchor=\"start\" x=\"2163.5\" y=\"-1123.8\" font-family=\"Helvetica,sans-Serif\" font-size=\"14.00\" fill=\"#000000\">abnormal_short_term_variability ≤ 79.5</text>\n<text text-anchor=\"start\" x=\"2250.5\" y=\"-1108.8\" font-family=\"Helvetica,sans-Serif\" font-size=\"14.00\" fill=\"#000000\">gini = 0.446</text>\n<text text-anchor=\"start\" x=\"2240.5\" y=\"-1093.8\" font-family=\"Helvetica,sans-Serif\" font-size=\"14.00\" fill=\"#000000\">samples = 196</text>\n<text text-anchor=\"start\" x=\"2222.5\" y=\"-1078.8\" font-family=\"Helvetica,sans-Serif\" font-size=\"14.00\" fill=\"#000000\">value = [36, 140, 20]</text>\n<text text-anchor=\"start\" x=\"2259.5\" y=\"-1063.8\" font-family=\"Helvetica,sans-Serif\" font-size=\"14.00\" fill=\"#000000\">class = 2</text>\n</g>\n<!-- 2&#45;&gt;18 -->\n<g id=\"edge18\" class=\"edge\">\n<title>2&#45;&gt;18</title>\n<path fill=\"none\" stroke=\"#000000\" d=\"M2288.5,-1174.8796C2288.5,-1166.6838 2288.5,-1157.9891 2288.5,-1149.5013\"/>\n<polygon fill=\"#000000\" stroke=\"#000000\" points=\"2292.0001,-1149.298 2288.5,-1139.2981 2285.0001,-1149.2981 2292.0001,-1149.298\"/>\n</g>\n<!-- 4 -->\n<g id=\"node5\" class=\"node\">\n<title>4</title>\n<path fill=\"#e99456\" stroke=\"#000000\" d=\"M1120,-1020C1120,-1020 967,-1020 967,-1020 961,-1020 955,-1014 955,-1008 955,-1008 955,-949 955,-949 955,-943 961,-937 967,-937 967,-937 1120,-937 1120,-937 1126,-937 1132,-943 1132,-949 1132,-949 1132,-1008 1132,-1008 1132,-1014 1126,-1020 1120,-1020\"/>\n<text text-anchor=\"start\" x=\"963\" y=\"-1004.8\" font-family=\"Helvetica,sans-Serif\" font-size=\"14.00\" fill=\"#000000\">histogram_mean ≤ 167.0</text>\n<text text-anchor=\"start\" x=\"1005.5\" y=\"-989.8\" font-family=\"Helvetica,sans-Serif\" font-size=\"14.00\" fill=\"#000000\">gini = 0.224</text>\n<text text-anchor=\"start\" x=\"999.5\" y=\"-974.8\" font-family=\"Helvetica,sans-Serif\" font-size=\"14.00\" fill=\"#000000\">samples = 39</text>\n<text text-anchor=\"start\" x=\"990\" y=\"-959.8\" font-family=\"Helvetica,sans-Serif\" font-size=\"14.00\" fill=\"#000000\">value = [34, 5, 0]</text>\n<text text-anchor=\"start\" x=\"1014.5\" y=\"-944.8\" font-family=\"Helvetica,sans-Serif\" font-size=\"14.00\" fill=\"#000000\">class = 1</text>\n</g>\n<!-- 3&#45;&gt;4 -->\n<g id=\"edge4\" class=\"edge\">\n<title>3&#45;&gt;4</title>\n<path fill=\"none\" stroke=\"#000000\" d=\"M1250.279,-1055.8796C1214.9169,-1042.6466 1176.0788,-1028.1128 1141.704,-1015.2493\"/>\n<polygon fill=\"#000000\" stroke=\"#000000\" points=\"1142.726,-1011.8947 1132.1336,-1011.6679 1140.2726,-1018.4507 1142.726,-1011.8947\"/>\n</g>\n<!-- 17 -->\n<g id=\"node18\" class=\"node\">\n<title>17</title>\n<path fill=\"#39e581\" stroke=\"#000000\" d=\"M1407,-1012.5C1407,-1012.5 1316,-1012.5 1316,-1012.5 1310,-1012.5 1304,-1006.5 1304,-1000.5 1304,-1000.5 1304,-956.5 1304,-956.5 1304,-950.5 1310,-944.5 1316,-944.5 1316,-944.5 1407,-944.5 1407,-944.5 1413,-944.5 1419,-950.5 1419,-956.5 1419,-956.5 1419,-1000.5 1419,-1000.5 1419,-1006.5 1413,-1012.5 1407,-1012.5\"/>\n<text text-anchor=\"start\" x=\"1332\" y=\"-997.3\" font-family=\"Helvetica,sans-Serif\" font-size=\"14.00\" fill=\"#000000\">gini = 0.0</text>\n<text text-anchor=\"start\" x=\"1322\" y=\"-982.3\" font-family=\"Helvetica,sans-Serif\" font-size=\"14.00\" fill=\"#000000\">samples = 2</text>\n<text text-anchor=\"start\" x=\"1312\" y=\"-967.3\" font-family=\"Helvetica,sans-Serif\" font-size=\"14.00\" fill=\"#000000\">value = [0, 2, 0]</text>\n<text text-anchor=\"start\" x=\"1332.5\" y=\"-952.3\" font-family=\"Helvetica,sans-Serif\" font-size=\"14.00\" fill=\"#000000\">class = 2</text>\n</g>\n<!-- 3&#45;&gt;17 -->\n<g id=\"edge17\" class=\"edge\">\n<title>3&#45;&gt;17</title>\n<path fill=\"none\" stroke=\"#000000\" d=\"M1361.5,-1055.8796C1361.5,-1045.2134 1361.5,-1033.7021 1361.5,-1022.9015\"/>\n<polygon fill=\"#000000\" stroke=\"#000000\" points=\"1365.0001,-1022.8149 1361.5,-1012.8149 1358.0001,-1022.815 1365.0001,-1022.8149\"/>\n</g>\n<!-- 5 -->\n<g id=\"node6\" class=\"node\">\n<title>5</title>\n<path fill=\"#e89050\" stroke=\"#000000\" d=\"M795.5,-901C795.5,-901 655.5,-901 655.5,-901 649.5,-901 643.5,-895 643.5,-889 643.5,-889 643.5,-830 643.5,-830 643.5,-824 649.5,-818 655.5,-818 655.5,-818 795.5,-818 795.5,-818 801.5,-818 807.5,-824 807.5,-830 807.5,-830 807.5,-889 807.5,-889 807.5,-895 801.5,-901 795.5,-901\"/>\n<text text-anchor=\"start\" x=\"651.5\" y=\"-885.8\" font-family=\"Helvetica,sans-Serif\" font-size=\"14.00\" fill=\"#000000\">histogram_min ≤ 135.5</text>\n<text text-anchor=\"start\" x=\"687.5\" y=\"-870.8\" font-family=\"Helvetica,sans-Serif\" font-size=\"14.00\" fill=\"#000000\">gini = 0.188</text>\n<text text-anchor=\"start\" x=\"681.5\" y=\"-855.8\" font-family=\"Helvetica,sans-Serif\" font-size=\"14.00\" fill=\"#000000\">samples = 38</text>\n<text text-anchor=\"start\" x=\"672\" y=\"-840.8\" font-family=\"Helvetica,sans-Serif\" font-size=\"14.00\" fill=\"#000000\">value = [34, 4, 0]</text>\n<text text-anchor=\"start\" x=\"696.5\" y=\"-825.8\" font-family=\"Helvetica,sans-Serif\" font-size=\"14.00\" fill=\"#000000\">class = 1</text>\n</g>\n<!-- 4&#45;&gt;5 -->\n<g id=\"edge5\" class=\"edge\">\n<title>4&#45;&gt;5</title>\n<path fill=\"none\" stroke=\"#000000\" d=\"M954.9193,-945.3519C911.9446,-929.2702 860.3692,-909.9699 817.0136,-893.7456\"/>\n<polygon fill=\"#000000\" stroke=\"#000000\" points=\"818.2017,-890.4533 807.6093,-890.2264 815.7483,-897.0093 818.2017,-890.4533\"/>\n</g>\n<!-- 16 -->\n<g id=\"node17\" class=\"node\">\n<title>16</title>\n<path fill=\"#39e581\" stroke=\"#000000\" d=\"M1089,-893.5C1089,-893.5 998,-893.5 998,-893.5 992,-893.5 986,-887.5 986,-881.5 986,-881.5 986,-837.5 986,-837.5 986,-831.5 992,-825.5 998,-825.5 998,-825.5 1089,-825.5 1089,-825.5 1095,-825.5 1101,-831.5 1101,-837.5 1101,-837.5 1101,-881.5 1101,-881.5 1101,-887.5 1095,-893.5 1089,-893.5\"/>\n<text text-anchor=\"start\" x=\"1014\" y=\"-878.3\" font-family=\"Helvetica,sans-Serif\" font-size=\"14.00\" fill=\"#000000\">gini = 0.0</text>\n<text text-anchor=\"start\" x=\"1004\" y=\"-863.3\" font-family=\"Helvetica,sans-Serif\" font-size=\"14.00\" fill=\"#000000\">samples = 1</text>\n<text text-anchor=\"start\" x=\"994\" y=\"-848.3\" font-family=\"Helvetica,sans-Serif\" font-size=\"14.00\" fill=\"#000000\">value = [0, 1, 0]</text>\n<text text-anchor=\"start\" x=\"1014.5\" y=\"-833.3\" font-family=\"Helvetica,sans-Serif\" font-size=\"14.00\" fill=\"#000000\">class = 2</text>\n</g>\n<!-- 4&#45;&gt;16 -->\n<g id=\"edge16\" class=\"edge\">\n<title>4&#45;&gt;16</title>\n<path fill=\"none\" stroke=\"#000000\" d=\"M1043.5,-936.8796C1043.5,-926.2134 1043.5,-914.7021 1043.5,-903.9015\"/>\n<polygon fill=\"#000000\" stroke=\"#000000\" points=\"1047.0001,-903.8149 1043.5,-893.8149 1040.0001,-903.815 1047.0001,-903.8149\"/>\n</g>\n<!-- 6 -->\n<g id=\"node7\" class=\"node\">\n<title>6</title>\n<path fill=\"#e68641\" stroke=\"#000000\" d=\"M435,-782C435,-782 280,-782 280,-782 274,-782 268,-776 268,-770 268,-770 268,-711 268,-711 268,-705 274,-699 280,-699 280,-699 435,-699 435,-699 441,-699 447,-705 447,-711 447,-711 447,-770 447,-770 447,-776 441,-782 435,-782\"/>\n<text text-anchor=\"start\" x=\"276\" y=\"-766.8\" font-family=\"Helvetica,sans-Serif\" font-size=\"14.00\" fill=\"#000000\">histogram_variance ≤ 6.5</text>\n<text text-anchor=\"start\" x=\"319.5\" y=\"-751.8\" font-family=\"Helvetica,sans-Serif\" font-size=\"14.00\" fill=\"#000000\">gini = 0.071</text>\n<text text-anchor=\"start\" x=\"313.5\" y=\"-736.8\" font-family=\"Helvetica,sans-Serif\" font-size=\"14.00\" fill=\"#000000\">samples = 27</text>\n<text text-anchor=\"start\" x=\"304\" y=\"-721.8\" font-family=\"Helvetica,sans-Serif\" font-size=\"14.00\" fill=\"#000000\">value = [26, 1, 0]</text>\n<text text-anchor=\"start\" x=\"328.5\" y=\"-706.8\" font-family=\"Helvetica,sans-Serif\" font-size=\"14.00\" fill=\"#000000\">class = 1</text>\n</g>\n<!-- 5&#45;&gt;6 -->\n<g id=\"edge6\" class=\"edge\">\n<title>5&#45;&gt;6</title>\n<path fill=\"none\" stroke=\"#000000\" d=\"M643.3717,-832.9422C588.1898,-815.0981 515.158,-791.4818 456.7243,-772.5861\"/>\n<polygon fill=\"#000000\" stroke=\"#000000\" points=\"457.6984,-769.2227 447.1065,-769.476 455.5445,-775.8831 457.6984,-769.2227\"/>\n</g>\n<!-- 11 -->\n<g id=\"node12\" class=\"node\">\n<title>11</title>\n<path fill=\"#efb083\" stroke=\"#000000\" d=\"M796.5,-782C796.5,-782 654.5,-782 654.5,-782 648.5,-782 642.5,-776 642.5,-770 642.5,-770 642.5,-711 642.5,-711 642.5,-705 648.5,-699 654.5,-699 654.5,-699 796.5,-699 796.5,-699 802.5,-699 808.5,-705 808.5,-711 808.5,-711 808.5,-770 808.5,-770 808.5,-776 802.5,-782 796.5,-782\"/>\n<text text-anchor=\"start\" x=\"650.5\" y=\"-766.8\" font-family=\"Helvetica,sans-Serif\" font-size=\"14.00\" fill=\"#000000\">histogram_width ≤ 17.5</text>\n<text text-anchor=\"start\" x=\"687.5\" y=\"-751.8\" font-family=\"Helvetica,sans-Serif\" font-size=\"14.00\" fill=\"#000000\">gini = 0.397</text>\n<text text-anchor=\"start\" x=\"681.5\" y=\"-736.8\" font-family=\"Helvetica,sans-Serif\" font-size=\"14.00\" fill=\"#000000\">samples = 11</text>\n<text text-anchor=\"start\" x=\"676\" y=\"-721.8\" font-family=\"Helvetica,sans-Serif\" font-size=\"14.00\" fill=\"#000000\">value = [8, 3, 0]</text>\n<text text-anchor=\"start\" x=\"696.5\" y=\"-706.8\" font-family=\"Helvetica,sans-Serif\" font-size=\"14.00\" fill=\"#000000\">class = 1</text>\n</g>\n<!-- 5&#45;&gt;11 -->\n<g id=\"edge11\" class=\"edge\">\n<title>5&#45;&gt;11</title>\n<path fill=\"none\" stroke=\"#000000\" d=\"M725.5,-817.8796C725.5,-809.6838 725.5,-800.9891 725.5,-792.5013\"/>\n<polygon fill=\"#000000\" stroke=\"#000000\" points=\"729.0001,-792.298 725.5,-782.2981 722.0001,-792.2981 729.0001,-792.298\"/>\n</g>\n<!-- 7 -->\n<g id=\"node8\" class=\"node\">\n<title>7</title>\n<path fill=\"#e58139\" stroke=\"#000000\" d=\"M111,-655.5C111,-655.5 12,-655.5 12,-655.5 6,-655.5 0,-649.5 0,-643.5 0,-643.5 0,-599.5 0,-599.5 0,-593.5 6,-587.5 12,-587.5 12,-587.5 111,-587.5 111,-587.5 117,-587.5 123,-593.5 123,-599.5 123,-599.5 123,-643.5 123,-643.5 123,-649.5 117,-655.5 111,-655.5\"/>\n<text text-anchor=\"start\" x=\"32\" y=\"-640.3\" font-family=\"Helvetica,sans-Serif\" font-size=\"14.00\" fill=\"#000000\">gini = 0.0</text>\n<text text-anchor=\"start\" x=\"17.5\" y=\"-625.3\" font-family=\"Helvetica,sans-Serif\" font-size=\"14.00\" fill=\"#000000\">samples = 25</text>\n<text text-anchor=\"start\" x=\"8\" y=\"-610.3\" font-family=\"Helvetica,sans-Serif\" font-size=\"14.00\" fill=\"#000000\">value = [25, 0, 0]</text>\n<text text-anchor=\"start\" x=\"32.5\" y=\"-595.3\" font-family=\"Helvetica,sans-Serif\" font-size=\"14.00\" fill=\"#000000\">class = 1</text>\n</g>\n<!-- 6&#45;&gt;7 -->\n<g id=\"edge7\" class=\"edge\">\n<title>6&#45;&gt;7</title>\n<path fill=\"none\" stroke=\"#000000\" d=\"M267.8464,-714.4211C225.6779,-700.9825 175.1801,-683.1783 131.5,-663 129.6724,-662.1557 127.8313,-661.2768 125.9839,-660.3698\"/>\n<polygon fill=\"#000000\" stroke=\"#000000\" points=\"127.2243,-657.0728 116.7281,-655.6303 124.0338,-663.3035 127.2243,-657.0728\"/>\n</g>\n<!-- 8 -->\n<g id=\"node9\" class=\"node\">\n<title>8</title>\n<path fill=\"#ffffff\" stroke=\"#000000\" d=\"M562,-663C562,-663 153,-663 153,-663 147,-663 141,-657 141,-651 141,-651 141,-592 141,-592 141,-586 147,-580 153,-580 153,-580 562,-580 562,-580 568,-580 574,-586 574,-592 574,-592 574,-651 574,-651 574,-657 568,-663 562,-663\"/>\n<text text-anchor=\"start\" x=\"149\" y=\"-647.8\" font-family=\"Helvetica,sans-Serif\" font-size=\"14.00\" fill=\"#000000\">percentage_of_time_with_abnormal_long_term_variability ≤ 12.5</text>\n<text text-anchor=\"start\" x=\"328\" y=\"-632.8\" font-family=\"Helvetica,sans-Serif\" font-size=\"14.00\" fill=\"#000000\">gini = 0.5</text>\n<text text-anchor=\"start\" x=\"318\" y=\"-617.8\" font-family=\"Helvetica,sans-Serif\" font-size=\"14.00\" fill=\"#000000\">samples = 2</text>\n<text text-anchor=\"start\" x=\"308\" y=\"-602.8\" font-family=\"Helvetica,sans-Serif\" font-size=\"14.00\" fill=\"#000000\">value = [1, 1, 0]</text>\n<text text-anchor=\"start\" x=\"328.5\" y=\"-587.8\" font-family=\"Helvetica,sans-Serif\" font-size=\"14.00\" fill=\"#000000\">class = 1</text>\n</g>\n<!-- 6&#45;&gt;8 -->\n<g id=\"edge8\" class=\"edge\">\n<title>6&#45;&gt;8</title>\n<path fill=\"none\" stroke=\"#000000\" d=\"M357.5,-698.8796C357.5,-690.6838 357.5,-681.9891 357.5,-673.5013\"/>\n<polygon fill=\"#000000\" stroke=\"#000000\" points=\"361.0001,-673.298 357.5,-663.2981 354.0001,-673.2981 361.0001,-673.298\"/>\n</g>\n<!-- 9 -->\n<g id=\"node10\" class=\"node\">\n<title>9</title>\n<path fill=\"#e58139\" stroke=\"#000000\" d=\"M337,-536.5C337,-536.5 246,-536.5 246,-536.5 240,-536.5 234,-530.5 234,-524.5 234,-524.5 234,-480.5 234,-480.5 234,-474.5 240,-468.5 246,-468.5 246,-468.5 337,-468.5 337,-468.5 343,-468.5 349,-474.5 349,-480.5 349,-480.5 349,-524.5 349,-524.5 349,-530.5 343,-536.5 337,-536.5\"/>\n<text text-anchor=\"start\" x=\"262\" y=\"-521.3\" font-family=\"Helvetica,sans-Serif\" font-size=\"14.00\" fill=\"#000000\">gini = 0.0</text>\n<text text-anchor=\"start\" x=\"252\" y=\"-506.3\" font-family=\"Helvetica,sans-Serif\" font-size=\"14.00\" fill=\"#000000\">samples = 1</text>\n<text text-anchor=\"start\" x=\"242\" y=\"-491.3\" font-family=\"Helvetica,sans-Serif\" font-size=\"14.00\" fill=\"#000000\">value = [1, 0, 0]</text>\n<text text-anchor=\"start\" x=\"262.5\" y=\"-476.3\" font-family=\"Helvetica,sans-Serif\" font-size=\"14.00\" fill=\"#000000\">class = 1</text>\n</g>\n<!-- 8&#45;&gt;9 -->\n<g id=\"edge9\" class=\"edge\">\n<title>8&#45;&gt;9</title>\n<path fill=\"none\" stroke=\"#000000\" d=\"M334.4164,-579.8796C328.2567,-568.7735 321.5889,-556.7513 315.3871,-545.5691\"/>\n<polygon fill=\"#000000\" stroke=\"#000000\" points=\"318.4428,-543.8624 310.5318,-536.8149 312.3213,-547.2576 318.4428,-543.8624\"/>\n</g>\n<!-- 10 -->\n<g id=\"node11\" class=\"node\">\n<title>10</title>\n<path fill=\"#39e581\" stroke=\"#000000\" d=\"M470,-536.5C470,-536.5 379,-536.5 379,-536.5 373,-536.5 367,-530.5 367,-524.5 367,-524.5 367,-480.5 367,-480.5 367,-474.5 373,-468.5 379,-468.5 379,-468.5 470,-468.5 470,-468.5 476,-468.5 482,-474.5 482,-480.5 482,-480.5 482,-524.5 482,-524.5 482,-530.5 476,-536.5 470,-536.5\"/>\n<text text-anchor=\"start\" x=\"395\" y=\"-521.3\" font-family=\"Helvetica,sans-Serif\" font-size=\"14.00\" fill=\"#000000\">gini = 0.0</text>\n<text text-anchor=\"start\" x=\"385\" y=\"-506.3\" font-family=\"Helvetica,sans-Serif\" font-size=\"14.00\" fill=\"#000000\">samples = 1</text>\n<text text-anchor=\"start\" x=\"375\" y=\"-491.3\" font-family=\"Helvetica,sans-Serif\" font-size=\"14.00\" fill=\"#000000\">value = [0, 1, 0]</text>\n<text text-anchor=\"start\" x=\"395.5\" y=\"-476.3\" font-family=\"Helvetica,sans-Serif\" font-size=\"14.00\" fill=\"#000000\">class = 2</text>\n</g>\n<!-- 8&#45;&gt;10 -->\n<g id=\"edge10\" class=\"edge\">\n<title>8&#45;&gt;10</title>\n<path fill=\"none\" stroke=\"#000000\" d=\"M380.9333,-579.8796C387.1863,-568.7735 393.9552,-556.7513 400.251,-545.5691\"/>\n<polygon fill=\"#000000\" stroke=\"#000000\" points=\"403.3235,-547.2459 405.1798,-536.8149 397.2239,-543.8116 403.3235,-547.2459\"/>\n</g>\n<!-- 12 -->\n<g id=\"node13\" class=\"node\">\n<title>12</title>\n<path fill=\"#e58139\" stroke=\"#000000\" d=\"M695,-655.5C695,-655.5 604,-655.5 604,-655.5 598,-655.5 592,-649.5 592,-643.5 592,-643.5 592,-599.5 592,-599.5 592,-593.5 598,-587.5 604,-587.5 604,-587.5 695,-587.5 695,-587.5 701,-587.5 707,-593.5 707,-599.5 707,-599.5 707,-643.5 707,-643.5 707,-649.5 701,-655.5 695,-655.5\"/>\n<text text-anchor=\"start\" x=\"620\" y=\"-640.3\" font-family=\"Helvetica,sans-Serif\" font-size=\"14.00\" fill=\"#000000\">gini = 0.0</text>\n<text text-anchor=\"start\" x=\"610\" y=\"-625.3\" font-family=\"Helvetica,sans-Serif\" font-size=\"14.00\" fill=\"#000000\">samples = 7</text>\n<text text-anchor=\"start\" x=\"600\" y=\"-610.3\" font-family=\"Helvetica,sans-Serif\" font-size=\"14.00\" fill=\"#000000\">value = [7, 0, 0]</text>\n<text text-anchor=\"start\" x=\"620.5\" y=\"-595.3\" font-family=\"Helvetica,sans-Serif\" font-size=\"14.00\" fill=\"#000000\">class = 1</text>\n</g>\n<!-- 11&#45;&gt;12 -->\n<g id=\"edge12\" class=\"edge\">\n<title>11&#45;&gt;12</title>\n<path fill=\"none\" stroke=\"#000000\" d=\"M698.9189,-698.8796C691.826,-687.7735 684.1479,-675.7513 677.0063,-664.5691\"/>\n<polygon fill=\"#000000\" stroke=\"#000000\" points=\"679.7477,-662.3589 671.4154,-655.8149 673.8482,-666.1267 679.7477,-662.3589\"/>\n</g>\n<!-- 13 -->\n<g id=\"node14\" class=\"node\">\n<title>13</title>\n<path fill=\"#7beeab\" stroke=\"#000000\" d=\"M868,-663C868,-663 737,-663 737,-663 731,-663 725,-657 725,-651 725,-651 725,-592 725,-592 725,-586 731,-580 737,-580 737,-580 868,-580 868,-580 874,-580 880,-586 880,-592 880,-592 880,-651 880,-651 880,-657 874,-663 868,-663\"/>\n<text text-anchor=\"start\" x=\"733\" y=\"-647.8\" font-family=\"Helvetica,sans-Serif\" font-size=\"14.00\" fill=\"#000000\">accelerations ≤ 0.003</text>\n<text text-anchor=\"start\" x=\"764.5\" y=\"-632.8\" font-family=\"Helvetica,sans-Serif\" font-size=\"14.00\" fill=\"#000000\">gini = 0.375</text>\n<text text-anchor=\"start\" x=\"763\" y=\"-617.8\" font-family=\"Helvetica,sans-Serif\" font-size=\"14.00\" fill=\"#000000\">samples = 4</text>\n<text text-anchor=\"start\" x=\"753\" y=\"-602.8\" font-family=\"Helvetica,sans-Serif\" font-size=\"14.00\" fill=\"#000000\">value = [1, 3, 0]</text>\n<text text-anchor=\"start\" x=\"773.5\" y=\"-587.8\" font-family=\"Helvetica,sans-Serif\" font-size=\"14.00\" fill=\"#000000\">class = 2</text>\n</g>\n<!-- 11&#45;&gt;13 -->\n<g id=\"edge13\" class=\"edge\">\n<title>11&#45;&gt;13</title>\n<path fill=\"none\" stroke=\"#000000\" d=\"M752.4309,-698.8796C758.0837,-690.1434 764.1033,-680.8404 769.9366,-671.8253\"/>\n<polygon fill=\"#000000\" stroke=\"#000000\" points=\"772.9601,-673.5952 775.4542,-663.2981 767.0831,-669.7924 772.9601,-673.5952\"/>\n</g>\n<!-- 14 -->\n<g id=\"node15\" class=\"node\">\n<title>14</title>\n<path fill=\"#39e581\" stroke=\"#000000\" d=\"M736,-536.5C736,-536.5 645,-536.5 645,-536.5 639,-536.5 633,-530.5 633,-524.5 633,-524.5 633,-480.5 633,-480.5 633,-474.5 639,-468.5 645,-468.5 645,-468.5 736,-468.5 736,-468.5 742,-468.5 748,-474.5 748,-480.5 748,-480.5 748,-524.5 748,-524.5 748,-530.5 742,-536.5 736,-536.5\"/>\n<text text-anchor=\"start\" x=\"661\" y=\"-521.3\" font-family=\"Helvetica,sans-Serif\" font-size=\"14.00\" fill=\"#000000\">gini = 0.0</text>\n<text text-anchor=\"start\" x=\"651\" y=\"-506.3\" font-family=\"Helvetica,sans-Serif\" font-size=\"14.00\" fill=\"#000000\">samples = 3</text>\n<text text-anchor=\"start\" x=\"641\" y=\"-491.3\" font-family=\"Helvetica,sans-Serif\" font-size=\"14.00\" fill=\"#000000\">value = [0, 3, 0]</text>\n<text text-anchor=\"start\" x=\"661.5\" y=\"-476.3\" font-family=\"Helvetica,sans-Serif\" font-size=\"14.00\" fill=\"#000000\">class = 2</text>\n</g>\n<!-- 13&#45;&gt;14 -->\n<g id=\"edge14\" class=\"edge\">\n<title>13&#45;&gt;14</title>\n<path fill=\"none\" stroke=\"#000000\" d=\"M763.3278,-579.8796C752.4611,-568.3337 740.6624,-555.7976 729.7891,-544.2446\"/>\n<polygon fill=\"#000000\" stroke=\"#000000\" points=\"732.1988,-541.6982 722.7964,-536.8149 727.1014,-546.4958 732.1988,-541.6982\"/>\n</g>\n<!-- 15 -->\n<g id=\"node16\" class=\"node\">\n<title>15</title>\n<path fill=\"#e58139\" stroke=\"#000000\" d=\"M869,-536.5C869,-536.5 778,-536.5 778,-536.5 772,-536.5 766,-530.5 766,-524.5 766,-524.5 766,-480.5 766,-480.5 766,-474.5 772,-468.5 778,-468.5 778,-468.5 869,-468.5 869,-468.5 875,-468.5 881,-474.5 881,-480.5 881,-480.5 881,-524.5 881,-524.5 881,-530.5 875,-536.5 869,-536.5\"/>\n<text text-anchor=\"start\" x=\"794\" y=\"-521.3\" font-family=\"Helvetica,sans-Serif\" font-size=\"14.00\" fill=\"#000000\">gini = 0.0</text>\n<text text-anchor=\"start\" x=\"784\" y=\"-506.3\" font-family=\"Helvetica,sans-Serif\" font-size=\"14.00\" fill=\"#000000\">samples = 1</text>\n<text text-anchor=\"start\" x=\"774\" y=\"-491.3\" font-family=\"Helvetica,sans-Serif\" font-size=\"14.00\" fill=\"#000000\">value = [1, 0, 0]</text>\n<text text-anchor=\"start\" x=\"794.5\" y=\"-476.3\" font-family=\"Helvetica,sans-Serif\" font-size=\"14.00\" fill=\"#000000\">class = 1</text>\n</g>\n<!-- 13&#45;&gt;15 -->\n<g id=\"edge15\" class=\"edge\">\n<title>13&#45;&gt;15</title>\n<path fill=\"none\" stroke=\"#000000\" d=\"M809.8448,-579.8796C811.7271,-569.2134 813.7585,-557.7021 815.6644,-546.9015\"/>\n<polygon fill=\"#000000\" stroke=\"#000000\" points=\"819.1532,-547.2711 817.4444,-536.8149 812.2597,-546.0545 819.1532,-547.2711\"/>\n</g>\n<!-- 19 -->\n<g id=\"node20\" class=\"node\">\n<title>19</title>\n<path fill=\"#6beca1\" stroke=\"#000000\" d=\"M2323,-1020C2323,-1020 1922,-1020 1922,-1020 1916,-1020 1910,-1014 1910,-1008 1910,-1008 1910,-949 1910,-949 1910,-943 1916,-937 1922,-937 1922,-937 2323,-937 2323,-937 2329,-937 2335,-943 2335,-949 2335,-949 2335,-1008 2335,-1008 2335,-1014 2329,-1020 2323,-1020\"/>\n<text text-anchor=\"start\" x=\"1918\" y=\"-1004.8\" font-family=\"Helvetica,sans-Serif\" font-size=\"14.00\" fill=\"#000000\">percentage_of_time_with_abnormal_long_term_variability ≤ 7.5</text>\n<text text-anchor=\"start\" x=\"2084.5\" y=\"-989.8\" font-family=\"Helvetica,sans-Serif\" font-size=\"14.00\" fill=\"#000000\">gini = 0.332</text>\n<text text-anchor=\"start\" x=\"2074.5\" y=\"-974.8\" font-family=\"Helvetica,sans-Serif\" font-size=\"14.00\" fill=\"#000000\">samples = 176</text>\n<text text-anchor=\"start\" x=\"2060.5\" y=\"-959.8\" font-family=\"Helvetica,sans-Serif\" font-size=\"14.00\" fill=\"#000000\">value = [33, 140, 3]</text>\n<text text-anchor=\"start\" x=\"2093.5\" y=\"-944.8\" font-family=\"Helvetica,sans-Serif\" font-size=\"14.00\" fill=\"#000000\">class = 2</text>\n</g>\n<!-- 18&#45;&gt;19 -->\n<g id=\"edge19\" class=\"edge\">\n<title>18&#45;&gt;19</title>\n<path fill=\"none\" stroke=\"#000000\" d=\"M2230.4413,-1055.8796C2217.0466,-1046.2774 2202.6965,-1035.9903 2188.9745,-1026.1534\"/>\n<polygon fill=\"#000000\" stroke=\"#000000\" points=\"2190.6926,-1023.0786 2180.526,-1020.0969 2186.6142,-1028.7678 2190.6926,-1023.0786\"/>\n</g>\n<!-- 68 -->\n<g id=\"node69\" class=\"node\">\n<title>68</title>\n<path fill=\"#975cea\" stroke=\"#000000\" d=\"M2774,-1020C2774,-1020 2365,-1020 2365,-1020 2359,-1020 2353,-1014 2353,-1008 2353,-1008 2353,-949 2353,-949 2353,-943 2359,-937 2365,-937 2365,-937 2774,-937 2774,-937 2780,-937 2786,-943 2786,-949 2786,-949 2786,-1008 2786,-1008 2786,-1014 2780,-1020 2774,-1020\"/>\n<text text-anchor=\"start\" x=\"2361\" y=\"-1004.8\" font-family=\"Helvetica,sans-Serif\" font-size=\"14.00\" fill=\"#000000\">percentage_of_time_with_abnormal_long_term_variability ≤ 32.0</text>\n<text text-anchor=\"start\" x=\"2531.5\" y=\"-989.8\" font-family=\"Helvetica,sans-Serif\" font-size=\"14.00\" fill=\"#000000\">gini = 0.255</text>\n<text text-anchor=\"start\" x=\"2525.5\" y=\"-974.8\" font-family=\"Helvetica,sans-Serif\" font-size=\"14.00\" fill=\"#000000\">samples = 20</text>\n<text text-anchor=\"start\" x=\"2516\" y=\"-959.8\" font-family=\"Helvetica,sans-Serif\" font-size=\"14.00\" fill=\"#000000\">value = [3, 0, 17]</text>\n<text text-anchor=\"start\" x=\"2540.5\" y=\"-944.8\" font-family=\"Helvetica,sans-Serif\" font-size=\"14.00\" fill=\"#000000\">class = 3</text>\n</g>\n<!-- 18&#45;&gt;68 -->\n<g id=\"edge68\" class=\"edge\">\n<title>18&#45;&gt;68</title>\n<path fill=\"none\" stroke=\"#000000\" d=\"M2386.7802,-1055.8796C2411.0586,-1045.598 2437.1912,-1034.5311 2461.8874,-1024.0726\"/>\n<polygon fill=\"#000000\" stroke=\"#000000\" points=\"2463.4319,-1027.2195 2471.2753,-1020.0969 2460.7021,-1020.7737 2463.4319,-1027.2195\"/>\n</g>\n<!-- 20 -->\n<g id=\"node21\" class=\"node\">\n<title>20</title>\n<path fill=\"#eeab7b\" stroke=\"#000000\" d=\"M1501.5,-901C1501.5,-901 1363.5,-901 1363.5,-901 1357.5,-901 1351.5,-895 1351.5,-889 1351.5,-889 1351.5,-830 1351.5,-830 1351.5,-824 1357.5,-818 1363.5,-818 1363.5,-818 1501.5,-818 1501.5,-818 1507.5,-818 1513.5,-824 1513.5,-830 1513.5,-830 1513.5,-889 1513.5,-889 1513.5,-895 1507.5,-901 1501.5,-901\"/>\n<text text-anchor=\"start\" x=\"1359.5\" y=\"-885.8\" font-family=\"Helvetica,sans-Serif\" font-size=\"14.00\" fill=\"#000000\">baseline value ≤ 143.5</text>\n<text text-anchor=\"start\" x=\"1394.5\" y=\"-870.8\" font-family=\"Helvetica,sans-Serif\" font-size=\"14.00\" fill=\"#000000\">gini = 0.401</text>\n<text text-anchor=\"start\" x=\"1388.5\" y=\"-855.8\" font-family=\"Helvetica,sans-Serif\" font-size=\"14.00\" fill=\"#000000\">samples = 27</text>\n<text text-anchor=\"start\" x=\"1379\" y=\"-840.8\" font-family=\"Helvetica,sans-Serif\" font-size=\"14.00\" fill=\"#000000\">value = [20, 6, 1]</text>\n<text text-anchor=\"start\" x=\"1403.5\" y=\"-825.8\" font-family=\"Helvetica,sans-Serif\" font-size=\"14.00\" fill=\"#000000\">class = 1</text>\n</g>\n<!-- 19&#45;&gt;20 -->\n<g id=\"edge20\" class=\"edge\">\n<title>19&#45;&gt;20</title>\n<path fill=\"none\" stroke=\"#000000\" d=\"M1909.8471,-941.8251C1780.2605,-919.4761 1621.3112,-892.0631 1523.4782,-875.1904\"/>\n<polygon fill=\"#000000\" stroke=\"#000000\" points=\"1524.0678,-871.7405 1513.6184,-873.49 1522.878,-878.6387 1524.0678,-871.7405\"/>\n</g>\n<!-- 33 -->\n<g id=\"node34\" class=\"node\">\n<title>33</title>\n<path fill=\"#4fe88f\" stroke=\"#000000\" d=\"M2243.5,-901C2243.5,-901 2001.5,-901 2001.5,-901 1995.5,-901 1989.5,-895 1989.5,-889 1989.5,-889 1989.5,-830 1989.5,-830 1989.5,-824 1995.5,-818 2001.5,-818 2001.5,-818 2243.5,-818 2243.5,-818 2249.5,-818 2255.5,-824 2255.5,-830 2255.5,-830 2255.5,-889 2255.5,-889 2255.5,-895 2249.5,-901 2243.5,-901\"/>\n<text text-anchor=\"start\" x=\"1997.5\" y=\"-885.8\" font-family=\"Helvetica,sans-Serif\" font-size=\"14.00\" fill=\"#000000\">abnormal_short_term_variability ≤ 78.5</text>\n<text text-anchor=\"start\" x=\"2084.5\" y=\"-870.8\" font-family=\"Helvetica,sans-Serif\" font-size=\"14.00\" fill=\"#000000\">gini = 0.183</text>\n<text text-anchor=\"start\" x=\"2074.5\" y=\"-855.8\" font-family=\"Helvetica,sans-Serif\" font-size=\"14.00\" fill=\"#000000\">samples = 149</text>\n<text text-anchor=\"start\" x=\"2060.5\" y=\"-840.8\" font-family=\"Helvetica,sans-Serif\" font-size=\"14.00\" fill=\"#000000\">value = [13, 134, 2]</text>\n<text text-anchor=\"start\" x=\"2093.5\" y=\"-825.8\" font-family=\"Helvetica,sans-Serif\" font-size=\"14.00\" fill=\"#000000\">class = 2</text>\n</g>\n<!-- 19&#45;&gt;33 -->\n<g id=\"edge33\" class=\"edge\">\n<title>19&#45;&gt;33</title>\n<path fill=\"none\" stroke=\"#000000\" d=\"M2122.5,-936.8796C2122.5,-928.6838 2122.5,-919.9891 2122.5,-911.5013\"/>\n<polygon fill=\"#000000\" stroke=\"#000000\" points=\"2126.0001,-911.298 2122.5,-901.2981 2119.0001,-911.2981 2126.0001,-911.298\"/>\n</g>\n<!-- 21 -->\n<g id=\"node22\" class=\"node\">\n<title>21</title>\n<path fill=\"#e88e4e\" stroke=\"#000000\" d=\"M1185.5,-782C1185.5,-782 1043.5,-782 1043.5,-782 1037.5,-782 1031.5,-776 1031.5,-770 1031.5,-770 1031.5,-711 1031.5,-711 1031.5,-705 1037.5,-699 1043.5,-699 1043.5,-699 1185.5,-699 1185.5,-699 1191.5,-699 1197.5,-705 1197.5,-711 1197.5,-711 1197.5,-770 1197.5,-770 1197.5,-776 1191.5,-782 1185.5,-782\"/>\n<text text-anchor=\"start\" x=\"1039.5\" y=\"-766.8\" font-family=\"Helvetica,sans-Serif\" font-size=\"14.00\" fill=\"#000000\">histogram_width ≤ 19.0</text>\n<text text-anchor=\"start\" x=\"1076.5\" y=\"-751.8\" font-family=\"Helvetica,sans-Serif\" font-size=\"14.00\" fill=\"#000000\">gini = 0.172</text>\n<text text-anchor=\"start\" x=\"1070.5\" y=\"-736.8\" font-family=\"Helvetica,sans-Serif\" font-size=\"14.00\" fill=\"#000000\">samples = 21</text>\n<text text-anchor=\"start\" x=\"1061\" y=\"-721.8\" font-family=\"Helvetica,sans-Serif\" font-size=\"14.00\" fill=\"#000000\">value = [19, 2, 0]</text>\n<text text-anchor=\"start\" x=\"1085.5\" y=\"-706.8\" font-family=\"Helvetica,sans-Serif\" font-size=\"14.00\" fill=\"#000000\">class = 1</text>\n</g>\n<!-- 20&#45;&gt;21 -->\n<g id=\"edge21\" class=\"edge\">\n<title>20&#45;&gt;21</title>\n<path fill=\"none\" stroke=\"#000000\" d=\"M1351.3173,-832.7285C1309.0609,-818.3988 1256.708,-800.0262 1210.5,-782 1209.3106,-781.536 1208.1141,-781.0662 1206.9119,-780.5912\"/>\n<polygon fill=\"#000000\" stroke=\"#000000\" points=\"1208.1867,-777.3316 1197.6023,-776.8602 1205.5826,-783.8292 1208.1867,-777.3316\"/>\n</g>\n<!-- 26 -->\n<g id=\"node27\" class=\"node\">\n<title>26</title>\n<path fill=\"#88efb3\" stroke=\"#000000\" d=\"M1633,-782C1633,-782 1232,-782 1232,-782 1226,-782 1220,-776 1220,-770 1220,-770 1220,-711 1220,-711 1220,-705 1226,-699 1232,-699 1232,-699 1633,-699 1633,-699 1639,-699 1645,-705 1645,-711 1645,-711 1645,-770 1645,-770 1645,-776 1639,-782 1633,-782\"/>\n<text text-anchor=\"start\" x=\"1228\" y=\"-766.8\" font-family=\"Helvetica,sans-Serif\" font-size=\"14.00\" fill=\"#000000\">percentage_of_time_with_abnormal_long_term_variability ≤ 3.5</text>\n<text text-anchor=\"start\" x=\"1403\" y=\"-751.8\" font-family=\"Helvetica,sans-Serif\" font-size=\"14.00\" fill=\"#000000\">gini = 0.5</text>\n<text text-anchor=\"start\" x=\"1393\" y=\"-736.8\" font-family=\"Helvetica,sans-Serif\" font-size=\"14.00\" fill=\"#000000\">samples = 6</text>\n<text text-anchor=\"start\" x=\"1383\" y=\"-721.8\" font-family=\"Helvetica,sans-Serif\" font-size=\"14.00\" fill=\"#000000\">value = [1, 4, 1]</text>\n<text text-anchor=\"start\" x=\"1403.5\" y=\"-706.8\" font-family=\"Helvetica,sans-Serif\" font-size=\"14.00\" fill=\"#000000\">class = 2</text>\n</g>\n<!-- 20&#45;&gt;26 -->\n<g id=\"edge26\" class=\"edge\">\n<title>20&#45;&gt;26</title>\n<path fill=\"none\" stroke=\"#000000\" d=\"M1432.5,-817.8796C1432.5,-809.6838 1432.5,-800.9891 1432.5,-792.5013\"/>\n<polygon fill=\"#000000\" stroke=\"#000000\" points=\"1436.0001,-792.298 1432.5,-782.2981 1429.0001,-792.2981 1436.0001,-792.298\"/>\n</g>\n<!-- 22 -->\n<g id=\"node23\" class=\"node\">\n<title>22</title>\n<path fill=\"#39e581\" stroke=\"#000000\" d=\"M1001,-655.5C1001,-655.5 910,-655.5 910,-655.5 904,-655.5 898,-649.5 898,-643.5 898,-643.5 898,-599.5 898,-599.5 898,-593.5 904,-587.5 910,-587.5 910,-587.5 1001,-587.5 1001,-587.5 1007,-587.5 1013,-593.5 1013,-599.5 1013,-599.5 1013,-643.5 1013,-643.5 1013,-649.5 1007,-655.5 1001,-655.5\"/>\n<text text-anchor=\"start\" x=\"926\" y=\"-640.3\" font-family=\"Helvetica,sans-Serif\" font-size=\"14.00\" fill=\"#000000\">gini = 0.0</text>\n<text text-anchor=\"start\" x=\"916\" y=\"-625.3\" font-family=\"Helvetica,sans-Serif\" font-size=\"14.00\" fill=\"#000000\">samples = 1</text>\n<text text-anchor=\"start\" x=\"906\" y=\"-610.3\" font-family=\"Helvetica,sans-Serif\" font-size=\"14.00\" fill=\"#000000\">value = [0, 1, 0]</text>\n<text text-anchor=\"start\" x=\"926.5\" y=\"-595.3\" font-family=\"Helvetica,sans-Serif\" font-size=\"14.00\" fill=\"#000000\">class = 2</text>\n</g>\n<!-- 21&#45;&gt;22 -->\n<g id=\"edge22\" class=\"edge\">\n<title>21&#45;&gt;22</title>\n<path fill=\"none\" stroke=\"#000000\" d=\"M1058.8895,-698.8796C1042.7987,-686.8368 1025.2685,-673.7167 1009.2909,-661.7586\"/>\n<polygon fill=\"#000000\" stroke=\"#000000\" points=\"1011.1962,-658.8129 1001.093,-655.623 1007.0018,-664.4171 1011.1962,-658.8129\"/>\n</g>\n<!-- 23 -->\n<g id=\"node24\" class=\"node\">\n<title>23</title>\n<path fill=\"#e68843\" stroke=\"#000000\" d=\"M1185.5,-663C1185.5,-663 1043.5,-663 1043.5,-663 1037.5,-663 1031.5,-657 1031.5,-651 1031.5,-651 1031.5,-592 1031.5,-592 1031.5,-586 1037.5,-580 1043.5,-580 1043.5,-580 1185.5,-580 1185.5,-580 1191.5,-580 1197.5,-586 1197.5,-592 1197.5,-592 1197.5,-651 1197.5,-651 1197.5,-657 1191.5,-663 1185.5,-663\"/>\n<text text-anchor=\"start\" x=\"1039.5\" y=\"-647.8\" font-family=\"Helvetica,sans-Serif\" font-size=\"14.00\" fill=\"#000000\">histogram_width ≤ 86.0</text>\n<text text-anchor=\"start\" x=\"1076.5\" y=\"-632.8\" font-family=\"Helvetica,sans-Serif\" font-size=\"14.00\" fill=\"#000000\">gini = 0.095</text>\n<text text-anchor=\"start\" x=\"1070.5\" y=\"-617.8\" font-family=\"Helvetica,sans-Serif\" font-size=\"14.00\" fill=\"#000000\">samples = 20</text>\n<text text-anchor=\"start\" x=\"1061\" y=\"-602.8\" font-family=\"Helvetica,sans-Serif\" font-size=\"14.00\" fill=\"#000000\">value = [19, 1, 0]</text>\n<text text-anchor=\"start\" x=\"1085.5\" y=\"-587.8\" font-family=\"Helvetica,sans-Serif\" font-size=\"14.00\" fill=\"#000000\">class = 1</text>\n</g>\n<!-- 21&#45;&gt;23 -->\n<g id=\"edge23\" class=\"edge\">\n<title>21&#45;&gt;23</title>\n<path fill=\"none\" stroke=\"#000000\" d=\"M1114.5,-698.8796C1114.5,-690.6838 1114.5,-681.9891 1114.5,-673.5013\"/>\n<polygon fill=\"#000000\" stroke=\"#000000\" points=\"1118.0001,-673.298 1114.5,-663.2981 1111.0001,-673.2981 1118.0001,-673.298\"/>\n</g>\n<!-- 24 -->\n<g id=\"node25\" class=\"node\">\n<title>24</title>\n<path fill=\"#e58139\" stroke=\"#000000\" d=\"M1029,-536.5C1029,-536.5 930,-536.5 930,-536.5 924,-536.5 918,-530.5 918,-524.5 918,-524.5 918,-480.5 918,-480.5 918,-474.5 924,-468.5 930,-468.5 930,-468.5 1029,-468.5 1029,-468.5 1035,-468.5 1041,-474.5 1041,-480.5 1041,-480.5 1041,-524.5 1041,-524.5 1041,-530.5 1035,-536.5 1029,-536.5\"/>\n<text text-anchor=\"start\" x=\"950\" y=\"-521.3\" font-family=\"Helvetica,sans-Serif\" font-size=\"14.00\" fill=\"#000000\">gini = 0.0</text>\n<text text-anchor=\"start\" x=\"935.5\" y=\"-506.3\" font-family=\"Helvetica,sans-Serif\" font-size=\"14.00\" fill=\"#000000\">samples = 19</text>\n<text text-anchor=\"start\" x=\"926\" y=\"-491.3\" font-family=\"Helvetica,sans-Serif\" font-size=\"14.00\" fill=\"#000000\">value = [19, 0, 0]</text>\n<text text-anchor=\"start\" x=\"950.5\" y=\"-476.3\" font-family=\"Helvetica,sans-Serif\" font-size=\"14.00\" fill=\"#000000\">class = 1</text>\n</g>\n<!-- 23&#45;&gt;24 -->\n<g id=\"edge24\" class=\"edge\">\n<title>23&#45;&gt;24</title>\n<path fill=\"none\" stroke=\"#000000\" d=\"M1067.2836,-579.8796C1053.9358,-568.1138 1039.4215,-555.3197 1026.1096,-543.5855\"/>\n<polygon fill=\"#000000\" stroke=\"#000000\" points=\"1028.2448,-540.8019 1018.4287,-536.8149 1023.616,-546.0531 1028.2448,-540.8019\"/>\n</g>\n<!-- 25 -->\n<g id=\"node26\" class=\"node\">\n<title>25</title>\n<path fill=\"#39e581\" stroke=\"#000000\" d=\"M1162,-536.5C1162,-536.5 1071,-536.5 1071,-536.5 1065,-536.5 1059,-530.5 1059,-524.5 1059,-524.5 1059,-480.5 1059,-480.5 1059,-474.5 1065,-468.5 1071,-468.5 1071,-468.5 1162,-468.5 1162,-468.5 1168,-468.5 1174,-474.5 1174,-480.5 1174,-480.5 1174,-524.5 1174,-524.5 1174,-530.5 1168,-536.5 1162,-536.5\"/>\n<text text-anchor=\"start\" x=\"1087\" y=\"-521.3\" font-family=\"Helvetica,sans-Serif\" font-size=\"14.00\" fill=\"#000000\">gini = 0.0</text>\n<text text-anchor=\"start\" x=\"1077\" y=\"-506.3\" font-family=\"Helvetica,sans-Serif\" font-size=\"14.00\" fill=\"#000000\">samples = 1</text>\n<text text-anchor=\"start\" x=\"1067\" y=\"-491.3\" font-family=\"Helvetica,sans-Serif\" font-size=\"14.00\" fill=\"#000000\">value = [0, 1, 0]</text>\n<text text-anchor=\"start\" x=\"1087.5\" y=\"-476.3\" font-family=\"Helvetica,sans-Serif\" font-size=\"14.00\" fill=\"#000000\">class = 2</text>\n</g>\n<!-- 23&#45;&gt;25 -->\n<g id=\"edge25\" class=\"edge\">\n<title>23&#45;&gt;25</title>\n<path fill=\"none\" stroke=\"#000000\" d=\"M1115.1995,-579.8796C1115.3788,-569.2134 1115.5722,-557.7021 1115.7538,-546.9015\"/>\n<polygon fill=\"#000000\" stroke=\"#000000\" points=\"1119.2546,-546.8724 1115.9233,-536.8149 1112.2556,-546.7547 1119.2546,-546.8724\"/>\n</g>\n<!-- 27 -->\n<g id=\"node28\" class=\"node\">\n<title>27</title>\n<path fill=\"#e58139\" stroke=\"#000000\" d=\"M1319,-655.5C1319,-655.5 1228,-655.5 1228,-655.5 1222,-655.5 1216,-649.5 1216,-643.5 1216,-643.5 1216,-599.5 1216,-599.5 1216,-593.5 1222,-587.5 1228,-587.5 1228,-587.5 1319,-587.5 1319,-587.5 1325,-587.5 1331,-593.5 1331,-599.5 1331,-599.5 1331,-643.5 1331,-643.5 1331,-649.5 1325,-655.5 1319,-655.5\"/>\n<text text-anchor=\"start\" x=\"1244\" y=\"-640.3\" font-family=\"Helvetica,sans-Serif\" font-size=\"14.00\" fill=\"#000000\">gini = 0.0</text>\n<text text-anchor=\"start\" x=\"1234\" y=\"-625.3\" font-family=\"Helvetica,sans-Serif\" font-size=\"14.00\" fill=\"#000000\">samples = 1</text>\n<text text-anchor=\"start\" x=\"1224\" y=\"-610.3\" font-family=\"Helvetica,sans-Serif\" font-size=\"14.00\" fill=\"#000000\">value = [1, 0, 0]</text>\n<text text-anchor=\"start\" x=\"1244.5\" y=\"-595.3\" font-family=\"Helvetica,sans-Serif\" font-size=\"14.00\" fill=\"#000000\">class = 1</text>\n</g>\n<!-- 26&#45;&gt;27 -->\n<g id=\"edge27\" class=\"edge\">\n<title>26&#45;&gt;27</title>\n<path fill=\"none\" stroke=\"#000000\" d=\"M1376.8895,-698.8796C1360.7987,-686.8368 1343.2685,-673.7167 1327.2909,-661.7586\"/>\n<polygon fill=\"#000000\" stroke=\"#000000\" points=\"1329.1962,-658.8129 1319.093,-655.623 1325.0018,-664.4171 1329.1962,-658.8129\"/>\n</g>\n<!-- 28 -->\n<g id=\"node29\" class=\"node\">\n<title>28</title>\n<path fill=\"#6aeca0\" stroke=\"#000000\" d=\"M1514,-663C1514,-663 1361,-663 1361,-663 1355,-663 1349,-657 1349,-651 1349,-651 1349,-592 1349,-592 1349,-586 1355,-580 1361,-580 1361,-580 1514,-580 1514,-580 1520,-580 1526,-586 1526,-592 1526,-592 1526,-651 1526,-651 1526,-657 1520,-663 1514,-663\"/>\n<text text-anchor=\"start\" x=\"1357\" y=\"-647.8\" font-family=\"Helvetica,sans-Serif\" font-size=\"14.00\" fill=\"#000000\">histogram_mean ≤ 150.5</text>\n<text text-anchor=\"start\" x=\"1404\" y=\"-632.8\" font-family=\"Helvetica,sans-Serif\" font-size=\"14.00\" fill=\"#000000\">gini = 0.32</text>\n<text text-anchor=\"start\" x=\"1398\" y=\"-617.8\" font-family=\"Helvetica,sans-Serif\" font-size=\"14.00\" fill=\"#000000\">samples = 5</text>\n<text text-anchor=\"start\" x=\"1388\" y=\"-602.8\" font-family=\"Helvetica,sans-Serif\" font-size=\"14.00\" fill=\"#000000\">value = [0, 4, 1]</text>\n<text text-anchor=\"start\" x=\"1408.5\" y=\"-587.8\" font-family=\"Helvetica,sans-Serif\" font-size=\"14.00\" fill=\"#000000\">class = 2</text>\n</g>\n<!-- 26&#45;&gt;28 -->\n<g id=\"edge28\" class=\"edge\">\n<title>26&#45;&gt;28</title>\n<path fill=\"none\" stroke=\"#000000\" d=\"M1434.2488,-698.8796C1434.5931,-690.6838 1434.9584,-681.9891 1435.3151,-673.5013\"/>\n<polygon fill=\"#000000\" stroke=\"#000000\" points=\"1438.8208,-673.4362 1435.7438,-663.2981 1431.827,-673.1423 1438.8208,-673.4362\"/>\n</g>\n<!-- 29 -->\n<g id=\"node30\" class=\"node\">\n<title>29</title>\n<path fill=\"#ffffff\" stroke=\"#000000\" d=\"M1346.5,-544C1346.5,-544 1208.5,-544 1208.5,-544 1202.5,-544 1196.5,-538 1196.5,-532 1196.5,-532 1196.5,-473 1196.5,-473 1196.5,-467 1202.5,-461 1208.5,-461 1208.5,-461 1346.5,-461 1346.5,-461 1352.5,-461 1358.5,-467 1358.5,-473 1358.5,-473 1358.5,-532 1358.5,-532 1358.5,-538 1352.5,-544 1346.5,-544\"/>\n<text text-anchor=\"start\" x=\"1204.5\" y=\"-528.8\" font-family=\"Helvetica,sans-Serif\" font-size=\"14.00\" fill=\"#000000\">baseline value ≤ 146.5</text>\n<text text-anchor=\"start\" x=\"1248\" y=\"-513.8\" font-family=\"Helvetica,sans-Serif\" font-size=\"14.00\" fill=\"#000000\">gini = 0.5</text>\n<text text-anchor=\"start\" x=\"1238\" y=\"-498.8\" font-family=\"Helvetica,sans-Serif\" font-size=\"14.00\" fill=\"#000000\">samples = 2</text>\n<text text-anchor=\"start\" x=\"1228\" y=\"-483.8\" font-family=\"Helvetica,sans-Serif\" font-size=\"14.00\" fill=\"#000000\">value = [0, 1, 1]</text>\n<text text-anchor=\"start\" x=\"1248.5\" y=\"-468.8\" font-family=\"Helvetica,sans-Serif\" font-size=\"14.00\" fill=\"#000000\">class = 2</text>\n</g>\n<!-- 28&#45;&gt;29 -->\n<g id=\"edge29\" class=\"edge\">\n<title>28&#45;&gt;29</title>\n<path fill=\"none\" stroke=\"#000000\" d=\"M1381.5398,-579.8796C1368.6292,-570.2774 1354.7979,-559.9903 1341.5718,-550.1534\"/>\n<polygon fill=\"#000000\" stroke=\"#000000\" points=\"1343.5414,-547.2564 1333.4286,-544.0969 1339.3639,-552.8732 1343.5414,-547.2564\"/>\n</g>\n<!-- 32 -->\n<g id=\"node33\" class=\"node\">\n<title>32</title>\n<path fill=\"#39e581\" stroke=\"#000000\" d=\"M1480,-536.5C1480,-536.5 1389,-536.5 1389,-536.5 1383,-536.5 1377,-530.5 1377,-524.5 1377,-524.5 1377,-480.5 1377,-480.5 1377,-474.5 1383,-468.5 1389,-468.5 1389,-468.5 1480,-468.5 1480,-468.5 1486,-468.5 1492,-474.5 1492,-480.5 1492,-480.5 1492,-524.5 1492,-524.5 1492,-530.5 1486,-536.5 1480,-536.5\"/>\n<text text-anchor=\"start\" x=\"1405\" y=\"-521.3\" font-family=\"Helvetica,sans-Serif\" font-size=\"14.00\" fill=\"#000000\">gini = 0.0</text>\n<text text-anchor=\"start\" x=\"1395\" y=\"-506.3\" font-family=\"Helvetica,sans-Serif\" font-size=\"14.00\" fill=\"#000000\">samples = 3</text>\n<text text-anchor=\"start\" x=\"1385\" y=\"-491.3\" font-family=\"Helvetica,sans-Serif\" font-size=\"14.00\" fill=\"#000000\">value = [0, 3, 0]</text>\n<text text-anchor=\"start\" x=\"1405.5\" y=\"-476.3\" font-family=\"Helvetica,sans-Serif\" font-size=\"14.00\" fill=\"#000000\">class = 2</text>\n</g>\n<!-- 28&#45;&gt;32 -->\n<g id=\"edge32\" class=\"edge\">\n<title>28&#45;&gt;32</title>\n<path fill=\"none\" stroke=\"#000000\" d=\"M1436.4507,-579.8796C1436.1818,-569.2134 1435.8916,-557.7021 1435.6194,-546.9015\"/>\n<polygon fill=\"#000000\" stroke=\"#000000\" points=\"1439.1161,-546.7235 1435.3651,-536.8149 1432.1183,-546.9 1439.1161,-546.7235\"/>\n</g>\n<!-- 30 -->\n<g id=\"node31\" class=\"node\">\n<title>30</title>\n<path fill=\"#39e581\" stroke=\"#000000\" d=\"M1227,-417.5C1227,-417.5 1136,-417.5 1136,-417.5 1130,-417.5 1124,-411.5 1124,-405.5 1124,-405.5 1124,-361.5 1124,-361.5 1124,-355.5 1130,-349.5 1136,-349.5 1136,-349.5 1227,-349.5 1227,-349.5 1233,-349.5 1239,-355.5 1239,-361.5 1239,-361.5 1239,-405.5 1239,-405.5 1239,-411.5 1233,-417.5 1227,-417.5\"/>\n<text text-anchor=\"start\" x=\"1152\" y=\"-402.3\" font-family=\"Helvetica,sans-Serif\" font-size=\"14.00\" fill=\"#000000\">gini = 0.0</text>\n<text text-anchor=\"start\" x=\"1142\" y=\"-387.3\" font-family=\"Helvetica,sans-Serif\" font-size=\"14.00\" fill=\"#000000\">samples = 1</text>\n<text text-anchor=\"start\" x=\"1132\" y=\"-372.3\" font-family=\"Helvetica,sans-Serif\" font-size=\"14.00\" fill=\"#000000\">value = [0, 1, 0]</text>\n<text text-anchor=\"start\" x=\"1152.5\" y=\"-357.3\" font-family=\"Helvetica,sans-Serif\" font-size=\"14.00\" fill=\"#000000\">class = 2</text>\n</g>\n<!-- 29&#45;&gt;30 -->\n<g id=\"edge30\" class=\"edge\">\n<title>29&#45;&gt;30</title>\n<path fill=\"none\" stroke=\"#000000\" d=\"M1243.9239,-460.8796C1234.7869,-449.5536 1224.8813,-437.2748 1215.7098,-425.9058\"/>\n<polygon fill=\"#000000\" stroke=\"#000000\" points=\"1218.1856,-423.4005 1209.1826,-417.8149 1212.7374,-427.7957 1218.1856,-423.4005\"/>\n</g>\n<!-- 31 -->\n<g id=\"node32\" class=\"node\">\n<title>31</title>\n<path fill=\"#8139e5\" stroke=\"#000000\" d=\"M1360,-417.5C1360,-417.5 1269,-417.5 1269,-417.5 1263,-417.5 1257,-411.5 1257,-405.5 1257,-405.5 1257,-361.5 1257,-361.5 1257,-355.5 1263,-349.5 1269,-349.5 1269,-349.5 1360,-349.5 1360,-349.5 1366,-349.5 1372,-355.5 1372,-361.5 1372,-361.5 1372,-405.5 1372,-405.5 1372,-411.5 1366,-417.5 1360,-417.5\"/>\n<text text-anchor=\"start\" x=\"1285\" y=\"-402.3\" font-family=\"Helvetica,sans-Serif\" font-size=\"14.00\" fill=\"#000000\">gini = 0.0</text>\n<text text-anchor=\"start\" x=\"1275\" y=\"-387.3\" font-family=\"Helvetica,sans-Serif\" font-size=\"14.00\" fill=\"#000000\">samples = 1</text>\n<text text-anchor=\"start\" x=\"1265\" y=\"-372.3\" font-family=\"Helvetica,sans-Serif\" font-size=\"14.00\" fill=\"#000000\">value = [0, 0, 1]</text>\n<text text-anchor=\"start\" x=\"1285.5\" y=\"-357.3\" font-family=\"Helvetica,sans-Serif\" font-size=\"14.00\" fill=\"#000000\">class = 3</text>\n</g>\n<!-- 29&#45;&gt;31 -->\n<g id=\"edge31\" class=\"edge\">\n<title>29&#45;&gt;31</title>\n<path fill=\"none\" stroke=\"#000000\" d=\"M1290.4408,-460.8796C1293.7914,-450.1034 1297.4101,-438.4647 1300.7983,-427.5677\"/>\n<polygon fill=\"#000000\" stroke=\"#000000\" points=\"1304.2037,-428.4032 1303.8307,-417.8149 1297.5194,-426.3248 1304.2037,-428.4032\"/>\n</g>\n<!-- 34 -->\n<g id=\"node35\" class=\"node\">\n<title>34</title>\n<path fill=\"#49e78b\" stroke=\"#000000\" d=\"M2191.5,-782C2191.5,-782 2053.5,-782 2053.5,-782 2047.5,-782 2041.5,-776 2041.5,-770 2041.5,-770 2041.5,-711 2041.5,-711 2041.5,-705 2047.5,-699 2053.5,-699 2053.5,-699 2191.5,-699 2191.5,-699 2197.5,-699 2203.5,-705 2203.5,-711 2203.5,-711 2203.5,-770 2203.5,-770 2203.5,-776 2197.5,-782 2191.5,-782\"/>\n<text text-anchor=\"start\" x=\"2049.5\" y=\"-766.8\" font-family=\"Helvetica,sans-Serif\" font-size=\"14.00\" fill=\"#000000\">baseline value ≤ 136.5</text>\n<text text-anchor=\"start\" x=\"2084.5\" y=\"-751.8\" font-family=\"Helvetica,sans-Serif\" font-size=\"14.00\" fill=\"#000000\">gini = 0.143</text>\n<text text-anchor=\"start\" x=\"2074.5\" y=\"-736.8\" font-family=\"Helvetica,sans-Serif\" font-size=\"14.00\" fill=\"#000000\">samples = 143</text>\n<text text-anchor=\"start\" x=\"2060.5\" y=\"-721.8\" font-family=\"Helvetica,sans-Serif\" font-size=\"14.00\" fill=\"#000000\">value = [10, 132, 1]</text>\n<text text-anchor=\"start\" x=\"2093.5\" y=\"-706.8\" font-family=\"Helvetica,sans-Serif\" font-size=\"14.00\" fill=\"#000000\">class = 2</text>\n</g>\n<!-- 33&#45;&gt;34 -->\n<g id=\"edge34\" class=\"edge\">\n<title>33&#45;&gt;34</title>\n<path fill=\"none\" stroke=\"#000000\" d=\"M2122.5,-817.8796C2122.5,-809.6838 2122.5,-800.9891 2122.5,-792.5013\"/>\n<polygon fill=\"#000000\" stroke=\"#000000\" points=\"2126.0001,-792.298 2122.5,-782.2981 2119.0001,-792.2981 2126.0001,-792.298\"/>\n</g>\n<!-- 63 -->\n<g id=\"node64\" class=\"node\">\n<title>63</title>\n<path fill=\"#f8e0ce\" stroke=\"#000000\" d=\"M2643,-782C2643,-782 2234,-782 2234,-782 2228,-782 2222,-776 2222,-770 2222,-770 2222,-711 2222,-711 2222,-705 2228,-699 2234,-699 2234,-699 2643,-699 2643,-699 2649,-699 2655,-705 2655,-711 2655,-711 2655,-770 2655,-770 2655,-776 2649,-782 2643,-782\"/>\n<text text-anchor=\"start\" x=\"2230\" y=\"-766.8\" font-family=\"Helvetica,sans-Serif\" font-size=\"14.00\" fill=\"#000000\">percentage_of_time_with_abnormal_long_term_variability ≤ 40.5</text>\n<text text-anchor=\"start\" x=\"2400.5\" y=\"-751.8\" font-family=\"Helvetica,sans-Serif\" font-size=\"14.00\" fill=\"#000000\">gini = 0.611</text>\n<text text-anchor=\"start\" x=\"2399\" y=\"-736.8\" font-family=\"Helvetica,sans-Serif\" font-size=\"14.00\" fill=\"#000000\">samples = 6</text>\n<text text-anchor=\"start\" x=\"2389\" y=\"-721.8\" font-family=\"Helvetica,sans-Serif\" font-size=\"14.00\" fill=\"#000000\">value = [3, 2, 1]</text>\n<text text-anchor=\"start\" x=\"2409.5\" y=\"-706.8\" font-family=\"Helvetica,sans-Serif\" font-size=\"14.00\" fill=\"#000000\">class = 1</text>\n</g>\n<!-- 33&#45;&gt;63 -->\n<g id=\"edge63\" class=\"edge\">\n<title>33&#45;&gt;63</title>\n<path fill=\"none\" stroke=\"#000000\" d=\"M2233.0215,-817.8796C2260.6847,-807.4621 2290.4885,-796.2385 2318.584,-785.6582\"/>\n<polygon fill=\"#000000\" stroke=\"#000000\" points=\"2319.916,-788.8966 2328.0409,-782.0969 2317.449,-782.3458 2319.916,-788.8966\"/>\n</g>\n<!-- 35 -->\n<g id=\"node36\" class=\"node\">\n<title>35</title>\n<path fill=\"#6eeca3\" stroke=\"#000000\" d=\"M1956.5,-663C1956.5,-663 1792.5,-663 1792.5,-663 1786.5,-663 1780.5,-657 1780.5,-651 1780.5,-651 1780.5,-592 1780.5,-592 1780.5,-586 1786.5,-580 1792.5,-580 1792.5,-580 1956.5,-580 1956.5,-580 1962.5,-580 1968.5,-586 1968.5,-592 1968.5,-592 1968.5,-651 1968.5,-651 1968.5,-657 1962.5,-663 1956.5,-663\"/>\n<text text-anchor=\"start\" x=\"1788.5\" y=\"-647.8\" font-family=\"Helvetica,sans-Serif\" font-size=\"14.00\" fill=\"#000000\">histogram_median ≤ 138.5</text>\n<text text-anchor=\"start\" x=\"1836.5\" y=\"-632.8\" font-family=\"Helvetica,sans-Serif\" font-size=\"14.00\" fill=\"#000000\">gini = 0.334</text>\n<text text-anchor=\"start\" x=\"1830.5\" y=\"-617.8\" font-family=\"Helvetica,sans-Serif\" font-size=\"14.00\" fill=\"#000000\">samples = 33</text>\n<text text-anchor=\"start\" x=\"1821\" y=\"-602.8\" font-family=\"Helvetica,sans-Serif\" font-size=\"14.00\" fill=\"#000000\">value = [7, 26, 0]</text>\n<text text-anchor=\"start\" x=\"1845.5\" y=\"-587.8\" font-family=\"Helvetica,sans-Serif\" font-size=\"14.00\" fill=\"#000000\">class = 2</text>\n</g>\n<!-- 34&#45;&gt;35 -->\n<g id=\"edge35\" class=\"edge\">\n<title>34&#45;&gt;35</title>\n<path fill=\"none\" stroke=\"#000000\" d=\"M2041.2955,-701.5349C2018.5983,-690.644 1993.7208,-678.7067 1970.2664,-667.4524\"/>\n<polygon fill=\"#000000\" stroke=\"#000000\" points=\"1971.5398,-664.1814 1961.0099,-663.0108 1968.5115,-670.4925 1971.5398,-664.1814\"/>\n</g>\n<!-- 46 -->\n<g id=\"node47\" class=\"node\">\n<title>46</title>\n<path fill=\"#40e686\" stroke=\"#000000\" d=\"M2408,-663C2408,-663 1999,-663 1999,-663 1993,-663 1987,-657 1987,-651 1987,-651 1987,-592 1987,-592 1987,-586 1993,-580 1999,-580 1999,-580 2408,-580 2408,-580 2414,-580 2420,-586 2420,-592 2420,-592 2420,-651 2420,-651 2420,-657 2414,-663 2408,-663\"/>\n<text text-anchor=\"start\" x=\"1995\" y=\"-647.8\" font-family=\"Helvetica,sans-Serif\" font-size=\"14.00\" fill=\"#000000\">percentage_of_time_with_abnormal_long_term_variability ≤ 18.5</text>\n<text text-anchor=\"start\" x=\"2165.5\" y=\"-632.8\" font-family=\"Helvetica,sans-Serif\" font-size=\"14.00\" fill=\"#000000\">gini = 0.071</text>\n<text text-anchor=\"start\" x=\"2155.5\" y=\"-617.8\" font-family=\"Helvetica,sans-Serif\" font-size=\"14.00\" fill=\"#000000\">samples = 110</text>\n<text text-anchor=\"start\" x=\"2146\" y=\"-602.8\" font-family=\"Helvetica,sans-Serif\" font-size=\"14.00\" fill=\"#000000\">value = [3, 106, 1]</text>\n<text text-anchor=\"start\" x=\"2174.5\" y=\"-587.8\" font-family=\"Helvetica,sans-Serif\" font-size=\"14.00\" fill=\"#000000\">class = 2</text>\n</g>\n<!-- 34&#45;&gt;46 -->\n<g id=\"edge46\" class=\"edge\">\n<title>34&#45;&gt;46</title>\n<path fill=\"none\" stroke=\"#000000\" d=\"M2150.8299,-698.8796C2156.7763,-690.1434 2163.1086,-680.8404 2169.245,-671.8253\"/>\n<polygon fill=\"#000000\" stroke=\"#000000\" points=\"2172.3156,-673.5342 2175.0492,-663.2981 2166.5289,-669.5953 2172.3156,-673.5342\"/>\n</g>\n<!-- 36 -->\n<g id=\"node37\" class=\"node\">\n<title>36</title>\n<path fill=\"#53e891\" stroke=\"#000000\" d=\"M1764.5,-544C1764.5,-544 1522.5,-544 1522.5,-544 1516.5,-544 1510.5,-538 1510.5,-532 1510.5,-532 1510.5,-473 1510.5,-473 1510.5,-467 1516.5,-461 1522.5,-461 1522.5,-461 1764.5,-461 1764.5,-461 1770.5,-461 1776.5,-467 1776.5,-473 1776.5,-473 1776.5,-532 1776.5,-532 1776.5,-538 1770.5,-544 1764.5,-544\"/>\n<text text-anchor=\"start\" x=\"1518.5\" y=\"-528.8\" font-family=\"Helvetica,sans-Serif\" font-size=\"14.00\" fill=\"#000000\">abnormal_short_term_variability ≤ 59.5</text>\n<text text-anchor=\"start\" x=\"1605.5\" y=\"-513.8\" font-family=\"Helvetica,sans-Serif\" font-size=\"14.00\" fill=\"#000000\">gini = 0.204</text>\n<text text-anchor=\"start\" x=\"1599.5\" y=\"-498.8\" font-family=\"Helvetica,sans-Serif\" font-size=\"14.00\" fill=\"#000000\">samples = 26</text>\n<text text-anchor=\"start\" x=\"1590\" y=\"-483.8\" font-family=\"Helvetica,sans-Serif\" font-size=\"14.00\" fill=\"#000000\">value = [3, 23, 0]</text>\n<text text-anchor=\"start\" x=\"1614.5\" y=\"-468.8\" font-family=\"Helvetica,sans-Serif\" font-size=\"14.00\" fill=\"#000000\">class = 2</text>\n</g>\n<!-- 35&#45;&gt;36 -->\n<g id=\"edge36\" class=\"edge\">\n<title>35&#45;&gt;36</title>\n<path fill=\"none\" stroke=\"#000000\" d=\"M1793.7074,-579.8796C1774.1886,-569.8244 1753.212,-559.0183 1733.3077,-548.7645\"/>\n<polygon fill=\"#000000\" stroke=\"#000000\" points=\"1734.7396,-545.5651 1724.247,-544.0969 1731.5339,-551.788 1734.7396,-545.5651\"/>\n</g>\n<!-- 43 -->\n<g id=\"node44\" class=\"node\">\n<title>43</title>\n<path fill=\"#f8e0ce\" stroke=\"#000000\" d=\"M1960,-544C1960,-544 1807,-544 1807,-544 1801,-544 1795,-538 1795,-532 1795,-532 1795,-473 1795,-473 1795,-467 1801,-461 1807,-461 1807,-461 1960,-461 1960,-461 1966,-461 1972,-467 1972,-473 1972,-473 1972,-532 1972,-532 1972,-538 1966,-544 1960,-544\"/>\n<text text-anchor=\"start\" x=\"1803\" y=\"-528.8\" font-family=\"Helvetica,sans-Serif\" font-size=\"14.00\" fill=\"#000000\">histogram_mode ≤ 140.5</text>\n<text text-anchor=\"start\" x=\"1850\" y=\"-513.8\" font-family=\"Helvetica,sans-Serif\" font-size=\"14.00\" fill=\"#000000\">gini = 0.49</text>\n<text text-anchor=\"start\" x=\"1844\" y=\"-498.8\" font-family=\"Helvetica,sans-Serif\" font-size=\"14.00\" fill=\"#000000\">samples = 7</text>\n<text text-anchor=\"start\" x=\"1834\" y=\"-483.8\" font-family=\"Helvetica,sans-Serif\" font-size=\"14.00\" fill=\"#000000\">value = [4, 3, 0]</text>\n<text text-anchor=\"start\" x=\"1854.5\" y=\"-468.8\" font-family=\"Helvetica,sans-Serif\" font-size=\"14.00\" fill=\"#000000\">class = 1</text>\n</g>\n<!-- 35&#45;&gt;43 -->\n<g id=\"edge43\" class=\"edge\">\n<title>35&#45;&gt;43</title>\n<path fill=\"none\" stroke=\"#000000\" d=\"M1877.6478,-579.8796C1878.2676,-571.6838 1878.9252,-562.9891 1879.5671,-554.5013\"/>\n<polygon fill=\"#000000\" stroke=\"#000000\" points=\"1883.0746,-554.5336 1880.3388,-544.2981 1876.0945,-554.0056 1883.0746,-554.5336\"/>\n</g>\n<!-- 37 -->\n<g id=\"node38\" class=\"node\">\n<title>37</title>\n<path fill=\"#e58139\" stroke=\"#000000\" d=\"M1534,-417.5C1534,-417.5 1443,-417.5 1443,-417.5 1437,-417.5 1431,-411.5 1431,-405.5 1431,-405.5 1431,-361.5 1431,-361.5 1431,-355.5 1437,-349.5 1443,-349.5 1443,-349.5 1534,-349.5 1534,-349.5 1540,-349.5 1546,-355.5 1546,-361.5 1546,-361.5 1546,-405.5 1546,-405.5 1546,-411.5 1540,-417.5 1534,-417.5\"/>\n<text text-anchor=\"start\" x=\"1459\" y=\"-402.3\" font-family=\"Helvetica,sans-Serif\" font-size=\"14.00\" fill=\"#000000\">gini = 0.0</text>\n<text text-anchor=\"start\" x=\"1449\" y=\"-387.3\" font-family=\"Helvetica,sans-Serif\" font-size=\"14.00\" fill=\"#000000\">samples = 1</text>\n<text text-anchor=\"start\" x=\"1439\" y=\"-372.3\" font-family=\"Helvetica,sans-Serif\" font-size=\"14.00\" fill=\"#000000\">value = [1, 0, 0]</text>\n<text text-anchor=\"start\" x=\"1459.5\" y=\"-357.3\" font-family=\"Helvetica,sans-Serif\" font-size=\"14.00\" fill=\"#000000\">class = 1</text>\n</g>\n<!-- 36&#45;&gt;37 -->\n<g id=\"edge37\" class=\"edge\">\n<title>36&#45;&gt;37</title>\n<path fill=\"none\" stroke=\"#000000\" d=\"M1589.2885,-460.8796C1573.6769,-448.8938 1556.6753,-435.841 1541.1592,-423.9287\"/>\n<polygon fill=\"#000000\" stroke=\"#000000\" points=\"1543.2593,-421.1285 1533.1959,-417.8149 1538.9965,-426.6808 1543.2593,-421.1285\"/>\n</g>\n<!-- 38 -->\n<g id=\"node39\" class=\"node\">\n<title>38</title>\n<path fill=\"#4ae78c\" stroke=\"#000000\" d=\"M1718.5,-425C1718.5,-425 1576.5,-425 1576.5,-425 1570.5,-425 1564.5,-419 1564.5,-413 1564.5,-413 1564.5,-354 1564.5,-354 1564.5,-348 1570.5,-342 1576.5,-342 1576.5,-342 1718.5,-342 1718.5,-342 1724.5,-342 1730.5,-348 1730.5,-354 1730.5,-354 1730.5,-413 1730.5,-413 1730.5,-419 1724.5,-425 1718.5,-425\"/>\n<text text-anchor=\"start\" x=\"1572.5\" y=\"-409.8\" font-family=\"Helvetica,sans-Serif\" font-size=\"14.00\" fill=\"#000000\">histogram_width ≤ 18.5</text>\n<text text-anchor=\"start\" x=\"1609.5\" y=\"-394.8\" font-family=\"Helvetica,sans-Serif\" font-size=\"14.00\" fill=\"#000000\">gini = 0.147</text>\n<text text-anchor=\"start\" x=\"1603.5\" y=\"-379.8\" font-family=\"Helvetica,sans-Serif\" font-size=\"14.00\" fill=\"#000000\">samples = 25</text>\n<text text-anchor=\"start\" x=\"1594\" y=\"-364.8\" font-family=\"Helvetica,sans-Serif\" font-size=\"14.00\" fill=\"#000000\">value = [2, 23, 0]</text>\n<text text-anchor=\"start\" x=\"1618.5\" y=\"-349.8\" font-family=\"Helvetica,sans-Serif\" font-size=\"14.00\" fill=\"#000000\">class = 2</text>\n</g>\n<!-- 36&#45;&gt;38 -->\n<g id=\"edge38\" class=\"edge\">\n<title>36&#45;&gt;38</title>\n<path fill=\"none\" stroke=\"#000000\" d=\"M1644.899,-460.8796C1645.1745,-452.6838 1645.4668,-443.9891 1645.7521,-435.5013\"/>\n<polygon fill=\"#000000\" stroke=\"#000000\" points=\"1649.257,-435.41 1646.095,-425.2981 1642.261,-435.1748 1649.257,-435.41\"/>\n</g>\n<!-- 39 -->\n<g id=\"node40\" class=\"node\">\n<title>39</title>\n<path fill=\"#9cf2c0\" stroke=\"#000000\" d=\"M1640,-306C1640,-306 1487,-306 1487,-306 1481,-306 1475,-300 1475,-294 1475,-294 1475,-235 1475,-235 1475,-229 1481,-223 1487,-223 1487,-223 1640,-223 1640,-223 1646,-223 1652,-229 1652,-235 1652,-235 1652,-294 1652,-294 1652,-300 1646,-306 1640,-306\"/>\n<text text-anchor=\"start\" x=\"1483\" y=\"-290.8\" font-family=\"Helvetica,sans-Serif\" font-size=\"14.00\" fill=\"#000000\">histogram_mode ≤ 124.0</text>\n<text text-anchor=\"start\" x=\"1525.5\" y=\"-275.8\" font-family=\"Helvetica,sans-Serif\" font-size=\"14.00\" fill=\"#000000\">gini = 0.444</text>\n<text text-anchor=\"start\" x=\"1524\" y=\"-260.8\" font-family=\"Helvetica,sans-Serif\" font-size=\"14.00\" fill=\"#000000\">samples = 6</text>\n<text text-anchor=\"start\" x=\"1514\" y=\"-245.8\" font-family=\"Helvetica,sans-Serif\" font-size=\"14.00\" fill=\"#000000\">value = [2, 4, 0]</text>\n<text text-anchor=\"start\" x=\"1534.5\" y=\"-230.8\" font-family=\"Helvetica,sans-Serif\" font-size=\"14.00\" fill=\"#000000\">class = 2</text>\n</g>\n<!-- 38&#45;&gt;39 -->\n<g id=\"edge39\" class=\"edge\">\n<title>38&#45;&gt;39</title>\n<path fill=\"none\" stroke=\"#000000\" d=\"M1618.1209,-341.8796C1611.8906,-333.0534 1605.2519,-323.6485 1598.827,-314.5466\"/>\n<polygon fill=\"#000000\" stroke=\"#000000\" points=\"1601.6308,-312.4494 1593.0045,-306.2981 1595.912,-316.4862 1601.6308,-312.4494\"/>\n</g>\n<!-- 42 -->\n<g id=\"node43\" class=\"node\">\n<title>42</title>\n<path fill=\"#39e581\" stroke=\"#000000\" d=\"M1781,-298.5C1781,-298.5 1682,-298.5 1682,-298.5 1676,-298.5 1670,-292.5 1670,-286.5 1670,-286.5 1670,-242.5 1670,-242.5 1670,-236.5 1676,-230.5 1682,-230.5 1682,-230.5 1781,-230.5 1781,-230.5 1787,-230.5 1793,-236.5 1793,-242.5 1793,-242.5 1793,-286.5 1793,-286.5 1793,-292.5 1787,-298.5 1781,-298.5\"/>\n<text text-anchor=\"start\" x=\"1702\" y=\"-283.3\" font-family=\"Helvetica,sans-Serif\" font-size=\"14.00\" fill=\"#000000\">gini = 0.0</text>\n<text text-anchor=\"start\" x=\"1687.5\" y=\"-268.3\" font-family=\"Helvetica,sans-Serif\" font-size=\"14.00\" fill=\"#000000\">samples = 19</text>\n<text text-anchor=\"start\" x=\"1678\" y=\"-253.3\" font-family=\"Helvetica,sans-Serif\" font-size=\"14.00\" fill=\"#000000\">value = [0, 19, 0]</text>\n<text text-anchor=\"start\" x=\"1702.5\" y=\"-238.3\" font-family=\"Helvetica,sans-Serif\" font-size=\"14.00\" fill=\"#000000\">class = 2</text>\n</g>\n<!-- 38&#45;&gt;42 -->\n<g id=\"edge42\" class=\"edge\">\n<title>38&#45;&gt;42</title>\n<path fill=\"none\" stroke=\"#000000\" d=\"M1676.8791,-341.8796C1684.7963,-330.6636 1693.3731,-318.5131 1701.3325,-307.2372\"/>\n<polygon fill=\"#000000\" stroke=\"#000000\" points=\"1704.3702,-309.003 1707.2777,-298.8149 1698.6514,-304.9662 1704.3702,-309.003\"/>\n</g>\n<!-- 40 -->\n<g id=\"node41\" class=\"node\">\n<title>40</title>\n<path fill=\"#e58139\" stroke=\"#000000\" d=\"M1543,-179.5C1543,-179.5 1452,-179.5 1452,-179.5 1446,-179.5 1440,-173.5 1440,-167.5 1440,-167.5 1440,-123.5 1440,-123.5 1440,-117.5 1446,-111.5 1452,-111.5 1452,-111.5 1543,-111.5 1543,-111.5 1549,-111.5 1555,-117.5 1555,-123.5 1555,-123.5 1555,-167.5 1555,-167.5 1555,-173.5 1549,-179.5 1543,-179.5\"/>\n<text text-anchor=\"start\" x=\"1468\" y=\"-164.3\" font-family=\"Helvetica,sans-Serif\" font-size=\"14.00\" fill=\"#000000\">gini = 0.0</text>\n<text text-anchor=\"start\" x=\"1458\" y=\"-149.3\" font-family=\"Helvetica,sans-Serif\" font-size=\"14.00\" fill=\"#000000\">samples = 2</text>\n<text text-anchor=\"start\" x=\"1448\" y=\"-134.3\" font-family=\"Helvetica,sans-Serif\" font-size=\"14.00\" fill=\"#000000\">value = [2, 0, 0]</text>\n<text text-anchor=\"start\" x=\"1468.5\" y=\"-119.3\" font-family=\"Helvetica,sans-Serif\" font-size=\"14.00\" fill=\"#000000\">class = 1</text>\n</g>\n<!-- 39&#45;&gt;40 -->\n<g id=\"edge40\" class=\"edge\">\n<title>39&#45;&gt;40</title>\n<path fill=\"none\" stroke=\"#000000\" d=\"M1540.4164,-222.8796C1534.2567,-211.7735 1527.5889,-199.7513 1521.3871,-188.5691\"/>\n<polygon fill=\"#000000\" stroke=\"#000000\" points=\"1524.4428,-186.8624 1516.5318,-179.8149 1518.3213,-190.2576 1524.4428,-186.8624\"/>\n</g>\n<!-- 41 -->\n<g id=\"node42\" class=\"node\">\n<title>41</title>\n<path fill=\"#39e581\" stroke=\"#000000\" d=\"M1676,-179.5C1676,-179.5 1585,-179.5 1585,-179.5 1579,-179.5 1573,-173.5 1573,-167.5 1573,-167.5 1573,-123.5 1573,-123.5 1573,-117.5 1579,-111.5 1585,-111.5 1585,-111.5 1676,-111.5 1676,-111.5 1682,-111.5 1688,-117.5 1688,-123.5 1688,-123.5 1688,-167.5 1688,-167.5 1688,-173.5 1682,-179.5 1676,-179.5\"/>\n<text text-anchor=\"start\" x=\"1601\" y=\"-164.3\" font-family=\"Helvetica,sans-Serif\" font-size=\"14.00\" fill=\"#000000\">gini = 0.0</text>\n<text text-anchor=\"start\" x=\"1591\" y=\"-149.3\" font-family=\"Helvetica,sans-Serif\" font-size=\"14.00\" fill=\"#000000\">samples = 4</text>\n<text text-anchor=\"start\" x=\"1581\" y=\"-134.3\" font-family=\"Helvetica,sans-Serif\" font-size=\"14.00\" fill=\"#000000\">value = [0, 4, 0]</text>\n<text text-anchor=\"start\" x=\"1601.5\" y=\"-119.3\" font-family=\"Helvetica,sans-Serif\" font-size=\"14.00\" fill=\"#000000\">class = 2</text>\n</g>\n<!-- 39&#45;&gt;41 -->\n<g id=\"edge41\" class=\"edge\">\n<title>39&#45;&gt;41</title>\n<path fill=\"none\" stroke=\"#000000\" d=\"M1586.9333,-222.8796C1593.1863,-211.7735 1599.9552,-199.7513 1606.251,-188.5691\"/>\n<polygon fill=\"#000000\" stroke=\"#000000\" points=\"1609.3235,-190.2459 1611.1798,-179.8149 1603.2239,-186.8116 1609.3235,-190.2459\"/>\n</g>\n<!-- 44 -->\n<g id=\"node45\" class=\"node\">\n<title>44</title>\n<path fill=\"#e58139\" stroke=\"#000000\" d=\"M1877,-417.5C1877,-417.5 1786,-417.5 1786,-417.5 1780,-417.5 1774,-411.5 1774,-405.5 1774,-405.5 1774,-361.5 1774,-361.5 1774,-355.5 1780,-349.5 1786,-349.5 1786,-349.5 1877,-349.5 1877,-349.5 1883,-349.5 1889,-355.5 1889,-361.5 1889,-361.5 1889,-405.5 1889,-405.5 1889,-411.5 1883,-417.5 1877,-417.5\"/>\n<text text-anchor=\"start\" x=\"1802\" y=\"-402.3\" font-family=\"Helvetica,sans-Serif\" font-size=\"14.00\" fill=\"#000000\">gini = 0.0</text>\n<text text-anchor=\"start\" x=\"1792\" y=\"-387.3\" font-family=\"Helvetica,sans-Serif\" font-size=\"14.00\" fill=\"#000000\">samples = 4</text>\n<text text-anchor=\"start\" x=\"1782\" y=\"-372.3\" font-family=\"Helvetica,sans-Serif\" font-size=\"14.00\" fill=\"#000000\">value = [4, 0, 0]</text>\n<text text-anchor=\"start\" x=\"1802.5\" y=\"-357.3\" font-family=\"Helvetica,sans-Serif\" font-size=\"14.00\" fill=\"#000000\">class = 1</text>\n</g>\n<!-- 43&#45;&gt;44 -->\n<g id=\"edge44\" class=\"edge\">\n<title>43&#45;&gt;44</title>\n<path fill=\"none\" stroke=\"#000000\" d=\"M1865.3129,-460.8796C1860.556,-449.9935 1855.4143,-438.227 1850.6108,-427.2344\"/>\n<polygon fill=\"#000000\" stroke=\"#000000\" points=\"1853.7061,-425.5768 1846.4948,-417.8149 1847.2918,-428.3798 1853.7061,-425.5768\"/>\n</g>\n<!-- 45 -->\n<g id=\"node46\" class=\"node\">\n<title>45</title>\n<path fill=\"#39e581\" stroke=\"#000000\" d=\"M2010,-417.5C2010,-417.5 1919,-417.5 1919,-417.5 1913,-417.5 1907,-411.5 1907,-405.5 1907,-405.5 1907,-361.5 1907,-361.5 1907,-355.5 1913,-349.5 1919,-349.5 1919,-349.5 2010,-349.5 2010,-349.5 2016,-349.5 2022,-355.5 2022,-361.5 2022,-361.5 2022,-405.5 2022,-405.5 2022,-411.5 2016,-417.5 2010,-417.5\"/>\n<text text-anchor=\"start\" x=\"1935\" y=\"-402.3\" font-family=\"Helvetica,sans-Serif\" font-size=\"14.00\" fill=\"#000000\">gini = 0.0</text>\n<text text-anchor=\"start\" x=\"1925\" y=\"-387.3\" font-family=\"Helvetica,sans-Serif\" font-size=\"14.00\" fill=\"#000000\">samples = 3</text>\n<text text-anchor=\"start\" x=\"1915\" y=\"-372.3\" font-family=\"Helvetica,sans-Serif\" font-size=\"14.00\" fill=\"#000000\">value = [0, 3, 0]</text>\n<text text-anchor=\"start\" x=\"1935.5\" y=\"-357.3\" font-family=\"Helvetica,sans-Serif\" font-size=\"14.00\" fill=\"#000000\">class = 2</text>\n</g>\n<!-- 43&#45;&gt;45 -->\n<g id=\"edge45\" class=\"edge\">\n<title>43&#45;&gt;45</title>\n<path fill=\"none\" stroke=\"#000000\" d=\"M1911.8299,-460.8796C1919.4643,-449.6636 1927.7348,-437.5131 1935.4099,-426.2372\"/>\n<polygon fill=\"#000000\" stroke=\"#000000\" points=\"1938.4092,-428.0511 1941.1428,-417.8149 1932.6225,-424.1122 1938.4092,-428.0511\"/>\n</g>\n<!-- 47 -->\n<g id=\"node48\" class=\"node\">\n<title>47</title>\n<path fill=\"#57e994\" stroke=\"#000000\" d=\"M2411,-544C2411,-544 2002,-544 2002,-544 1996,-544 1990,-538 1990,-532 1990,-532 1990,-473 1990,-473 1990,-467 1996,-461 2002,-461 2002,-461 2411,-461 2411,-461 2417,-461 2423,-467 2423,-473 2423,-473 2423,-532 2423,-532 2423,-538 2417,-544 2411,-544\"/>\n<text text-anchor=\"start\" x=\"1998\" y=\"-528.8\" font-family=\"Helvetica,sans-Serif\" font-size=\"14.00\" fill=\"#000000\">percentage_of_time_with_abnormal_long_term_variability ≤ 17.5</text>\n<text text-anchor=\"start\" x=\"2168.5\" y=\"-513.8\" font-family=\"Helvetica,sans-Serif\" font-size=\"14.00\" fill=\"#000000\">gini = 0.244</text>\n<text text-anchor=\"start\" x=\"2162.5\" y=\"-498.8\" font-family=\"Helvetica,sans-Serif\" font-size=\"14.00\" fill=\"#000000\">samples = 22</text>\n<text text-anchor=\"start\" x=\"2153\" y=\"-483.8\" font-family=\"Helvetica,sans-Serif\" font-size=\"14.00\" fill=\"#000000\">value = [2, 19, 1]</text>\n<text text-anchor=\"start\" x=\"2177.5\" y=\"-468.8\" font-family=\"Helvetica,sans-Serif\" font-size=\"14.00\" fill=\"#000000\">class = 2</text>\n</g>\n<!-- 46&#45;&gt;47 -->\n<g id=\"edge47\" class=\"edge\">\n<title>46&#45;&gt;47</title>\n<path fill=\"none\" stroke=\"#000000\" d=\"M2204.5493,-579.8796C2204.7559,-571.6838 2204.9751,-562.9891 2205.189,-554.5013\"/>\n<polygon fill=\"#000000\" stroke=\"#000000\" points=\"2208.693,-554.3831 2205.4463,-544.2981 2201.6953,-554.2067 2208.693,-554.3831\"/>\n</g>\n<!-- 58 -->\n<g id=\"node59\" class=\"node\">\n<title>58</title>\n<path fill=\"#3be582\" stroke=\"#000000\" d=\"M2695.5,-544C2695.5,-544 2453.5,-544 2453.5,-544 2447.5,-544 2441.5,-538 2441.5,-532 2441.5,-532 2441.5,-473 2441.5,-473 2441.5,-467 2447.5,-461 2453.5,-461 2453.5,-461 2695.5,-461 2695.5,-461 2701.5,-461 2707.5,-467 2707.5,-473 2707.5,-473 2707.5,-532 2707.5,-532 2707.5,-538 2701.5,-544 2695.5,-544\"/>\n<text text-anchor=\"start\" x=\"2449.5\" y=\"-528.8\" font-family=\"Helvetica,sans-Serif\" font-size=\"14.00\" fill=\"#000000\">abnormal_short_term_variability ≤ 59.5</text>\n<text text-anchor=\"start\" x=\"2536.5\" y=\"-513.8\" font-family=\"Helvetica,sans-Serif\" font-size=\"14.00\" fill=\"#000000\">gini = 0.022</text>\n<text text-anchor=\"start\" x=\"2530.5\" y=\"-498.8\" font-family=\"Helvetica,sans-Serif\" font-size=\"14.00\" fill=\"#000000\">samples = 88</text>\n<text text-anchor=\"start\" x=\"2521\" y=\"-483.8\" font-family=\"Helvetica,sans-Serif\" font-size=\"14.00\" fill=\"#000000\">value = [1, 87, 0]</text>\n<text text-anchor=\"start\" x=\"2545.5\" y=\"-468.8\" font-family=\"Helvetica,sans-Serif\" font-size=\"14.00\" fill=\"#000000\">class = 2</text>\n</g>\n<!-- 46&#45;&gt;58 -->\n<g id=\"edge58\" class=\"edge\">\n<title>46&#45;&gt;58</title>\n<path fill=\"none\" stroke=\"#000000\" d=\"M2332.9973,-579.9631C2366.0072,-569.3751 2401.6278,-557.9496 2435.1088,-547.2104\"/>\n<polygon fill=\"#000000\" stroke=\"#000000\" points=\"2436.5035,-550.4387 2444.9566,-544.0516 2434.3655,-543.7732 2436.5035,-550.4387\"/>\n</g>\n<!-- 48 -->\n<g id=\"node49\" class=\"node\">\n<title>48</title>\n<path fill=\"#4ee88e\" stroke=\"#000000\" d=\"M2307.5,-425C2307.5,-425 2065.5,-425 2065.5,-425 2059.5,-425 2053.5,-419 2053.5,-413 2053.5,-413 2053.5,-354 2053.5,-354 2053.5,-348 2059.5,-342 2065.5,-342 2065.5,-342 2307.5,-342 2307.5,-342 2313.5,-342 2319.5,-348 2319.5,-354 2319.5,-354 2319.5,-413 2319.5,-413 2319.5,-419 2313.5,-425 2307.5,-425\"/>\n<text text-anchor=\"start\" x=\"2061.5\" y=\"-409.8\" font-family=\"Helvetica,sans-Serif\" font-size=\"14.00\" fill=\"#000000\">abnormal_short_term_variability ≤ 67.5</text>\n<text text-anchor=\"start\" x=\"2148.5\" y=\"-394.8\" font-family=\"Helvetica,sans-Serif\" font-size=\"14.00\" fill=\"#000000\">gini = 0.172</text>\n<text text-anchor=\"start\" x=\"2142.5\" y=\"-379.8\" font-family=\"Helvetica,sans-Serif\" font-size=\"14.00\" fill=\"#000000\">samples = 21</text>\n<text text-anchor=\"start\" x=\"2133\" y=\"-364.8\" font-family=\"Helvetica,sans-Serif\" font-size=\"14.00\" fill=\"#000000\">value = [2, 19, 0]</text>\n<text text-anchor=\"start\" x=\"2157.5\" y=\"-349.8\" font-family=\"Helvetica,sans-Serif\" font-size=\"14.00\" fill=\"#000000\">class = 2</text>\n</g>\n<!-- 47&#45;&gt;48 -->\n<g id=\"edge48\" class=\"edge\">\n<title>47&#45;&gt;48</title>\n<path fill=\"none\" stroke=\"#000000\" d=\"M2199.505,-460.8796C2198.1124,-452.5938 2196.6341,-443.798 2195.1927,-435.2216\"/>\n<polygon fill=\"#000000\" stroke=\"#000000\" points=\"2198.634,-434.5796 2193.5249,-425.2981 2191.7308,-435.7399 2198.634,-434.5796\"/>\n</g>\n<!-- 57 -->\n<g id=\"node58\" class=\"node\">\n<title>57</title>\n<path fill=\"#8139e5\" stroke=\"#000000\" d=\"M2441,-417.5C2441,-417.5 2350,-417.5 2350,-417.5 2344,-417.5 2338,-411.5 2338,-405.5 2338,-405.5 2338,-361.5 2338,-361.5 2338,-355.5 2344,-349.5 2350,-349.5 2350,-349.5 2441,-349.5 2441,-349.5 2447,-349.5 2453,-355.5 2453,-361.5 2453,-361.5 2453,-405.5 2453,-405.5 2453,-411.5 2447,-417.5 2441,-417.5\"/>\n<text text-anchor=\"start\" x=\"2366\" y=\"-402.3\" font-family=\"Helvetica,sans-Serif\" font-size=\"14.00\" fill=\"#000000\">gini = 0.0</text>\n<text text-anchor=\"start\" x=\"2356\" y=\"-387.3\" font-family=\"Helvetica,sans-Serif\" font-size=\"14.00\" fill=\"#000000\">samples = 1</text>\n<text text-anchor=\"start\" x=\"2346\" y=\"-372.3\" font-family=\"Helvetica,sans-Serif\" font-size=\"14.00\" fill=\"#000000\">value = [0, 0, 1]</text>\n<text text-anchor=\"start\" x=\"2366.5\" y=\"-357.3\" font-family=\"Helvetica,sans-Serif\" font-size=\"14.00\" fill=\"#000000\">class = 3</text>\n</g>\n<!-- 47&#45;&gt;57 -->\n<g id=\"edge57\" class=\"edge\">\n<title>47&#45;&gt;57</title>\n<path fill=\"none\" stroke=\"#000000\" d=\"M2272.603,-460.8796C2292.0808,-448.6158 2313.3329,-435.2348 2332.6035,-423.1015\"/>\n<polygon fill=\"#000000\" stroke=\"#000000\" points=\"2334.7071,-425.913 2341.3046,-417.623 2330.9774,-419.9894 2334.7071,-425.913\"/>\n</g>\n<!-- 49 -->\n<g id=\"node50\" class=\"node\">\n<title>49</title>\n<path fill=\"#44e688\" stroke=\"#000000\" d=\"M2172,-306C2172,-306 2041,-306 2041,-306 2035,-306 2029,-300 2029,-294 2029,-294 2029,-235 2029,-235 2029,-229 2035,-223 2041,-223 2041,-223 2172,-223 2172,-223 2178,-223 2184,-229 2184,-235 2184,-235 2184,-294 2184,-294 2184,-300 2178,-306 2172,-306\"/>\n<text text-anchor=\"start\" x=\"2037\" y=\"-290.8\" font-family=\"Helvetica,sans-Serif\" font-size=\"14.00\" fill=\"#000000\">histogram_min ≤ 77.5</text>\n<text text-anchor=\"start\" x=\"2077\" y=\"-275.8\" font-family=\"Helvetica,sans-Serif\" font-size=\"14.00\" fill=\"#000000\">gini = 0.1</text>\n<text text-anchor=\"start\" x=\"2062.5\" y=\"-260.8\" font-family=\"Helvetica,sans-Serif\" font-size=\"14.00\" fill=\"#000000\">samples = 19</text>\n<text text-anchor=\"start\" x=\"2053\" y=\"-245.8\" font-family=\"Helvetica,sans-Serif\" font-size=\"14.00\" fill=\"#000000\">value = [1, 18, 0]</text>\n<text text-anchor=\"start\" x=\"2077.5\" y=\"-230.8\" font-family=\"Helvetica,sans-Serif\" font-size=\"14.00\" fill=\"#000000\">class = 2</text>\n</g>\n<!-- 48&#45;&gt;49 -->\n<g id=\"edge49\" class=\"edge\">\n<title>48&#45;&gt;49</title>\n<path fill=\"none\" stroke=\"#000000\" d=\"M2158.5199,-341.8796C2152.6469,-333.1434 2146.3927,-323.8404 2140.3321,-314.8253\"/>\n<polygon fill=\"#000000\" stroke=\"#000000\" points=\"2143.0834,-312.6444 2134.5995,-306.2981 2137.2741,-316.5498 2143.0834,-312.6444\"/>\n</g>\n<!-- 54 -->\n<g id=\"node55\" class=\"node\">\n<title>54</title>\n<path fill=\"#ffffff\" stroke=\"#000000\" d=\"M2356.5,-306C2356.5,-306 2214.5,-306 2214.5,-306 2208.5,-306 2202.5,-300 2202.5,-294 2202.5,-294 2202.5,-235 2202.5,-235 2202.5,-229 2208.5,-223 2214.5,-223 2214.5,-223 2356.5,-223 2356.5,-223 2362.5,-223 2368.5,-229 2368.5,-235 2368.5,-235 2368.5,-294 2368.5,-294 2368.5,-300 2362.5,-306 2356.5,-306\"/>\n<text text-anchor=\"start\" x=\"2210.5\" y=\"-290.8\" font-family=\"Helvetica,sans-Serif\" font-size=\"14.00\" fill=\"#000000\">histogram_width ≤ 21.0</text>\n<text text-anchor=\"start\" x=\"2256\" y=\"-275.8\" font-family=\"Helvetica,sans-Serif\" font-size=\"14.00\" fill=\"#000000\">gini = 0.5</text>\n<text text-anchor=\"start\" x=\"2246\" y=\"-260.8\" font-family=\"Helvetica,sans-Serif\" font-size=\"14.00\" fill=\"#000000\">samples = 2</text>\n<text text-anchor=\"start\" x=\"2236\" y=\"-245.8\" font-family=\"Helvetica,sans-Serif\" font-size=\"14.00\" fill=\"#000000\">value = [1, 1, 0]</text>\n<text text-anchor=\"start\" x=\"2256.5\" y=\"-230.8\" font-family=\"Helvetica,sans-Serif\" font-size=\"14.00\" fill=\"#000000\">class = 1</text>\n</g>\n<!-- 48&#45;&gt;54 -->\n<g id=\"edge54\" class=\"edge\">\n<title>48&#45;&gt;54</title>\n<path fill=\"none\" stroke=\"#000000\" d=\"M2221.1254,-341.8796C2228.618,-332.8733 2236.6119,-323.2644 2244.3279,-313.9897\"/>\n<polygon fill=\"#000000\" stroke=\"#000000\" points=\"2247.0219,-316.224 2250.7268,-306.2981 2241.6407,-311.7472 2247.0219,-316.224\"/>\n</g>\n<!-- 50 -->\n<g id=\"node51\" class=\"node\">\n<title>50</title>\n<path fill=\"#7beeab\" stroke=\"#000000\" d=\"M2025.5,-187C2025.5,-187 1861.5,-187 1861.5,-187 1855.5,-187 1849.5,-181 1849.5,-175 1849.5,-175 1849.5,-116 1849.5,-116 1849.5,-110 1855.5,-104 1861.5,-104 1861.5,-104 2025.5,-104 2025.5,-104 2031.5,-104 2037.5,-110 2037.5,-116 2037.5,-116 2037.5,-175 2037.5,-175 2037.5,-181 2031.5,-187 2025.5,-187\"/>\n<text text-anchor=\"start\" x=\"1857.5\" y=\"-171.8\" font-family=\"Helvetica,sans-Serif\" font-size=\"14.00\" fill=\"#000000\">histogram_median ≤ 148.5</text>\n<text text-anchor=\"start\" x=\"1905.5\" y=\"-156.8\" font-family=\"Helvetica,sans-Serif\" font-size=\"14.00\" fill=\"#000000\">gini = 0.375</text>\n<text text-anchor=\"start\" x=\"1904\" y=\"-141.8\" font-family=\"Helvetica,sans-Serif\" font-size=\"14.00\" fill=\"#000000\">samples = 4</text>\n<text text-anchor=\"start\" x=\"1894\" y=\"-126.8\" font-family=\"Helvetica,sans-Serif\" font-size=\"14.00\" fill=\"#000000\">value = [1, 3, 0]</text>\n<text text-anchor=\"start\" x=\"1914.5\" y=\"-111.8\" font-family=\"Helvetica,sans-Serif\" font-size=\"14.00\" fill=\"#000000\">class = 2</text>\n</g>\n<!-- 49&#45;&gt;50 -->\n<g id=\"edge50\" class=\"edge\">\n<title>49&#45;&gt;50</title>\n<path fill=\"none\" stroke=\"#000000\" d=\"M2049.4905,-222.8796C2036.3379,-213.2774 2022.2472,-202.9903 2008.7732,-193.1534\"/>\n<polygon fill=\"#000000\" stroke=\"#000000\" points=\"2010.6177,-190.1666 2000.4773,-187.0969 2006.4902,-195.8202 2010.6177,-190.1666\"/>\n</g>\n<!-- 53 -->\n<g id=\"node54\" class=\"node\">\n<title>53</title>\n<path fill=\"#39e581\" stroke=\"#000000\" d=\"M2167,-179.5C2167,-179.5 2068,-179.5 2068,-179.5 2062,-179.5 2056,-173.5 2056,-167.5 2056,-167.5 2056,-123.5 2056,-123.5 2056,-117.5 2062,-111.5 2068,-111.5 2068,-111.5 2167,-111.5 2167,-111.5 2173,-111.5 2179,-117.5 2179,-123.5 2179,-123.5 2179,-167.5 2179,-167.5 2179,-173.5 2173,-179.5 2167,-179.5\"/>\n<text text-anchor=\"start\" x=\"2088\" y=\"-164.3\" font-family=\"Helvetica,sans-Serif\" font-size=\"14.00\" fill=\"#000000\">gini = 0.0</text>\n<text text-anchor=\"start\" x=\"2073.5\" y=\"-149.3\" font-family=\"Helvetica,sans-Serif\" font-size=\"14.00\" fill=\"#000000\">samples = 15</text>\n<text text-anchor=\"start\" x=\"2064\" y=\"-134.3\" font-family=\"Helvetica,sans-Serif\" font-size=\"14.00\" fill=\"#000000\">value = [0, 15, 0]</text>\n<text text-anchor=\"start\" x=\"2088.5\" y=\"-119.3\" font-family=\"Helvetica,sans-Serif\" font-size=\"14.00\" fill=\"#000000\">class = 2</text>\n</g>\n<!-- 49&#45;&gt;53 -->\n<g id=\"edge53\" class=\"edge\">\n<title>49&#45;&gt;53</title>\n<path fill=\"none\" stroke=\"#000000\" d=\"M2110.3473,-222.8796C2111.3332,-212.2134 2112.3973,-200.7021 2113.3957,-189.9015\"/>\n<polygon fill=\"#000000\" stroke=\"#000000\" points=\"2116.8926,-190.0947 2114.328,-179.8149 2109.9224,-189.4503 2116.8926,-190.0947\"/>\n</g>\n<!-- 51 -->\n<g id=\"node52\" class=\"node\">\n<title>51</title>\n<path fill=\"#39e581\" stroke=\"#000000\" d=\"M1923,-68C1923,-68 1832,-68 1832,-68 1826,-68 1820,-62 1820,-56 1820,-56 1820,-12 1820,-12 1820,-6 1826,0 1832,0 1832,0 1923,0 1923,0 1929,0 1935,-6 1935,-12 1935,-12 1935,-56 1935,-56 1935,-62 1929,-68 1923,-68\"/>\n<text text-anchor=\"start\" x=\"1848\" y=\"-52.8\" font-family=\"Helvetica,sans-Serif\" font-size=\"14.00\" fill=\"#000000\">gini = 0.0</text>\n<text text-anchor=\"start\" x=\"1838\" y=\"-37.8\" font-family=\"Helvetica,sans-Serif\" font-size=\"14.00\" fill=\"#000000\">samples = 3</text>\n<text text-anchor=\"start\" x=\"1828\" y=\"-22.8\" font-family=\"Helvetica,sans-Serif\" font-size=\"14.00\" fill=\"#000000\">value = [0, 3, 0]</text>\n<text text-anchor=\"start\" x=\"1848.5\" y=\"-7.8\" font-family=\"Helvetica,sans-Serif\" font-size=\"14.00\" fill=\"#000000\">class = 2</text>\n</g>\n<!-- 50&#45;&gt;51 -->\n<g id=\"edge51\" class=\"edge\">\n<title>50&#45;&gt;51</title>\n<path fill=\"none\" stroke=\"#000000\" d=\"M1918.924,-103.9815C1913.7014,-95.1585 1908.1771,-85.8258 1902.9237,-76.9506\"/>\n<polygon fill=\"#000000\" stroke=\"#000000\" points=\"1905.8874,-75.0863 1897.7816,-68.2637 1899.8636,-78.652 1905.8874,-75.0863\"/>\n</g>\n<!-- 52 -->\n<g id=\"node53\" class=\"node\">\n<title>52</title>\n<path fill=\"#e58139\" stroke=\"#000000\" d=\"M2056,-68C2056,-68 1965,-68 1965,-68 1959,-68 1953,-62 1953,-56 1953,-56 1953,-12 1953,-12 1953,-6 1959,0 1965,0 1965,0 2056,0 2056,0 2062,0 2068,-6 2068,-12 2068,-12 2068,-56 2068,-56 2068,-62 2062,-68 2056,-68\"/>\n<text text-anchor=\"start\" x=\"1981\" y=\"-52.8\" font-family=\"Helvetica,sans-Serif\" font-size=\"14.00\" fill=\"#000000\">gini = 0.0</text>\n<text text-anchor=\"start\" x=\"1971\" y=\"-37.8\" font-family=\"Helvetica,sans-Serif\" font-size=\"14.00\" fill=\"#000000\">samples = 1</text>\n<text text-anchor=\"start\" x=\"1961\" y=\"-22.8\" font-family=\"Helvetica,sans-Serif\" font-size=\"14.00\" fill=\"#000000\">value = [1, 0, 0]</text>\n<text text-anchor=\"start\" x=\"1981.5\" y=\"-7.8\" font-family=\"Helvetica,sans-Serif\" font-size=\"14.00\" fill=\"#000000\">class = 1</text>\n</g>\n<!-- 50&#45;&gt;52 -->\n<g id=\"edge52\" class=\"edge\">\n<title>50&#45;&gt;52</title>\n<path fill=\"none\" stroke=\"#000000\" d=\"M1968.4483,-103.9815C1973.7501,-95.1585 1979.3581,-85.8258 1984.6911,-76.9506\"/>\n<polygon fill=\"#000000\" stroke=\"#000000\" points=\"1987.7605,-78.638 1989.9111,-68.2637 1981.7604,-75.0325 1987.7605,-78.638\"/>\n</g>\n<!-- 55 -->\n<g id=\"node56\" class=\"node\">\n<title>55</title>\n<path fill=\"#39e581\" stroke=\"#000000\" d=\"M2321,-179.5C2321,-179.5 2230,-179.5 2230,-179.5 2224,-179.5 2218,-173.5 2218,-167.5 2218,-167.5 2218,-123.5 2218,-123.5 2218,-117.5 2224,-111.5 2230,-111.5 2230,-111.5 2321,-111.5 2321,-111.5 2327,-111.5 2333,-117.5 2333,-123.5 2333,-123.5 2333,-167.5 2333,-167.5 2333,-173.5 2327,-179.5 2321,-179.5\"/>\n<text text-anchor=\"start\" x=\"2246\" y=\"-164.3\" font-family=\"Helvetica,sans-Serif\" font-size=\"14.00\" fill=\"#000000\">gini = 0.0</text>\n<text text-anchor=\"start\" x=\"2236\" y=\"-149.3\" font-family=\"Helvetica,sans-Serif\" font-size=\"14.00\" fill=\"#000000\">samples = 1</text>\n<text text-anchor=\"start\" x=\"2226\" y=\"-134.3\" font-family=\"Helvetica,sans-Serif\" font-size=\"14.00\" fill=\"#000000\">value = [0, 1, 0]</text>\n<text text-anchor=\"start\" x=\"2246.5\" y=\"-119.3\" font-family=\"Helvetica,sans-Serif\" font-size=\"14.00\" fill=\"#000000\">class = 2</text>\n</g>\n<!-- 54&#45;&gt;55 -->\n<g id=\"edge55\" class=\"edge\">\n<title>54&#45;&gt;55</title>\n<path fill=\"none\" stroke=\"#000000\" d=\"M2282.0025,-222.8796C2281.1062,-212.2134 2280.1388,-200.7021 2279.2312,-189.9015\"/>\n<polygon fill=\"#000000\" stroke=\"#000000\" points=\"2282.7088,-189.4867 2278.3836,-179.8149 2275.7334,-190.0729 2282.7088,-189.4867\"/>\n</g>\n<!-- 56 -->\n<g id=\"node57\" class=\"node\">\n<title>56</title>\n<path fill=\"#e58139\" stroke=\"#000000\" d=\"M2454,-179.5C2454,-179.5 2363,-179.5 2363,-179.5 2357,-179.5 2351,-173.5 2351,-167.5 2351,-167.5 2351,-123.5 2351,-123.5 2351,-117.5 2357,-111.5 2363,-111.5 2363,-111.5 2454,-111.5 2454,-111.5 2460,-111.5 2466,-117.5 2466,-123.5 2466,-123.5 2466,-167.5 2466,-167.5 2466,-173.5 2460,-179.5 2454,-179.5\"/>\n<text text-anchor=\"start\" x=\"2379\" y=\"-164.3\" font-family=\"Helvetica,sans-Serif\" font-size=\"14.00\" fill=\"#000000\">gini = 0.0</text>\n<text text-anchor=\"start\" x=\"2369\" y=\"-149.3\" font-family=\"Helvetica,sans-Serif\" font-size=\"14.00\" fill=\"#000000\">samples = 1</text>\n<text text-anchor=\"start\" x=\"2359\" y=\"-134.3\" font-family=\"Helvetica,sans-Serif\" font-size=\"14.00\" fill=\"#000000\">value = [1, 0, 0]</text>\n<text text-anchor=\"start\" x=\"2379.5\" y=\"-119.3\" font-family=\"Helvetica,sans-Serif\" font-size=\"14.00\" fill=\"#000000\">class = 1</text>\n</g>\n<!-- 54&#45;&gt;56 -->\n<g id=\"edge56\" class=\"edge\">\n<title>54&#45;&gt;56</title>\n<path fill=\"none\" stroke=\"#000000\" d=\"M2328.5194,-222.8796C2340.5671,-211.2237 2353.6578,-198.5587 2365.6931,-186.9148\"/>\n<polygon fill=\"#000000\" stroke=\"#000000\" points=\"2368.2783,-189.2837 2373.0316,-179.8149 2363.411,-184.2528 2368.2783,-189.2837\"/>\n</g>\n<!-- 59 -->\n<g id=\"node60\" class=\"node\">\n<title>59</title>\n<path fill=\"#6aeca0\" stroke=\"#000000\" d=\"M2652.5,-425C2652.5,-425 2488.5,-425 2488.5,-425 2482.5,-425 2476.5,-419 2476.5,-413 2476.5,-413 2476.5,-354 2476.5,-354 2476.5,-348 2482.5,-342 2488.5,-342 2488.5,-342 2652.5,-342 2652.5,-342 2658.5,-342 2664.5,-348 2664.5,-354 2664.5,-354 2664.5,-413 2664.5,-413 2664.5,-419 2658.5,-425 2652.5,-425\"/>\n<text text-anchor=\"start\" x=\"2484.5\" y=\"-409.8\" font-family=\"Helvetica,sans-Serif\" font-size=\"14.00\" fill=\"#000000\">histogram_median ≤ 147.5</text>\n<text text-anchor=\"start\" x=\"2537\" y=\"-394.8\" font-family=\"Helvetica,sans-Serif\" font-size=\"14.00\" fill=\"#000000\">gini = 0.32</text>\n<text text-anchor=\"start\" x=\"2531\" y=\"-379.8\" font-family=\"Helvetica,sans-Serif\" font-size=\"14.00\" fill=\"#000000\">samples = 5</text>\n<text text-anchor=\"start\" x=\"2521\" y=\"-364.8\" font-family=\"Helvetica,sans-Serif\" font-size=\"14.00\" fill=\"#000000\">value = [1, 4, 0]</text>\n<text text-anchor=\"start\" x=\"2541.5\" y=\"-349.8\" font-family=\"Helvetica,sans-Serif\" font-size=\"14.00\" fill=\"#000000\">class = 2</text>\n</g>\n<!-- 58&#45;&gt;59 -->\n<g id=\"edge59\" class=\"edge\">\n<title>58&#45;&gt;59</title>\n<path fill=\"none\" stroke=\"#000000\" d=\"M2573.101,-460.8796C2572.8255,-452.6838 2572.5332,-443.9891 2572.2479,-435.5013\"/>\n<polygon fill=\"#000000\" stroke=\"#000000\" points=\"2575.739,-435.1748 2571.905,-425.2981 2568.743,-435.41 2575.739,-435.1748\"/>\n</g>\n<!-- 62 -->\n<g id=\"node63\" class=\"node\">\n<title>62</title>\n<path fill=\"#39e581\" stroke=\"#000000\" d=\"M2794,-417.5C2794,-417.5 2695,-417.5 2695,-417.5 2689,-417.5 2683,-411.5 2683,-405.5 2683,-405.5 2683,-361.5 2683,-361.5 2683,-355.5 2689,-349.5 2695,-349.5 2695,-349.5 2794,-349.5 2794,-349.5 2800,-349.5 2806,-355.5 2806,-361.5 2806,-361.5 2806,-405.5 2806,-405.5 2806,-411.5 2800,-417.5 2794,-417.5\"/>\n<text text-anchor=\"start\" x=\"2715\" y=\"-402.3\" font-family=\"Helvetica,sans-Serif\" font-size=\"14.00\" fill=\"#000000\">gini = 0.0</text>\n<text text-anchor=\"start\" x=\"2700.5\" y=\"-387.3\" font-family=\"Helvetica,sans-Serif\" font-size=\"14.00\" fill=\"#000000\">samples = 83</text>\n<text text-anchor=\"start\" x=\"2691\" y=\"-372.3\" font-family=\"Helvetica,sans-Serif\" font-size=\"14.00\" fill=\"#000000\">value = [0, 83, 0]</text>\n<text text-anchor=\"start\" x=\"2715.5\" y=\"-357.3\" font-family=\"Helvetica,sans-Serif\" font-size=\"14.00\" fill=\"#000000\">class = 2</text>\n</g>\n<!-- 58&#45;&gt;62 -->\n<g id=\"edge62\" class=\"edge\">\n<title>58&#45;&gt;62</title>\n<path fill=\"none\" stroke=\"#000000\" d=\"M2633.9578,-460.8796C2651.3196,-448.7263 2670.2488,-435.4759 2687.4575,-423.4297\"/>\n<polygon fill=\"#000000\" stroke=\"#000000\" points=\"2689.5676,-426.225 2695.7528,-417.623 2685.5533,-420.4904 2689.5676,-426.225\"/>\n</g>\n<!-- 60 -->\n<g id=\"node61\" class=\"node\">\n<title>60</title>\n<path fill=\"#e58139\" stroke=\"#000000\" d=\"M2525,-298.5C2525,-298.5 2434,-298.5 2434,-298.5 2428,-298.5 2422,-292.5 2422,-286.5 2422,-286.5 2422,-242.5 2422,-242.5 2422,-236.5 2428,-230.5 2434,-230.5 2434,-230.5 2525,-230.5 2525,-230.5 2531,-230.5 2537,-236.5 2537,-242.5 2537,-242.5 2537,-286.5 2537,-286.5 2537,-292.5 2531,-298.5 2525,-298.5\"/>\n<text text-anchor=\"start\" x=\"2450\" y=\"-283.3\" font-family=\"Helvetica,sans-Serif\" font-size=\"14.00\" fill=\"#000000\">gini = 0.0</text>\n<text text-anchor=\"start\" x=\"2440\" y=\"-268.3\" font-family=\"Helvetica,sans-Serif\" font-size=\"14.00\" fill=\"#000000\">samples = 1</text>\n<text text-anchor=\"start\" x=\"2430\" y=\"-253.3\" font-family=\"Helvetica,sans-Serif\" font-size=\"14.00\" fill=\"#000000\">value = [1, 0, 0]</text>\n<text text-anchor=\"start\" x=\"2450.5\" y=\"-238.3\" font-family=\"Helvetica,sans-Serif\" font-size=\"14.00\" fill=\"#000000\">class = 1</text>\n</g>\n<!-- 59&#45;&gt;60 -->\n<g id=\"edge60\" class=\"edge\">\n<title>59&#45;&gt;60</title>\n<path fill=\"none\" stroke=\"#000000\" d=\"M2538.6726,-341.8796C2530.0116,-330.5536 2520.6219,-318.2748 2511.928,-306.9058\"/>\n<polygon fill=\"#000000\" stroke=\"#000000\" points=\"2514.5956,-304.6324 2505.7408,-298.8149 2509.0351,-308.8846 2514.5956,-304.6324\"/>\n</g>\n<!-- 61 -->\n<g id=\"node62\" class=\"node\">\n<title>61</title>\n<path fill=\"#39e581\" stroke=\"#000000\" d=\"M2658,-298.5C2658,-298.5 2567,-298.5 2567,-298.5 2561,-298.5 2555,-292.5 2555,-286.5 2555,-286.5 2555,-242.5 2555,-242.5 2555,-236.5 2561,-230.5 2567,-230.5 2567,-230.5 2658,-230.5 2658,-230.5 2664,-230.5 2670,-236.5 2670,-242.5 2670,-242.5 2670,-286.5 2670,-286.5 2670,-292.5 2664,-298.5 2658,-298.5\"/>\n<text text-anchor=\"start\" x=\"2583\" y=\"-283.3\" font-family=\"Helvetica,sans-Serif\" font-size=\"14.00\" fill=\"#000000\">gini = 0.0</text>\n<text text-anchor=\"start\" x=\"2573\" y=\"-268.3\" font-family=\"Helvetica,sans-Serif\" font-size=\"14.00\" fill=\"#000000\">samples = 4</text>\n<text text-anchor=\"start\" x=\"2563\" y=\"-253.3\" font-family=\"Helvetica,sans-Serif\" font-size=\"14.00\" fill=\"#000000\">value = [0, 4, 0]</text>\n<text text-anchor=\"start\" x=\"2583.5\" y=\"-238.3\" font-family=\"Helvetica,sans-Serif\" font-size=\"14.00\" fill=\"#000000\">class = 2</text>\n</g>\n<!-- 59&#45;&gt;61 -->\n<g id=\"edge61\" class=\"edge\">\n<title>59&#45;&gt;61</title>\n<path fill=\"none\" stroke=\"#000000\" d=\"M2585.1896,-341.8796C2588.9929,-331.1034 2593.1007,-319.4647 2596.9467,-308.5677\"/>\n<polygon fill=\"#000000\" stroke=\"#000000\" points=\"2600.361,-309.4097 2600.3888,-298.8149 2593.7601,-307.08 2600.361,-309.4097\"/>\n</g>\n<!-- 64 -->\n<g id=\"node65\" class=\"node\">\n<title>64</title>\n<path fill=\"#e58139\" stroke=\"#000000\" d=\"M2541,-655.5C2541,-655.5 2450,-655.5 2450,-655.5 2444,-655.5 2438,-649.5 2438,-643.5 2438,-643.5 2438,-599.5 2438,-599.5 2438,-593.5 2444,-587.5 2450,-587.5 2450,-587.5 2541,-587.5 2541,-587.5 2547,-587.5 2553,-593.5 2553,-599.5 2553,-599.5 2553,-643.5 2553,-643.5 2553,-649.5 2547,-655.5 2541,-655.5\"/>\n<text text-anchor=\"start\" x=\"2466\" y=\"-640.3\" font-family=\"Helvetica,sans-Serif\" font-size=\"14.00\" fill=\"#000000\">gini = 0.0</text>\n<text text-anchor=\"start\" x=\"2456\" y=\"-625.3\" font-family=\"Helvetica,sans-Serif\" font-size=\"14.00\" fill=\"#000000\">samples = 3</text>\n<text text-anchor=\"start\" x=\"2446\" y=\"-610.3\" font-family=\"Helvetica,sans-Serif\" font-size=\"14.00\" fill=\"#000000\">value = [3, 0, 0]</text>\n<text text-anchor=\"start\" x=\"2466.5\" y=\"-595.3\" font-family=\"Helvetica,sans-Serif\" font-size=\"14.00\" fill=\"#000000\">class = 1</text>\n</g>\n<!-- 63&#45;&gt;64 -->\n<g id=\"edge64\" class=\"edge\">\n<title>63&#45;&gt;64</title>\n<path fill=\"none\" stroke=\"#000000\" d=\"M2458.4358,-698.8796C2463.7029,-687.8835 2469.4001,-675.9893 2474.711,-664.9015\"/>\n<polygon fill=\"#000000\" stroke=\"#000000\" points=\"2477.9,-666.3457 2479.0634,-655.8149 2471.5869,-663.3217 2477.9,-666.3457\"/>\n</g>\n<!-- 65 -->\n<g id=\"node66\" class=\"node\">\n<title>65</title>\n<path fill=\"#9cf2c0\" stroke=\"#000000\" d=\"M2992,-663C2992,-663 2583,-663 2583,-663 2577,-663 2571,-657 2571,-651 2571,-651 2571,-592 2571,-592 2571,-586 2577,-580 2583,-580 2583,-580 2992,-580 2992,-580 2998,-580 3004,-586 3004,-592 3004,-592 3004,-651 3004,-651 3004,-657 2998,-663 2992,-663\"/>\n<text text-anchor=\"start\" x=\"2579\" y=\"-647.8\" font-family=\"Helvetica,sans-Serif\" font-size=\"14.00\" fill=\"#000000\">percentage_of_time_with_abnormal_long_term_variability ≤ 41.5</text>\n<text text-anchor=\"start\" x=\"2749.5\" y=\"-632.8\" font-family=\"Helvetica,sans-Serif\" font-size=\"14.00\" fill=\"#000000\">gini = 0.444</text>\n<text text-anchor=\"start\" x=\"2748\" y=\"-617.8\" font-family=\"Helvetica,sans-Serif\" font-size=\"14.00\" fill=\"#000000\">samples = 3</text>\n<text text-anchor=\"start\" x=\"2738\" y=\"-602.8\" font-family=\"Helvetica,sans-Serif\" font-size=\"14.00\" fill=\"#000000\">value = [0, 2, 1]</text>\n<text text-anchor=\"start\" x=\"2758.5\" y=\"-587.8\" font-family=\"Helvetica,sans-Serif\" font-size=\"14.00\" fill=\"#000000\">class = 2</text>\n</g>\n<!-- 63&#45;&gt;65 -->\n<g id=\"edge65\" class=\"edge\">\n<title>63&#45;&gt;65</title>\n<path fill=\"none\" stroke=\"#000000\" d=\"M2560.5633,-698.8796C2591.381,-688.3715 2624.6043,-677.0432 2655.8701,-666.3824\"/>\n<polygon fill=\"#000000\" stroke=\"#000000\" points=\"2657.1703,-669.637 2665.5057,-663.0969 2654.9112,-663.0116 2657.1703,-669.637\"/>\n</g>\n<!-- 66 -->\n<g id=\"node67\" class=\"node\">\n<title>66</title>\n<path fill=\"#8139e5\" stroke=\"#000000\" d=\"M2831,-536.5C2831,-536.5 2740,-536.5 2740,-536.5 2734,-536.5 2728,-530.5 2728,-524.5 2728,-524.5 2728,-480.5 2728,-480.5 2728,-474.5 2734,-468.5 2740,-468.5 2740,-468.5 2831,-468.5 2831,-468.5 2837,-468.5 2843,-474.5 2843,-480.5 2843,-480.5 2843,-524.5 2843,-524.5 2843,-530.5 2837,-536.5 2831,-536.5\"/>\n<text text-anchor=\"start\" x=\"2756\" y=\"-521.3\" font-family=\"Helvetica,sans-Serif\" font-size=\"14.00\" fill=\"#000000\">gini = 0.0</text>\n<text text-anchor=\"start\" x=\"2746\" y=\"-506.3\" font-family=\"Helvetica,sans-Serif\" font-size=\"14.00\" fill=\"#000000\">samples = 1</text>\n<text text-anchor=\"start\" x=\"2736\" y=\"-491.3\" font-family=\"Helvetica,sans-Serif\" font-size=\"14.00\" fill=\"#000000\">value = [0, 0, 1]</text>\n<text text-anchor=\"start\" x=\"2756.5\" y=\"-476.3\" font-family=\"Helvetica,sans-Serif\" font-size=\"14.00\" fill=\"#000000\">class = 3</text>\n</g>\n<!-- 65&#45;&gt;66 -->\n<g id=\"edge66\" class=\"edge\">\n<title>65&#45;&gt;66</title>\n<path fill=\"none\" stroke=\"#000000\" d=\"M2786.8005,-579.8796C2786.6212,-569.2134 2786.4278,-557.7021 2786.2462,-546.9015\"/>\n<polygon fill=\"#000000\" stroke=\"#000000\" points=\"2789.7444,-546.7547 2786.0767,-536.8149 2782.7454,-546.8724 2789.7444,-546.7547\"/>\n</g>\n<!-- 67 -->\n<g id=\"node68\" class=\"node\">\n<title>67</title>\n<path fill=\"#39e581\" stroke=\"#000000\" d=\"M2964,-536.5C2964,-536.5 2873,-536.5 2873,-536.5 2867,-536.5 2861,-530.5 2861,-524.5 2861,-524.5 2861,-480.5 2861,-480.5 2861,-474.5 2867,-468.5 2873,-468.5 2873,-468.5 2964,-468.5 2964,-468.5 2970,-468.5 2976,-474.5 2976,-480.5 2976,-480.5 2976,-524.5 2976,-524.5 2976,-530.5 2970,-536.5 2964,-536.5\"/>\n<text text-anchor=\"start\" x=\"2889\" y=\"-521.3\" font-family=\"Helvetica,sans-Serif\" font-size=\"14.00\" fill=\"#000000\">gini = 0.0</text>\n<text text-anchor=\"start\" x=\"2879\" y=\"-506.3\" font-family=\"Helvetica,sans-Serif\" font-size=\"14.00\" fill=\"#000000\">samples = 2</text>\n<text text-anchor=\"start\" x=\"2869\" y=\"-491.3\" font-family=\"Helvetica,sans-Serif\" font-size=\"14.00\" fill=\"#000000\">value = [0, 2, 0]</text>\n<text text-anchor=\"start\" x=\"2889.5\" y=\"-476.3\" font-family=\"Helvetica,sans-Serif\" font-size=\"14.00\" fill=\"#000000\">class = 2</text>\n</g>\n<!-- 65&#45;&gt;67 -->\n<g id=\"edge67\" class=\"edge\">\n<title>65&#45;&gt;67</title>\n<path fill=\"none\" stroke=\"#000000\" d=\"M2833.3174,-579.8796C2846.2697,-568.1138 2860.354,-555.3197 2873.2714,-543.5855\"/>\n<polygon fill=\"#000000\" stroke=\"#000000\" points=\"2875.6761,-546.1296 2880.7247,-536.8149 2870.9694,-540.9482 2875.6761,-546.1296\"/>\n</g>\n<!-- 69 -->\n<g id=\"node70\" class=\"node\">\n<title>69</title>\n<path fill=\"#8139e5\" stroke=\"#000000\" d=\"M2619,-893.5C2619,-893.5 2520,-893.5 2520,-893.5 2514,-893.5 2508,-887.5 2508,-881.5 2508,-881.5 2508,-837.5 2508,-837.5 2508,-831.5 2514,-825.5 2520,-825.5 2520,-825.5 2619,-825.5 2619,-825.5 2625,-825.5 2631,-831.5 2631,-837.5 2631,-837.5 2631,-881.5 2631,-881.5 2631,-887.5 2625,-893.5 2619,-893.5\"/>\n<text text-anchor=\"start\" x=\"2540\" y=\"-878.3\" font-family=\"Helvetica,sans-Serif\" font-size=\"14.00\" fill=\"#000000\">gini = 0.0</text>\n<text text-anchor=\"start\" x=\"2525.5\" y=\"-863.3\" font-family=\"Helvetica,sans-Serif\" font-size=\"14.00\" fill=\"#000000\">samples = 15</text>\n<text text-anchor=\"start\" x=\"2516\" y=\"-848.3\" font-family=\"Helvetica,sans-Serif\" font-size=\"14.00\" fill=\"#000000\">value = [0, 0, 15]</text>\n<text text-anchor=\"start\" x=\"2540.5\" y=\"-833.3\" font-family=\"Helvetica,sans-Serif\" font-size=\"14.00\" fill=\"#000000\">class = 3</text>\n</g>\n<!-- 68&#45;&gt;69 -->\n<g id=\"edge69\" class=\"edge\">\n<title>68&#45;&gt;69</title>\n<path fill=\"none\" stroke=\"#000000\" d=\"M2569.5,-936.8796C2569.5,-926.2134 2569.5,-914.7021 2569.5,-903.9015\"/>\n<polygon fill=\"#000000\" stroke=\"#000000\" points=\"2573.0001,-903.8149 2569.5,-893.8149 2566.0001,-903.815 2573.0001,-903.8149\"/>\n</g>\n<!-- 70 -->\n<g id=\"node71\" class=\"node\">\n<title>70</title>\n<path fill=\"#f6d5bd\" stroke=\"#000000\" d=\"M2799.5,-901C2799.5,-901 2661.5,-901 2661.5,-901 2655.5,-901 2649.5,-895 2649.5,-889 2649.5,-889 2649.5,-830 2649.5,-830 2649.5,-824 2655.5,-818 2661.5,-818 2661.5,-818 2799.5,-818 2799.5,-818 2805.5,-818 2811.5,-824 2811.5,-830 2811.5,-830 2811.5,-889 2811.5,-889 2811.5,-895 2805.5,-901 2799.5,-901\"/>\n<text text-anchor=\"start\" x=\"2657.5\" y=\"-885.8\" font-family=\"Helvetica,sans-Serif\" font-size=\"14.00\" fill=\"#000000\">baseline value ≤ 142.0</text>\n<text text-anchor=\"start\" x=\"2697\" y=\"-870.8\" font-family=\"Helvetica,sans-Serif\" font-size=\"14.00\" fill=\"#000000\">gini = 0.48</text>\n<text text-anchor=\"start\" x=\"2691\" y=\"-855.8\" font-family=\"Helvetica,sans-Serif\" font-size=\"14.00\" fill=\"#000000\">samples = 5</text>\n<text text-anchor=\"start\" x=\"2681\" y=\"-840.8\" font-family=\"Helvetica,sans-Serif\" font-size=\"14.00\" fill=\"#000000\">value = [3, 0, 2]</text>\n<text text-anchor=\"start\" x=\"2701.5\" y=\"-825.8\" font-family=\"Helvetica,sans-Serif\" font-size=\"14.00\" fill=\"#000000\">class = 1</text>\n</g>\n<!-- 68&#45;&gt;70 -->\n<g id=\"edge70\" class=\"edge\">\n<title>68&#45;&gt;70</title>\n<path fill=\"none\" stroke=\"#000000\" d=\"M2625.81,-936.8796C2638.8012,-927.2774 2652.719,-916.9903 2666.0277,-907.1534\"/>\n<polygon fill=\"#000000\" stroke=\"#000000\" points=\"2668.2604,-909.8555 2674.2218,-901.0969 2664.0996,-904.2263 2668.2604,-909.8555\"/>\n</g>\n<!-- 71 -->\n<g id=\"node72\" class=\"node\">\n<title>71</title>\n<path fill=\"#e58139\" stroke=\"#000000\" d=\"M2776,-774.5C2776,-774.5 2685,-774.5 2685,-774.5 2679,-774.5 2673,-768.5 2673,-762.5 2673,-762.5 2673,-718.5 2673,-718.5 2673,-712.5 2679,-706.5 2685,-706.5 2685,-706.5 2776,-706.5 2776,-706.5 2782,-706.5 2788,-712.5 2788,-718.5 2788,-718.5 2788,-762.5 2788,-762.5 2788,-768.5 2782,-774.5 2776,-774.5\"/>\n<text text-anchor=\"start\" x=\"2701\" y=\"-759.3\" font-family=\"Helvetica,sans-Serif\" font-size=\"14.00\" fill=\"#000000\">gini = 0.0</text>\n<text text-anchor=\"start\" x=\"2691\" y=\"-744.3\" font-family=\"Helvetica,sans-Serif\" font-size=\"14.00\" fill=\"#000000\">samples = 3</text>\n<text text-anchor=\"start\" x=\"2681\" y=\"-729.3\" font-family=\"Helvetica,sans-Serif\" font-size=\"14.00\" fill=\"#000000\">value = [3, 0, 0]</text>\n<text text-anchor=\"start\" x=\"2701.5\" y=\"-714.3\" font-family=\"Helvetica,sans-Serif\" font-size=\"14.00\" fill=\"#000000\">class = 1</text>\n</g>\n<!-- 70&#45;&gt;71 -->\n<g id=\"edge71\" class=\"edge\">\n<title>70&#45;&gt;71</title>\n<path fill=\"none\" stroke=\"#000000\" d=\"M2730.5,-817.8796C2730.5,-807.2134 2730.5,-795.7021 2730.5,-784.9015\"/>\n<polygon fill=\"#000000\" stroke=\"#000000\" points=\"2734.0001,-784.8149 2730.5,-774.8149 2727.0001,-784.815 2734.0001,-784.8149\"/>\n</g>\n<!-- 72 -->\n<g id=\"node73\" class=\"node\">\n<title>72</title>\n<path fill=\"#8139e5\" stroke=\"#000000\" d=\"M2909,-774.5C2909,-774.5 2818,-774.5 2818,-774.5 2812,-774.5 2806,-768.5 2806,-762.5 2806,-762.5 2806,-718.5 2806,-718.5 2806,-712.5 2812,-706.5 2818,-706.5 2818,-706.5 2909,-706.5 2909,-706.5 2915,-706.5 2921,-712.5 2921,-718.5 2921,-718.5 2921,-762.5 2921,-762.5 2921,-768.5 2915,-774.5 2909,-774.5\"/>\n<text text-anchor=\"start\" x=\"2834\" y=\"-759.3\" font-family=\"Helvetica,sans-Serif\" font-size=\"14.00\" fill=\"#000000\">gini = 0.0</text>\n<text text-anchor=\"start\" x=\"2824\" y=\"-744.3\" font-family=\"Helvetica,sans-Serif\" font-size=\"14.00\" fill=\"#000000\">samples = 2</text>\n<text text-anchor=\"start\" x=\"2814\" y=\"-729.3\" font-family=\"Helvetica,sans-Serif\" font-size=\"14.00\" fill=\"#000000\">value = [0, 0, 2]</text>\n<text text-anchor=\"start\" x=\"2834.5\" y=\"-714.3\" font-family=\"Helvetica,sans-Serif\" font-size=\"14.00\" fill=\"#000000\">class = 3</text>\n</g>\n<!-- 70&#45;&gt;72 -->\n<g id=\"edge72\" class=\"edge\">\n<title>70&#45;&gt;72</title>\n<path fill=\"none\" stroke=\"#000000\" d=\"M2777.0169,-817.8796C2790.167,-806.1138 2804.4663,-793.3197 2817.5809,-781.5855\"/>\n<polygon fill=\"#000000\" stroke=\"#000000\" points=\"2820.0294,-784.0913 2825.148,-774.8149 2815.3618,-778.8746 2820.0294,-784.0913\"/>\n</g>\n<!-- 74 -->\n<g id=\"node75\" class=\"node\">\n<title>74</title>\n<path fill=\"#8139e5\" stroke=\"#000000\" d=\"M2748,-1131.5C2748,-1131.5 2649,-1131.5 2649,-1131.5 2643,-1131.5 2637,-1125.5 2637,-1119.5 2637,-1119.5 2637,-1075.5 2637,-1075.5 2637,-1069.5 2643,-1063.5 2649,-1063.5 2649,-1063.5 2748,-1063.5 2748,-1063.5 2754,-1063.5 2760,-1069.5 2760,-1075.5 2760,-1075.5 2760,-1119.5 2760,-1119.5 2760,-1125.5 2754,-1131.5 2748,-1131.5\"/>\n<text text-anchor=\"start\" x=\"2669\" y=\"-1116.3\" font-family=\"Helvetica,sans-Serif\" font-size=\"14.00\" fill=\"#000000\">gini = 0.0</text>\n<text text-anchor=\"start\" x=\"2654.5\" y=\"-1101.3\" font-family=\"Helvetica,sans-Serif\" font-size=\"14.00\" fill=\"#000000\">samples = 31</text>\n<text text-anchor=\"start\" x=\"2645\" y=\"-1086.3\" font-family=\"Helvetica,sans-Serif\" font-size=\"14.00\" fill=\"#000000\">value = [0, 0, 31]</text>\n<text text-anchor=\"start\" x=\"2669.5\" y=\"-1071.3\" font-family=\"Helvetica,sans-Serif\" font-size=\"14.00\" fill=\"#000000\">class = 3</text>\n</g>\n<!-- 73&#45;&gt;74 -->\n<g id=\"edge74\" class=\"edge\">\n<title>73&#45;&gt;74</title>\n<path fill=\"none\" stroke=\"#000000\" d=\"M2742.7169,-1174.8796C2736.3706,-1163.7735 2729.5007,-1151.7513 2723.1109,-1140.5691\"/>\n<polygon fill=\"#000000\" stroke=\"#000000\" points=\"2726.1088,-1138.7609 2718.1085,-1131.8149 2720.0311,-1142.2339 2726.1088,-1138.7609\"/>\n</g>\n<!-- 75 -->\n<g id=\"node76\" class=\"node\">\n<title>75</title>\n<path fill=\"#e58139\" stroke=\"#000000\" d=\"M2881,-1131.5C2881,-1131.5 2790,-1131.5 2790,-1131.5 2784,-1131.5 2778,-1125.5 2778,-1119.5 2778,-1119.5 2778,-1075.5 2778,-1075.5 2778,-1069.5 2784,-1063.5 2790,-1063.5 2790,-1063.5 2881,-1063.5 2881,-1063.5 2887,-1063.5 2893,-1069.5 2893,-1075.5 2893,-1075.5 2893,-1119.5 2893,-1119.5 2893,-1125.5 2887,-1131.5 2881,-1131.5\"/>\n<text text-anchor=\"start\" x=\"2806\" y=\"-1116.3\" font-family=\"Helvetica,sans-Serif\" font-size=\"14.00\" fill=\"#000000\">gini = 0.0</text>\n<text text-anchor=\"start\" x=\"2796\" y=\"-1101.3\" font-family=\"Helvetica,sans-Serif\" font-size=\"14.00\" fill=\"#000000\">samples = 2</text>\n<text text-anchor=\"start\" x=\"2786\" y=\"-1086.3\" font-family=\"Helvetica,sans-Serif\" font-size=\"14.00\" fill=\"#000000\">value = [2, 0, 0]</text>\n<text text-anchor=\"start\" x=\"2806.5\" y=\"-1071.3\" font-family=\"Helvetica,sans-Serif\" font-size=\"14.00\" fill=\"#000000\">class = 1</text>\n</g>\n<!-- 73&#45;&gt;75 -->\n<g id=\"edge75\" class=\"edge\">\n<title>73&#45;&gt;75</title>\n<path fill=\"none\" stroke=\"#000000\" d=\"M2790.6329,-1174.8796C2797.0725,-1163.7735 2804.0434,-1151.7513 2810.5271,-1140.5691\"/>\n<polygon fill=\"#000000\" stroke=\"#000000\" points=\"2813.6148,-1142.2215 2815.6031,-1131.8149 2807.5591,-1138.7102 2813.6148,-1142.2215\"/>\n</g>\n<!-- 77 -->\n<g id=\"node78\" class=\"node\">\n<title>77</title>\n<path fill=\"#9457e9\" stroke=\"#000000\" d=\"M3486.5,-1258C3486.5,-1258 3336.5,-1258 3336.5,-1258 3330.5,-1258 3324.5,-1252 3324.5,-1246 3324.5,-1246 3324.5,-1187 3324.5,-1187 3324.5,-1181 3330.5,-1175 3336.5,-1175 3336.5,-1175 3486.5,-1175 3486.5,-1175 3492.5,-1175 3498.5,-1181 3498.5,-1187 3498.5,-1187 3498.5,-1246 3498.5,-1246 3498.5,-1252 3492.5,-1258 3486.5,-1258\"/>\n<text text-anchor=\"start\" x=\"3332.5\" y=\"-1242.8\" font-family=\"Helvetica,sans-Serif\" font-size=\"14.00\" fill=\"#000000\">histogram_width ≤ 168.5</text>\n<text text-anchor=\"start\" x=\"3373.5\" y=\"-1227.8\" font-family=\"Helvetica,sans-Serif\" font-size=\"14.00\" fill=\"#000000\">gini = 0.242</text>\n<text text-anchor=\"start\" x=\"3367.5\" y=\"-1212.8\" font-family=\"Helvetica,sans-Serif\" font-size=\"14.00\" fill=\"#000000\">samples = 66</text>\n<text text-anchor=\"start\" x=\"3358\" y=\"-1197.8\" font-family=\"Helvetica,sans-Serif\" font-size=\"14.00\" fill=\"#000000\">value = [7, 2, 57]</text>\n<text text-anchor=\"start\" x=\"3382.5\" y=\"-1182.8\" font-family=\"Helvetica,sans-Serif\" font-size=\"14.00\" fill=\"#000000\">class = 3</text>\n</g>\n<!-- 76&#45;&gt;77 -->\n<g id=\"edge77\" class=\"edge\">\n<title>76&#45;&gt;77</title>\n<path fill=\"none\" stroke=\"#000000\" d=\"M3411.5,-1293.8796C3411.5,-1285.6838 3411.5,-1276.9891 3411.5,-1268.5013\"/>\n<polygon fill=\"#000000\" stroke=\"#000000\" points=\"3415.0001,-1268.298 3411.5,-1258.2981 3408.0001,-1268.2981 3415.0001,-1268.298\"/>\n</g>\n<!-- 90 -->\n<g id=\"node91\" class=\"node\">\n<title>90</title>\n<path fill=\"#e78946\" stroke=\"#000000\" d=\"M5341.5,-1258C5341.5,-1258 5203.5,-1258 5203.5,-1258 5197.5,-1258 5191.5,-1252 5191.5,-1246 5191.5,-1246 5191.5,-1187 5191.5,-1187 5191.5,-1181 5197.5,-1175 5203.5,-1175 5203.5,-1175 5341.5,-1175 5341.5,-1175 5347.5,-1175 5353.5,-1181 5353.5,-1187 5353.5,-1187 5353.5,-1246 5353.5,-1246 5353.5,-1252 5347.5,-1258 5341.5,-1258\"/>\n<text text-anchor=\"start\" x=\"5199.5\" y=\"-1242.8\" font-family=\"Helvetica,sans-Serif\" font-size=\"14.00\" fill=\"#000000\">baseline value ≤ 143.5</text>\n<text text-anchor=\"start\" x=\"5234.5\" y=\"-1227.8\" font-family=\"Helvetica,sans-Serif\" font-size=\"14.00\" fill=\"#000000\">gini = 0.119</text>\n<text text-anchor=\"start\" x=\"5220.5\" y=\"-1212.8\" font-family=\"Helvetica,sans-Serif\" font-size=\"14.00\" fill=\"#000000\">samples = 1088</text>\n<text text-anchor=\"start\" x=\"5206.5\" y=\"-1197.8\" font-family=\"Helvetica,sans-Serif\" font-size=\"14.00\" fill=\"#000000\">value = [1019, 63, 6]</text>\n<text text-anchor=\"start\" x=\"5243.5\" y=\"-1182.8\" font-family=\"Helvetica,sans-Serif\" font-size=\"14.00\" fill=\"#000000\">class = 1</text>\n</g>\n<!-- 76&#45;&gt;90 -->\n<g id=\"edge90\" class=\"edge\">\n<title>76&#45;&gt;90</title>\n<path fill=\"none\" stroke=\"#000000\" d=\"M3500.0079,-1329.8404C3812.8171,-1309.8381 4864.4702,-1242.5911 5181.37,-1222.3272\"/>\n<polygon fill=\"#000000\" stroke=\"#000000\" points=\"5181.6755,-1225.8149 5191.4317,-1221.6838 5181.2287,-1218.8292 5181.6755,-1225.8149\"/>\n</g>\n<!-- 78 -->\n<g id=\"node79\" class=\"node\">\n<title>78</title>\n<path fill=\"#8c4ae7\" stroke=\"#000000\" d=\"M3428.5,-1139C3428.5,-1139 3186.5,-1139 3186.5,-1139 3180.5,-1139 3174.5,-1133 3174.5,-1127 3174.5,-1127 3174.5,-1068 3174.5,-1068 3174.5,-1062 3180.5,-1056 3186.5,-1056 3186.5,-1056 3428.5,-1056 3428.5,-1056 3434.5,-1056 3440.5,-1062 3440.5,-1068 3440.5,-1068 3440.5,-1127 3440.5,-1127 3440.5,-1133 3434.5,-1139 3428.5,-1139\"/>\n<text text-anchor=\"start\" x=\"3182.5\" y=\"-1123.8\" font-family=\"Helvetica,sans-Serif\" font-size=\"14.00\" fill=\"#000000\">abnormal_short_term_variability ≤ 25.0</text>\n<text text-anchor=\"start\" x=\"3269.5\" y=\"-1108.8\" font-family=\"Helvetica,sans-Serif\" font-size=\"14.00\" fill=\"#000000\">gini = 0.151</text>\n<text text-anchor=\"start\" x=\"3263.5\" y=\"-1093.8\" font-family=\"Helvetica,sans-Serif\" font-size=\"14.00\" fill=\"#000000\">samples = 62</text>\n<text text-anchor=\"start\" x=\"3254\" y=\"-1078.8\" font-family=\"Helvetica,sans-Serif\" font-size=\"14.00\" fill=\"#000000\">value = [3, 2, 57]</text>\n<text text-anchor=\"start\" x=\"3278.5\" y=\"-1063.8\" font-family=\"Helvetica,sans-Serif\" font-size=\"14.00\" fill=\"#000000\">class = 3</text>\n</g>\n<!-- 77&#45;&gt;78 -->\n<g id=\"edge78\" class=\"edge\">\n<title>77&#45;&gt;78</title>\n<path fill=\"none\" stroke=\"#000000\" d=\"M3375.1258,-1174.8796C3367.2548,-1165.8733 3358.8571,-1156.2644 3350.7515,-1146.9897\"/>\n<polygon fill=\"#000000\" stroke=\"#000000\" points=\"3353.2454,-1144.5246 3344.0294,-1139.2981 3347.9746,-1149.131 3353.2454,-1144.5246\"/>\n</g>\n<!-- 89 -->\n<g id=\"node90\" class=\"node\">\n<title>89</title>\n<path fill=\"#e58139\" stroke=\"#000000\" d=\"M3562,-1131.5C3562,-1131.5 3471,-1131.5 3471,-1131.5 3465,-1131.5 3459,-1125.5 3459,-1119.5 3459,-1119.5 3459,-1075.5 3459,-1075.5 3459,-1069.5 3465,-1063.5 3471,-1063.5 3471,-1063.5 3562,-1063.5 3562,-1063.5 3568,-1063.5 3574,-1069.5 3574,-1075.5 3574,-1075.5 3574,-1119.5 3574,-1119.5 3574,-1125.5 3568,-1131.5 3562,-1131.5\"/>\n<text text-anchor=\"start\" x=\"3487\" y=\"-1116.3\" font-family=\"Helvetica,sans-Serif\" font-size=\"14.00\" fill=\"#000000\">gini = 0.0</text>\n<text text-anchor=\"start\" x=\"3477\" y=\"-1101.3\" font-family=\"Helvetica,sans-Serif\" font-size=\"14.00\" fill=\"#000000\">samples = 4</text>\n<text text-anchor=\"start\" x=\"3467\" y=\"-1086.3\" font-family=\"Helvetica,sans-Serif\" font-size=\"14.00\" fill=\"#000000\">value = [4, 0, 0]</text>\n<text text-anchor=\"start\" x=\"3487.5\" y=\"-1071.3\" font-family=\"Helvetica,sans-Serif\" font-size=\"14.00\" fill=\"#000000\">class = 1</text>\n</g>\n<!-- 77&#45;&gt;89 -->\n<g id=\"edge89\" class=\"edge\">\n<title>77&#45;&gt;89</title>\n<path fill=\"none\" stroke=\"#000000\" d=\"M3448.2239,-1174.8796C3458.3144,-1163.4436 3469.2621,-1151.0363 3479.375,-1139.575\"/>\n<polygon fill=\"#000000\" stroke=\"#000000\" points=\"3482.2303,-1141.629 3486.2221,-1131.8149 3476.9814,-1136.9977 3482.2303,-1141.629\"/>\n</g>\n<!-- 79 -->\n<g id=\"node80\" class=\"node\">\n<title>79</title>\n<path fill=\"#39e581\" stroke=\"#000000\" d=\"M3277,-1012.5C3277,-1012.5 3186,-1012.5 3186,-1012.5 3180,-1012.5 3174,-1006.5 3174,-1000.5 3174,-1000.5 3174,-956.5 3174,-956.5 3174,-950.5 3180,-944.5 3186,-944.5 3186,-944.5 3277,-944.5 3277,-944.5 3283,-944.5 3289,-950.5 3289,-956.5 3289,-956.5 3289,-1000.5 3289,-1000.5 3289,-1006.5 3283,-1012.5 3277,-1012.5\"/>\n<text text-anchor=\"start\" x=\"3202\" y=\"-997.3\" font-family=\"Helvetica,sans-Serif\" font-size=\"14.00\" fill=\"#000000\">gini = 0.0</text>\n<text text-anchor=\"start\" x=\"3192\" y=\"-982.3\" font-family=\"Helvetica,sans-Serif\" font-size=\"14.00\" fill=\"#000000\">samples = 2</text>\n<text text-anchor=\"start\" x=\"3182\" y=\"-967.3\" font-family=\"Helvetica,sans-Serif\" font-size=\"14.00\" fill=\"#000000\">value = [0, 2, 0]</text>\n<text text-anchor=\"start\" x=\"3202.5\" y=\"-952.3\" font-family=\"Helvetica,sans-Serif\" font-size=\"14.00\" fill=\"#000000\">class = 2</text>\n</g>\n<!-- 78&#45;&gt;79 -->\n<g id=\"edge79\" class=\"edge\">\n<title>78&#45;&gt;79</title>\n<path fill=\"none\" stroke=\"#000000\" d=\"M3280.9189,-1055.8796C3273.826,-1044.7735 3266.1479,-1032.7513 3259.0063,-1021.5691\"/>\n<polygon fill=\"#000000\" stroke=\"#000000\" points=\"3261.7477,-1019.3589 3253.4154,-1012.8149 3255.8482,-1023.1267 3261.7477,-1019.3589\"/>\n</g>\n<!-- 80 -->\n<g id=\"node81\" class=\"node\">\n<title>80</title>\n<path fill=\"#8843e6\" stroke=\"#000000\" d=\"M3450,-1020C3450,-1020 3319,-1020 3319,-1020 3313,-1020 3307,-1014 3307,-1008 3307,-1008 3307,-949 3307,-949 3307,-943 3313,-937 3319,-937 3319,-937 3450,-937 3450,-937 3456,-937 3462,-943 3462,-949 3462,-949 3462,-1008 3462,-1008 3462,-1014 3456,-1020 3450,-1020\"/>\n<text text-anchor=\"start\" x=\"3315\" y=\"-1004.8\" font-family=\"Helvetica,sans-Serif\" font-size=\"14.00\" fill=\"#000000\">histogram_min ≤ 71.5</text>\n<text text-anchor=\"start\" x=\"3346.5\" y=\"-989.8\" font-family=\"Helvetica,sans-Serif\" font-size=\"14.00\" fill=\"#000000\">gini = 0.095</text>\n<text text-anchor=\"start\" x=\"3340.5\" y=\"-974.8\" font-family=\"Helvetica,sans-Serif\" font-size=\"14.00\" fill=\"#000000\">samples = 60</text>\n<text text-anchor=\"start\" x=\"3331\" y=\"-959.8\" font-family=\"Helvetica,sans-Serif\" font-size=\"14.00\" fill=\"#000000\">value = [3, 0, 57]</text>\n<text text-anchor=\"start\" x=\"3355.5\" y=\"-944.8\" font-family=\"Helvetica,sans-Serif\" font-size=\"14.00\" fill=\"#000000\">class = 3</text>\n</g>\n<!-- 78&#45;&gt;80 -->\n<g id=\"edge80\" class=\"edge\">\n<title>78&#45;&gt;80</title>\n<path fill=\"none\" stroke=\"#000000\" d=\"M3334.4309,-1055.8796C3340.0837,-1047.1434 3346.1033,-1037.8404 3351.9366,-1028.8253\"/>\n<polygon fill=\"#000000\" stroke=\"#000000\" points=\"3354.9601,-1030.5952 3357.4542,-1020.2981 3349.0831,-1026.7924 3354.9601,-1030.5952\"/>\n</g>\n<!-- 81 -->\n<g id=\"node82\" class=\"node\">\n<title>81</title>\n<path fill=\"#833de5\" stroke=\"#000000\" d=\"M3356.5,-901C3356.5,-901 3218.5,-901 3218.5,-901 3212.5,-901 3206.5,-895 3206.5,-889 3206.5,-889 3206.5,-830 3206.5,-830 3206.5,-824 3212.5,-818 3218.5,-818 3218.5,-818 3356.5,-818 3356.5,-818 3362.5,-818 3368.5,-824 3368.5,-830 3368.5,-830 3368.5,-889 3368.5,-889 3368.5,-895 3362.5,-901 3356.5,-901\"/>\n<text text-anchor=\"start\" x=\"3214.5\" y=\"-885.8\" font-family=\"Helvetica,sans-Serif\" font-size=\"14.00\" fill=\"#000000\">baseline value ≤ 115.0</text>\n<text text-anchor=\"start\" x=\"3249.5\" y=\"-870.8\" font-family=\"Helvetica,sans-Serif\" font-size=\"14.00\" fill=\"#000000\">gini = 0.034</text>\n<text text-anchor=\"start\" x=\"3243.5\" y=\"-855.8\" font-family=\"Helvetica,sans-Serif\" font-size=\"14.00\" fill=\"#000000\">samples = 57</text>\n<text text-anchor=\"start\" x=\"3234\" y=\"-840.8\" font-family=\"Helvetica,sans-Serif\" font-size=\"14.00\" fill=\"#000000\">value = [1, 0, 56]</text>\n<text text-anchor=\"start\" x=\"3258.5\" y=\"-825.8\" font-family=\"Helvetica,sans-Serif\" font-size=\"14.00\" fill=\"#000000\">class = 3</text>\n</g>\n<!-- 80&#45;&gt;81 -->\n<g id=\"edge81\" class=\"edge\">\n<title>80&#45;&gt;81</title>\n<path fill=\"none\" stroke=\"#000000\" d=\"M3350.5741,-936.8796C3343.3062,-927.9633 3335.557,-918.4565 3328.0672,-909.268\"/>\n<polygon fill=\"#000000\" stroke=\"#000000\" points=\"3330.6018,-906.8379 3321.5707,-901.2981 3325.176,-911.2606 3330.6018,-906.8379\"/>\n</g>\n<!-- 86 -->\n<g id=\"node87\" class=\"node\">\n<title>86</title>\n<path fill=\"#f2c09c\" stroke=\"#000000\" d=\"M3562.5,-901C3562.5,-901 3398.5,-901 3398.5,-901 3392.5,-901 3386.5,-895 3386.5,-889 3386.5,-889 3386.5,-830 3386.5,-830 3386.5,-824 3392.5,-818 3398.5,-818 3398.5,-818 3562.5,-818 3562.5,-818 3568.5,-818 3574.5,-824 3574.5,-830 3574.5,-830 3574.5,-889 3574.5,-889 3574.5,-895 3568.5,-901 3562.5,-901\"/>\n<text text-anchor=\"start\" x=\"3394.5\" y=\"-885.8\" font-family=\"Helvetica,sans-Serif\" font-size=\"14.00\" fill=\"#000000\">histogram_variance ≤ 36.5</text>\n<text text-anchor=\"start\" x=\"3442.5\" y=\"-870.8\" font-family=\"Helvetica,sans-Serif\" font-size=\"14.00\" fill=\"#000000\">gini = 0.444</text>\n<text text-anchor=\"start\" x=\"3441\" y=\"-855.8\" font-family=\"Helvetica,sans-Serif\" font-size=\"14.00\" fill=\"#000000\">samples = 3</text>\n<text text-anchor=\"start\" x=\"3431\" y=\"-840.8\" font-family=\"Helvetica,sans-Serif\" font-size=\"14.00\" fill=\"#000000\">value = [2, 0, 1]</text>\n<text text-anchor=\"start\" x=\"3451.5\" y=\"-825.8\" font-family=\"Helvetica,sans-Serif\" font-size=\"14.00\" fill=\"#000000\">class = 1</text>\n</g>\n<!-- 80&#45;&gt;86 -->\n<g id=\"edge86\" class=\"edge\">\n<title>80&#45;&gt;86</title>\n<path fill=\"none\" stroke=\"#000000\" d=\"M3418.0761,-936.8796C3425.2691,-927.9633 3432.9384,-918.4565 3440.351,-909.268\"/>\n<polygon fill=\"#000000\" stroke=\"#000000\" points=\"3443.2258,-911.2788 3446.7805,-901.2981 3437.7776,-906.8836 3443.2258,-911.2788\"/>\n</g>\n<!-- 82 -->\n<g id=\"node83\" class=\"node\">\n<title>82</title>\n<path fill=\"#965ae9\" stroke=\"#000000\" d=\"M3224.5,-782C3224.5,-782 2950.5,-782 2950.5,-782 2944.5,-782 2938.5,-776 2938.5,-770 2938.5,-770 2938.5,-711 2938.5,-711 2938.5,-705 2944.5,-699 2950.5,-699 2950.5,-699 3224.5,-699 3224.5,-699 3230.5,-699 3236.5,-705 3236.5,-711 3236.5,-711 3236.5,-770 3236.5,-770 3236.5,-776 3230.5,-782 3224.5,-782\"/>\n<text text-anchor=\"start\" x=\"2946.5\" y=\"-766.8\" font-family=\"Helvetica,sans-Serif\" font-size=\"14.00\" fill=\"#000000\">mean_value_of_short_term_variability ≤ 2.3</text>\n<text text-anchor=\"start\" x=\"3049.5\" y=\"-751.8\" font-family=\"Helvetica,sans-Serif\" font-size=\"14.00\" fill=\"#000000\">gini = 0.245</text>\n<text text-anchor=\"start\" x=\"3048\" y=\"-736.8\" font-family=\"Helvetica,sans-Serif\" font-size=\"14.00\" fill=\"#000000\">samples = 7</text>\n<text text-anchor=\"start\" x=\"3038\" y=\"-721.8\" font-family=\"Helvetica,sans-Serif\" font-size=\"14.00\" fill=\"#000000\">value = [1, 0, 6]</text>\n<text text-anchor=\"start\" x=\"3058.5\" y=\"-706.8\" font-family=\"Helvetica,sans-Serif\" font-size=\"14.00\" fill=\"#000000\">class = 3</text>\n</g>\n<!-- 81&#45;&gt;82 -->\n<g id=\"edge82\" class=\"edge\">\n<title>81&#45;&gt;82</title>\n<path fill=\"none\" stroke=\"#000000\" d=\"M3217.5497,-817.8796C3200.9548,-808.0056 3183.1428,-797.4075 3166.188,-787.3193\"/>\n<polygon fill=\"#000000\" stroke=\"#000000\" points=\"3167.7943,-784.2025 3157.4108,-782.0969 3164.215,-790.2181 3167.7943,-784.2025\"/>\n</g>\n<!-- 85 -->\n<g id=\"node86\" class=\"node\">\n<title>85</title>\n<path fill=\"#8139e5\" stroke=\"#000000\" d=\"M3365,-774.5C3365,-774.5 3266,-774.5 3266,-774.5 3260,-774.5 3254,-768.5 3254,-762.5 3254,-762.5 3254,-718.5 3254,-718.5 3254,-712.5 3260,-706.5 3266,-706.5 3266,-706.5 3365,-706.5 3365,-706.5 3371,-706.5 3377,-712.5 3377,-718.5 3377,-718.5 3377,-762.5 3377,-762.5 3377,-768.5 3371,-774.5 3365,-774.5\"/>\n<text text-anchor=\"start\" x=\"3286\" y=\"-759.3\" font-family=\"Helvetica,sans-Serif\" font-size=\"14.00\" fill=\"#000000\">gini = 0.0</text>\n<text text-anchor=\"start\" x=\"3271.5\" y=\"-744.3\" font-family=\"Helvetica,sans-Serif\" font-size=\"14.00\" fill=\"#000000\">samples = 50</text>\n<text text-anchor=\"start\" x=\"3262\" y=\"-729.3\" font-family=\"Helvetica,sans-Serif\" font-size=\"14.00\" fill=\"#000000\">value = [0, 0, 50]</text>\n<text text-anchor=\"start\" x=\"3286.5\" y=\"-714.3\" font-family=\"Helvetica,sans-Serif\" font-size=\"14.00\" fill=\"#000000\">class = 3</text>\n</g>\n<!-- 81&#45;&gt;85 -->\n<g id=\"edge85\" class=\"edge\">\n<title>81&#45;&gt;85</title>\n<path fill=\"none\" stroke=\"#000000\" d=\"M3297.293,-817.8796C3299.8286,-807.1034 3302.5671,-795.4647 3305.1311,-784.5677\"/>\n<polygon fill=\"#000000\" stroke=\"#000000\" points=\"3308.5424,-785.3508 3307.4259,-774.8149 3301.7285,-783.7474 3308.5424,-785.3508\"/>\n</g>\n<!-- 83 -->\n<g id=\"node84\" class=\"node\">\n<title>83</title>\n<path fill=\"#e58139\" stroke=\"#000000\" d=\"M3132,-655.5C3132,-655.5 3041,-655.5 3041,-655.5 3035,-655.5 3029,-649.5 3029,-643.5 3029,-643.5 3029,-599.5 3029,-599.5 3029,-593.5 3035,-587.5 3041,-587.5 3041,-587.5 3132,-587.5 3132,-587.5 3138,-587.5 3144,-593.5 3144,-599.5 3144,-599.5 3144,-643.5 3144,-643.5 3144,-649.5 3138,-655.5 3132,-655.5\"/>\n<text text-anchor=\"start\" x=\"3057\" y=\"-640.3\" font-family=\"Helvetica,sans-Serif\" font-size=\"14.00\" fill=\"#000000\">gini = 0.0</text>\n<text text-anchor=\"start\" x=\"3047\" y=\"-625.3\" font-family=\"Helvetica,sans-Serif\" font-size=\"14.00\" fill=\"#000000\">samples = 1</text>\n<text text-anchor=\"start\" x=\"3037\" y=\"-610.3\" font-family=\"Helvetica,sans-Serif\" font-size=\"14.00\" fill=\"#000000\">value = [1, 0, 0]</text>\n<text text-anchor=\"start\" x=\"3057.5\" y=\"-595.3\" font-family=\"Helvetica,sans-Serif\" font-size=\"14.00\" fill=\"#000000\">class = 1</text>\n</g>\n<!-- 82&#45;&gt;83 -->\n<g id=\"edge83\" class=\"edge\">\n<title>82&#45;&gt;83</title>\n<path fill=\"none\" stroke=\"#000000\" d=\"M3087.1502,-698.8796C3087.0606,-688.2134 3086.9639,-676.7021 3086.8731,-665.9015\"/>\n<polygon fill=\"#000000\" stroke=\"#000000\" points=\"3090.3724,-665.7851 3086.7884,-655.8149 3083.3726,-665.844 3090.3724,-665.7851\"/>\n</g>\n<!-- 84 -->\n<g id=\"node85\" class=\"node\">\n<title>84</title>\n<path fill=\"#8139e5\" stroke=\"#000000\" d=\"M3265,-655.5C3265,-655.5 3174,-655.5 3174,-655.5 3168,-655.5 3162,-649.5 3162,-643.5 3162,-643.5 3162,-599.5 3162,-599.5 3162,-593.5 3168,-587.5 3174,-587.5 3174,-587.5 3265,-587.5 3265,-587.5 3271,-587.5 3277,-593.5 3277,-599.5 3277,-599.5 3277,-643.5 3277,-643.5 3277,-649.5 3271,-655.5 3265,-655.5\"/>\n<text text-anchor=\"start\" x=\"3190\" y=\"-640.3\" font-family=\"Helvetica,sans-Serif\" font-size=\"14.00\" fill=\"#000000\">gini = 0.0</text>\n<text text-anchor=\"start\" x=\"3180\" y=\"-625.3\" font-family=\"Helvetica,sans-Serif\" font-size=\"14.00\" fill=\"#000000\">samples = 6</text>\n<text text-anchor=\"start\" x=\"3170\" y=\"-610.3\" font-family=\"Helvetica,sans-Serif\" font-size=\"14.00\" fill=\"#000000\">value = [0, 0, 6]</text>\n<text text-anchor=\"start\" x=\"3190.5\" y=\"-595.3\" font-family=\"Helvetica,sans-Serif\" font-size=\"14.00\" fill=\"#000000\">class = 3</text>\n</g>\n<!-- 82&#45;&gt;84 -->\n<g id=\"edge84\" class=\"edge\">\n<title>82&#45;&gt;84</title>\n<path fill=\"none\" stroke=\"#000000\" d=\"M3133.6672,-698.8796C3146.7183,-687.1138 3160.9101,-674.3197 3173.9261,-662.5855\"/>\n<polygon fill=\"#000000\" stroke=\"#000000\" points=\"3176.3526,-665.1104 3181.4364,-655.8149 3171.6654,-659.9113 3176.3526,-665.1104\"/>\n</g>\n<!-- 87 -->\n<g id=\"node88\" class=\"node\">\n<title>87</title>\n<path fill=\"#e58139\" stroke=\"#000000\" d=\"M3498,-774.5C3498,-774.5 3407,-774.5 3407,-774.5 3401,-774.5 3395,-768.5 3395,-762.5 3395,-762.5 3395,-718.5 3395,-718.5 3395,-712.5 3401,-706.5 3407,-706.5 3407,-706.5 3498,-706.5 3498,-706.5 3504,-706.5 3510,-712.5 3510,-718.5 3510,-718.5 3510,-762.5 3510,-762.5 3510,-768.5 3504,-774.5 3498,-774.5\"/>\n<text text-anchor=\"start\" x=\"3423\" y=\"-759.3\" font-family=\"Helvetica,sans-Serif\" font-size=\"14.00\" fill=\"#000000\">gini = 0.0</text>\n<text text-anchor=\"start\" x=\"3413\" y=\"-744.3\" font-family=\"Helvetica,sans-Serif\" font-size=\"14.00\" fill=\"#000000\">samples = 2</text>\n<text text-anchor=\"start\" x=\"3403\" y=\"-729.3\" font-family=\"Helvetica,sans-Serif\" font-size=\"14.00\" fill=\"#000000\">value = [2, 0, 0]</text>\n<text text-anchor=\"start\" x=\"3423.5\" y=\"-714.3\" font-family=\"Helvetica,sans-Serif\" font-size=\"14.00\" fill=\"#000000\">class = 1</text>\n</g>\n<!-- 86&#45;&gt;87 -->\n<g id=\"edge87\" class=\"edge\">\n<title>86&#45;&gt;87</title>\n<path fill=\"none\" stroke=\"#000000\" d=\"M3470.707,-817.8796C3468.1714,-807.1034 3465.4329,-795.4647 3462.8689,-784.5677\"/>\n<polygon fill=\"#000000\" stroke=\"#000000\" points=\"3466.2715,-783.7474 3460.5741,-774.8149 3459.4576,-785.3508 3466.2715,-783.7474\"/>\n</g>\n<!-- 88 -->\n<g id=\"node89\" class=\"node\">\n<title>88</title>\n<path fill=\"#8139e5\" stroke=\"#000000\" d=\"M3631,-774.5C3631,-774.5 3540,-774.5 3540,-774.5 3534,-774.5 3528,-768.5 3528,-762.5 3528,-762.5 3528,-718.5 3528,-718.5 3528,-712.5 3534,-706.5 3540,-706.5 3540,-706.5 3631,-706.5 3631,-706.5 3637,-706.5 3643,-712.5 3643,-718.5 3643,-718.5 3643,-762.5 3643,-762.5 3643,-768.5 3637,-774.5 3631,-774.5\"/>\n<text text-anchor=\"start\" x=\"3556\" y=\"-759.3\" font-family=\"Helvetica,sans-Serif\" font-size=\"14.00\" fill=\"#000000\">gini = 0.0</text>\n<text text-anchor=\"start\" x=\"3546\" y=\"-744.3\" font-family=\"Helvetica,sans-Serif\" font-size=\"14.00\" fill=\"#000000\">samples = 1</text>\n<text text-anchor=\"start\" x=\"3536\" y=\"-729.3\" font-family=\"Helvetica,sans-Serif\" font-size=\"14.00\" fill=\"#000000\">value = [0, 0, 1]</text>\n<text text-anchor=\"start\" x=\"3556.5\" y=\"-714.3\" font-family=\"Helvetica,sans-Serif\" font-size=\"14.00\" fill=\"#000000\">class = 3</text>\n</g>\n<!-- 86&#45;&gt;88 -->\n<g id=\"edge88\" class=\"edge\">\n<title>86&#45;&gt;88</title>\n<path fill=\"none\" stroke=\"#000000\" d=\"M3517.2239,-817.8796C3527.3144,-806.4436 3538.2621,-794.0363 3548.375,-782.575\"/>\n<polygon fill=\"#000000\" stroke=\"#000000\" points=\"3551.2303,-784.629 3555.2221,-774.8149 3545.9814,-779.9977 3551.2303,-784.629\"/>\n</g>\n<!-- 91 -->\n<g id=\"node92\" class=\"node\">\n<title>91</title>\n<path fill=\"#e68641\" stroke=\"#000000\" d=\"M5379,-1139C5379,-1139 5166,-1139 5166,-1139 5160,-1139 5154,-1133 5154,-1127 5154,-1127 5154,-1068 5154,-1068 5154,-1062 5160,-1056 5166,-1056 5166,-1056 5379,-1056 5379,-1056 5385,-1056 5391,-1062 5391,-1068 5391,-1068 5391,-1127 5391,-1127 5391,-1133 5385,-1139 5379,-1139\"/>\n<text text-anchor=\"start\" x=\"5162\" y=\"-1123.8\" font-family=\"Helvetica,sans-Serif\" font-size=\"14.00\" fill=\"#000000\">prolongued_decelerations ≤ 0.002</text>\n<text text-anchor=\"start\" x=\"5234.5\" y=\"-1108.8\" font-family=\"Helvetica,sans-Serif\" font-size=\"14.00\" fill=\"#000000\">gini = 0.073</text>\n<text text-anchor=\"start\" x=\"5224.5\" y=\"-1093.8\" font-family=\"Helvetica,sans-Serif\" font-size=\"14.00\" fill=\"#000000\">samples = 951</text>\n<text text-anchor=\"start\" x=\"5210.5\" y=\"-1078.8\" font-family=\"Helvetica,sans-Serif\" font-size=\"14.00\" fill=\"#000000\">value = [915, 30, 6]</text>\n<text text-anchor=\"start\" x=\"5243.5\" y=\"-1063.8\" font-family=\"Helvetica,sans-Serif\" font-size=\"14.00\" fill=\"#000000\">class = 1</text>\n</g>\n<!-- 90&#45;&gt;91 -->\n<g id=\"edge91\" class=\"edge\">\n<title>90&#45;&gt;91</title>\n<path fill=\"none\" stroke=\"#000000\" d=\"M5272.5,-1174.8796C5272.5,-1166.6838 5272.5,-1157.9891 5272.5,-1149.5013\"/>\n<polygon fill=\"#000000\" stroke=\"#000000\" points=\"5276.0001,-1149.298 5272.5,-1139.2981 5269.0001,-1149.2981 5276.0001,-1149.298\"/>\n</g>\n<!-- 164 -->\n<g id=\"node165\" class=\"node\">\n<title>164</title>\n<path fill=\"#eda978\" stroke=\"#000000\" d=\"M6357,-1139C6357,-1139 6226,-1139 6226,-1139 6220,-1139 6214,-1133 6214,-1127 6214,-1127 6214,-1068 6214,-1068 6214,-1062 6220,-1056 6226,-1056 6226,-1056 6357,-1056 6357,-1056 6363,-1056 6369,-1062 6369,-1068 6369,-1068 6369,-1127 6369,-1127 6369,-1133 6363,-1139 6357,-1139\"/>\n<text text-anchor=\"start\" x=\"6222\" y=\"-1123.8\" font-family=\"Helvetica,sans-Serif\" font-size=\"14.00\" fill=\"#000000\">accelerations ≤ 0.003</text>\n<text text-anchor=\"start\" x=\"6253.5\" y=\"-1108.8\" font-family=\"Helvetica,sans-Serif\" font-size=\"14.00\" fill=\"#000000\">gini = 0.366</text>\n<text text-anchor=\"start\" x=\"6243.5\" y=\"-1093.8\" font-family=\"Helvetica,sans-Serif\" font-size=\"14.00\" fill=\"#000000\">samples = 137</text>\n<text text-anchor=\"start\" x=\"6229.5\" y=\"-1078.8\" font-family=\"Helvetica,sans-Serif\" font-size=\"14.00\" fill=\"#000000\">value = [104, 33, 0]</text>\n<text text-anchor=\"start\" x=\"6262.5\" y=\"-1063.8\" font-family=\"Helvetica,sans-Serif\" font-size=\"14.00\" fill=\"#000000\">class = 1</text>\n</g>\n<!-- 90&#45;&gt;164 -->\n<g id=\"edge164\" class=\"edge\">\n<title>90&#45;&gt;164</title>\n<path fill=\"none\" stroke=\"#000000\" d=\"M5353.7383,-1207.0129C5542.3835,-1184.9827 6008.8289,-1130.5107 6203.7202,-1107.751\"/>\n<polygon fill=\"#000000\" stroke=\"#000000\" points=\"6204.3911,-1111.1966 6213.9176,-1106.5602 6203.5791,-1104.2438 6204.3911,-1111.1966\"/>\n</g>\n<!-- 92 -->\n<g id=\"node93\" class=\"node\">\n<title>92</title>\n<path fill=\"#e6853f\" stroke=\"#000000\" d=\"M5170,-1020C5170,-1020 4761,-1020 4761,-1020 4755,-1020 4749,-1014 4749,-1008 4749,-1008 4749,-949 4749,-949 4749,-943 4755,-937 4761,-937 4761,-937 5170,-937 5170,-937 5176,-937 5182,-943 5182,-949 5182,-949 5182,-1008 5182,-1008 5182,-1014 5176,-1020 5170,-1020\"/>\n<text text-anchor=\"start\" x=\"4757\" y=\"-1004.8\" font-family=\"Helvetica,sans-Serif\" font-size=\"14.00\" fill=\"#000000\">percentage_of_time_with_abnormal_long_term_variability ≤ 13.5</text>\n<text text-anchor=\"start\" x=\"4927.5\" y=\"-989.8\" font-family=\"Helvetica,sans-Serif\" font-size=\"14.00\" fill=\"#000000\">gini = 0.054</text>\n<text text-anchor=\"start\" x=\"4917.5\" y=\"-974.8\" font-family=\"Helvetica,sans-Serif\" font-size=\"14.00\" fill=\"#000000\">samples = 930</text>\n<text text-anchor=\"start\" x=\"4903.5\" y=\"-959.8\" font-family=\"Helvetica,sans-Serif\" font-size=\"14.00\" fill=\"#000000\">value = [904, 25, 1]</text>\n<text text-anchor=\"start\" x=\"4936.5\" y=\"-944.8\" font-family=\"Helvetica,sans-Serif\" font-size=\"14.00\" fill=\"#000000\">class = 1</text>\n</g>\n<!-- 91&#45;&gt;92 -->\n<g id=\"edge92\" class=\"edge\">\n<title>91&#45;&gt;92</title>\n<path fill=\"none\" stroke=\"#000000\" d=\"M5165.1263,-1055.8796C5138.3678,-1045.5074 5109.5477,-1034.3361 5082.3568,-1023.7963\"/>\n<polygon fill=\"#000000\" stroke=\"#000000\" points=\"5083.4021,-1020.4478 5072.8131,-1020.0969 5080.8721,-1026.9746 5083.4021,-1020.4478\"/>\n</g>\n<!-- 151 -->\n<g id=\"node152\" class=\"node\">\n<title>151</title>\n<path fill=\"#f5d0b5\" stroke=\"#000000\" d=\"M5553.5,-1020C5553.5,-1020 5415.5,-1020 5415.5,-1020 5409.5,-1020 5403.5,-1014 5403.5,-1008 5403.5,-1008 5403.5,-949 5403.5,-949 5403.5,-943 5409.5,-937 5415.5,-937 5415.5,-937 5553.5,-937 5553.5,-937 5559.5,-937 5565.5,-943 5565.5,-949 5565.5,-949 5565.5,-1008 5565.5,-1008 5565.5,-1014 5559.5,-1020 5553.5,-1020\"/>\n<text text-anchor=\"start\" x=\"5411.5\" y=\"-1004.8\" font-family=\"Helvetica,sans-Serif\" font-size=\"14.00\" fill=\"#000000\">baseline value ≤ 137.0</text>\n<text text-anchor=\"start\" x=\"5446.5\" y=\"-989.8\" font-family=\"Helvetica,sans-Serif\" font-size=\"14.00\" fill=\"#000000\">gini = 0.612</text>\n<text text-anchor=\"start\" x=\"5440.5\" y=\"-974.8\" font-family=\"Helvetica,sans-Serif\" font-size=\"14.00\" fill=\"#000000\">samples = 21</text>\n<text text-anchor=\"start\" x=\"5431\" y=\"-959.8\" font-family=\"Helvetica,sans-Serif\" font-size=\"14.00\" fill=\"#000000\">value = [11, 5, 5]</text>\n<text text-anchor=\"start\" x=\"5455.5\" y=\"-944.8\" font-family=\"Helvetica,sans-Serif\" font-size=\"14.00\" fill=\"#000000\">class = 1</text>\n</g>\n<!-- 91&#45;&gt;151 -->\n<g id=\"edge151\" class=\"edge\">\n<title>91&#45;&gt;151</title>\n<path fill=\"none\" stroke=\"#000000\" d=\"M5346.6473,-1055.8796C5364.3993,-1045.915 5383.4652,-1035.2129 5401.5852,-1025.0418\"/>\n<polygon fill=\"#000000\" stroke=\"#000000\" points=\"5403.3876,-1028.0438 5410.3946,-1020.0969 5399.9612,-1021.9397 5403.3876,-1028.0438\"/>\n</g>\n<!-- 93 -->\n<g id=\"node94\" class=\"node\">\n<title>93</title>\n<path fill=\"#e5833b\" stroke=\"#000000\" d=\"M4066,-901C4066,-901 3913,-901 3913,-901 3907,-901 3901,-895 3901,-889 3901,-889 3901,-830 3901,-830 3901,-824 3907,-818 3913,-818 3913,-818 4066,-818 4066,-818 4072,-818 4078,-824 4078,-830 4078,-830 4078,-889 4078,-889 4078,-895 4072,-901 4066,-901\"/>\n<text text-anchor=\"start\" x=\"3909\" y=\"-885.8\" font-family=\"Helvetica,sans-Serif\" font-size=\"14.00\" fill=\"#000000\">histogram_mode ≤ 102.5</text>\n<text text-anchor=\"start\" x=\"3951.5\" y=\"-870.8\" font-family=\"Helvetica,sans-Serif\" font-size=\"14.00\" fill=\"#000000\">gini = 0.024</text>\n<text text-anchor=\"start\" x=\"3941.5\" y=\"-855.8\" font-family=\"Helvetica,sans-Serif\" font-size=\"14.00\" fill=\"#000000\">samples = 834</text>\n<text text-anchor=\"start\" x=\"3932\" y=\"-840.8\" font-family=\"Helvetica,sans-Serif\" font-size=\"14.00\" fill=\"#000000\">value = [824, 9, 1]</text>\n<text text-anchor=\"start\" x=\"3960.5\" y=\"-825.8\" font-family=\"Helvetica,sans-Serif\" font-size=\"14.00\" fill=\"#000000\">class = 1</text>\n</g>\n<!-- 92&#45;&gt;93 -->\n<g id=\"edge93\" class=\"edge\">\n<title>92&#45;&gt;93</title>\n<path fill=\"none\" stroke=\"#000000\" d=\"M4748.894,-952.09C4543.0254,-926.9893 4242.6724,-890.3684 4088.6623,-871.5905\"/>\n<polygon fill=\"#000000\" stroke=\"#000000\" points=\"4088.6311,-868.0608 4078.281,-870.3247 4087.7838,-875.0094 4088.6311,-868.0608\"/>\n</g>\n<!-- 128 -->\n<g id=\"node129\" class=\"node\">\n<title>128</title>\n<path fill=\"#ea9a61\" stroke=\"#000000\" d=\"M5042,-901C5042,-901 4889,-901 4889,-901 4883,-901 4877,-895 4877,-889 4877,-889 4877,-830 4877,-830 4877,-824 4883,-818 4889,-818 4889,-818 5042,-818 5042,-818 5048,-818 5054,-824 5054,-830 5054,-830 5054,-889 5054,-889 5054,-895 5048,-901 5042,-901\"/>\n<text text-anchor=\"start\" x=\"4885\" y=\"-885.8\" font-family=\"Helvetica,sans-Serif\" font-size=\"14.00\" fill=\"#000000\">histogram_mean ≤ 149.5</text>\n<text text-anchor=\"start\" x=\"4927.5\" y=\"-870.8\" font-family=\"Helvetica,sans-Serif\" font-size=\"14.00\" fill=\"#000000\">gini = 0.278</text>\n<text text-anchor=\"start\" x=\"4921.5\" y=\"-855.8\" font-family=\"Helvetica,sans-Serif\" font-size=\"14.00\" fill=\"#000000\">samples = 96</text>\n<text text-anchor=\"start\" x=\"4908\" y=\"-840.8\" font-family=\"Helvetica,sans-Serif\" font-size=\"14.00\" fill=\"#000000\">value = [80, 16, 0]</text>\n<text text-anchor=\"start\" x=\"4936.5\" y=\"-825.8\" font-family=\"Helvetica,sans-Serif\" font-size=\"14.00\" fill=\"#000000\">class = 1</text>\n</g>\n<!-- 92&#45;&gt;128 -->\n<g id=\"edge128\" class=\"edge\">\n<title>92&#45;&gt;128</title>\n<path fill=\"none\" stroke=\"#000000\" d=\"M4965.5,-936.8796C4965.5,-928.6838 4965.5,-919.9891 4965.5,-911.5013\"/>\n<polygon fill=\"#000000\" stroke=\"#000000\" points=\"4969.0001,-911.298 4965.5,-901.2981 4962.0001,-911.2981 4969.0001,-911.298\"/>\n</g>\n<!-- 94 -->\n<g id=\"node95\" class=\"node\">\n<title>94</title>\n<path fill=\"#f2c09c\" stroke=\"#000000\" d=\"M3804,-782C3804,-782 3673,-782 3673,-782 3667,-782 3661,-776 3661,-770 3661,-770 3661,-711 3661,-711 3661,-705 3667,-699 3673,-699 3673,-699 3804,-699 3804,-699 3810,-699 3816,-705 3816,-711 3816,-711 3816,-770 3816,-770 3816,-776 3810,-782 3804,-782\"/>\n<text text-anchor=\"start\" x=\"3669\" y=\"-766.8\" font-family=\"Helvetica,sans-Serif\" font-size=\"14.00\" fill=\"#000000\">histogram_min ≤ 60.5</text>\n<text text-anchor=\"start\" x=\"3700.5\" y=\"-751.8\" font-family=\"Helvetica,sans-Serif\" font-size=\"14.00\" fill=\"#000000\">gini = 0.444</text>\n<text text-anchor=\"start\" x=\"3699\" y=\"-736.8\" font-family=\"Helvetica,sans-Serif\" font-size=\"14.00\" fill=\"#000000\">samples = 3</text>\n<text text-anchor=\"start\" x=\"3689\" y=\"-721.8\" font-family=\"Helvetica,sans-Serif\" font-size=\"14.00\" fill=\"#000000\">value = [2, 0, 1]</text>\n<text text-anchor=\"start\" x=\"3709.5\" y=\"-706.8\" font-family=\"Helvetica,sans-Serif\" font-size=\"14.00\" fill=\"#000000\">class = 1</text>\n</g>\n<!-- 93&#45;&gt;94 -->\n<g id=\"edge94\" class=\"edge\">\n<title>93&#45;&gt;94</title>\n<path fill=\"none\" stroke=\"#000000\" d=\"M3901.7124,-817.8796C3877.0175,-806.1716 3850.1749,-793.4455 3825.5247,-781.7587\"/>\n<polygon fill=\"#000000\" stroke=\"#000000\" points=\"3826.729,-778.4563 3816.1937,-777.3349 3823.7302,-784.7814 3826.729,-778.4563\"/>\n</g>\n<!-- 97 -->\n<g id=\"node98\" class=\"node\">\n<title>97</title>\n<path fill=\"#e5823b\" stroke=\"#000000\" d=\"M4130.5,-782C4130.5,-782 3848.5,-782 3848.5,-782 3842.5,-782 3836.5,-776 3836.5,-770 3836.5,-770 3836.5,-711 3836.5,-711 3836.5,-705 3842.5,-699 3848.5,-699 3848.5,-699 4130.5,-699 4130.5,-699 4136.5,-699 4142.5,-705 4142.5,-711 4142.5,-711 4142.5,-770 4142.5,-770 4142.5,-776 4136.5,-782 4130.5,-782\"/>\n<text text-anchor=\"start\" x=\"3844.5\" y=\"-766.8\" font-family=\"Helvetica,sans-Serif\" font-size=\"14.00\" fill=\"#000000\">mean_value_of_short_term_variability ≤ 0.65</text>\n<text text-anchor=\"start\" x=\"3951.5\" y=\"-751.8\" font-family=\"Helvetica,sans-Serif\" font-size=\"14.00\" fill=\"#000000\">gini = 0.021</text>\n<text text-anchor=\"start\" x=\"3941.5\" y=\"-736.8\" font-family=\"Helvetica,sans-Serif\" font-size=\"14.00\" fill=\"#000000\">samples = 831</text>\n<text text-anchor=\"start\" x=\"3932\" y=\"-721.8\" font-family=\"Helvetica,sans-Serif\" font-size=\"14.00\" fill=\"#000000\">value = [822, 9, 0]</text>\n<text text-anchor=\"start\" x=\"3960.5\" y=\"-706.8\" font-family=\"Helvetica,sans-Serif\" font-size=\"14.00\" fill=\"#000000\">class = 1</text>\n</g>\n<!-- 93&#45;&gt;97 -->\n<g id=\"edge97\" class=\"edge\">\n<title>93&#45;&gt;97</title>\n<path fill=\"none\" stroke=\"#000000\" d=\"M3989.5,-817.8796C3989.5,-809.6838 3989.5,-800.9891 3989.5,-792.5013\"/>\n<polygon fill=\"#000000\" stroke=\"#000000\" points=\"3993.0001,-792.298 3989.5,-782.2981 3986.0001,-792.2981 3993.0001,-792.298\"/>\n</g>\n<!-- 95 -->\n<g id=\"node96\" class=\"node\">\n<title>95</title>\n<path fill=\"#8139e5\" stroke=\"#000000\" d=\"M3609,-655.5C3609,-655.5 3518,-655.5 3518,-655.5 3512,-655.5 3506,-649.5 3506,-643.5 3506,-643.5 3506,-599.5 3506,-599.5 3506,-593.5 3512,-587.5 3518,-587.5 3518,-587.5 3609,-587.5 3609,-587.5 3615,-587.5 3621,-593.5 3621,-599.5 3621,-599.5 3621,-643.5 3621,-643.5 3621,-649.5 3615,-655.5 3609,-655.5\"/>\n<text text-anchor=\"start\" x=\"3534\" y=\"-640.3\" font-family=\"Helvetica,sans-Serif\" font-size=\"14.00\" fill=\"#000000\">gini = 0.0</text>\n<text text-anchor=\"start\" x=\"3524\" y=\"-625.3\" font-family=\"Helvetica,sans-Serif\" font-size=\"14.00\" fill=\"#000000\">samples = 1</text>\n<text text-anchor=\"start\" x=\"3514\" y=\"-610.3\" font-family=\"Helvetica,sans-Serif\" font-size=\"14.00\" fill=\"#000000\">value = [0, 0, 1]</text>\n<text text-anchor=\"start\" x=\"3534.5\" y=\"-595.3\" font-family=\"Helvetica,sans-Serif\" font-size=\"14.00\" fill=\"#000000\">class = 3</text>\n</g>\n<!-- 94&#45;&gt;95 -->\n<g id=\"edge95\" class=\"edge\">\n<title>94&#45;&gt;95</title>\n<path fill=\"none\" stroke=\"#000000\" d=\"M3677.2935,-698.8796C3659.421,-686.7263 3639.9351,-673.4759 3622.2202,-661.4297\"/>\n<polygon fill=\"#000000\" stroke=\"#000000\" points=\"3623.9183,-658.3519 3613.6809,-655.623 3619.9821,-664.1404 3623.9183,-658.3519\"/>\n</g>\n<!-- 96 -->\n<g id=\"node97\" class=\"node\">\n<title>96</title>\n<path fill=\"#e58139\" stroke=\"#000000\" d=\"M3742,-655.5C3742,-655.5 3651,-655.5 3651,-655.5 3645,-655.5 3639,-649.5 3639,-643.5 3639,-643.5 3639,-599.5 3639,-599.5 3639,-593.5 3645,-587.5 3651,-587.5 3651,-587.5 3742,-587.5 3742,-587.5 3748,-587.5 3754,-593.5 3754,-599.5 3754,-599.5 3754,-643.5 3754,-643.5 3754,-649.5 3748,-655.5 3742,-655.5\"/>\n<text text-anchor=\"start\" x=\"3667\" y=\"-640.3\" font-family=\"Helvetica,sans-Serif\" font-size=\"14.00\" fill=\"#000000\">gini = 0.0</text>\n<text text-anchor=\"start\" x=\"3657\" y=\"-625.3\" font-family=\"Helvetica,sans-Serif\" font-size=\"14.00\" fill=\"#000000\">samples = 2</text>\n<text text-anchor=\"start\" x=\"3647\" y=\"-610.3\" font-family=\"Helvetica,sans-Serif\" font-size=\"14.00\" fill=\"#000000\">value = [2, 0, 0]</text>\n<text text-anchor=\"start\" x=\"3667.5\" y=\"-595.3\" font-family=\"Helvetica,sans-Serif\" font-size=\"14.00\" fill=\"#000000\">class = 1</text>\n</g>\n<!-- 94&#45;&gt;96 -->\n<g id=\"edge96\" class=\"edge\">\n<title>94&#45;&gt;96</title>\n<path fill=\"none\" stroke=\"#000000\" d=\"M3723.8104,-698.8796C3720.0071,-688.1034 3715.8993,-676.4647 3712.0533,-665.5677\"/>\n<polygon fill=\"#000000\" stroke=\"#000000\" points=\"3715.2399,-664.08 3708.6112,-655.8149 3708.639,-666.4097 3715.2399,-664.08\"/>\n</g>\n<!-- 98 -->\n<g id=\"node99\" class=\"node\">\n<title>98</title>\n<path fill=\"#e88e4d\" stroke=\"#000000\" d=\"M3915,-663C3915,-663 3784,-663 3784,-663 3778,-663 3772,-657 3772,-651 3772,-651 3772,-592 3772,-592 3772,-586 3778,-580 3784,-580 3784,-580 3915,-580 3915,-580 3921,-580 3927,-586 3927,-592 3927,-592 3927,-651 3927,-651 3927,-657 3921,-663 3915,-663\"/>\n<text text-anchor=\"start\" x=\"3780\" y=\"-647.8\" font-family=\"Helvetica,sans-Serif\" font-size=\"14.00\" fill=\"#000000\">histogram_min ≤ 63.5</text>\n<text text-anchor=\"start\" x=\"3816\" y=\"-632.8\" font-family=\"Helvetica,sans-Serif\" font-size=\"14.00\" fill=\"#000000\">gini = 0.17</text>\n<text text-anchor=\"start\" x=\"3805.5\" y=\"-617.8\" font-family=\"Helvetica,sans-Serif\" font-size=\"14.00\" fill=\"#000000\">samples = 32</text>\n<text text-anchor=\"start\" x=\"3796\" y=\"-602.8\" font-family=\"Helvetica,sans-Serif\" font-size=\"14.00\" fill=\"#000000\">value = [29, 3, 0]</text>\n<text text-anchor=\"start\" x=\"3820.5\" y=\"-587.8\" font-family=\"Helvetica,sans-Serif\" font-size=\"14.00\" fill=\"#000000\">class = 1</text>\n</g>\n<!-- 97&#45;&gt;98 -->\n<g id=\"edge98\" class=\"edge\">\n<title>97&#45;&gt;98</title>\n<path fill=\"none\" stroke=\"#000000\" d=\"M3940.5348,-698.8796C3929.5153,-689.513 3917.7291,-679.4948 3906.4158,-669.8784\"/>\n<polygon fill=\"#000000\" stroke=\"#000000\" points=\"3908.5604,-667.1078 3898.6742,-663.2981 3904.0268,-672.4414 3908.5604,-667.1078\"/>\n</g>\n<!-- 109 -->\n<g id=\"node110\" class=\"node\">\n<title>109</title>\n<path fill=\"#e5823a\" stroke=\"#000000\" d=\"M4107.5,-663C4107.5,-663 3957.5,-663 3957.5,-663 3951.5,-663 3945.5,-657 3945.5,-651 3945.5,-651 3945.5,-592 3945.5,-592 3945.5,-586 3951.5,-580 3957.5,-580 3957.5,-580 4107.5,-580 4107.5,-580 4113.5,-580 4119.5,-586 4119.5,-592 4119.5,-592 4119.5,-651 4119.5,-651 4119.5,-657 4113.5,-663 4107.5,-663\"/>\n<text text-anchor=\"start\" x=\"3953.5\" y=\"-647.8\" font-family=\"Helvetica,sans-Serif\" font-size=\"14.00\" fill=\"#000000\">histogram_width ≤ 140.0</text>\n<text text-anchor=\"start\" x=\"3994.5\" y=\"-632.8\" font-family=\"Helvetica,sans-Serif\" font-size=\"14.00\" fill=\"#000000\">gini = 0.015</text>\n<text text-anchor=\"start\" x=\"3984.5\" y=\"-617.8\" font-family=\"Helvetica,sans-Serif\" font-size=\"14.00\" fill=\"#000000\">samples = 799</text>\n<text text-anchor=\"start\" x=\"3975\" y=\"-602.8\" font-family=\"Helvetica,sans-Serif\" font-size=\"14.00\" fill=\"#000000\">value = [793, 6, 0]</text>\n<text text-anchor=\"start\" x=\"4003.5\" y=\"-587.8\" font-family=\"Helvetica,sans-Serif\" font-size=\"14.00\" fill=\"#000000\">class = 1</text>\n</g>\n<!-- 97&#45;&gt;109 -->\n<g id=\"edge109\" class=\"edge\">\n<title>97&#45;&gt;109</title>\n<path fill=\"none\" stroke=\"#000000\" d=\"M4004.5393,-698.8796C4007.5659,-690.5037 4010.7808,-681.6067 4013.9117,-672.942\"/>\n<polygon fill=\"#000000\" stroke=\"#000000\" points=\"4017.2897,-673.8924 4017.3965,-663.2981 4010.7063,-671.5135 4017.2897,-673.8924\"/>\n</g>\n<!-- 99 -->\n<g id=\"node100\" class=\"node\">\n<title>99</title>\n<path fill=\"#39e581\" stroke=\"#000000\" d=\"M3259,-536.5C3259,-536.5 3168,-536.5 3168,-536.5 3162,-536.5 3156,-530.5 3156,-524.5 3156,-524.5 3156,-480.5 3156,-480.5 3156,-474.5 3162,-468.5 3168,-468.5 3168,-468.5 3259,-468.5 3259,-468.5 3265,-468.5 3271,-474.5 3271,-480.5 3271,-480.5 3271,-524.5 3271,-524.5 3271,-530.5 3265,-536.5 3259,-536.5\"/>\n<text text-anchor=\"start\" x=\"3184\" y=\"-521.3\" font-family=\"Helvetica,sans-Serif\" font-size=\"14.00\" fill=\"#000000\">gini = 0.0</text>\n<text text-anchor=\"start\" x=\"3174\" y=\"-506.3\" font-family=\"Helvetica,sans-Serif\" font-size=\"14.00\" fill=\"#000000\">samples = 1</text>\n<text text-anchor=\"start\" x=\"3164\" y=\"-491.3\" font-family=\"Helvetica,sans-Serif\" font-size=\"14.00\" fill=\"#000000\">value = [0, 1, 0]</text>\n<text text-anchor=\"start\" x=\"3184.5\" y=\"-476.3\" font-family=\"Helvetica,sans-Serif\" font-size=\"14.00\" fill=\"#000000\">class = 2</text>\n</g>\n<!-- 98&#45;&gt;99 -->\n<g id=\"edge99\" class=\"edge\">\n<title>98&#45;&gt;99</title>\n<path fill=\"none\" stroke=\"#000000\" d=\"M3771.7675,-582.7522C3768.6688,-581.741 3765.5729,-580.8169 3762.5,-580 3554.8912,-524.8117 3484.7785,-610.464 3280.5,-544 3277.6009,-543.0568 3274.699,-541.9633 3271.8166,-540.753\"/>\n<polygon fill=\"#000000\" stroke=\"#000000\" points=\"3273.2499,-537.5597 3262.7052,-536.5306 3270.3066,-543.9109 3273.2499,-537.5597\"/>\n</g>\n<!-- 100 -->\n<g id=\"node101\" class=\"node\">\n<title>100</title>\n<path fill=\"#e78a47\" stroke=\"#000000\" d=\"M3543.5,-544C3543.5,-544 3301.5,-544 3301.5,-544 3295.5,-544 3289.5,-538 3289.5,-532 3289.5,-532 3289.5,-473 3289.5,-473 3289.5,-467 3295.5,-461 3301.5,-461 3301.5,-461 3543.5,-461 3543.5,-461 3549.5,-461 3555.5,-467 3555.5,-473 3555.5,-473 3555.5,-532 3555.5,-532 3555.5,-538 3549.5,-544 3543.5,-544\"/>\n<text text-anchor=\"start\" x=\"3297.5\" y=\"-528.8\" font-family=\"Helvetica,sans-Serif\" font-size=\"14.00\" fill=\"#000000\">abnormal_short_term_variability ≤ 64.5</text>\n<text text-anchor=\"start\" x=\"3384.5\" y=\"-513.8\" font-family=\"Helvetica,sans-Serif\" font-size=\"14.00\" fill=\"#000000\">gini = 0.121</text>\n<text text-anchor=\"start\" x=\"3378.5\" y=\"-498.8\" font-family=\"Helvetica,sans-Serif\" font-size=\"14.00\" fill=\"#000000\">samples = 31</text>\n<text text-anchor=\"start\" x=\"3369\" y=\"-483.8\" font-family=\"Helvetica,sans-Serif\" font-size=\"14.00\" fill=\"#000000\">value = [29, 2, 0]</text>\n<text text-anchor=\"start\" x=\"3393.5\" y=\"-468.8\" font-family=\"Helvetica,sans-Serif\" font-size=\"14.00\" fill=\"#000000\">class = 1</text>\n</g>\n<!-- 98&#45;&gt;100 -->\n<g id=\"edge100\" class=\"edge\">\n<title>98&#45;&gt;100</title>\n<path fill=\"none\" stroke=\"#000000\" d=\"M3771.5885,-583.3366C3768.5399,-582.1619 3765.5032,-581.0441 3762.5,-580 3699.258,-558.0125 3627.2042,-540.5587 3565.7547,-527.825\"/>\n<polygon fill=\"#000000\" stroke=\"#000000\" points=\"3566.0931,-524.3216 3555.5939,-525.7422 3564.6874,-531.1791 3566.0931,-524.3216\"/>\n</g>\n<!-- 101 -->\n<g id=\"node102\" class=\"node\">\n<title>101</title>\n<path fill=\"#e68640\" stroke=\"#000000\" d=\"M3045,-425C3045,-425 2914,-425 2914,-425 2908,-425 2902,-419 2902,-413 2902,-413 2902,-354 2902,-354 2902,-348 2908,-342 2914,-342 2914,-342 3045,-342 3045,-342 3051,-342 3057,-348 3057,-354 3057,-354 3057,-413 3057,-413 3057,-419 3051,-425 3045,-425\"/>\n<text text-anchor=\"start\" x=\"2910\" y=\"-409.8\" font-family=\"Helvetica,sans-Serif\" font-size=\"14.00\" fill=\"#000000\">histogram_min ≤ 89.5</text>\n<text text-anchor=\"start\" x=\"2941.5\" y=\"-394.8\" font-family=\"Helvetica,sans-Serif\" font-size=\"14.00\" fill=\"#000000\">gini = 0.069</text>\n<text text-anchor=\"start\" x=\"2935.5\" y=\"-379.8\" font-family=\"Helvetica,sans-Serif\" font-size=\"14.00\" fill=\"#000000\">samples = 28</text>\n<text text-anchor=\"start\" x=\"2926\" y=\"-364.8\" font-family=\"Helvetica,sans-Serif\" font-size=\"14.00\" fill=\"#000000\">value = [27, 1, 0]</text>\n<text text-anchor=\"start\" x=\"2950.5\" y=\"-349.8\" font-family=\"Helvetica,sans-Serif\" font-size=\"14.00\" fill=\"#000000\">class = 1</text>\n</g>\n<!-- 100&#45;&gt;101 -->\n<g id=\"edge101\" class=\"edge\">\n<title>100&#45;&gt;101</title>\n<path fill=\"none\" stroke=\"#000000\" d=\"M3289.3293,-463.7124C3286.0215,-462.7941 3282.741,-461.8887 3279.5,-461 3208.1206,-441.4273 3126.809,-420.5067 3066.8606,-405.3409\"/>\n<polygon fill=\"#000000\" stroke=\"#000000\" points=\"3067.6053,-401.9192 3057.0526,-402.8628 3065.8905,-408.7059 3067.6053,-401.9192\"/>\n</g>\n<!-- 106 -->\n<g id=\"node107\" class=\"node\">\n<title>106</title>\n<path fill=\"#f2c09c\" stroke=\"#000000\" d=\"M3318.5,-425C3318.5,-425 3180.5,-425 3180.5,-425 3174.5,-425 3168.5,-419 3168.5,-413 3168.5,-413 3168.5,-354 3168.5,-354 3168.5,-348 3174.5,-342 3180.5,-342 3180.5,-342 3318.5,-342 3318.5,-342 3324.5,-342 3330.5,-348 3330.5,-354 3330.5,-354 3330.5,-413 3330.5,-413 3330.5,-419 3324.5,-425 3318.5,-425\"/>\n<text text-anchor=\"start\" x=\"3176.5\" y=\"-409.8\" font-family=\"Helvetica,sans-Serif\" font-size=\"14.00\" fill=\"#000000\">baseline value ≤ 138.0</text>\n<text text-anchor=\"start\" x=\"3211.5\" y=\"-394.8\" font-family=\"Helvetica,sans-Serif\" font-size=\"14.00\" fill=\"#000000\">gini = 0.444</text>\n<text text-anchor=\"start\" x=\"3210\" y=\"-379.8\" font-family=\"Helvetica,sans-Serif\" font-size=\"14.00\" fill=\"#000000\">samples = 3</text>\n<text text-anchor=\"start\" x=\"3200\" y=\"-364.8\" font-family=\"Helvetica,sans-Serif\" font-size=\"14.00\" fill=\"#000000\">value = [2, 1, 0]</text>\n<text text-anchor=\"start\" x=\"3220.5\" y=\"-349.8\" font-family=\"Helvetica,sans-Serif\" font-size=\"14.00\" fill=\"#000000\">class = 1</text>\n</g>\n<!-- 100&#45;&gt;106 -->\n<g id=\"edge106\" class=\"edge\">\n<title>100&#45;&gt;106</title>\n<path fill=\"none\" stroke=\"#000000\" d=\"M3361.993,-460.8796C3347.9018,-451.1868 3332.7961,-440.7961 3318.3731,-430.8752\"/>\n<polygon fill=\"#000000\" stroke=\"#000000\" points=\"3320.1955,-427.8806 3309.9728,-425.0969 3316.2283,-433.6479 3320.1955,-427.8806\"/>\n</g>\n<!-- 102 -->\n<g id=\"node103\" class=\"node\">\n<title>102</title>\n<path fill=\"#eca06a\" stroke=\"#000000\" d=\"M2888,-306C2888,-306 2735,-306 2735,-306 2729,-306 2723,-300 2723,-294 2723,-294 2723,-235 2723,-235 2723,-229 2729,-223 2735,-223 2735,-223 2888,-223 2888,-223 2894,-223 2900,-229 2900,-235 2900,-235 2900,-294 2900,-294 2900,-300 2894,-306 2888,-306\"/>\n<text text-anchor=\"start\" x=\"2731\" y=\"-290.8\" font-family=\"Helvetica,sans-Serif\" font-size=\"14.00\" fill=\"#000000\">histogram_mean ≤ 128.0</text>\n<text text-anchor=\"start\" x=\"2778\" y=\"-275.8\" font-family=\"Helvetica,sans-Serif\" font-size=\"14.00\" fill=\"#000000\">gini = 0.32</text>\n<text text-anchor=\"start\" x=\"2772\" y=\"-260.8\" font-family=\"Helvetica,sans-Serif\" font-size=\"14.00\" fill=\"#000000\">samples = 5</text>\n<text text-anchor=\"start\" x=\"2762\" y=\"-245.8\" font-family=\"Helvetica,sans-Serif\" font-size=\"14.00\" fill=\"#000000\">value = [4, 1, 0]</text>\n<text text-anchor=\"start\" x=\"2782.5\" y=\"-230.8\" font-family=\"Helvetica,sans-Serif\" font-size=\"14.00\" fill=\"#000000\">class = 1</text>\n</g>\n<!-- 101&#45;&gt;102 -->\n<g id=\"edge102\" class=\"edge\">\n<title>101&#45;&gt;102</title>\n<path fill=\"none\" stroke=\"#000000\" d=\"M2920.7418,-341.8796C2907.1857,-332.2774 2892.6628,-321.9903 2878.7754,-312.1534\"/>\n<polygon fill=\"#000000\" stroke=\"#000000\" points=\"2880.4084,-309.021 2870.2251,-306.0969 2876.3623,-314.7332 2880.4084,-309.021\"/>\n</g>\n<!-- 105 -->\n<g id=\"node106\" class=\"node\">\n<title>105</title>\n<path fill=\"#e58139\" stroke=\"#000000\" d=\"M3029,-298.5C3029,-298.5 2930,-298.5 2930,-298.5 2924,-298.5 2918,-292.5 2918,-286.5 2918,-286.5 2918,-242.5 2918,-242.5 2918,-236.5 2924,-230.5 2930,-230.5 2930,-230.5 3029,-230.5 3029,-230.5 3035,-230.5 3041,-236.5 3041,-242.5 3041,-242.5 3041,-286.5 3041,-286.5 3041,-292.5 3035,-298.5 3029,-298.5\"/>\n<text text-anchor=\"start\" x=\"2950\" y=\"-283.3\" font-family=\"Helvetica,sans-Serif\" font-size=\"14.00\" fill=\"#000000\">gini = 0.0</text>\n<text text-anchor=\"start\" x=\"2935.5\" y=\"-268.3\" font-family=\"Helvetica,sans-Serif\" font-size=\"14.00\" fill=\"#000000\">samples = 23</text>\n<text text-anchor=\"start\" x=\"2926\" y=\"-253.3\" font-family=\"Helvetica,sans-Serif\" font-size=\"14.00\" fill=\"#000000\">value = [23, 0, 0]</text>\n<text text-anchor=\"start\" x=\"2950.5\" y=\"-238.3\" font-family=\"Helvetica,sans-Serif\" font-size=\"14.00\" fill=\"#000000\">class = 1</text>\n</g>\n<!-- 101&#45;&gt;105 -->\n<g id=\"edge105\" class=\"edge\">\n<title>101&#45;&gt;105</title>\n<path fill=\"none\" stroke=\"#000000\" d=\"M2979.5,-341.8796C2979.5,-331.2134 2979.5,-319.7021 2979.5,-308.9015\"/>\n<polygon fill=\"#000000\" stroke=\"#000000\" points=\"2983.0001,-308.8149 2979.5,-298.8149 2976.0001,-308.815 2983.0001,-308.8149\"/>\n</g>\n<!-- 103 -->\n<g id=\"node104\" class=\"node\">\n<title>103</title>\n<path fill=\"#39e581\" stroke=\"#000000\" d=\"M2791,-179.5C2791,-179.5 2700,-179.5 2700,-179.5 2694,-179.5 2688,-173.5 2688,-167.5 2688,-167.5 2688,-123.5 2688,-123.5 2688,-117.5 2694,-111.5 2700,-111.5 2700,-111.5 2791,-111.5 2791,-111.5 2797,-111.5 2803,-117.5 2803,-123.5 2803,-123.5 2803,-167.5 2803,-167.5 2803,-173.5 2797,-179.5 2791,-179.5\"/>\n<text text-anchor=\"start\" x=\"2716\" y=\"-164.3\" font-family=\"Helvetica,sans-Serif\" font-size=\"14.00\" fill=\"#000000\">gini = 0.0</text>\n<text text-anchor=\"start\" x=\"2706\" y=\"-149.3\" font-family=\"Helvetica,sans-Serif\" font-size=\"14.00\" fill=\"#000000\">samples = 1</text>\n<text text-anchor=\"start\" x=\"2696\" y=\"-134.3\" font-family=\"Helvetica,sans-Serif\" font-size=\"14.00\" fill=\"#000000\">value = [0, 1, 0]</text>\n<text text-anchor=\"start\" x=\"2716.5\" y=\"-119.3\" font-family=\"Helvetica,sans-Serif\" font-size=\"14.00\" fill=\"#000000\">class = 2</text>\n</g>\n<!-- 102&#45;&gt;103 -->\n<g id=\"edge103\" class=\"edge\">\n<title>102&#45;&gt;103</title>\n<path fill=\"none\" stroke=\"#000000\" d=\"M2788.4164,-222.8796C2782.2567,-211.7735 2775.5889,-199.7513 2769.3871,-188.5691\"/>\n<polygon fill=\"#000000\" stroke=\"#000000\" points=\"2772.4428,-186.8624 2764.5318,-179.8149 2766.3213,-190.2576 2772.4428,-186.8624\"/>\n</g>\n<!-- 104 -->\n<g id=\"node105\" class=\"node\">\n<title>104</title>\n<path fill=\"#e58139\" stroke=\"#000000\" d=\"M2924,-179.5C2924,-179.5 2833,-179.5 2833,-179.5 2827,-179.5 2821,-173.5 2821,-167.5 2821,-167.5 2821,-123.5 2821,-123.5 2821,-117.5 2827,-111.5 2833,-111.5 2833,-111.5 2924,-111.5 2924,-111.5 2930,-111.5 2936,-117.5 2936,-123.5 2936,-123.5 2936,-167.5 2936,-167.5 2936,-173.5 2930,-179.5 2924,-179.5\"/>\n<text text-anchor=\"start\" x=\"2849\" y=\"-164.3\" font-family=\"Helvetica,sans-Serif\" font-size=\"14.00\" fill=\"#000000\">gini = 0.0</text>\n<text text-anchor=\"start\" x=\"2839\" y=\"-149.3\" font-family=\"Helvetica,sans-Serif\" font-size=\"14.00\" fill=\"#000000\">samples = 4</text>\n<text text-anchor=\"start\" x=\"2829\" y=\"-134.3\" font-family=\"Helvetica,sans-Serif\" font-size=\"14.00\" fill=\"#000000\">value = [4, 0, 0]</text>\n<text text-anchor=\"start\" x=\"2849.5\" y=\"-119.3\" font-family=\"Helvetica,sans-Serif\" font-size=\"14.00\" fill=\"#000000\">class = 1</text>\n</g>\n<!-- 102&#45;&gt;104 -->\n<g id=\"edge104\" class=\"edge\">\n<title>102&#45;&gt;104</title>\n<path fill=\"none\" stroke=\"#000000\" d=\"M2834.9333,-222.8796C2841.1863,-211.7735 2847.9552,-199.7513 2854.251,-188.5691\"/>\n<polygon fill=\"#000000\" stroke=\"#000000\" points=\"2857.3235,-190.2459 2859.1798,-179.8149 2851.2239,-186.8116 2857.3235,-190.2459\"/>\n</g>\n<!-- 107 -->\n<g id=\"node108\" class=\"node\">\n<title>107</title>\n<path fill=\"#e58139\" stroke=\"#000000\" d=\"M3162,-298.5C3162,-298.5 3071,-298.5 3071,-298.5 3065,-298.5 3059,-292.5 3059,-286.5 3059,-286.5 3059,-242.5 3059,-242.5 3059,-236.5 3065,-230.5 3071,-230.5 3071,-230.5 3162,-230.5 3162,-230.5 3168,-230.5 3174,-236.5 3174,-242.5 3174,-242.5 3174,-286.5 3174,-286.5 3174,-292.5 3168,-298.5 3162,-298.5\"/>\n<text text-anchor=\"start\" x=\"3087\" y=\"-283.3\" font-family=\"Helvetica,sans-Serif\" font-size=\"14.00\" fill=\"#000000\">gini = 0.0</text>\n<text text-anchor=\"start\" x=\"3077\" y=\"-268.3\" font-family=\"Helvetica,sans-Serif\" font-size=\"14.00\" fill=\"#000000\">samples = 2</text>\n<text text-anchor=\"start\" x=\"3067\" y=\"-253.3\" font-family=\"Helvetica,sans-Serif\" font-size=\"14.00\" fill=\"#000000\">value = [2, 0, 0]</text>\n<text text-anchor=\"start\" x=\"3087.5\" y=\"-238.3\" font-family=\"Helvetica,sans-Serif\" font-size=\"14.00\" fill=\"#000000\">class = 1</text>\n</g>\n<!-- 106&#45;&gt;107 -->\n<g id=\"edge107\" class=\"edge\">\n<title>106&#45;&gt;107</title>\n<path fill=\"none\" stroke=\"#000000\" d=\"M3202.9831,-341.8796C3189.833,-330.1138 3175.5337,-317.3197 3162.4191,-305.5855\"/>\n<polygon fill=\"#000000\" stroke=\"#000000\" points=\"3164.6382,-302.8746 3154.852,-298.8149 3159.9706,-308.0913 3164.6382,-302.8746\"/>\n</g>\n<!-- 108 -->\n<g id=\"node109\" class=\"node\">\n<title>108</title>\n<path fill=\"#39e581\" stroke=\"#000000\" d=\"M3295,-298.5C3295,-298.5 3204,-298.5 3204,-298.5 3198,-298.5 3192,-292.5 3192,-286.5 3192,-286.5 3192,-242.5 3192,-242.5 3192,-236.5 3198,-230.5 3204,-230.5 3204,-230.5 3295,-230.5 3295,-230.5 3301,-230.5 3307,-236.5 3307,-242.5 3307,-242.5 3307,-286.5 3307,-286.5 3307,-292.5 3301,-298.5 3295,-298.5\"/>\n<text text-anchor=\"start\" x=\"3220\" y=\"-283.3\" font-family=\"Helvetica,sans-Serif\" font-size=\"14.00\" fill=\"#000000\">gini = 0.0</text>\n<text text-anchor=\"start\" x=\"3210\" y=\"-268.3\" font-family=\"Helvetica,sans-Serif\" font-size=\"14.00\" fill=\"#000000\">samples = 1</text>\n<text text-anchor=\"start\" x=\"3200\" y=\"-253.3\" font-family=\"Helvetica,sans-Serif\" font-size=\"14.00\" fill=\"#000000\">value = [0, 1, 0]</text>\n<text text-anchor=\"start\" x=\"3220.5\" y=\"-238.3\" font-family=\"Helvetica,sans-Serif\" font-size=\"14.00\" fill=\"#000000\">class = 2</text>\n</g>\n<!-- 106&#45;&gt;108 -->\n<g id=\"edge108\" class=\"edge\">\n<title>106&#45;&gt;108</title>\n<path fill=\"none\" stroke=\"#000000\" d=\"M3249.5,-341.8796C3249.5,-331.2134 3249.5,-319.7021 3249.5,-308.9015\"/>\n<polygon fill=\"#000000\" stroke=\"#000000\" points=\"3253.0001,-308.8149 3249.5,-298.8149 3246.0001,-308.815 3253.0001,-308.8149\"/>\n</g>\n<!-- 110 -->\n<g id=\"node111\" class=\"node\">\n<title>110</title>\n<path fill=\"#e5813a\" stroke=\"#000000\" d=\"M3870.5,-544C3870.5,-544 3706.5,-544 3706.5,-544 3700.5,-544 3694.5,-538 3694.5,-532 3694.5,-532 3694.5,-473 3694.5,-473 3694.5,-467 3700.5,-461 3706.5,-461 3706.5,-461 3870.5,-461 3870.5,-461 3876.5,-461 3882.5,-467 3882.5,-473 3882.5,-473 3882.5,-532 3882.5,-532 3882.5,-538 3876.5,-544 3870.5,-544\"/>\n<text text-anchor=\"start\" x=\"3702.5\" y=\"-528.8\" font-family=\"Helvetica,sans-Serif\" font-size=\"14.00\" fill=\"#000000\">histogram_median ≤ 152.5</text>\n<text text-anchor=\"start\" x=\"3750.5\" y=\"-513.8\" font-family=\"Helvetica,sans-Serif\" font-size=\"14.00\" fill=\"#000000\">gini = 0.008</text>\n<text text-anchor=\"start\" x=\"3740.5\" y=\"-498.8\" font-family=\"Helvetica,sans-Serif\" font-size=\"14.00\" fill=\"#000000\">samples = 762</text>\n<text text-anchor=\"start\" x=\"3731\" y=\"-483.8\" font-family=\"Helvetica,sans-Serif\" font-size=\"14.00\" fill=\"#000000\">value = [759, 3, 0]</text>\n<text text-anchor=\"start\" x=\"3759.5\" y=\"-468.8\" font-family=\"Helvetica,sans-Serif\" font-size=\"14.00\" fill=\"#000000\">class = 1</text>\n</g>\n<!-- 109&#45;&gt;110 -->\n<g id=\"edge110\" class=\"edge\">\n<title>109&#45;&gt;110</title>\n<path fill=\"none\" stroke=\"#000000\" d=\"M3947.1606,-579.8796C3926.3577,-569.7339 3903.9869,-558.8235 3882.7938,-548.4876\"/>\n<polygon fill=\"#000000\" stroke=\"#000000\" points=\"3884.3135,-545.3347 3873.7912,-544.0969 3881.245,-551.6263 3884.3135,-545.3347\"/>\n</g>\n<!-- 119 -->\n<g id=\"node120\" class=\"node\">\n<title>119</title>\n<path fill=\"#e78c4a\" stroke=\"#000000\" d=\"M4153,-544C4153,-544 3940,-544 3940,-544 3934,-544 3928,-538 3928,-532 3928,-532 3928,-473 3928,-473 3928,-467 3934,-461 3940,-461 3940,-461 4153,-461 4153,-461 4159,-461 4165,-467 4165,-473 4165,-473 4165,-532 4165,-532 4165,-538 4159,-544 4153,-544\"/>\n<text text-anchor=\"start\" x=\"3936\" y=\"-528.8\" font-family=\"Helvetica,sans-Serif\" font-size=\"14.00\" fill=\"#000000\">prolongued_decelerations ≤ 0.001</text>\n<text text-anchor=\"start\" x=\"4008.5\" y=\"-513.8\" font-family=\"Helvetica,sans-Serif\" font-size=\"14.00\" fill=\"#000000\">gini = 0.149</text>\n<text text-anchor=\"start\" x=\"4002.5\" y=\"-498.8\" font-family=\"Helvetica,sans-Serif\" font-size=\"14.00\" fill=\"#000000\">samples = 37</text>\n<text text-anchor=\"start\" x=\"3993\" y=\"-483.8\" font-family=\"Helvetica,sans-Serif\" font-size=\"14.00\" fill=\"#000000\">value = [34, 3, 0]</text>\n<text text-anchor=\"start\" x=\"4017.5\" y=\"-468.8\" font-family=\"Helvetica,sans-Serif\" font-size=\"14.00\" fill=\"#000000\">class = 1</text>\n</g>\n<!-- 109&#45;&gt;119 -->\n<g id=\"edge119\" class=\"edge\">\n<title>109&#45;&gt;119</title>\n<path fill=\"none\" stroke=\"#000000\" d=\"M4037.3965,-579.8796C4038.3607,-571.6838 4039.3836,-562.9891 4040.3822,-554.5013\"/>\n<polygon fill=\"#000000\" stroke=\"#000000\" points=\"4043.8901,-554.6386 4041.5826,-544.2981 4036.9381,-553.8206 4043.8901,-554.6386\"/>\n</g>\n<!-- 111 -->\n<g id=\"node112\" class=\"node\">\n<title>111</title>\n<path fill=\"#e58139\" stroke=\"#000000\" d=\"M3627.5,-425C3627.5,-425 3487.5,-425 3487.5,-425 3481.5,-425 3475.5,-419 3475.5,-413 3475.5,-413 3475.5,-354 3475.5,-354 3475.5,-348 3481.5,-342 3487.5,-342 3487.5,-342 3627.5,-342 3627.5,-342 3633.5,-342 3639.5,-348 3639.5,-354 3639.5,-354 3639.5,-413 3639.5,-413 3639.5,-419 3633.5,-425 3627.5,-425\"/>\n<text text-anchor=\"start\" x=\"3483.5\" y=\"-409.8\" font-family=\"Helvetica,sans-Serif\" font-size=\"14.00\" fill=\"#000000\">histogram_min ≤ 126.5</text>\n<text text-anchor=\"start\" x=\"3519.5\" y=\"-394.8\" font-family=\"Helvetica,sans-Serif\" font-size=\"14.00\" fill=\"#000000\">gini = 0.003</text>\n<text text-anchor=\"start\" x=\"3509.5\" y=\"-379.8\" font-family=\"Helvetica,sans-Serif\" font-size=\"14.00\" fill=\"#000000\">samples = 718</text>\n<text text-anchor=\"start\" x=\"3500\" y=\"-364.8\" font-family=\"Helvetica,sans-Serif\" font-size=\"14.00\" fill=\"#000000\">value = [717, 1, 0]</text>\n<text text-anchor=\"start\" x=\"3528.5\" y=\"-349.8\" font-family=\"Helvetica,sans-Serif\" font-size=\"14.00\" fill=\"#000000\">class = 1</text>\n</g>\n<!-- 110&#45;&gt;111 -->\n<g id=\"edge111\" class=\"edge\">\n<title>110&#45;&gt;111</title>\n<path fill=\"none\" stroke=\"#000000\" d=\"M3707.7074,-460.8796C3688.1886,-450.8244 3667.212,-440.0183 3647.3077,-429.7645\"/>\n<polygon fill=\"#000000\" stroke=\"#000000\" points=\"3648.7396,-426.5651 3638.247,-425.0969 3645.5339,-432.788 3648.7396,-426.5651\"/>\n</g>\n<!-- 116 -->\n<g id=\"node117\" class=\"node\">\n<title>116</title>\n<path fill=\"#e68742\" stroke=\"#000000\" d=\"M3854,-425C3854,-425 3723,-425 3723,-425 3717,-425 3711,-419 3711,-413 3711,-413 3711,-354 3711,-354 3711,-348 3717,-342 3723,-342 3723,-342 3854,-342 3854,-342 3860,-342 3866,-348 3866,-354 3866,-354 3866,-413 3866,-413 3866,-419 3860,-425 3854,-425\"/>\n<text text-anchor=\"start\" x=\"3719\" y=\"-409.8\" font-family=\"Helvetica,sans-Serif\" font-size=\"14.00\" fill=\"#000000\">accelerations ≤ 0.002</text>\n<text text-anchor=\"start\" x=\"3750.5\" y=\"-394.8\" font-family=\"Helvetica,sans-Serif\" font-size=\"14.00\" fill=\"#000000\">gini = 0.087</text>\n<text text-anchor=\"start\" x=\"3744.5\" y=\"-379.8\" font-family=\"Helvetica,sans-Serif\" font-size=\"14.00\" fill=\"#000000\">samples = 44</text>\n<text text-anchor=\"start\" x=\"3735\" y=\"-364.8\" font-family=\"Helvetica,sans-Serif\" font-size=\"14.00\" fill=\"#000000\">value = [42, 2, 0]</text>\n<text text-anchor=\"start\" x=\"3759.5\" y=\"-349.8\" font-family=\"Helvetica,sans-Serif\" font-size=\"14.00\" fill=\"#000000\">class = 1</text>\n</g>\n<!-- 110&#45;&gt;116 -->\n<g id=\"edge116\" class=\"edge\">\n<title>110&#45;&gt;116</title>\n<path fill=\"none\" stroke=\"#000000\" d=\"M3788.5,-460.8796C3788.5,-452.6838 3788.5,-443.9891 3788.5,-435.5013\"/>\n<polygon fill=\"#000000\" stroke=\"#000000\" points=\"3792.0001,-435.298 3788.5,-425.2981 3785.0001,-435.2981 3792.0001,-435.298\"/>\n</g>\n<!-- 112 -->\n<g id=\"node113\" class=\"node\">\n<title>112</title>\n<path fill=\"#e58139\" stroke=\"#000000\" d=\"M3444,-298.5C3444,-298.5 3337,-298.5 3337,-298.5 3331,-298.5 3325,-292.5 3325,-286.5 3325,-286.5 3325,-242.5 3325,-242.5 3325,-236.5 3331,-230.5 3337,-230.5 3337,-230.5 3444,-230.5 3444,-230.5 3450,-230.5 3456,-236.5 3456,-242.5 3456,-242.5 3456,-286.5 3456,-286.5 3456,-292.5 3450,-298.5 3444,-298.5\"/>\n<text text-anchor=\"start\" x=\"3361\" y=\"-283.3\" font-family=\"Helvetica,sans-Serif\" font-size=\"14.00\" fill=\"#000000\">gini = 0.0</text>\n<text text-anchor=\"start\" x=\"3342.5\" y=\"-268.3\" font-family=\"Helvetica,sans-Serif\" font-size=\"14.00\" fill=\"#000000\">samples = 691</text>\n<text text-anchor=\"start\" x=\"3333\" y=\"-253.3\" font-family=\"Helvetica,sans-Serif\" font-size=\"14.00\" fill=\"#000000\">value = [691, 0, 0]</text>\n<text text-anchor=\"start\" x=\"3361.5\" y=\"-238.3\" font-family=\"Helvetica,sans-Serif\" font-size=\"14.00\" fill=\"#000000\">class = 1</text>\n</g>\n<!-- 111&#45;&gt;112 -->\n<g id=\"edge112\" class=\"edge\">\n<title>111&#45;&gt;112</title>\n<path fill=\"none\" stroke=\"#000000\" d=\"M3499.0915,-341.8796C3482.036,-329.7263 3463.4409,-316.4759 3446.5359,-304.4297\"/>\n<polygon fill=\"#000000\" stroke=\"#000000\" points=\"3448.562,-301.5759 3438.3869,-298.623 3444.4998,-307.2766 3448.562,-301.5759\"/>\n</g>\n<!-- 113 -->\n<g id=\"node114\" class=\"node\">\n<title>113</title>\n<path fill=\"#e68641\" stroke=\"#000000\" d=\"M3628.5,-306C3628.5,-306 3486.5,-306 3486.5,-306 3480.5,-306 3474.5,-300 3474.5,-294 3474.5,-294 3474.5,-235 3474.5,-235 3474.5,-229 3480.5,-223 3486.5,-223 3486.5,-223 3628.5,-223 3628.5,-223 3634.5,-223 3640.5,-229 3640.5,-235 3640.5,-235 3640.5,-294 3640.5,-294 3640.5,-300 3634.5,-306 3628.5,-306\"/>\n<text text-anchor=\"start\" x=\"3482.5\" y=\"-290.8\" font-family=\"Helvetica,sans-Serif\" font-size=\"14.00\" fill=\"#000000\">histogram_width ≤ 57.0</text>\n<text text-anchor=\"start\" x=\"3519.5\" y=\"-275.8\" font-family=\"Helvetica,sans-Serif\" font-size=\"14.00\" fill=\"#000000\">gini = 0.071</text>\n<text text-anchor=\"start\" x=\"3513.5\" y=\"-260.8\" font-family=\"Helvetica,sans-Serif\" font-size=\"14.00\" fill=\"#000000\">samples = 27</text>\n<text text-anchor=\"start\" x=\"3504\" y=\"-245.8\" font-family=\"Helvetica,sans-Serif\" font-size=\"14.00\" fill=\"#000000\">value = [26, 1, 0]</text>\n<text text-anchor=\"start\" x=\"3528.5\" y=\"-230.8\" font-family=\"Helvetica,sans-Serif\" font-size=\"14.00\" fill=\"#000000\">class = 1</text>\n</g>\n<!-- 111&#45;&gt;113 -->\n<g id=\"edge113\" class=\"edge\">\n<title>111&#45;&gt;113</title>\n<path fill=\"none\" stroke=\"#000000\" d=\"M3557.5,-341.8796C3557.5,-333.6838 3557.5,-324.9891 3557.5,-316.5013\"/>\n<polygon fill=\"#000000\" stroke=\"#000000\" points=\"3561.0001,-316.298 3557.5,-306.2981 3554.0001,-316.2981 3561.0001,-316.298\"/>\n</g>\n<!-- 114 -->\n<g id=\"node115\" class=\"node\">\n<title>114</title>\n<path fill=\"#e58139\" stroke=\"#000000\" d=\"M3538,-179.5C3538,-179.5 3439,-179.5 3439,-179.5 3433,-179.5 3427,-173.5 3427,-167.5 3427,-167.5 3427,-123.5 3427,-123.5 3427,-117.5 3433,-111.5 3439,-111.5 3439,-111.5 3538,-111.5 3538,-111.5 3544,-111.5 3550,-117.5 3550,-123.5 3550,-123.5 3550,-167.5 3550,-167.5 3550,-173.5 3544,-179.5 3538,-179.5\"/>\n<text text-anchor=\"start\" x=\"3459\" y=\"-164.3\" font-family=\"Helvetica,sans-Serif\" font-size=\"14.00\" fill=\"#000000\">gini = 0.0</text>\n<text text-anchor=\"start\" x=\"3444.5\" y=\"-149.3\" font-family=\"Helvetica,sans-Serif\" font-size=\"14.00\" fill=\"#000000\">samples = 26</text>\n<text text-anchor=\"start\" x=\"3435\" y=\"-134.3\" font-family=\"Helvetica,sans-Serif\" font-size=\"14.00\" fill=\"#000000\">value = [26, 0, 0]</text>\n<text text-anchor=\"start\" x=\"3459.5\" y=\"-119.3\" font-family=\"Helvetica,sans-Serif\" font-size=\"14.00\" fill=\"#000000\">class = 1</text>\n</g>\n<!-- 113&#45;&gt;114 -->\n<g id=\"edge114\" class=\"edge\">\n<title>113&#45;&gt;114</title>\n<path fill=\"none\" stroke=\"#000000\" d=\"M3533.3671,-222.8796C3526.9275,-211.7735 3519.9566,-199.7513 3513.4729,-188.5691\"/>\n<polygon fill=\"#000000\" stroke=\"#000000\" points=\"3516.4409,-186.7102 3508.3969,-179.8149 3510.3852,-190.2215 3516.4409,-186.7102\"/>\n</g>\n<!-- 115 -->\n<g id=\"node116\" class=\"node\">\n<title>115</title>\n<path fill=\"#39e581\" stroke=\"#000000\" d=\"M3671,-179.5C3671,-179.5 3580,-179.5 3580,-179.5 3574,-179.5 3568,-173.5 3568,-167.5 3568,-167.5 3568,-123.5 3568,-123.5 3568,-117.5 3574,-111.5 3580,-111.5 3580,-111.5 3671,-111.5 3671,-111.5 3677,-111.5 3683,-117.5 3683,-123.5 3683,-123.5 3683,-167.5 3683,-167.5 3683,-173.5 3677,-179.5 3671,-179.5\"/>\n<text text-anchor=\"start\" x=\"3596\" y=\"-164.3\" font-family=\"Helvetica,sans-Serif\" font-size=\"14.00\" fill=\"#000000\">gini = 0.0</text>\n<text text-anchor=\"start\" x=\"3586\" y=\"-149.3\" font-family=\"Helvetica,sans-Serif\" font-size=\"14.00\" fill=\"#000000\">samples = 1</text>\n<text text-anchor=\"start\" x=\"3576\" y=\"-134.3\" font-family=\"Helvetica,sans-Serif\" font-size=\"14.00\" fill=\"#000000\">value = [0, 1, 0]</text>\n<text text-anchor=\"start\" x=\"3596.5\" y=\"-119.3\" font-family=\"Helvetica,sans-Serif\" font-size=\"14.00\" fill=\"#000000\">class = 2</text>\n</g>\n<!-- 113&#45;&gt;115 -->\n<g id=\"edge115\" class=\"edge\">\n<title>113&#45;&gt;115</title>\n<path fill=\"none\" stroke=\"#000000\" d=\"M3581.2831,-222.8796C3587.6294,-211.7735 3594.4993,-199.7513 3600.8891,-188.5691\"/>\n<polygon fill=\"#000000\" stroke=\"#000000\" points=\"3603.9689,-190.2339 3605.8915,-179.8149 3597.8912,-186.7609 3603.9689,-190.2339\"/>\n</g>\n<!-- 117 -->\n<g id=\"node118\" class=\"node\">\n<title>117</title>\n<path fill=\"#39e581\" stroke=\"#000000\" d=\"M3762,-298.5C3762,-298.5 3671,-298.5 3671,-298.5 3665,-298.5 3659,-292.5 3659,-286.5 3659,-286.5 3659,-242.5 3659,-242.5 3659,-236.5 3665,-230.5 3671,-230.5 3671,-230.5 3762,-230.5 3762,-230.5 3768,-230.5 3774,-236.5 3774,-242.5 3774,-242.5 3774,-286.5 3774,-286.5 3774,-292.5 3768,-298.5 3762,-298.5\"/>\n<text text-anchor=\"start\" x=\"3687\" y=\"-283.3\" font-family=\"Helvetica,sans-Serif\" font-size=\"14.00\" fill=\"#000000\">gini = 0.0</text>\n<text text-anchor=\"start\" x=\"3677\" y=\"-268.3\" font-family=\"Helvetica,sans-Serif\" font-size=\"14.00\" fill=\"#000000\">samples = 2</text>\n<text text-anchor=\"start\" x=\"3667\" y=\"-253.3\" font-family=\"Helvetica,sans-Serif\" font-size=\"14.00\" fill=\"#000000\">value = [0, 2, 0]</text>\n<text text-anchor=\"start\" x=\"3687.5\" y=\"-238.3\" font-family=\"Helvetica,sans-Serif\" font-size=\"14.00\" fill=\"#000000\">class = 2</text>\n</g>\n<!-- 116&#45;&gt;117 -->\n<g id=\"edge117\" class=\"edge\">\n<title>116&#45;&gt;117</title>\n<path fill=\"none\" stroke=\"#000000\" d=\"M3763.3179,-341.8796C3756.5983,-330.7735 3749.3243,-318.7513 3742.5586,-307.5691\"/>\n<polygon fill=\"#000000\" stroke=\"#000000\" points=\"3745.4332,-305.5589 3737.262,-298.8149 3739.4441,-309.1826 3745.4332,-305.5589\"/>\n</g>\n<!-- 118 -->\n<g id=\"node119\" class=\"node\">\n<title>118</title>\n<path fill=\"#e58139\" stroke=\"#000000\" d=\"M3903,-298.5C3903,-298.5 3804,-298.5 3804,-298.5 3798,-298.5 3792,-292.5 3792,-286.5 3792,-286.5 3792,-242.5 3792,-242.5 3792,-236.5 3798,-230.5 3804,-230.5 3804,-230.5 3903,-230.5 3903,-230.5 3909,-230.5 3915,-236.5 3915,-242.5 3915,-242.5 3915,-286.5 3915,-286.5 3915,-292.5 3909,-298.5 3903,-298.5\"/>\n<text text-anchor=\"start\" x=\"3824\" y=\"-283.3\" font-family=\"Helvetica,sans-Serif\" font-size=\"14.00\" fill=\"#000000\">gini = 0.0</text>\n<text text-anchor=\"start\" x=\"3809.5\" y=\"-268.3\" font-family=\"Helvetica,sans-Serif\" font-size=\"14.00\" fill=\"#000000\">samples = 42</text>\n<text text-anchor=\"start\" x=\"3800\" y=\"-253.3\" font-family=\"Helvetica,sans-Serif\" font-size=\"14.00\" fill=\"#000000\">value = [42, 0, 0]</text>\n<text text-anchor=\"start\" x=\"3824.5\" y=\"-238.3\" font-family=\"Helvetica,sans-Serif\" font-size=\"14.00\" fill=\"#000000\">class = 1</text>\n</g>\n<!-- 116&#45;&gt;118 -->\n<g id=\"edge118\" class=\"edge\">\n<title>116&#45;&gt;118</title>\n<path fill=\"none\" stroke=\"#000000\" d=\"M3811.2338,-341.8796C3817.2401,-330.8835 3823.737,-318.9893 3829.7933,-307.9015\"/>\n<polygon fill=\"#000000\" stroke=\"#000000\" points=\"3833.0345,-309.2689 3834.7565,-298.8149 3826.8912,-305.9133 3833.0345,-309.2689\"/>\n</g>\n<!-- 120 -->\n<g id=\"node121\" class=\"node\">\n<title>120</title>\n<path fill=\"#e6853f\" stroke=\"#000000\" d=\"M4167.5,-425C4167.5,-425 3925.5,-425 3925.5,-425 3919.5,-425 3913.5,-419 3913.5,-413 3913.5,-413 3913.5,-354 3913.5,-354 3913.5,-348 3919.5,-342 3925.5,-342 3925.5,-342 4167.5,-342 4167.5,-342 4173.5,-342 4179.5,-348 4179.5,-354 4179.5,-354 4179.5,-413 4179.5,-413 4179.5,-419 4173.5,-425 4167.5,-425\"/>\n<text text-anchor=\"start\" x=\"3921.5\" y=\"-409.8\" font-family=\"Helvetica,sans-Serif\" font-size=\"14.00\" fill=\"#000000\">abnormal_short_term_variability ≤ 48.5</text>\n<text text-anchor=\"start\" x=\"4008.5\" y=\"-394.8\" font-family=\"Helvetica,sans-Serif\" font-size=\"14.00\" fill=\"#000000\">gini = 0.057</text>\n<text text-anchor=\"start\" x=\"4002.5\" y=\"-379.8\" font-family=\"Helvetica,sans-Serif\" font-size=\"14.00\" fill=\"#000000\">samples = 34</text>\n<text text-anchor=\"start\" x=\"3993\" y=\"-364.8\" font-family=\"Helvetica,sans-Serif\" font-size=\"14.00\" fill=\"#000000\">value = [33, 1, 0]</text>\n<text text-anchor=\"start\" x=\"4017.5\" y=\"-349.8\" font-family=\"Helvetica,sans-Serif\" font-size=\"14.00\" fill=\"#000000\">class = 1</text>\n</g>\n<!-- 119&#45;&gt;120 -->\n<g id=\"edge120\" class=\"edge\">\n<title>119&#45;&gt;120</title>\n<path fill=\"none\" stroke=\"#000000\" d=\"M4046.5,-460.8796C4046.5,-452.6838 4046.5,-443.9891 4046.5,-435.5013\"/>\n<polygon fill=\"#000000\" stroke=\"#000000\" points=\"4050.0001,-435.298 4046.5,-425.2981 4043.0001,-435.2981 4050.0001,-435.298\"/>\n</g>\n<!-- 125 -->\n<g id=\"node126\" class=\"node\">\n<title>125</title>\n<path fill=\"#9cf2c0\" stroke=\"#000000\" d=\"M4385.5,-425C4385.5,-425 4235.5,-425 4235.5,-425 4229.5,-425 4223.5,-419 4223.5,-413 4223.5,-413 4223.5,-354 4223.5,-354 4223.5,-348 4229.5,-342 4235.5,-342 4235.5,-342 4385.5,-342 4385.5,-342 4391.5,-342 4397.5,-348 4397.5,-354 4397.5,-354 4397.5,-413 4397.5,-413 4397.5,-419 4391.5,-425 4385.5,-425\"/>\n<text text-anchor=\"start\" x=\"4231.5\" y=\"-409.8\" font-family=\"Helvetica,sans-Serif\" font-size=\"14.00\" fill=\"#000000\">histogram_width ≤ 142.0</text>\n<text text-anchor=\"start\" x=\"4272.5\" y=\"-394.8\" font-family=\"Helvetica,sans-Serif\" font-size=\"14.00\" fill=\"#000000\">gini = 0.444</text>\n<text text-anchor=\"start\" x=\"4271\" y=\"-379.8\" font-family=\"Helvetica,sans-Serif\" font-size=\"14.00\" fill=\"#000000\">samples = 3</text>\n<text text-anchor=\"start\" x=\"4261\" y=\"-364.8\" font-family=\"Helvetica,sans-Serif\" font-size=\"14.00\" fill=\"#000000\">value = [1, 2, 0]</text>\n<text text-anchor=\"start\" x=\"4281.5\" y=\"-349.8\" font-family=\"Helvetica,sans-Serif\" font-size=\"14.00\" fill=\"#000000\">class = 2</text>\n</g>\n<!-- 119&#45;&gt;125 -->\n<g id=\"edge125\" class=\"edge\">\n<title>119&#45;&gt;125</title>\n<path fill=\"none\" stroke=\"#000000\" d=\"M4138.8344,-460.8796C4163.0943,-449.9442 4189.3248,-438.1206 4213.8065,-427.0853\"/>\n<polygon fill=\"#000000\" stroke=\"#000000\" points=\"4215.4176,-430.1983 4223.0959,-422.898 4212.541,-423.8167 4215.4176,-430.1983\"/>\n</g>\n<!-- 121 -->\n<g id=\"node122\" class=\"node\">\n<title>121</title>\n<path fill=\"#e58139\" stroke=\"#000000\" d=\"M4044,-298.5C4044,-298.5 3945,-298.5 3945,-298.5 3939,-298.5 3933,-292.5 3933,-286.5 3933,-286.5 3933,-242.5 3933,-242.5 3933,-236.5 3939,-230.5 3945,-230.5 3945,-230.5 4044,-230.5 4044,-230.5 4050,-230.5 4056,-236.5 4056,-242.5 4056,-242.5 4056,-286.5 4056,-286.5 4056,-292.5 4050,-298.5 4044,-298.5\"/>\n<text text-anchor=\"start\" x=\"3965\" y=\"-283.3\" font-family=\"Helvetica,sans-Serif\" font-size=\"14.00\" fill=\"#000000\">gini = 0.0</text>\n<text text-anchor=\"start\" x=\"3950.5\" y=\"-268.3\" font-family=\"Helvetica,sans-Serif\" font-size=\"14.00\" fill=\"#000000\">samples = 29</text>\n<text text-anchor=\"start\" x=\"3941\" y=\"-253.3\" font-family=\"Helvetica,sans-Serif\" font-size=\"14.00\" fill=\"#000000\">value = [29, 0, 0]</text>\n<text text-anchor=\"start\" x=\"3965.5\" y=\"-238.3\" font-family=\"Helvetica,sans-Serif\" font-size=\"14.00\" fill=\"#000000\">class = 1</text>\n</g>\n<!-- 120&#45;&gt;121 -->\n<g id=\"edge121\" class=\"edge\">\n<title>120&#45;&gt;121</title>\n<path fill=\"none\" stroke=\"#000000\" d=\"M4028.3129,-341.8796C4023.556,-330.9935 4018.4143,-319.227 4013.6108,-308.2344\"/>\n<polygon fill=\"#000000\" stroke=\"#000000\" points=\"4016.7061,-306.5768 4009.4948,-298.8149 4010.2918,-309.3798 4016.7061,-306.5768\"/>\n</g>\n<!-- 122 -->\n<g id=\"node123\" class=\"node\">\n<title>122</title>\n<path fill=\"#eca06a\" stroke=\"#000000\" d=\"M4239,-306C4239,-306 4086,-306 4086,-306 4080,-306 4074,-300 4074,-294 4074,-294 4074,-235 4074,-235 4074,-229 4080,-223 4086,-223 4086,-223 4239,-223 4239,-223 4245,-223 4251,-229 4251,-235 4251,-235 4251,-294 4251,-294 4251,-300 4245,-306 4239,-306\"/>\n<text text-anchor=\"start\" x=\"4082\" y=\"-290.8\" font-family=\"Helvetica,sans-Serif\" font-size=\"14.00\" fill=\"#000000\">histogram_mean ≤ 129.0</text>\n<text text-anchor=\"start\" x=\"4129\" y=\"-275.8\" font-family=\"Helvetica,sans-Serif\" font-size=\"14.00\" fill=\"#000000\">gini = 0.32</text>\n<text text-anchor=\"start\" x=\"4123\" y=\"-260.8\" font-family=\"Helvetica,sans-Serif\" font-size=\"14.00\" fill=\"#000000\">samples = 5</text>\n<text text-anchor=\"start\" x=\"4113\" y=\"-245.8\" font-family=\"Helvetica,sans-Serif\" font-size=\"14.00\" fill=\"#000000\">value = [4, 1, 0]</text>\n<text text-anchor=\"start\" x=\"4133.5\" y=\"-230.8\" font-family=\"Helvetica,sans-Serif\" font-size=\"14.00\" fill=\"#000000\">class = 1</text>\n</g>\n<!-- 120&#45;&gt;122 -->\n<g id=\"edge122\" class=\"edge\">\n<title>120&#45;&gt;122</title>\n<path fill=\"none\" stroke=\"#000000\" d=\"M4087.0712,-341.8796C4095.9382,-332.7832 4105.4044,-323.0722 4114.5291,-313.7116\"/>\n<polygon fill=\"#000000\" stroke=\"#000000\" points=\"4117.2817,-315.9019 4121.7557,-306.2981 4112.2691,-311.0158 4117.2817,-315.9019\"/>\n</g>\n<!-- 123 -->\n<g id=\"node124\" class=\"node\">\n<title>123</title>\n<path fill=\"#e58139\" stroke=\"#000000\" d=\"M4141,-179.5C4141,-179.5 4050,-179.5 4050,-179.5 4044,-179.5 4038,-173.5 4038,-167.5 4038,-167.5 4038,-123.5 4038,-123.5 4038,-117.5 4044,-111.5 4050,-111.5 4050,-111.5 4141,-111.5 4141,-111.5 4147,-111.5 4153,-117.5 4153,-123.5 4153,-123.5 4153,-167.5 4153,-167.5 4153,-173.5 4147,-179.5 4141,-179.5\"/>\n<text text-anchor=\"start\" x=\"4066\" y=\"-164.3\" font-family=\"Helvetica,sans-Serif\" font-size=\"14.00\" fill=\"#000000\">gini = 0.0</text>\n<text text-anchor=\"start\" x=\"4056\" y=\"-149.3\" font-family=\"Helvetica,sans-Serif\" font-size=\"14.00\" fill=\"#000000\">samples = 4</text>\n<text text-anchor=\"start\" x=\"4046\" y=\"-134.3\" font-family=\"Helvetica,sans-Serif\" font-size=\"14.00\" fill=\"#000000\">value = [4, 0, 0]</text>\n<text text-anchor=\"start\" x=\"4066.5\" y=\"-119.3\" font-family=\"Helvetica,sans-Serif\" font-size=\"14.00\" fill=\"#000000\">class = 1</text>\n</g>\n<!-- 122&#45;&gt;123 -->\n<g id=\"edge123\" class=\"edge\">\n<title>122&#45;&gt;123</title>\n<path fill=\"none\" stroke=\"#000000\" d=\"M4139.0667,-222.8796C4132.8137,-211.7735 4126.0448,-199.7513 4119.749,-188.5691\"/>\n<polygon fill=\"#000000\" stroke=\"#000000\" points=\"4122.7761,-186.8116 4114.8202,-179.8149 4116.6765,-190.2459 4122.7761,-186.8116\"/>\n</g>\n<!-- 124 -->\n<g id=\"node125\" class=\"node\">\n<title>124</title>\n<path fill=\"#39e581\" stroke=\"#000000\" d=\"M4274,-179.5C4274,-179.5 4183,-179.5 4183,-179.5 4177,-179.5 4171,-173.5 4171,-167.5 4171,-167.5 4171,-123.5 4171,-123.5 4171,-117.5 4177,-111.5 4183,-111.5 4183,-111.5 4274,-111.5 4274,-111.5 4280,-111.5 4286,-117.5 4286,-123.5 4286,-123.5 4286,-167.5 4286,-167.5 4286,-173.5 4280,-179.5 4274,-179.5\"/>\n<text text-anchor=\"start\" x=\"4199\" y=\"-164.3\" font-family=\"Helvetica,sans-Serif\" font-size=\"14.00\" fill=\"#000000\">gini = 0.0</text>\n<text text-anchor=\"start\" x=\"4189\" y=\"-149.3\" font-family=\"Helvetica,sans-Serif\" font-size=\"14.00\" fill=\"#000000\">samples = 1</text>\n<text text-anchor=\"start\" x=\"4179\" y=\"-134.3\" font-family=\"Helvetica,sans-Serif\" font-size=\"14.00\" fill=\"#000000\">value = [0, 1, 0]</text>\n<text text-anchor=\"start\" x=\"4199.5\" y=\"-119.3\" font-family=\"Helvetica,sans-Serif\" font-size=\"14.00\" fill=\"#000000\">class = 2</text>\n</g>\n<!-- 122&#45;&gt;124 -->\n<g id=\"edge124\" class=\"edge\">\n<title>122&#45;&gt;124</title>\n<path fill=\"none\" stroke=\"#000000\" d=\"M4185.5836,-222.8796C4191.7433,-211.7735 4198.4111,-199.7513 4204.6129,-188.5691\"/>\n<polygon fill=\"#000000\" stroke=\"#000000\" points=\"4207.6787,-190.2576 4209.4682,-179.8149 4201.5572,-186.8624 4207.6787,-190.2576\"/>\n</g>\n<!-- 126 -->\n<g id=\"node127\" class=\"node\">\n<title>126</title>\n<path fill=\"#39e581\" stroke=\"#000000\" d=\"M4372,-298.5C4372,-298.5 4281,-298.5 4281,-298.5 4275,-298.5 4269,-292.5 4269,-286.5 4269,-286.5 4269,-242.5 4269,-242.5 4269,-236.5 4275,-230.5 4281,-230.5 4281,-230.5 4372,-230.5 4372,-230.5 4378,-230.5 4384,-236.5 4384,-242.5 4384,-242.5 4384,-286.5 4384,-286.5 4384,-292.5 4378,-298.5 4372,-298.5\"/>\n<text text-anchor=\"start\" x=\"4297\" y=\"-283.3\" font-family=\"Helvetica,sans-Serif\" font-size=\"14.00\" fill=\"#000000\">gini = 0.0</text>\n<text text-anchor=\"start\" x=\"4287\" y=\"-268.3\" font-family=\"Helvetica,sans-Serif\" font-size=\"14.00\" fill=\"#000000\">samples = 2</text>\n<text text-anchor=\"start\" x=\"4277\" y=\"-253.3\" font-family=\"Helvetica,sans-Serif\" font-size=\"14.00\" fill=\"#000000\">value = [0, 2, 0]</text>\n<text text-anchor=\"start\" x=\"4297.5\" y=\"-238.3\" font-family=\"Helvetica,sans-Serif\" font-size=\"14.00\" fill=\"#000000\">class = 2</text>\n</g>\n<!-- 125&#45;&gt;126 -->\n<g id=\"edge126\" class=\"edge\">\n<title>125&#45;&gt;126</title>\n<path fill=\"none\" stroke=\"#000000\" d=\"M4316.096,-341.8796C4317.5301,-331.2134 4319.0779,-319.7021 4320.53,-308.9015\"/>\n<polygon fill=\"#000000\" stroke=\"#000000\" points=\"4324.0224,-309.1922 4321.8862,-298.8149 4317.0848,-308.2593 4324.0224,-309.1922\"/>\n</g>\n<!-- 127 -->\n<g id=\"node128\" class=\"node\">\n<title>127</title>\n<path fill=\"#e58139\" stroke=\"#000000\" d=\"M4505,-298.5C4505,-298.5 4414,-298.5 4414,-298.5 4408,-298.5 4402,-292.5 4402,-286.5 4402,-286.5 4402,-242.5 4402,-242.5 4402,-236.5 4408,-230.5 4414,-230.5 4414,-230.5 4505,-230.5 4505,-230.5 4511,-230.5 4517,-236.5 4517,-242.5 4517,-242.5 4517,-286.5 4517,-286.5 4517,-292.5 4511,-298.5 4505,-298.5\"/>\n<text text-anchor=\"start\" x=\"4430\" y=\"-283.3\" font-family=\"Helvetica,sans-Serif\" font-size=\"14.00\" fill=\"#000000\">gini = 0.0</text>\n<text text-anchor=\"start\" x=\"4420\" y=\"-268.3\" font-family=\"Helvetica,sans-Serif\" font-size=\"14.00\" fill=\"#000000\">samples = 1</text>\n<text text-anchor=\"start\" x=\"4410\" y=\"-253.3\" font-family=\"Helvetica,sans-Serif\" font-size=\"14.00\" fill=\"#000000\">value = [1, 0, 0]</text>\n<text text-anchor=\"start\" x=\"4430.5\" y=\"-238.3\" font-family=\"Helvetica,sans-Serif\" font-size=\"14.00\" fill=\"#000000\">class = 1</text>\n</g>\n<!-- 125&#45;&gt;127 -->\n<g id=\"edge127\" class=\"edge\">\n<title>125&#45;&gt;127</title>\n<path fill=\"none\" stroke=\"#000000\" d=\"M4362.613,-341.8796C4377.4826,-330.0038 4393.664,-317.0804 4408.4683,-305.2568\"/>\n<polygon fill=\"#000000\" stroke=\"#000000\" points=\"4410.9046,-307.7904 4416.5342,-298.8149 4406.5362,-302.3207 4410.9046,-307.7904\"/>\n</g>\n<!-- 129 -->\n<g id=\"node130\" class=\"node\">\n<title>129</title>\n<path fill=\"#e99457\" stroke=\"#000000\" d=\"M4970.5,-782C4970.5,-782 4728.5,-782 4728.5,-782 4722.5,-782 4716.5,-776 4716.5,-770 4716.5,-770 4716.5,-711 4716.5,-711 4716.5,-705 4722.5,-699 4728.5,-699 4728.5,-699 4970.5,-699 4970.5,-699 4976.5,-699 4982.5,-705 4982.5,-711 4982.5,-711 4982.5,-770 4982.5,-770 4982.5,-776 4976.5,-782 4970.5,-782\"/>\n<text text-anchor=\"start\" x=\"4724.5\" y=\"-766.8\" font-family=\"Helvetica,sans-Serif\" font-size=\"14.00\" fill=\"#000000\">abnormal_short_term_variability ≤ 59.5</text>\n<text text-anchor=\"start\" x=\"4811.5\" y=\"-751.8\" font-family=\"Helvetica,sans-Serif\" font-size=\"14.00\" fill=\"#000000\">gini = 0.229</text>\n<text text-anchor=\"start\" x=\"4805.5\" y=\"-736.8\" font-family=\"Helvetica,sans-Serif\" font-size=\"14.00\" fill=\"#000000\">samples = 91</text>\n<text text-anchor=\"start\" x=\"4792\" y=\"-721.8\" font-family=\"Helvetica,sans-Serif\" font-size=\"14.00\" fill=\"#000000\">value = [79, 12, 0]</text>\n<text text-anchor=\"start\" x=\"4820.5\" y=\"-706.8\" font-family=\"Helvetica,sans-Serif\" font-size=\"14.00\" fill=\"#000000\">class = 1</text>\n</g>\n<!-- 128&#45;&gt;129 -->\n<g id=\"edge129\" class=\"edge\">\n<title>128&#45;&gt;129</title>\n<path fill=\"none\" stroke=\"#000000\" d=\"M4924.9288,-817.8796C4916.0618,-808.7832 4906.5956,-799.0722 4897.4709,-789.7116\"/>\n<polygon fill=\"#000000\" stroke=\"#000000\" points=\"4899.7309,-787.0158 4890.2443,-782.2981 4894.7183,-791.9019 4899.7309,-787.0158\"/>\n</g>\n<!-- 146 -->\n<g id=\"node147\" class=\"node\">\n<title>146</title>\n<path fill=\"#6aeca0\" stroke=\"#000000\" d=\"M5152.5,-782C5152.5,-782 5012.5,-782 5012.5,-782 5006.5,-782 5000.5,-776 5000.5,-770 5000.5,-770 5000.5,-711 5000.5,-711 5000.5,-705 5006.5,-699 5012.5,-699 5012.5,-699 5152.5,-699 5152.5,-699 5158.5,-699 5164.5,-705 5164.5,-711 5164.5,-711 5164.5,-770 5164.5,-770 5164.5,-776 5158.5,-782 5152.5,-782\"/>\n<text text-anchor=\"start\" x=\"5008.5\" y=\"-766.8\" font-family=\"Helvetica,sans-Serif\" font-size=\"14.00\" fill=\"#000000\">histogram_min ≤ 102.5</text>\n<text text-anchor=\"start\" x=\"5049\" y=\"-751.8\" font-family=\"Helvetica,sans-Serif\" font-size=\"14.00\" fill=\"#000000\">gini = 0.32</text>\n<text text-anchor=\"start\" x=\"5043\" y=\"-736.8\" font-family=\"Helvetica,sans-Serif\" font-size=\"14.00\" fill=\"#000000\">samples = 5</text>\n<text text-anchor=\"start\" x=\"5033\" y=\"-721.8\" font-family=\"Helvetica,sans-Serif\" font-size=\"14.00\" fill=\"#000000\">value = [1, 4, 0]</text>\n<text text-anchor=\"start\" x=\"5053.5\" y=\"-706.8\" font-family=\"Helvetica,sans-Serif\" font-size=\"14.00\" fill=\"#000000\">class = 2</text>\n</g>\n<!-- 128&#45;&gt;146 -->\n<g id=\"edge146\" class=\"edge\">\n<title>128&#45;&gt;146</title>\n<path fill=\"none\" stroke=\"#000000\" d=\"M5006.4209,-817.8796C5015.453,-808.6931 5025.1013,-798.8798 5034.3888,-789.4336\"/>\n<polygon fill=\"#000000\" stroke=\"#000000\" points=\"5036.8893,-791.8827 5041.4044,-782.2981 5031.8977,-786.975 5036.8893,-791.8827\"/>\n</g>\n<!-- 130 -->\n<g id=\"node131\" class=\"node\">\n<title>130</title>\n<path fill=\"#e68742\" stroke=\"#000000\" d=\"M4750,-663C4750,-663 4341,-663 4341,-663 4335,-663 4329,-657 4329,-651 4329,-651 4329,-592 4329,-592 4329,-586 4335,-580 4341,-580 4341,-580 4750,-580 4750,-580 4756,-580 4762,-586 4762,-592 4762,-592 4762,-651 4762,-651 4762,-657 4756,-663 4750,-663\"/>\n<text text-anchor=\"start\" x=\"4337\" y=\"-647.8\" font-family=\"Helvetica,sans-Serif\" font-size=\"14.00\" fill=\"#000000\">percentage_of_time_with_abnormal_long_term_variability ≤ 59.5</text>\n<text text-anchor=\"start\" x=\"4507.5\" y=\"-632.8\" font-family=\"Helvetica,sans-Serif\" font-size=\"14.00\" fill=\"#000000\">gini = 0.086</text>\n<text text-anchor=\"start\" x=\"4501.5\" y=\"-617.8\" font-family=\"Helvetica,sans-Serif\" font-size=\"14.00\" fill=\"#000000\">samples = 67</text>\n<text text-anchor=\"start\" x=\"4492\" y=\"-602.8\" font-family=\"Helvetica,sans-Serif\" font-size=\"14.00\" fill=\"#000000\">value = [64, 3, 0]</text>\n<text text-anchor=\"start\" x=\"4516.5\" y=\"-587.8\" font-family=\"Helvetica,sans-Serif\" font-size=\"14.00\" fill=\"#000000\">class = 1</text>\n</g>\n<!-- 129&#45;&gt;130 -->\n<g id=\"edge130\" class=\"edge\">\n<title>129&#45;&gt;130</title>\n<path fill=\"none\" stroke=\"#000000\" d=\"M4743.1756,-698.8796C4716.6785,-688.5074 4688.1401,-677.3361 4661.2149,-666.7963\"/>\n<polygon fill=\"#000000\" stroke=\"#000000\" points=\"4662.3522,-663.4829 4651.7644,-663.0969 4659.8006,-670.0013 4662.3522,-663.4829\"/>\n</g>\n<!-- 139 -->\n<g id=\"node140\" class=\"node\">\n<title>139</title>\n<path fill=\"#f5cdb0\" stroke=\"#000000\" d=\"M4934.5,-663C4934.5,-663 4792.5,-663 4792.5,-663 4786.5,-663 4780.5,-657 4780.5,-651 4780.5,-651 4780.5,-592 4780.5,-592 4780.5,-586 4786.5,-580 4792.5,-580 4792.5,-580 4934.5,-580 4934.5,-580 4940.5,-580 4946.5,-586 4946.5,-592 4946.5,-592 4946.5,-651 4946.5,-651 4946.5,-657 4940.5,-663 4934.5,-663\"/>\n<text text-anchor=\"start\" x=\"4788.5\" y=\"-647.8\" font-family=\"Helvetica,sans-Serif\" font-size=\"14.00\" fill=\"#000000\">histogram_width ≤ 28.5</text>\n<text text-anchor=\"start\" x=\"4825.5\" y=\"-632.8\" font-family=\"Helvetica,sans-Serif\" font-size=\"14.00\" fill=\"#000000\">gini = 0.469</text>\n<text text-anchor=\"start\" x=\"4819.5\" y=\"-617.8\" font-family=\"Helvetica,sans-Serif\" font-size=\"14.00\" fill=\"#000000\">samples = 24</text>\n<text text-anchor=\"start\" x=\"4810\" y=\"-602.8\" font-family=\"Helvetica,sans-Serif\" font-size=\"14.00\" fill=\"#000000\">value = [15, 9, 0]</text>\n<text text-anchor=\"start\" x=\"4834.5\" y=\"-587.8\" font-family=\"Helvetica,sans-Serif\" font-size=\"14.00\" fill=\"#000000\">class = 1</text>\n</g>\n<!-- 129&#45;&gt;139 -->\n<g id=\"edge139\" class=\"edge\">\n<title>129&#45;&gt;139</title>\n<path fill=\"none\" stroke=\"#000000\" d=\"M4854.3965,-698.8796C4855.3607,-690.6838 4856.3836,-681.9891 4857.3822,-673.5013\"/>\n<polygon fill=\"#000000\" stroke=\"#000000\" points=\"4860.8901,-673.6386 4858.5826,-663.2981 4853.9381,-672.8206 4860.8901,-673.6386\"/>\n</g>\n<!-- 131 -->\n<g id=\"node132\" class=\"node\">\n<title>131</title>\n<path fill=\"#e6853f\" stroke=\"#000000\" d=\"M4554,-544C4554,-544 4401,-544 4401,-544 4395,-544 4389,-538 4389,-532 4389,-532 4389,-473 4389,-473 4389,-467 4395,-461 4401,-461 4401,-461 4554,-461 4554,-461 4560,-461 4566,-467 4566,-473 4566,-473 4566,-532 4566,-532 4566,-538 4560,-544 4554,-544\"/>\n<text text-anchor=\"start\" x=\"4397\" y=\"-528.8\" font-family=\"Helvetica,sans-Serif\" font-size=\"14.00\" fill=\"#000000\">histogram_mode ≤ 142.5</text>\n<text text-anchor=\"start\" x=\"4439.5\" y=\"-513.8\" font-family=\"Helvetica,sans-Serif\" font-size=\"14.00\" fill=\"#000000\">gini = 0.059</text>\n<text text-anchor=\"start\" x=\"4433.5\" y=\"-498.8\" font-family=\"Helvetica,sans-Serif\" font-size=\"14.00\" fill=\"#000000\">samples = 66</text>\n<text text-anchor=\"start\" x=\"4424\" y=\"-483.8\" font-family=\"Helvetica,sans-Serif\" font-size=\"14.00\" fill=\"#000000\">value = [64, 2, 0]</text>\n<text text-anchor=\"start\" x=\"4448.5\" y=\"-468.8\" font-family=\"Helvetica,sans-Serif\" font-size=\"14.00\" fill=\"#000000\">class = 1</text>\n</g>\n<!-- 130&#45;&gt;131 -->\n<g id=\"edge131\" class=\"edge\">\n<title>130&#45;&gt;131</title>\n<path fill=\"none\" stroke=\"#000000\" d=\"M4521.7169,-579.8796C4516.7763,-571.2335 4511.5184,-562.0322 4506.4167,-553.1042\"/>\n<polygon fill=\"#000000\" stroke=\"#000000\" points=\"4509.3849,-551.244 4501.3846,-544.2981 4503.3072,-554.717 4509.3849,-551.244\"/>\n</g>\n<!-- 138 -->\n<g id=\"node139\" class=\"node\">\n<title>138</title>\n<path fill=\"#39e581\" stroke=\"#000000\" d=\"M4687,-536.5C4687,-536.5 4596,-536.5 4596,-536.5 4590,-536.5 4584,-530.5 4584,-524.5 4584,-524.5 4584,-480.5 4584,-480.5 4584,-474.5 4590,-468.5 4596,-468.5 4596,-468.5 4687,-468.5 4687,-468.5 4693,-468.5 4699,-474.5 4699,-480.5 4699,-480.5 4699,-524.5 4699,-524.5 4699,-530.5 4693,-536.5 4687,-536.5\"/>\n<text text-anchor=\"start\" x=\"4612\" y=\"-521.3\" font-family=\"Helvetica,sans-Serif\" font-size=\"14.00\" fill=\"#000000\">gini = 0.0</text>\n<text text-anchor=\"start\" x=\"4602\" y=\"-506.3\" font-family=\"Helvetica,sans-Serif\" font-size=\"14.00\" fill=\"#000000\">samples = 1</text>\n<text text-anchor=\"start\" x=\"4592\" y=\"-491.3\" font-family=\"Helvetica,sans-Serif\" font-size=\"14.00\" fill=\"#000000\">value = [0, 1, 0]</text>\n<text text-anchor=\"start\" x=\"4612.5\" y=\"-476.3\" font-family=\"Helvetica,sans-Serif\" font-size=\"14.00\" fill=\"#000000\">class = 2</text>\n</g>\n<!-- 130&#45;&gt;138 -->\n<g id=\"edge138\" class=\"edge\">\n<title>130&#45;&gt;138</title>\n<path fill=\"none\" stroke=\"#000000\" d=\"M4579.0761,-579.8796C4588.2131,-568.5536 4598.1187,-556.2748 4607.2902,-544.9058\"/>\n<polygon fill=\"#000000\" stroke=\"#000000\" points=\"4610.2626,-546.7957 4613.8174,-536.8149 4604.8144,-542.4005 4610.2626,-546.7957\"/>\n</g>\n<!-- 132 -->\n<g id=\"node133\" class=\"node\">\n<title>132</title>\n<path fill=\"#e58139\" stroke=\"#000000\" d=\"M4527,-417.5C4527,-417.5 4428,-417.5 4428,-417.5 4422,-417.5 4416,-411.5 4416,-405.5 4416,-405.5 4416,-361.5 4416,-361.5 4416,-355.5 4422,-349.5 4428,-349.5 4428,-349.5 4527,-349.5 4527,-349.5 4533,-349.5 4539,-355.5 4539,-361.5 4539,-361.5 4539,-405.5 4539,-405.5 4539,-411.5 4533,-417.5 4527,-417.5\"/>\n<text text-anchor=\"start\" x=\"4448\" y=\"-402.3\" font-family=\"Helvetica,sans-Serif\" font-size=\"14.00\" fill=\"#000000\">gini = 0.0</text>\n<text text-anchor=\"start\" x=\"4433.5\" y=\"-387.3\" font-family=\"Helvetica,sans-Serif\" font-size=\"14.00\" fill=\"#000000\">samples = 51</text>\n<text text-anchor=\"start\" x=\"4424\" y=\"-372.3\" font-family=\"Helvetica,sans-Serif\" font-size=\"14.00\" fill=\"#000000\">value = [51, 0, 0]</text>\n<text text-anchor=\"start\" x=\"4448.5\" y=\"-357.3\" font-family=\"Helvetica,sans-Serif\" font-size=\"14.00\" fill=\"#000000\">class = 1</text>\n</g>\n<!-- 131&#45;&gt;132 -->\n<g id=\"edge132\" class=\"edge\">\n<title>131&#45;&gt;132</title>\n<path fill=\"none\" stroke=\"#000000\" d=\"M4477.5,-460.8796C4477.5,-450.2134 4477.5,-438.7021 4477.5,-427.9015\"/>\n<polygon fill=\"#000000\" stroke=\"#000000\" points=\"4481.0001,-427.8149 4477.5,-417.8149 4474.0001,-427.815 4481.0001,-427.8149\"/>\n</g>\n<!-- 133 -->\n<g id=\"node134\" class=\"node\">\n<title>133</title>\n<path fill=\"#e99457\" stroke=\"#000000\" d=\"M4707.5,-425C4707.5,-425 4569.5,-425 4569.5,-425 4563.5,-425 4557.5,-419 4557.5,-413 4557.5,-413 4557.5,-354 4557.5,-354 4557.5,-348 4563.5,-342 4569.5,-342 4569.5,-342 4707.5,-342 4707.5,-342 4713.5,-342 4719.5,-348 4719.5,-354 4719.5,-354 4719.5,-413 4719.5,-413 4719.5,-419 4713.5,-425 4707.5,-425\"/>\n<text text-anchor=\"start\" x=\"4565.5\" y=\"-409.8\" font-family=\"Helvetica,sans-Serif\" font-size=\"14.00\" fill=\"#000000\">baseline value ≤ 135.5</text>\n<text text-anchor=\"start\" x=\"4600.5\" y=\"-394.8\" font-family=\"Helvetica,sans-Serif\" font-size=\"14.00\" fill=\"#000000\">gini = 0.231</text>\n<text text-anchor=\"start\" x=\"4594.5\" y=\"-379.8\" font-family=\"Helvetica,sans-Serif\" font-size=\"14.00\" fill=\"#000000\">samples = 15</text>\n<text text-anchor=\"start\" x=\"4585\" y=\"-364.8\" font-family=\"Helvetica,sans-Serif\" font-size=\"14.00\" fill=\"#000000\">value = [13, 2, 0]</text>\n<text text-anchor=\"start\" x=\"4609.5\" y=\"-349.8\" font-family=\"Helvetica,sans-Serif\" font-size=\"14.00\" fill=\"#000000\">class = 1</text>\n</g>\n<!-- 131&#45;&gt;133 -->\n<g id=\"edge133\" class=\"edge\">\n<title>131&#45;&gt;133</title>\n<path fill=\"none\" stroke=\"#000000\" d=\"M4533.81,-460.8796C4546.8012,-451.2774 4560.719,-440.9903 4574.0277,-431.1534\"/>\n<polygon fill=\"#000000\" stroke=\"#000000\" points=\"4576.2604,-433.8555 4582.2218,-425.0969 4572.0996,-428.2263 4576.2604,-433.8555\"/>\n</g>\n<!-- 134 -->\n<g id=\"node135\" class=\"node\">\n<title>134</title>\n<path fill=\"#ffffff\" stroke=\"#000000\" d=\"M4711.5,-306C4711.5,-306 4547.5,-306 4547.5,-306 4541.5,-306 4535.5,-300 4535.5,-294 4535.5,-294 4535.5,-235 4535.5,-235 4535.5,-229 4541.5,-223 4547.5,-223 4547.5,-223 4711.5,-223 4711.5,-223 4717.5,-223 4723.5,-229 4723.5,-235 4723.5,-235 4723.5,-294 4723.5,-294 4723.5,-300 4717.5,-306 4711.5,-306\"/>\n<text text-anchor=\"start\" x=\"4543.5\" y=\"-290.8\" font-family=\"Helvetica,sans-Serif\" font-size=\"14.00\" fill=\"#000000\">histogram_median ≤ 141.0</text>\n<text text-anchor=\"start\" x=\"4600\" y=\"-275.8\" font-family=\"Helvetica,sans-Serif\" font-size=\"14.00\" fill=\"#000000\">gini = 0.5</text>\n<text text-anchor=\"start\" x=\"4590\" y=\"-260.8\" font-family=\"Helvetica,sans-Serif\" font-size=\"14.00\" fill=\"#000000\">samples = 4</text>\n<text text-anchor=\"start\" x=\"4580\" y=\"-245.8\" font-family=\"Helvetica,sans-Serif\" font-size=\"14.00\" fill=\"#000000\">value = [2, 2, 0]</text>\n<text text-anchor=\"start\" x=\"4600.5\" y=\"-230.8\" font-family=\"Helvetica,sans-Serif\" font-size=\"14.00\" fill=\"#000000\">class = 1</text>\n</g>\n<!-- 133&#45;&gt;134 -->\n<g id=\"edge134\" class=\"edge\">\n<title>133&#45;&gt;134</title>\n<path fill=\"none\" stroke=\"#000000\" d=\"M4635.3522,-341.8796C4634.7324,-333.6838 4634.0748,-324.9891 4633.4329,-316.5013\"/>\n<polygon fill=\"#000000\" stroke=\"#000000\" points=\"4636.9055,-316.0056 4632.6612,-306.2981 4629.9254,-316.5336 4636.9055,-316.0056\"/>\n</g>\n<!-- 137 -->\n<g id=\"node138\" class=\"node\">\n<title>137</title>\n<path fill=\"#e58139\" stroke=\"#000000\" d=\"M4853,-298.5C4853,-298.5 4754,-298.5 4754,-298.5 4748,-298.5 4742,-292.5 4742,-286.5 4742,-286.5 4742,-242.5 4742,-242.5 4742,-236.5 4748,-230.5 4754,-230.5 4754,-230.5 4853,-230.5 4853,-230.5 4859,-230.5 4865,-236.5 4865,-242.5 4865,-242.5 4865,-286.5 4865,-286.5 4865,-292.5 4859,-298.5 4853,-298.5\"/>\n<text text-anchor=\"start\" x=\"4774\" y=\"-283.3\" font-family=\"Helvetica,sans-Serif\" font-size=\"14.00\" fill=\"#000000\">gini = 0.0</text>\n<text text-anchor=\"start\" x=\"4759.5\" y=\"-268.3\" font-family=\"Helvetica,sans-Serif\" font-size=\"14.00\" fill=\"#000000\">samples = 11</text>\n<text text-anchor=\"start\" x=\"4750\" y=\"-253.3\" font-family=\"Helvetica,sans-Serif\" font-size=\"14.00\" fill=\"#000000\">value = [11, 0, 0]</text>\n<text text-anchor=\"start\" x=\"4774.5\" y=\"-238.3\" font-family=\"Helvetica,sans-Serif\" font-size=\"14.00\" fill=\"#000000\">class = 1</text>\n</g>\n<!-- 133&#45;&gt;137 -->\n<g id=\"edge137\" class=\"edge\">\n<title>133&#45;&gt;137</title>\n<path fill=\"none\" stroke=\"#000000\" d=\"M4696.209,-341.8796C4712.907,-329.8368 4731.0987,-316.7167 4747.6793,-304.7586\"/>\n<polygon fill=\"#000000\" stroke=\"#000000\" points=\"4750.1232,-307.3113 4756.1865,-298.623 4746.0285,-301.6339 4750.1232,-307.3113\"/>\n</g>\n<!-- 135 -->\n<g id=\"node136\" class=\"node\">\n<title>135</title>\n<path fill=\"#e58139\" stroke=\"#000000\" d=\"M4609,-179.5C4609,-179.5 4518,-179.5 4518,-179.5 4512,-179.5 4506,-173.5 4506,-167.5 4506,-167.5 4506,-123.5 4506,-123.5 4506,-117.5 4512,-111.5 4518,-111.5 4518,-111.5 4609,-111.5 4609,-111.5 4615,-111.5 4621,-117.5 4621,-123.5 4621,-123.5 4621,-167.5 4621,-167.5 4621,-173.5 4615,-179.5 4609,-179.5\"/>\n<text text-anchor=\"start\" x=\"4534\" y=\"-164.3\" font-family=\"Helvetica,sans-Serif\" font-size=\"14.00\" fill=\"#000000\">gini = 0.0</text>\n<text text-anchor=\"start\" x=\"4524\" y=\"-149.3\" font-family=\"Helvetica,sans-Serif\" font-size=\"14.00\" fill=\"#000000\">samples = 2</text>\n<text text-anchor=\"start\" x=\"4514\" y=\"-134.3\" font-family=\"Helvetica,sans-Serif\" font-size=\"14.00\" fill=\"#000000\">value = [2, 0, 0]</text>\n<text text-anchor=\"start\" x=\"4534.5\" y=\"-119.3\" font-family=\"Helvetica,sans-Serif\" font-size=\"14.00\" fill=\"#000000\">class = 1</text>\n</g>\n<!-- 134&#45;&gt;135 -->\n<g id=\"edge135\" class=\"edge\">\n<title>134&#45;&gt;135</title>\n<path fill=\"none\" stroke=\"#000000\" d=\"M4606.4164,-222.8796C4600.2567,-211.7735 4593.5889,-199.7513 4587.3871,-188.5691\"/>\n<polygon fill=\"#000000\" stroke=\"#000000\" points=\"4590.4428,-186.8624 4582.5318,-179.8149 4584.3213,-190.2576 4590.4428,-186.8624\"/>\n</g>\n<!-- 136 -->\n<g id=\"node137\" class=\"node\">\n<title>136</title>\n<path fill=\"#39e581\" stroke=\"#000000\" d=\"M4742,-179.5C4742,-179.5 4651,-179.5 4651,-179.5 4645,-179.5 4639,-173.5 4639,-167.5 4639,-167.5 4639,-123.5 4639,-123.5 4639,-117.5 4645,-111.5 4651,-111.5 4651,-111.5 4742,-111.5 4742,-111.5 4748,-111.5 4754,-117.5 4754,-123.5 4754,-123.5 4754,-167.5 4754,-167.5 4754,-173.5 4748,-179.5 4742,-179.5\"/>\n<text text-anchor=\"start\" x=\"4667\" y=\"-164.3\" font-family=\"Helvetica,sans-Serif\" font-size=\"14.00\" fill=\"#000000\">gini = 0.0</text>\n<text text-anchor=\"start\" x=\"4657\" y=\"-149.3\" font-family=\"Helvetica,sans-Serif\" font-size=\"14.00\" fill=\"#000000\">samples = 2</text>\n<text text-anchor=\"start\" x=\"4647\" y=\"-134.3\" font-family=\"Helvetica,sans-Serif\" font-size=\"14.00\" fill=\"#000000\">value = [0, 2, 0]</text>\n<text text-anchor=\"start\" x=\"4667.5\" y=\"-119.3\" font-family=\"Helvetica,sans-Serif\" font-size=\"14.00\" fill=\"#000000\">class = 2</text>\n</g>\n<!-- 134&#45;&gt;136 -->\n<g id=\"edge136\" class=\"edge\">\n<title>134&#45;&gt;136</title>\n<path fill=\"none\" stroke=\"#000000\" d=\"M4652.9333,-222.8796C4659.1863,-211.7735 4665.9552,-199.7513 4672.251,-188.5691\"/>\n<polygon fill=\"#000000\" stroke=\"#000000\" points=\"4675.3235,-190.2459 4677.1798,-179.8149 4669.2239,-186.8116 4675.3235,-190.2459\"/>\n</g>\n<!-- 140 -->\n<g id=\"node141\" class=\"node\">\n<title>140</title>\n<path fill=\"#e58139\" stroke=\"#000000\" d=\"M4828,-536.5C4828,-536.5 4729,-536.5 4729,-536.5 4723,-536.5 4717,-530.5 4717,-524.5 4717,-524.5 4717,-480.5 4717,-480.5 4717,-474.5 4723,-468.5 4729,-468.5 4729,-468.5 4828,-468.5 4828,-468.5 4834,-468.5 4840,-474.5 4840,-480.5 4840,-480.5 4840,-524.5 4840,-524.5 4840,-530.5 4834,-536.5 4828,-536.5\"/>\n<text text-anchor=\"start\" x=\"4749\" y=\"-521.3\" font-family=\"Helvetica,sans-Serif\" font-size=\"14.00\" fill=\"#000000\">gini = 0.0</text>\n<text text-anchor=\"start\" x=\"4734.5\" y=\"-506.3\" font-family=\"Helvetica,sans-Serif\" font-size=\"14.00\" fill=\"#000000\">samples = 13</text>\n<text text-anchor=\"start\" x=\"4725\" y=\"-491.3\" font-family=\"Helvetica,sans-Serif\" font-size=\"14.00\" fill=\"#000000\">value = [13, 0, 0]</text>\n<text text-anchor=\"start\" x=\"4749.5\" y=\"-476.3\" font-family=\"Helvetica,sans-Serif\" font-size=\"14.00\" fill=\"#000000\">class = 1</text>\n</g>\n<!-- 139&#45;&gt;140 -->\n<g id=\"edge140\" class=\"edge\">\n<title>139&#45;&gt;140</title>\n<path fill=\"none\" stroke=\"#000000\" d=\"M4833.7711,-579.8796C4825.7597,-568.6636 4817.0808,-556.5131 4809.0266,-545.2372\"/>\n<polygon fill=\"#000000\" stroke=\"#000000\" points=\"4811.6712,-542.9179 4803.0107,-536.8149 4805.975,-546.9866 4811.6712,-542.9179\"/>\n</g>\n<!-- 141 -->\n<g id=\"node142\" class=\"node\">\n<title>141</title>\n<path fill=\"#65eb9d\" stroke=\"#000000\" d=\"M5010.5,-544C5010.5,-544 4870.5,-544 4870.5,-544 4864.5,-544 4858.5,-538 4858.5,-532 4858.5,-532 4858.5,-473 4858.5,-473 4858.5,-467 4864.5,-461 4870.5,-461 4870.5,-461 5010.5,-461 5010.5,-461 5016.5,-461 5022.5,-467 5022.5,-473 5022.5,-473 5022.5,-532 5022.5,-532 5022.5,-538 5016.5,-544 5010.5,-544\"/>\n<text text-anchor=\"start\" x=\"4866.5\" y=\"-528.8\" font-family=\"Helvetica,sans-Serif\" font-size=\"14.00\" fill=\"#000000\">histogram_min ≤ 122.0</text>\n<text text-anchor=\"start\" x=\"4902.5\" y=\"-513.8\" font-family=\"Helvetica,sans-Serif\" font-size=\"14.00\" fill=\"#000000\">gini = 0.298</text>\n<text text-anchor=\"start\" x=\"4896.5\" y=\"-498.8\" font-family=\"Helvetica,sans-Serif\" font-size=\"14.00\" fill=\"#000000\">samples = 11</text>\n<text text-anchor=\"start\" x=\"4891\" y=\"-483.8\" font-family=\"Helvetica,sans-Serif\" font-size=\"14.00\" fill=\"#000000\">value = [2, 9, 0]</text>\n<text text-anchor=\"start\" x=\"4911.5\" y=\"-468.8\" font-family=\"Helvetica,sans-Serif\" font-size=\"14.00\" fill=\"#000000\">class = 2</text>\n</g>\n<!-- 139&#45;&gt;141 -->\n<g id=\"edge141\" class=\"edge\">\n<title>139&#45;&gt;141</title>\n<path fill=\"none\" stroke=\"#000000\" d=\"M4890.4309,-579.8796C4896.0837,-571.1434 4902.1033,-561.8404 4907.9366,-552.8253\"/>\n<polygon fill=\"#000000\" stroke=\"#000000\" points=\"4910.9601,-554.5952 4913.4542,-544.2981 4905.0831,-550.7924 4910.9601,-554.5952\"/>\n</g>\n<!-- 142 -->\n<g id=\"node143\" class=\"node\">\n<title>142</title>\n<path fill=\"#4fe88f\" stroke=\"#000000\" d=\"M5017,-425C5017,-425 4864,-425 4864,-425 4858,-425 4852,-419 4852,-413 4852,-413 4852,-354 4852,-354 4852,-348 4858,-342 4864,-342 4864,-342 5017,-342 5017,-342 5023,-342 5029,-348 5029,-354 5029,-354 5029,-413 5029,-413 5029,-419 5023,-425 5017,-425\"/>\n<text text-anchor=\"start\" x=\"4860\" y=\"-409.8\" font-family=\"Helvetica,sans-Serif\" font-size=\"14.00\" fill=\"#000000\">histogram_mode ≤ 146.5</text>\n<text text-anchor=\"start\" x=\"4907\" y=\"-394.8\" font-family=\"Helvetica,sans-Serif\" font-size=\"14.00\" fill=\"#000000\">gini = 0.18</text>\n<text text-anchor=\"start\" x=\"4896.5\" y=\"-379.8\" font-family=\"Helvetica,sans-Serif\" font-size=\"14.00\" fill=\"#000000\">samples = 10</text>\n<text text-anchor=\"start\" x=\"4891\" y=\"-364.8\" font-family=\"Helvetica,sans-Serif\" font-size=\"14.00\" fill=\"#000000\">value = [1, 9, 0]</text>\n<text text-anchor=\"start\" x=\"4911.5\" y=\"-349.8\" font-family=\"Helvetica,sans-Serif\" font-size=\"14.00\" fill=\"#000000\">class = 2</text>\n</g>\n<!-- 141&#45;&gt;142 -->\n<g id=\"edge142\" class=\"edge\">\n<title>141&#45;&gt;142</title>\n<path fill=\"none\" stroke=\"#000000\" d=\"M4940.5,-460.8796C4940.5,-452.6838 4940.5,-443.9891 4940.5,-435.5013\"/>\n<polygon fill=\"#000000\" stroke=\"#000000\" points=\"4944.0001,-435.298 4940.5,-425.2981 4937.0001,-435.2981 4944.0001,-435.298\"/>\n</g>\n<!-- 145 -->\n<g id=\"node146\" class=\"node\">\n<title>145</title>\n<path fill=\"#e58139\" stroke=\"#000000\" d=\"M5150,-417.5C5150,-417.5 5059,-417.5 5059,-417.5 5053,-417.5 5047,-411.5 5047,-405.5 5047,-405.5 5047,-361.5 5047,-361.5 5047,-355.5 5053,-349.5 5059,-349.5 5059,-349.5 5150,-349.5 5150,-349.5 5156,-349.5 5162,-355.5 5162,-361.5 5162,-361.5 5162,-405.5 5162,-405.5 5162,-411.5 5156,-417.5 5150,-417.5\"/>\n<text text-anchor=\"start\" x=\"5075\" y=\"-402.3\" font-family=\"Helvetica,sans-Serif\" font-size=\"14.00\" fill=\"#000000\">gini = 0.0</text>\n<text text-anchor=\"start\" x=\"5065\" y=\"-387.3\" font-family=\"Helvetica,sans-Serif\" font-size=\"14.00\" fill=\"#000000\">samples = 1</text>\n<text text-anchor=\"start\" x=\"5055\" y=\"-372.3\" font-family=\"Helvetica,sans-Serif\" font-size=\"14.00\" fill=\"#000000\">value = [1, 0, 0]</text>\n<text text-anchor=\"start\" x=\"5075.5\" y=\"-357.3\" font-family=\"Helvetica,sans-Serif\" font-size=\"14.00\" fill=\"#000000\">class = 1</text>\n</g>\n<!-- 141&#45;&gt;145 -->\n<g id=\"edge145\" class=\"edge\">\n<title>141&#45;&gt;145</title>\n<path fill=\"none\" stroke=\"#000000\" d=\"M4997.8592,-460.8796C5014.4561,-448.8368 5032.5375,-435.7167 5049.0176,-423.7586\"/>\n<polygon fill=\"#000000\" stroke=\"#000000\" points=\"5051.4351,-426.3288 5057.4733,-417.623 5047.324,-420.6632 5051.4351,-426.3288\"/>\n</g>\n<!-- 143 -->\n<g id=\"node144\" class=\"node\">\n<title>143</title>\n<path fill=\"#39e581\" stroke=\"#000000\" d=\"M4986,-298.5C4986,-298.5 4895,-298.5 4895,-298.5 4889,-298.5 4883,-292.5 4883,-286.5 4883,-286.5 4883,-242.5 4883,-242.5 4883,-236.5 4889,-230.5 4895,-230.5 4895,-230.5 4986,-230.5 4986,-230.5 4992,-230.5 4998,-236.5 4998,-242.5 4998,-242.5 4998,-286.5 4998,-286.5 4998,-292.5 4992,-298.5 4986,-298.5\"/>\n<text text-anchor=\"start\" x=\"4911\" y=\"-283.3\" font-family=\"Helvetica,sans-Serif\" font-size=\"14.00\" fill=\"#000000\">gini = 0.0</text>\n<text text-anchor=\"start\" x=\"4901\" y=\"-268.3\" font-family=\"Helvetica,sans-Serif\" font-size=\"14.00\" fill=\"#000000\">samples = 9</text>\n<text text-anchor=\"start\" x=\"4891\" y=\"-253.3\" font-family=\"Helvetica,sans-Serif\" font-size=\"14.00\" fill=\"#000000\">value = [0, 9, 0]</text>\n<text text-anchor=\"start\" x=\"4911.5\" y=\"-238.3\" font-family=\"Helvetica,sans-Serif\" font-size=\"14.00\" fill=\"#000000\">class = 2</text>\n</g>\n<!-- 142&#45;&gt;143 -->\n<g id=\"edge143\" class=\"edge\">\n<title>142&#45;&gt;143</title>\n<path fill=\"none\" stroke=\"#000000\" d=\"M4940.5,-341.8796C4940.5,-331.2134 4940.5,-319.7021 4940.5,-308.9015\"/>\n<polygon fill=\"#000000\" stroke=\"#000000\" points=\"4944.0001,-308.8149 4940.5,-298.8149 4937.0001,-308.815 4944.0001,-308.8149\"/>\n</g>\n<!-- 144 -->\n<g id=\"node145\" class=\"node\">\n<title>144</title>\n<path fill=\"#e58139\" stroke=\"#000000\" d=\"M5119,-298.5C5119,-298.5 5028,-298.5 5028,-298.5 5022,-298.5 5016,-292.5 5016,-286.5 5016,-286.5 5016,-242.5 5016,-242.5 5016,-236.5 5022,-230.5 5028,-230.5 5028,-230.5 5119,-230.5 5119,-230.5 5125,-230.5 5131,-236.5 5131,-242.5 5131,-242.5 5131,-286.5 5131,-286.5 5131,-292.5 5125,-298.5 5119,-298.5\"/>\n<text text-anchor=\"start\" x=\"5044\" y=\"-283.3\" font-family=\"Helvetica,sans-Serif\" font-size=\"14.00\" fill=\"#000000\">gini = 0.0</text>\n<text text-anchor=\"start\" x=\"5034\" y=\"-268.3\" font-family=\"Helvetica,sans-Serif\" font-size=\"14.00\" fill=\"#000000\">samples = 1</text>\n<text text-anchor=\"start\" x=\"5024\" y=\"-253.3\" font-family=\"Helvetica,sans-Serif\" font-size=\"14.00\" fill=\"#000000\">value = [1, 0, 0]</text>\n<text text-anchor=\"start\" x=\"5044.5\" y=\"-238.3\" font-family=\"Helvetica,sans-Serif\" font-size=\"14.00\" fill=\"#000000\">class = 1</text>\n</g>\n<!-- 142&#45;&gt;144 -->\n<g id=\"edge144\" class=\"edge\">\n<title>142&#45;&gt;144</title>\n<path fill=\"none\" stroke=\"#000000\" d=\"M4987.0169,-341.8796C5000.167,-330.1138 5014.4663,-317.3197 5027.5809,-305.5855\"/>\n<polygon fill=\"#000000\" stroke=\"#000000\" points=\"5030.0294,-308.0913 5035.148,-298.8149 5025.3618,-302.8746 5030.0294,-308.0913\"/>\n</g>\n<!-- 147 -->\n<g id=\"node148\" class=\"node\">\n<title>147</title>\n<path fill=\"#ffffff\" stroke=\"#000000\" d=\"M5135,-663C5135,-663 5004,-663 5004,-663 4998,-663 4992,-657 4992,-651 4992,-651 4992,-592 4992,-592 4992,-586 4998,-580 5004,-580 5004,-580 5135,-580 5135,-580 5141,-580 5147,-586 5147,-592 5147,-592 5147,-651 5147,-651 5147,-657 5141,-663 5135,-663\"/>\n<text text-anchor=\"start\" x=\"5000\" y=\"-647.8\" font-family=\"Helvetica,sans-Serif\" font-size=\"14.00\" fill=\"#000000\">accelerations ≤ 0.001</text>\n<text text-anchor=\"start\" x=\"5040\" y=\"-632.8\" font-family=\"Helvetica,sans-Serif\" font-size=\"14.00\" fill=\"#000000\">gini = 0.5</text>\n<text text-anchor=\"start\" x=\"5030\" y=\"-617.8\" font-family=\"Helvetica,sans-Serif\" font-size=\"14.00\" fill=\"#000000\">samples = 2</text>\n<text text-anchor=\"start\" x=\"5020\" y=\"-602.8\" font-family=\"Helvetica,sans-Serif\" font-size=\"14.00\" fill=\"#000000\">value = [1, 1, 0]</text>\n<text text-anchor=\"start\" x=\"5040.5\" y=\"-587.8\" font-family=\"Helvetica,sans-Serif\" font-size=\"14.00\" fill=\"#000000\">class = 1</text>\n</g>\n<!-- 146&#45;&gt;147 -->\n<g id=\"edge147\" class=\"edge\">\n<title>146&#45;&gt;147</title>\n<path fill=\"none\" stroke=\"#000000\" d=\"M5077.9532,-698.8796C5077.0579,-690.6838 5076.1081,-681.9891 5075.1808,-673.5013\"/>\n<polygon fill=\"#000000\" stroke=\"#000000\" points=\"5078.6315,-672.8588 5074.0662,-663.2981 5071.6729,-673.6191 5078.6315,-672.8588\"/>\n</g>\n<!-- 150 -->\n<g id=\"node151\" class=\"node\">\n<title>150</title>\n<path fill=\"#39e581\" stroke=\"#000000\" d=\"M5268,-655.5C5268,-655.5 5177,-655.5 5177,-655.5 5171,-655.5 5165,-649.5 5165,-643.5 5165,-643.5 5165,-599.5 5165,-599.5 5165,-593.5 5171,-587.5 5177,-587.5 5177,-587.5 5268,-587.5 5268,-587.5 5274,-587.5 5280,-593.5 5280,-599.5 5280,-599.5 5280,-643.5 5280,-643.5 5280,-649.5 5274,-655.5 5268,-655.5\"/>\n<text text-anchor=\"start\" x=\"5193\" y=\"-640.3\" font-family=\"Helvetica,sans-Serif\" font-size=\"14.00\" fill=\"#000000\">gini = 0.0</text>\n<text text-anchor=\"start\" x=\"5183\" y=\"-625.3\" font-family=\"Helvetica,sans-Serif\" font-size=\"14.00\" fill=\"#000000\">samples = 3</text>\n<text text-anchor=\"start\" x=\"5173\" y=\"-610.3\" font-family=\"Helvetica,sans-Serif\" font-size=\"14.00\" fill=\"#000000\">value = [0, 3, 0]</text>\n<text text-anchor=\"start\" x=\"5193.5\" y=\"-595.3\" font-family=\"Helvetica,sans-Serif\" font-size=\"14.00\" fill=\"#000000\">class = 2</text>\n</g>\n<!-- 146&#45;&gt;150 -->\n<g id=\"edge150\" class=\"edge\">\n<title>146&#45;&gt;150</title>\n<path fill=\"none\" stroke=\"#000000\" d=\"M5131.4652,-698.8796C5145.3073,-687.1138 5160.3592,-674.3197 5174.1641,-662.5855\"/>\n<polygon fill=\"#000000\" stroke=\"#000000\" points=\"5176.7769,-664.9582 5182.1295,-655.8149 5172.2433,-659.6247 5176.7769,-664.9582\"/>\n</g>\n<!-- 148 -->\n<g id=\"node149\" class=\"node\">\n<title>148</title>\n<path fill=\"#39e581\" stroke=\"#000000\" d=\"M5144,-536.5C5144,-536.5 5053,-536.5 5053,-536.5 5047,-536.5 5041,-530.5 5041,-524.5 5041,-524.5 5041,-480.5 5041,-480.5 5041,-474.5 5047,-468.5 5053,-468.5 5053,-468.5 5144,-468.5 5144,-468.5 5150,-468.5 5156,-474.5 5156,-480.5 5156,-480.5 5156,-524.5 5156,-524.5 5156,-530.5 5150,-536.5 5144,-536.5\"/>\n<text text-anchor=\"start\" x=\"5069\" y=\"-521.3\" font-family=\"Helvetica,sans-Serif\" font-size=\"14.00\" fill=\"#000000\">gini = 0.0</text>\n<text text-anchor=\"start\" x=\"5059\" y=\"-506.3\" font-family=\"Helvetica,sans-Serif\" font-size=\"14.00\" fill=\"#000000\">samples = 1</text>\n<text text-anchor=\"start\" x=\"5049\" y=\"-491.3\" font-family=\"Helvetica,sans-Serif\" font-size=\"14.00\" fill=\"#000000\">value = [0, 1, 0]</text>\n<text text-anchor=\"start\" x=\"5069.5\" y=\"-476.3\" font-family=\"Helvetica,sans-Serif\" font-size=\"14.00\" fill=\"#000000\">class = 2</text>\n</g>\n<!-- 147&#45;&gt;148 -->\n<g id=\"edge148\" class=\"edge\">\n<title>147&#45;&gt;148</title>\n<path fill=\"none\" stroke=\"#000000\" d=\"M5079.6428,-579.8796C5082.2689,-569.1034 5085.1052,-557.4647 5087.7608,-546.5677\"/>\n<polygon fill=\"#000000\" stroke=\"#000000\" points=\"5091.1703,-547.3593 5090.1375,-536.8149 5084.3693,-545.7019 5091.1703,-547.3593\"/>\n</g>\n<!-- 149 -->\n<g id=\"node150\" class=\"node\">\n<title>149</title>\n<path fill=\"#e58139\" stroke=\"#000000\" d=\"M5277,-536.5C5277,-536.5 5186,-536.5 5186,-536.5 5180,-536.5 5174,-530.5 5174,-524.5 5174,-524.5 5174,-480.5 5174,-480.5 5174,-474.5 5180,-468.5 5186,-468.5 5186,-468.5 5277,-468.5 5277,-468.5 5283,-468.5 5289,-474.5 5289,-480.5 5289,-480.5 5289,-524.5 5289,-524.5 5289,-530.5 5283,-536.5 5277,-536.5\"/>\n<text text-anchor=\"start\" x=\"5202\" y=\"-521.3\" font-family=\"Helvetica,sans-Serif\" font-size=\"14.00\" fill=\"#000000\">gini = 0.0</text>\n<text text-anchor=\"start\" x=\"5192\" y=\"-506.3\" font-family=\"Helvetica,sans-Serif\" font-size=\"14.00\" fill=\"#000000\">samples = 1</text>\n<text text-anchor=\"start\" x=\"5182\" y=\"-491.3\" font-family=\"Helvetica,sans-Serif\" font-size=\"14.00\" fill=\"#000000\">value = [1, 0, 0]</text>\n<text text-anchor=\"start\" x=\"5202.5\" y=\"-476.3\" font-family=\"Helvetica,sans-Serif\" font-size=\"14.00\" fill=\"#000000\">class = 1</text>\n</g>\n<!-- 147&#45;&gt;149 -->\n<g id=\"edge149\" class=\"edge\">\n<title>147&#45;&gt;149</title>\n<path fill=\"none\" stroke=\"#000000\" d=\"M5126.1597,-579.8796C5142.5541,-567.8368 5160.4151,-554.7167 5176.6942,-542.7586\"/>\n<polygon fill=\"#000000\" stroke=\"#000000\" points=\"5179.0595,-545.3639 5185.0468,-536.623 5174.9154,-539.7224 5179.0595,-545.3639\"/>\n</g>\n<!-- 152 -->\n<g id=\"node153\" class=\"node\">\n<title>152</title>\n<path fill=\"#f2c09c\" stroke=\"#000000\" d=\"M5553.5,-901C5553.5,-901 5415.5,-901 5415.5,-901 5409.5,-901 5403.5,-895 5403.5,-889 5403.5,-889 5403.5,-830 5403.5,-830 5403.5,-824 5409.5,-818 5415.5,-818 5415.5,-818 5553.5,-818 5553.5,-818 5559.5,-818 5565.5,-824 5565.5,-830 5565.5,-830 5565.5,-889 5565.5,-889 5565.5,-895 5559.5,-901 5553.5,-901\"/>\n<text text-anchor=\"start\" x=\"5411.5\" y=\"-885.8\" font-family=\"Helvetica,sans-Serif\" font-size=\"14.00\" fill=\"#000000\">baseline value ≤ 132.5</text>\n<text text-anchor=\"start\" x=\"5446.5\" y=\"-870.8\" font-family=\"Helvetica,sans-Serif\" font-size=\"14.00\" fill=\"#000000\">gini = 0.491</text>\n<text text-anchor=\"start\" x=\"5440.5\" y=\"-855.8\" font-family=\"Helvetica,sans-Serif\" font-size=\"14.00\" fill=\"#000000\">samples = 17</text>\n<text text-anchor=\"start\" x=\"5431\" y=\"-840.8\" font-family=\"Helvetica,sans-Serif\" font-size=\"14.00\" fill=\"#000000\">value = [11, 1, 5]</text>\n<text text-anchor=\"start\" x=\"5455.5\" y=\"-825.8\" font-family=\"Helvetica,sans-Serif\" font-size=\"14.00\" fill=\"#000000\">class = 1</text>\n</g>\n<!-- 151&#45;&gt;152 -->\n<g id=\"edge152\" class=\"edge\">\n<title>151&#45;&gt;152</title>\n<path fill=\"none\" stroke=\"#000000\" d=\"M5484.5,-936.8796C5484.5,-928.6838 5484.5,-919.9891 5484.5,-911.5013\"/>\n<polygon fill=\"#000000\" stroke=\"#000000\" points=\"5488.0001,-911.298 5484.5,-901.2981 5481.0001,-911.2981 5488.0001,-911.298\"/>\n</g>\n<!-- 163 -->\n<g id=\"node164\" class=\"node\">\n<title>163</title>\n<path fill=\"#39e581\" stroke=\"#000000\" d=\"M5687,-893.5C5687,-893.5 5596,-893.5 5596,-893.5 5590,-893.5 5584,-887.5 5584,-881.5 5584,-881.5 5584,-837.5 5584,-837.5 5584,-831.5 5590,-825.5 5596,-825.5 5596,-825.5 5687,-825.5 5687,-825.5 5693,-825.5 5699,-831.5 5699,-837.5 5699,-837.5 5699,-881.5 5699,-881.5 5699,-887.5 5693,-893.5 5687,-893.5\"/>\n<text text-anchor=\"start\" x=\"5612\" y=\"-878.3\" font-family=\"Helvetica,sans-Serif\" font-size=\"14.00\" fill=\"#000000\">gini = 0.0</text>\n<text text-anchor=\"start\" x=\"5602\" y=\"-863.3\" font-family=\"Helvetica,sans-Serif\" font-size=\"14.00\" fill=\"#000000\">samples = 4</text>\n<text text-anchor=\"start\" x=\"5592\" y=\"-848.3\" font-family=\"Helvetica,sans-Serif\" font-size=\"14.00\" fill=\"#000000\">value = [0, 4, 0]</text>\n<text text-anchor=\"start\" x=\"5612.5\" y=\"-833.3\" font-family=\"Helvetica,sans-Serif\" font-size=\"14.00\" fill=\"#000000\">class = 2</text>\n</g>\n<!-- 151&#45;&gt;163 -->\n<g id=\"edge163\" class=\"edge\">\n<title>151&#45;&gt;163</title>\n<path fill=\"none\" stroke=\"#000000\" d=\"M5539.411,-936.8796C5555.2994,-924.8368 5572.6091,-911.7167 5588.3857,-899.7586\"/>\n<polygon fill=\"#000000\" stroke=\"#000000\" points=\"5590.6253,-902.4529 5596.4805,-893.623 5586.3969,-896.8743 5590.6253,-902.4529\"/>\n</g>\n<!-- 153 -->\n<g id=\"node154\" class=\"node\">\n<title>153</title>\n<path fill=\"#ea985d\" stroke=\"#000000\" d=\"M5605.5,-782C5605.5,-782 5363.5,-782 5363.5,-782 5357.5,-782 5351.5,-776 5351.5,-770 5351.5,-770 5351.5,-711 5351.5,-711 5351.5,-705 5357.5,-699 5363.5,-699 5363.5,-699 5605.5,-699 5605.5,-699 5611.5,-699 5617.5,-705 5617.5,-711 5617.5,-711 5617.5,-770 5617.5,-770 5617.5,-776 5611.5,-782 5605.5,-782\"/>\n<text text-anchor=\"start\" x=\"5359.5\" y=\"-766.8\" font-family=\"Helvetica,sans-Serif\" font-size=\"14.00\" fill=\"#000000\">abnormal_short_term_variability ≤ 51.0</text>\n<text text-anchor=\"start\" x=\"5446.5\" y=\"-751.8\" font-family=\"Helvetica,sans-Serif\" font-size=\"14.00\" fill=\"#000000\">gini = 0.292</text>\n<text text-anchor=\"start\" x=\"5440.5\" y=\"-736.8\" font-family=\"Helvetica,sans-Serif\" font-size=\"14.00\" fill=\"#000000\">samples = 12</text>\n<text text-anchor=\"start\" x=\"5431\" y=\"-721.8\" font-family=\"Helvetica,sans-Serif\" font-size=\"14.00\" fill=\"#000000\">value = [10, 1, 1]</text>\n<text text-anchor=\"start\" x=\"5455.5\" y=\"-706.8\" font-family=\"Helvetica,sans-Serif\" font-size=\"14.00\" fill=\"#000000\">class = 1</text>\n</g>\n<!-- 152&#45;&gt;153 -->\n<g id=\"edge153\" class=\"edge\">\n<title>152&#45;&gt;153</title>\n<path fill=\"none\" stroke=\"#000000\" d=\"M5484.5,-817.8796C5484.5,-809.6838 5484.5,-800.9891 5484.5,-792.5013\"/>\n<polygon fill=\"#000000\" stroke=\"#000000\" points=\"5488.0001,-792.298 5484.5,-782.2981 5481.0001,-792.2981 5488.0001,-792.298\"/>\n</g>\n<!-- 160 -->\n<g id=\"node161\" class=\"node\">\n<title>160</title>\n<path fill=\"#a06aec\" stroke=\"#000000\" d=\"M5850.5,-782C5850.5,-782 5712.5,-782 5712.5,-782 5706.5,-782 5700.5,-776 5700.5,-770 5700.5,-770 5700.5,-711 5700.5,-711 5700.5,-705 5706.5,-699 5712.5,-699 5712.5,-699 5850.5,-699 5850.5,-699 5856.5,-699 5862.5,-705 5862.5,-711 5862.5,-711 5862.5,-770 5862.5,-770 5862.5,-776 5856.5,-782 5850.5,-782\"/>\n<text text-anchor=\"start\" x=\"5708.5\" y=\"-766.8\" font-family=\"Helvetica,sans-Serif\" font-size=\"14.00\" fill=\"#000000\">baseline value ≤ 135.0</text>\n<text text-anchor=\"start\" x=\"5748\" y=\"-751.8\" font-family=\"Helvetica,sans-Serif\" font-size=\"14.00\" fill=\"#000000\">gini = 0.32</text>\n<text text-anchor=\"start\" x=\"5742\" y=\"-736.8\" font-family=\"Helvetica,sans-Serif\" font-size=\"14.00\" fill=\"#000000\">samples = 5</text>\n<text text-anchor=\"start\" x=\"5732\" y=\"-721.8\" font-family=\"Helvetica,sans-Serif\" font-size=\"14.00\" fill=\"#000000\">value = [1, 0, 4]</text>\n<text text-anchor=\"start\" x=\"5752.5\" y=\"-706.8\" font-family=\"Helvetica,sans-Serif\" font-size=\"14.00\" fill=\"#000000\">class = 3</text>\n</g>\n<!-- 152&#45;&gt;160 -->\n<g id=\"edge160\" class=\"edge\">\n<title>152&#45;&gt;160</title>\n<path fill=\"none\" stroke=\"#000000\" d=\"M5565.8159,-821.678C5568.7401,-820.4219 5571.6416,-819.1922 5574.5,-818 5612.2131,-802.2704 5654.3671,-786.2175 5690.7425,-772.8317\"/>\n<polygon fill=\"#000000\" stroke=\"#000000\" points=\"5692.1648,-776.0381 5700.3485,-769.3092 5689.7548,-769.4661 5692.1648,-776.0381\"/>\n</g>\n<!-- 154 -->\n<g id=\"node155\" class=\"node\">\n<title>154</title>\n<path fill=\"#e88e4d\" stroke=\"#000000\" d=\"M5592.5,-663C5592.5,-663 5310.5,-663 5310.5,-663 5304.5,-663 5298.5,-657 5298.5,-651 5298.5,-651 5298.5,-592 5298.5,-592 5298.5,-586 5304.5,-580 5310.5,-580 5310.5,-580 5592.5,-580 5592.5,-580 5598.5,-580 5604.5,-586 5604.5,-592 5604.5,-592 5604.5,-651 5604.5,-651 5604.5,-657 5598.5,-663 5592.5,-663\"/>\n<text text-anchor=\"start\" x=\"5306.5\" y=\"-647.8\" font-family=\"Helvetica,sans-Serif\" font-size=\"14.00\" fill=\"#000000\">mean_value_of_short_term_variability ≤ 2.35</text>\n<text text-anchor=\"start\" x=\"5413.5\" y=\"-632.8\" font-family=\"Helvetica,sans-Serif\" font-size=\"14.00\" fill=\"#000000\">gini = 0.165</text>\n<text text-anchor=\"start\" x=\"5407.5\" y=\"-617.8\" font-family=\"Helvetica,sans-Serif\" font-size=\"14.00\" fill=\"#000000\">samples = 11</text>\n<text text-anchor=\"start\" x=\"5398\" y=\"-602.8\" font-family=\"Helvetica,sans-Serif\" font-size=\"14.00\" fill=\"#000000\">value = [10, 1, 0]</text>\n<text text-anchor=\"start\" x=\"5422.5\" y=\"-587.8\" font-family=\"Helvetica,sans-Serif\" font-size=\"14.00\" fill=\"#000000\">class = 1</text>\n</g>\n<!-- 153&#45;&gt;154 -->\n<g id=\"edge154\" class=\"edge\">\n<title>153&#45;&gt;154</title>\n<path fill=\"none\" stroke=\"#000000\" d=\"M5472.9582,-698.8796C5470.6355,-690.5037 5468.1682,-681.6067 5465.7654,-672.942\"/>\n<polygon fill=\"#000000\" stroke=\"#000000\" points=\"5469.1361,-671.9991 5463.0911,-663.2981 5462.3907,-673.8697 5469.1361,-671.9991\"/>\n</g>\n<!-- 159 -->\n<g id=\"node160\" class=\"node\">\n<title>159</title>\n<path fill=\"#8139e5\" stroke=\"#000000\" d=\"M5726,-655.5C5726,-655.5 5635,-655.5 5635,-655.5 5629,-655.5 5623,-649.5 5623,-643.5 5623,-643.5 5623,-599.5 5623,-599.5 5623,-593.5 5629,-587.5 5635,-587.5 5635,-587.5 5726,-587.5 5726,-587.5 5732,-587.5 5738,-593.5 5738,-599.5 5738,-599.5 5738,-643.5 5738,-643.5 5738,-649.5 5732,-655.5 5726,-655.5\"/>\n<text text-anchor=\"start\" x=\"5651\" y=\"-640.3\" font-family=\"Helvetica,sans-Serif\" font-size=\"14.00\" fill=\"#000000\">gini = 0.0</text>\n<text text-anchor=\"start\" x=\"5641\" y=\"-625.3\" font-family=\"Helvetica,sans-Serif\" font-size=\"14.00\" fill=\"#000000\">samples = 1</text>\n<text text-anchor=\"start\" x=\"5631\" y=\"-610.3\" font-family=\"Helvetica,sans-Serif\" font-size=\"14.00\" fill=\"#000000\">value = [0, 0, 1]</text>\n<text text-anchor=\"start\" x=\"5651.5\" y=\"-595.3\" font-family=\"Helvetica,sans-Serif\" font-size=\"14.00\" fill=\"#000000\">class = 3</text>\n</g>\n<!-- 153&#45;&gt;159 -->\n<g id=\"edge159\" class=\"edge\">\n<title>153&#45;&gt;159</title>\n<path fill=\"none\" stroke=\"#000000\" d=\"M5554.2309,-698.8428C5573.4665,-687.2874 5594.3186,-674.7016 5613.5,-663 5614.617,-662.3186 5615.744,-661.6302 5616.8787,-660.9363\"/>\n<polygon fill=\"#000000\" stroke=\"#000000\" points=\"5618.9959,-663.7437 5625.6912,-655.5325 5615.3366,-657.7763 5618.9959,-663.7437\"/>\n</g>\n<!-- 155 -->\n<g id=\"node156\" class=\"node\">\n<title>155</title>\n<path fill=\"#e58139\" stroke=\"#000000\" d=\"M5439,-536.5C5439,-536.5 5348,-536.5 5348,-536.5 5342,-536.5 5336,-530.5 5336,-524.5 5336,-524.5 5336,-480.5 5336,-480.5 5336,-474.5 5342,-468.5 5348,-468.5 5348,-468.5 5439,-468.5 5439,-468.5 5445,-468.5 5451,-474.5 5451,-480.5 5451,-480.5 5451,-524.5 5451,-524.5 5451,-530.5 5445,-536.5 5439,-536.5\"/>\n<text text-anchor=\"start\" x=\"5364\" y=\"-521.3\" font-family=\"Helvetica,sans-Serif\" font-size=\"14.00\" fill=\"#000000\">gini = 0.0</text>\n<text text-anchor=\"start\" x=\"5354\" y=\"-506.3\" font-family=\"Helvetica,sans-Serif\" font-size=\"14.00\" fill=\"#000000\">samples = 8</text>\n<text text-anchor=\"start\" x=\"5344\" y=\"-491.3\" font-family=\"Helvetica,sans-Serif\" font-size=\"14.00\" fill=\"#000000\">value = [8, 0, 0]</text>\n<text text-anchor=\"start\" x=\"5364.5\" y=\"-476.3\" font-family=\"Helvetica,sans-Serif\" font-size=\"14.00\" fill=\"#000000\">class = 1</text>\n</g>\n<!-- 154&#45;&gt;155 -->\n<g id=\"edge155\" class=\"edge\">\n<title>154&#45;&gt;155</title>\n<path fill=\"none\" stroke=\"#000000\" d=\"M5431.2144,-579.8796C5425.855,-568.8835 5420.0578,-556.9893 5414.6537,-545.9015\"/>\n<polygon fill=\"#000000\" stroke=\"#000000\" points=\"5417.7524,-544.2706 5410.2249,-536.8149 5411.46,-547.3375 5417.7524,-544.2706\"/>\n</g>\n<!-- 156 -->\n<g id=\"node157\" class=\"node\">\n<title>156</title>\n<path fill=\"#f2c09c\" stroke=\"#000000\" d=\"M5723.5,-544C5723.5,-544 5481.5,-544 5481.5,-544 5475.5,-544 5469.5,-538 5469.5,-532 5469.5,-532 5469.5,-473 5469.5,-473 5469.5,-467 5475.5,-461 5481.5,-461 5481.5,-461 5723.5,-461 5723.5,-461 5729.5,-461 5735.5,-467 5735.5,-473 5735.5,-473 5735.5,-532 5735.5,-532 5735.5,-538 5729.5,-544 5723.5,-544\"/>\n<text text-anchor=\"start\" x=\"5477.5\" y=\"-528.8\" font-family=\"Helvetica,sans-Serif\" font-size=\"14.00\" fill=\"#000000\">abnormal_short_term_variability ≤ 17.5</text>\n<text text-anchor=\"start\" x=\"5564.5\" y=\"-513.8\" font-family=\"Helvetica,sans-Serif\" font-size=\"14.00\" fill=\"#000000\">gini = 0.444</text>\n<text text-anchor=\"start\" x=\"5563\" y=\"-498.8\" font-family=\"Helvetica,sans-Serif\" font-size=\"14.00\" fill=\"#000000\">samples = 3</text>\n<text text-anchor=\"start\" x=\"5553\" y=\"-483.8\" font-family=\"Helvetica,sans-Serif\" font-size=\"14.00\" fill=\"#000000\">value = [2, 1, 0]</text>\n<text text-anchor=\"start\" x=\"5573.5\" y=\"-468.8\" font-family=\"Helvetica,sans-Serif\" font-size=\"14.00\" fill=\"#000000\">class = 1</text>\n</g>\n<!-- 154&#45;&gt;156 -->\n<g id=\"edge156\" class=\"edge\">\n<title>154&#45;&gt;156</title>\n<path fill=\"none\" stroke=\"#000000\" d=\"M5504.3125,-579.8796C5516.3818,-570.368 5529.3039,-560.1843 5541.6788,-550.432\"/>\n<polygon fill=\"#000000\" stroke=\"#000000\" points=\"5544.0296,-553.0356 5549.7173,-544.0969 5539.6968,-547.5377 5544.0296,-553.0356\"/>\n</g>\n<!-- 157 -->\n<g id=\"node158\" class=\"node\">\n<title>157</title>\n<path fill=\"#e58139\" stroke=\"#000000\" d=\"M5582,-417.5C5582,-417.5 5491,-417.5 5491,-417.5 5485,-417.5 5479,-411.5 5479,-405.5 5479,-405.5 5479,-361.5 5479,-361.5 5479,-355.5 5485,-349.5 5491,-349.5 5491,-349.5 5582,-349.5 5582,-349.5 5588,-349.5 5594,-355.5 5594,-361.5 5594,-361.5 5594,-405.5 5594,-405.5 5594,-411.5 5588,-417.5 5582,-417.5\"/>\n<text text-anchor=\"start\" x=\"5507\" y=\"-402.3\" font-family=\"Helvetica,sans-Serif\" font-size=\"14.00\" fill=\"#000000\">gini = 0.0</text>\n<text text-anchor=\"start\" x=\"5497\" y=\"-387.3\" font-family=\"Helvetica,sans-Serif\" font-size=\"14.00\" fill=\"#000000\">samples = 2</text>\n<text text-anchor=\"start\" x=\"5487\" y=\"-372.3\" font-family=\"Helvetica,sans-Serif\" font-size=\"14.00\" fill=\"#000000\">value = [2, 0, 0]</text>\n<text text-anchor=\"start\" x=\"5507.5\" y=\"-357.3\" font-family=\"Helvetica,sans-Serif\" font-size=\"14.00\" fill=\"#000000\">class = 1</text>\n</g>\n<!-- 156&#45;&gt;157 -->\n<g id=\"edge157\" class=\"edge\">\n<title>156&#45;&gt;157</title>\n<path fill=\"none\" stroke=\"#000000\" d=\"M5579.4164,-460.8796C5573.2567,-449.7735 5566.5889,-437.7513 5560.3871,-426.5691\"/>\n<polygon fill=\"#000000\" stroke=\"#000000\" points=\"5563.4428,-424.8624 5555.5318,-417.8149 5557.3213,-428.2576 5563.4428,-424.8624\"/>\n</g>\n<!-- 158 -->\n<g id=\"node159\" class=\"node\">\n<title>158</title>\n<path fill=\"#39e581\" stroke=\"#000000\" d=\"M5715,-417.5C5715,-417.5 5624,-417.5 5624,-417.5 5618,-417.5 5612,-411.5 5612,-405.5 5612,-405.5 5612,-361.5 5612,-361.5 5612,-355.5 5618,-349.5 5624,-349.5 5624,-349.5 5715,-349.5 5715,-349.5 5721,-349.5 5727,-355.5 5727,-361.5 5727,-361.5 5727,-405.5 5727,-405.5 5727,-411.5 5721,-417.5 5715,-417.5\"/>\n<text text-anchor=\"start\" x=\"5640\" y=\"-402.3\" font-family=\"Helvetica,sans-Serif\" font-size=\"14.00\" fill=\"#000000\">gini = 0.0</text>\n<text text-anchor=\"start\" x=\"5630\" y=\"-387.3\" font-family=\"Helvetica,sans-Serif\" font-size=\"14.00\" fill=\"#000000\">samples = 1</text>\n<text text-anchor=\"start\" x=\"5620\" y=\"-372.3\" font-family=\"Helvetica,sans-Serif\" font-size=\"14.00\" fill=\"#000000\">value = [0, 1, 0]</text>\n<text text-anchor=\"start\" x=\"5640.5\" y=\"-357.3\" font-family=\"Helvetica,sans-Serif\" font-size=\"14.00\" fill=\"#000000\">class = 2</text>\n</g>\n<!-- 156&#45;&gt;158 -->\n<g id=\"edge158\" class=\"edge\">\n<title>156&#45;&gt;158</title>\n<path fill=\"none\" stroke=\"#000000\" d=\"M5625.9333,-460.8796C5632.1863,-449.7735 5638.9552,-437.7513 5645.251,-426.5691\"/>\n<polygon fill=\"#000000\" stroke=\"#000000\" points=\"5648.3235,-428.2459 5650.1798,-417.8149 5642.2239,-424.8116 5648.3235,-428.2459\"/>\n</g>\n<!-- 161 -->\n<g id=\"node162\" class=\"node\">\n<title>161</title>\n<path fill=\"#8139e5\" stroke=\"#000000\" d=\"M5859,-655.5C5859,-655.5 5768,-655.5 5768,-655.5 5762,-655.5 5756,-649.5 5756,-643.5 5756,-643.5 5756,-599.5 5756,-599.5 5756,-593.5 5762,-587.5 5768,-587.5 5768,-587.5 5859,-587.5 5859,-587.5 5865,-587.5 5871,-593.5 5871,-599.5 5871,-599.5 5871,-643.5 5871,-643.5 5871,-649.5 5865,-655.5 5859,-655.5\"/>\n<text text-anchor=\"start\" x=\"5784\" y=\"-640.3\" font-family=\"Helvetica,sans-Serif\" font-size=\"14.00\" fill=\"#000000\">gini = 0.0</text>\n<text text-anchor=\"start\" x=\"5774\" y=\"-625.3\" font-family=\"Helvetica,sans-Serif\" font-size=\"14.00\" fill=\"#000000\">samples = 4</text>\n<text text-anchor=\"start\" x=\"5764\" y=\"-610.3\" font-family=\"Helvetica,sans-Serif\" font-size=\"14.00\" fill=\"#000000\">value = [0, 0, 4]</text>\n<text text-anchor=\"start\" x=\"5784.5\" y=\"-595.3\" font-family=\"Helvetica,sans-Serif\" font-size=\"14.00\" fill=\"#000000\">class = 3</text>\n</g>\n<!-- 160&#45;&gt;161 -->\n<g id=\"edge161\" class=\"edge\">\n<title>160&#45;&gt;161</title>\n<path fill=\"none\" stroke=\"#000000\" d=\"M5792.692,-698.8796C5795.5898,-688.1034 5798.7196,-676.4647 5801.6499,-665.5677\"/>\n<polygon fill=\"#000000\" stroke=\"#000000\" points=\"5805.0555,-666.3808 5804.2725,-655.8149 5798.2956,-664.563 5805.0555,-666.3808\"/>\n</g>\n<!-- 162 -->\n<g id=\"node163\" class=\"node\">\n<title>162</title>\n<path fill=\"#e58139\" stroke=\"#000000\" d=\"M5992,-655.5C5992,-655.5 5901,-655.5 5901,-655.5 5895,-655.5 5889,-649.5 5889,-643.5 5889,-643.5 5889,-599.5 5889,-599.5 5889,-593.5 5895,-587.5 5901,-587.5 5901,-587.5 5992,-587.5 5992,-587.5 5998,-587.5 6004,-593.5 6004,-599.5 6004,-599.5 6004,-643.5 6004,-643.5 6004,-649.5 5998,-655.5 5992,-655.5\"/>\n<text text-anchor=\"start\" x=\"5917\" y=\"-640.3\" font-family=\"Helvetica,sans-Serif\" font-size=\"14.00\" fill=\"#000000\">gini = 0.0</text>\n<text text-anchor=\"start\" x=\"5907\" y=\"-625.3\" font-family=\"Helvetica,sans-Serif\" font-size=\"14.00\" fill=\"#000000\">samples = 1</text>\n<text text-anchor=\"start\" x=\"5897\" y=\"-610.3\" font-family=\"Helvetica,sans-Serif\" font-size=\"14.00\" fill=\"#000000\">value = [1, 0, 0]</text>\n<text text-anchor=\"start\" x=\"5917.5\" y=\"-595.3\" font-family=\"Helvetica,sans-Serif\" font-size=\"14.00\" fill=\"#000000\">class = 1</text>\n</g>\n<!-- 160&#45;&gt;162 -->\n<g id=\"edge162\" class=\"edge\">\n<title>160&#45;&gt;162</title>\n<path fill=\"none\" stroke=\"#000000\" d=\"M5839.209,-698.8796C5855.907,-686.8368 5874.0987,-673.7167 5890.6793,-661.7586\"/>\n<polygon fill=\"#000000\" stroke=\"#000000\" points=\"5893.1232,-664.3113 5899.1865,-655.623 5889.0285,-658.6339 5893.1232,-664.3113\"/>\n</g>\n<!-- 165 -->\n<g id=\"node166\" class=\"node\">\n<title>165</title>\n<path fill=\"#f9e3d2\" stroke=\"#000000\" d=\"M6412.5,-1020C6412.5,-1020 6170.5,-1020 6170.5,-1020 6164.5,-1020 6158.5,-1014 6158.5,-1008 6158.5,-1008 6158.5,-949 6158.5,-949 6158.5,-943 6164.5,-937 6170.5,-937 6170.5,-937 6412.5,-937 6412.5,-937 6418.5,-937 6424.5,-943 6424.5,-949 6424.5,-949 6424.5,-1008 6424.5,-1008 6424.5,-1014 6418.5,-1020 6412.5,-1020\"/>\n<text text-anchor=\"start\" x=\"6166.5\" y=\"-1004.8\" font-family=\"Helvetica,sans-Serif\" font-size=\"14.00\" fill=\"#000000\">abnormal_short_term_variability ≤ 42.5</text>\n<text text-anchor=\"start\" x=\"6253.5\" y=\"-989.8\" font-family=\"Helvetica,sans-Serif\" font-size=\"14.00\" fill=\"#000000\">gini = 0.492</text>\n<text text-anchor=\"start\" x=\"6247.5\" y=\"-974.8\" font-family=\"Helvetica,sans-Serif\" font-size=\"14.00\" fill=\"#000000\">samples = 71</text>\n<text text-anchor=\"start\" x=\"6234\" y=\"-959.8\" font-family=\"Helvetica,sans-Serif\" font-size=\"14.00\" fill=\"#000000\">value = [40, 31, 0]</text>\n<text text-anchor=\"start\" x=\"6262.5\" y=\"-944.8\" font-family=\"Helvetica,sans-Serif\" font-size=\"14.00\" fill=\"#000000\">class = 1</text>\n</g>\n<!-- 164&#45;&gt;165 -->\n<g id=\"edge165\" class=\"edge\">\n<title>164&#45;&gt;165</title>\n<path fill=\"none\" stroke=\"#000000\" d=\"M6291.5,-1055.8796C6291.5,-1047.6838 6291.5,-1038.9891 6291.5,-1030.5013\"/>\n<polygon fill=\"#000000\" stroke=\"#000000\" points=\"6295.0001,-1030.298 6291.5,-1020.2981 6288.0001,-1030.2981 6295.0001,-1030.298\"/>\n</g>\n<!-- 194 -->\n<g id=\"node195\" class=\"node\">\n<title>194</title>\n<path fill=\"#e6853f\" stroke=\"#000000\" d=\"M6799.5,-1020C6799.5,-1020 6657.5,-1020 6657.5,-1020 6651.5,-1020 6645.5,-1014 6645.5,-1008 6645.5,-1008 6645.5,-949 6645.5,-949 6645.5,-943 6651.5,-937 6657.5,-937 6657.5,-937 6799.5,-937 6799.5,-937 6805.5,-937 6811.5,-943 6811.5,-949 6811.5,-949 6811.5,-1008 6811.5,-1008 6811.5,-1014 6805.5,-1020 6799.5,-1020\"/>\n<text text-anchor=\"start\" x=\"6653.5\" y=\"-1004.8\" font-family=\"Helvetica,sans-Serif\" font-size=\"14.00\" fill=\"#000000\">histogram_width ≤ 26.5</text>\n<text text-anchor=\"start\" x=\"6690.5\" y=\"-989.8\" font-family=\"Helvetica,sans-Serif\" font-size=\"14.00\" fill=\"#000000\">gini = 0.059</text>\n<text text-anchor=\"start\" x=\"6684.5\" y=\"-974.8\" font-family=\"Helvetica,sans-Serif\" font-size=\"14.00\" fill=\"#000000\">samples = 66</text>\n<text text-anchor=\"start\" x=\"6675\" y=\"-959.8\" font-family=\"Helvetica,sans-Serif\" font-size=\"14.00\" fill=\"#000000\">value = [64, 2, 0]</text>\n<text text-anchor=\"start\" x=\"6699.5\" y=\"-944.8\" font-family=\"Helvetica,sans-Serif\" font-size=\"14.00\" fill=\"#000000\">class = 1</text>\n</g>\n<!-- 164&#45;&gt;194 -->\n<g id=\"edge194\" class=\"edge\">\n<title>164&#45;&gt;194</title>\n<path fill=\"none\" stroke=\"#000000\" d=\"M6369.1233,-1076.3623C6443.5662,-1056.0907 6556.0415,-1025.4624 6635.2963,-1003.8804\"/>\n<polygon fill=\"#000000\" stroke=\"#000000\" points=\"6636.5485,-1007.1669 6645.2775,-1001.1624 6634.7093,-1000.4129 6636.5485,-1007.1669\"/>\n</g>\n<!-- 166 -->\n<g id=\"node167\" class=\"node\">\n<title>166</title>\n<path fill=\"#e99254\" stroke=\"#000000\" d=\"M6257.5,-901C6257.5,-901 6093.5,-901 6093.5,-901 6087.5,-901 6081.5,-895 6081.5,-889 6081.5,-889 6081.5,-830 6081.5,-830 6081.5,-824 6087.5,-818 6093.5,-818 6093.5,-818 6257.5,-818 6257.5,-818 6263.5,-818 6269.5,-824 6269.5,-830 6269.5,-830 6269.5,-889 6269.5,-889 6269.5,-895 6263.5,-901 6257.5,-901\"/>\n<text text-anchor=\"start\" x=\"6089.5\" y=\"-885.8\" font-family=\"Helvetica,sans-Serif\" font-size=\"14.00\" fill=\"#000000\">histogram_median ≤ 157.0</text>\n<text text-anchor=\"start\" x=\"6137.5\" y=\"-870.8\" font-family=\"Helvetica,sans-Serif\" font-size=\"14.00\" fill=\"#000000\">gini = 0.211</text>\n<text text-anchor=\"start\" x=\"6131.5\" y=\"-855.8\" font-family=\"Helvetica,sans-Serif\" font-size=\"14.00\" fill=\"#000000\">samples = 25</text>\n<text text-anchor=\"start\" x=\"6122\" y=\"-840.8\" font-family=\"Helvetica,sans-Serif\" font-size=\"14.00\" fill=\"#000000\">value = [22, 3, 0]</text>\n<text text-anchor=\"start\" x=\"6146.5\" y=\"-825.8\" font-family=\"Helvetica,sans-Serif\" font-size=\"14.00\" fill=\"#000000\">class = 1</text>\n</g>\n<!-- 165&#45;&gt;166 -->\n<g id=\"edge166\" class=\"edge\">\n<title>165&#45;&gt;166</title>\n<path fill=\"none\" stroke=\"#000000\" d=\"M6250.9288,-936.8796C6242.0618,-927.7832 6232.5956,-918.0722 6223.4709,-908.7116\"/>\n<polygon fill=\"#000000\" stroke=\"#000000\" points=\"6225.7309,-906.0158 6216.2443,-901.2981 6220.7183,-910.9019 6225.7309,-906.0158\"/>\n</g>\n<!-- 171 -->\n<g id=\"node172\" class=\"node\">\n<title>171</title>\n<path fill=\"#b8f6d2\" stroke=\"#000000\" d=\"M6474,-901C6474,-901 6343,-901 6343,-901 6337,-901 6331,-895 6331,-889 6331,-889 6331,-830 6331,-830 6331,-824 6337,-818 6343,-818 6343,-818 6474,-818 6474,-818 6480,-818 6486,-824 6486,-830 6486,-830 6486,-889 6486,-889 6486,-895 6480,-901 6474,-901\"/>\n<text text-anchor=\"start\" x=\"6339\" y=\"-885.8\" font-family=\"Helvetica,sans-Serif\" font-size=\"14.00\" fill=\"#000000\">histogram_min ≤ 59.5</text>\n<text text-anchor=\"start\" x=\"6370.5\" y=\"-870.8\" font-family=\"Helvetica,sans-Serif\" font-size=\"14.00\" fill=\"#000000\">gini = 0.476</text>\n<text text-anchor=\"start\" x=\"6364.5\" y=\"-855.8\" font-family=\"Helvetica,sans-Serif\" font-size=\"14.00\" fill=\"#000000\">samples = 46</text>\n<text text-anchor=\"start\" x=\"6351\" y=\"-840.8\" font-family=\"Helvetica,sans-Serif\" font-size=\"14.00\" fill=\"#000000\">value = [18, 28, 0]</text>\n<text text-anchor=\"start\" x=\"6379.5\" y=\"-825.8\" font-family=\"Helvetica,sans-Serif\" font-size=\"14.00\" fill=\"#000000\">class = 2</text>\n</g>\n<!-- 165&#45;&gt;171 -->\n<g id=\"edge171\" class=\"edge\">\n<title>165&#45;&gt;171</title>\n<path fill=\"none\" stroke=\"#000000\" d=\"M6332.4209,-936.8796C6341.453,-927.6931 6351.1013,-917.8798 6360.3888,-908.4336\"/>\n<polygon fill=\"#000000\" stroke=\"#000000\" points=\"6362.8893,-910.8827 6367.4044,-901.2981 6357.8977,-905.975 6362.8893,-910.8827\"/>\n</g>\n<!-- 167 -->\n<g id=\"node168\" class=\"node\">\n<title>167</title>\n<path fill=\"#e58139\" stroke=\"#000000\" d=\"M5992,-774.5C5992,-774.5 5893,-774.5 5893,-774.5 5887,-774.5 5881,-768.5 5881,-762.5 5881,-762.5 5881,-718.5 5881,-718.5 5881,-712.5 5887,-706.5 5893,-706.5 5893,-706.5 5992,-706.5 5992,-706.5 5998,-706.5 6004,-712.5 6004,-718.5 6004,-718.5 6004,-762.5 6004,-762.5 6004,-768.5 5998,-774.5 5992,-774.5\"/>\n<text text-anchor=\"start\" x=\"5913\" y=\"-759.3\" font-family=\"Helvetica,sans-Serif\" font-size=\"14.00\" fill=\"#000000\">gini = 0.0</text>\n<text text-anchor=\"start\" x=\"5898.5\" y=\"-744.3\" font-family=\"Helvetica,sans-Serif\" font-size=\"14.00\" fill=\"#000000\">samples = 21</text>\n<text text-anchor=\"start\" x=\"5889\" y=\"-729.3\" font-family=\"Helvetica,sans-Serif\" font-size=\"14.00\" fill=\"#000000\">value = [21, 0, 0]</text>\n<text text-anchor=\"start\" x=\"5913.5\" y=\"-714.3\" font-family=\"Helvetica,sans-Serif\" font-size=\"14.00\" fill=\"#000000\">class = 1</text>\n</g>\n<!-- 166&#45;&gt;167 -->\n<g id=\"edge167\" class=\"edge\">\n<title>166&#45;&gt;167</title>\n<path fill=\"none\" stroke=\"#000000\" d=\"M6085.2901,-817.9697C6061.7305,-806.6816 6036.4997,-794.1964 6013.5,-782 6011.9824,-781.1952 6010.4506,-780.3745 6008.9094,-779.5409\"/>\n<polygon fill=\"#000000\" stroke=\"#000000\" points=\"6010.4605,-776.3997 6000.011,-774.6508 6007.0891,-782.5343 6010.4605,-776.3997\"/>\n</g>\n<!-- 168 -->\n<g id=\"node169\" class=\"node\">\n<title>168</title>\n<path fill=\"#7beeab\" stroke=\"#000000\" d=\"M6316.5,-782C6316.5,-782 6034.5,-782 6034.5,-782 6028.5,-782 6022.5,-776 6022.5,-770 6022.5,-770 6022.5,-711 6022.5,-711 6022.5,-705 6028.5,-699 6034.5,-699 6034.5,-699 6316.5,-699 6316.5,-699 6322.5,-699 6328.5,-705 6328.5,-711 6328.5,-711 6328.5,-770 6328.5,-770 6328.5,-776 6322.5,-782 6316.5,-782\"/>\n<text text-anchor=\"start\" x=\"6030.5\" y=\"-766.8\" font-family=\"Helvetica,sans-Serif\" font-size=\"14.00\" fill=\"#000000\">mean_value_of_short_term_variability ≤ 0.85</text>\n<text text-anchor=\"start\" x=\"6137.5\" y=\"-751.8\" font-family=\"Helvetica,sans-Serif\" font-size=\"14.00\" fill=\"#000000\">gini = 0.375</text>\n<text text-anchor=\"start\" x=\"6136\" y=\"-736.8\" font-family=\"Helvetica,sans-Serif\" font-size=\"14.00\" fill=\"#000000\">samples = 4</text>\n<text text-anchor=\"start\" x=\"6126\" y=\"-721.8\" font-family=\"Helvetica,sans-Serif\" font-size=\"14.00\" fill=\"#000000\">value = [1, 3, 0]</text>\n<text text-anchor=\"start\" x=\"6146.5\" y=\"-706.8\" font-family=\"Helvetica,sans-Serif\" font-size=\"14.00\" fill=\"#000000\">class = 2</text>\n</g>\n<!-- 166&#45;&gt;168 -->\n<g id=\"edge168\" class=\"edge\">\n<title>166&#45;&gt;168</title>\n<path fill=\"none\" stroke=\"#000000\" d=\"M6175.5,-817.8796C6175.5,-809.6838 6175.5,-800.9891 6175.5,-792.5013\"/>\n<polygon fill=\"#000000\" stroke=\"#000000\" points=\"6179.0001,-792.298 6175.5,-782.2981 6172.0001,-792.2981 6179.0001,-792.298\"/>\n</g>\n<!-- 169 -->\n<g id=\"node170\" class=\"node\">\n<title>169</title>\n<path fill=\"#e58139\" stroke=\"#000000\" d=\"M6189,-655.5C6189,-655.5 6098,-655.5 6098,-655.5 6092,-655.5 6086,-649.5 6086,-643.5 6086,-643.5 6086,-599.5 6086,-599.5 6086,-593.5 6092,-587.5 6098,-587.5 6098,-587.5 6189,-587.5 6189,-587.5 6195,-587.5 6201,-593.5 6201,-599.5 6201,-599.5 6201,-643.5 6201,-643.5 6201,-649.5 6195,-655.5 6189,-655.5\"/>\n<text text-anchor=\"start\" x=\"6114\" y=\"-640.3\" font-family=\"Helvetica,sans-Serif\" font-size=\"14.00\" fill=\"#000000\">gini = 0.0</text>\n<text text-anchor=\"start\" x=\"6104\" y=\"-625.3\" font-family=\"Helvetica,sans-Serif\" font-size=\"14.00\" fill=\"#000000\">samples = 1</text>\n<text text-anchor=\"start\" x=\"6094\" y=\"-610.3\" font-family=\"Helvetica,sans-Serif\" font-size=\"14.00\" fill=\"#000000\">value = [1, 0, 0]</text>\n<text text-anchor=\"start\" x=\"6114.5\" y=\"-595.3\" font-family=\"Helvetica,sans-Serif\" font-size=\"14.00\" fill=\"#000000\">class = 1</text>\n</g>\n<!-- 168&#45;&gt;169 -->\n<g id=\"edge169\" class=\"edge\">\n<title>168&#45;&gt;169</title>\n<path fill=\"none\" stroke=\"#000000\" d=\"M6164.308,-698.8796C6161.4102,-688.1034 6158.2804,-676.4647 6155.3501,-665.5677\"/>\n<polygon fill=\"#000000\" stroke=\"#000000\" points=\"6158.7044,-664.563 6152.7275,-655.8149 6151.9445,-666.3808 6158.7044,-664.563\"/>\n</g>\n<!-- 170 -->\n<g id=\"node171\" class=\"node\">\n<title>170</title>\n<path fill=\"#39e581\" stroke=\"#000000\" d=\"M6322,-655.5C6322,-655.5 6231,-655.5 6231,-655.5 6225,-655.5 6219,-649.5 6219,-643.5 6219,-643.5 6219,-599.5 6219,-599.5 6219,-593.5 6225,-587.5 6231,-587.5 6231,-587.5 6322,-587.5 6322,-587.5 6328,-587.5 6334,-593.5 6334,-599.5 6334,-599.5 6334,-643.5 6334,-643.5 6334,-649.5 6328,-655.5 6322,-655.5\"/>\n<text text-anchor=\"start\" x=\"6247\" y=\"-640.3\" font-family=\"Helvetica,sans-Serif\" font-size=\"14.00\" fill=\"#000000\">gini = 0.0</text>\n<text text-anchor=\"start\" x=\"6237\" y=\"-625.3\" font-family=\"Helvetica,sans-Serif\" font-size=\"14.00\" fill=\"#000000\">samples = 3</text>\n<text text-anchor=\"start\" x=\"6227\" y=\"-610.3\" font-family=\"Helvetica,sans-Serif\" font-size=\"14.00\" fill=\"#000000\">value = [0, 3, 0]</text>\n<text text-anchor=\"start\" x=\"6247.5\" y=\"-595.3\" font-family=\"Helvetica,sans-Serif\" font-size=\"14.00\" fill=\"#000000\">class = 2</text>\n</g>\n<!-- 168&#45;&gt;170 -->\n<g id=\"edge170\" class=\"edge\">\n<title>168&#45;&gt;170</title>\n<path fill=\"none\" stroke=\"#000000\" d=\"M6210.8249,-698.8796C6220.531,-687.4436 6231.0616,-675.0363 6240.7893,-663.575\"/>\n<polygon fill=\"#000000\" stroke=\"#000000\" points=\"6243.5731,-665.7039 6247.3756,-655.8149 6238.2362,-661.1743 6243.5731,-665.7039\"/>\n</g>\n<!-- 172 -->\n<g id=\"node173\" class=\"node\">\n<title>172</title>\n<path fill=\"#39e581\" stroke=\"#000000\" d=\"M6458,-774.5C6458,-774.5 6359,-774.5 6359,-774.5 6353,-774.5 6347,-768.5 6347,-762.5 6347,-762.5 6347,-718.5 6347,-718.5 6347,-712.5 6353,-706.5 6359,-706.5 6359,-706.5 6458,-706.5 6458,-706.5 6464,-706.5 6470,-712.5 6470,-718.5 6470,-718.5 6470,-762.5 6470,-762.5 6470,-768.5 6464,-774.5 6458,-774.5\"/>\n<text text-anchor=\"start\" x=\"6379\" y=\"-759.3\" font-family=\"Helvetica,sans-Serif\" font-size=\"14.00\" fill=\"#000000\">gini = 0.0</text>\n<text text-anchor=\"start\" x=\"6364.5\" y=\"-744.3\" font-family=\"Helvetica,sans-Serif\" font-size=\"14.00\" fill=\"#000000\">samples = 10</text>\n<text text-anchor=\"start\" x=\"6355\" y=\"-729.3\" font-family=\"Helvetica,sans-Serif\" font-size=\"14.00\" fill=\"#000000\">value = [0, 10, 0]</text>\n<text text-anchor=\"start\" x=\"6379.5\" y=\"-714.3\" font-family=\"Helvetica,sans-Serif\" font-size=\"14.00\" fill=\"#000000\">class = 2</text>\n</g>\n<!-- 171&#45;&gt;172 -->\n<g id=\"edge172\" class=\"edge\">\n<title>171&#45;&gt;172</title>\n<path fill=\"none\" stroke=\"#000000\" d=\"M6408.5,-817.8796C6408.5,-807.2134 6408.5,-795.7021 6408.5,-784.9015\"/>\n<polygon fill=\"#000000\" stroke=\"#000000\" points=\"6412.0001,-784.8149 6408.5,-774.8149 6405.0001,-784.815 6412.0001,-784.8149\"/>\n</g>\n<!-- 173 -->\n<g id=\"node174\" class=\"node\">\n<title>173</title>\n<path fill=\"#ffffff\" stroke=\"#000000\" d=\"M6640.5,-782C6640.5,-782 6500.5,-782 6500.5,-782 6494.5,-782 6488.5,-776 6488.5,-770 6488.5,-770 6488.5,-711 6488.5,-711 6488.5,-705 6494.5,-699 6500.5,-699 6500.5,-699 6640.5,-699 6640.5,-699 6646.5,-699 6652.5,-705 6652.5,-711 6652.5,-711 6652.5,-770 6652.5,-770 6652.5,-776 6646.5,-782 6640.5,-782\"/>\n<text text-anchor=\"start\" x=\"6496.5\" y=\"-766.8\" font-family=\"Helvetica,sans-Serif\" font-size=\"14.00\" fill=\"#000000\">histogram_min ≤ 125.5</text>\n<text text-anchor=\"start\" x=\"6541\" y=\"-751.8\" font-family=\"Helvetica,sans-Serif\" font-size=\"14.00\" fill=\"#000000\">gini = 0.5</text>\n<text text-anchor=\"start\" x=\"6526.5\" y=\"-736.8\" font-family=\"Helvetica,sans-Serif\" font-size=\"14.00\" fill=\"#000000\">samples = 36</text>\n<text text-anchor=\"start\" x=\"6513\" y=\"-721.8\" font-family=\"Helvetica,sans-Serif\" font-size=\"14.00\" fill=\"#000000\">value = [18, 18, 0]</text>\n<text text-anchor=\"start\" x=\"6541.5\" y=\"-706.8\" font-family=\"Helvetica,sans-Serif\" font-size=\"14.00\" fill=\"#000000\">class = 1</text>\n</g>\n<!-- 171&#45;&gt;173 -->\n<g id=\"edge173\" class=\"edge\">\n<title>171&#45;&gt;173</title>\n<path fill=\"none\" stroke=\"#000000\" d=\"M6465.1597,-817.8796C6478.2316,-808.2774 6492.2359,-797.9903 6505.6273,-788.1534\"/>\n<polygon fill=\"#000000\" stroke=\"#000000\" points=\"6507.885,-790.8378 6513.8723,-782.0969 6503.7409,-785.1963 6507.885,-790.8378\"/>\n</g>\n<!-- 174 -->\n<g id=\"node175\" class=\"node\">\n<title>174</title>\n<path fill=\"#efb185\" stroke=\"#000000\" d=\"M6549,-663C6549,-663 6418,-663 6418,-663 6412,-663 6406,-657 6406,-651 6406,-651 6406,-592 6406,-592 6406,-586 6412,-580 6418,-580 6418,-580 6549,-580 6549,-580 6555,-580 6561,-586 6561,-592 6561,-592 6561,-651 6561,-651 6561,-657 6555,-663 6549,-663\"/>\n<text text-anchor=\"start\" x=\"6414\" y=\"-647.8\" font-family=\"Helvetica,sans-Serif\" font-size=\"14.00\" fill=\"#000000\">histogram_min ≤ 75.5</text>\n<text text-anchor=\"start\" x=\"6445.5\" y=\"-632.8\" font-family=\"Helvetica,sans-Serif\" font-size=\"14.00\" fill=\"#000000\">gini = 0.401</text>\n<text text-anchor=\"start\" x=\"6439.5\" y=\"-617.8\" font-family=\"Helvetica,sans-Serif\" font-size=\"14.00\" fill=\"#000000\">samples = 18</text>\n<text text-anchor=\"start\" x=\"6430\" y=\"-602.8\" font-family=\"Helvetica,sans-Serif\" font-size=\"14.00\" fill=\"#000000\">value = [13, 5, 0]</text>\n<text text-anchor=\"start\" x=\"6454.5\" y=\"-587.8\" font-family=\"Helvetica,sans-Serif\" font-size=\"14.00\" fill=\"#000000\">class = 1</text>\n</g>\n<!-- 173&#45;&gt;174 -->\n<g id=\"edge174\" class=\"edge\">\n<title>173&#45;&gt;174</title>\n<path fill=\"none\" stroke=\"#000000\" d=\"M6540.0716,-698.8796C6533.6189,-690.0534 6526.743,-680.6485 6520.0887,-671.5466\"/>\n<polygon fill=\"#000000\" stroke=\"#000000\" points=\"6522.7856,-669.3051 6514.0583,-663.2981 6517.1347,-673.4364 6522.7856,-669.3051\"/>\n</g>\n<!-- 183 -->\n<g id=\"node184\" class=\"node\">\n<title>183</title>\n<path fill=\"#85efb1\" stroke=\"#000000\" d=\"M6992,-663C6992,-663 6591,-663 6591,-663 6585,-663 6579,-657 6579,-651 6579,-651 6579,-592 6579,-592 6579,-586 6585,-580 6591,-580 6591,-580 6992,-580 6992,-580 6998,-580 7004,-586 7004,-592 7004,-592 7004,-651 7004,-651 7004,-657 6998,-663 6992,-663\"/>\n<text text-anchor=\"start\" x=\"6587\" y=\"-647.8\" font-family=\"Helvetica,sans-Serif\" font-size=\"14.00\" fill=\"#000000\">percentage_of_time_with_abnormal_long_term_variability ≤ 4.5</text>\n<text text-anchor=\"start\" x=\"6753.5\" y=\"-632.8\" font-family=\"Helvetica,sans-Serif\" font-size=\"14.00\" fill=\"#000000\">gini = 0.401</text>\n<text text-anchor=\"start\" x=\"6747.5\" y=\"-617.8\" font-family=\"Helvetica,sans-Serif\" font-size=\"14.00\" fill=\"#000000\">samples = 18</text>\n<text text-anchor=\"start\" x=\"6738\" y=\"-602.8\" font-family=\"Helvetica,sans-Serif\" font-size=\"14.00\" fill=\"#000000\">value = [5, 13, 0]</text>\n<text text-anchor=\"start\" x=\"6762.5\" y=\"-587.8\" font-family=\"Helvetica,sans-Serif\" font-size=\"14.00\" fill=\"#000000\">class = 2</text>\n</g>\n<!-- 173&#45;&gt;183 -->\n<g id=\"edge183\" class=\"edge\">\n<title>173&#45;&gt;183</title>\n<path fill=\"none\" stroke=\"#000000\" d=\"M6647.7951,-698.8796C6666.3848,-688.8697 6686.3567,-678.1156 6705.3227,-667.9031\"/>\n<polygon fill=\"#000000\" stroke=\"#000000\" points=\"6707.1032,-670.9196 6714.2486,-663.0969 6703.7845,-664.7563 6707.1032,-670.9196\"/>\n</g>\n<!-- 175 -->\n<g id=\"node176\" class=\"node\">\n<title>175</title>\n<path fill=\"#9cf2c0\" stroke=\"#000000\" d=\"M6378,-544C6378,-544 6223,-544 6223,-544 6217,-544 6211,-538 6211,-532 6211,-532 6211,-473 6211,-473 6211,-467 6217,-461 6223,-461 6223,-461 6378,-461 6378,-461 6384,-461 6390,-467 6390,-473 6390,-473 6390,-532 6390,-532 6390,-538 6384,-544 6378,-544\"/>\n<text text-anchor=\"start\" x=\"6219\" y=\"-528.8\" font-family=\"Helvetica,sans-Serif\" font-size=\"14.00\" fill=\"#000000\">histogram_variance ≤ 7.0</text>\n<text text-anchor=\"start\" x=\"6262.5\" y=\"-513.8\" font-family=\"Helvetica,sans-Serif\" font-size=\"14.00\" fill=\"#000000\">gini = 0.444</text>\n<text text-anchor=\"start\" x=\"6261\" y=\"-498.8\" font-family=\"Helvetica,sans-Serif\" font-size=\"14.00\" fill=\"#000000\">samples = 6</text>\n<text text-anchor=\"start\" x=\"6251\" y=\"-483.8\" font-family=\"Helvetica,sans-Serif\" font-size=\"14.00\" fill=\"#000000\">value = [2, 4, 0]</text>\n<text text-anchor=\"start\" x=\"6271.5\" y=\"-468.8\" font-family=\"Helvetica,sans-Serif\" font-size=\"14.00\" fill=\"#000000\">class = 2</text>\n</g>\n<!-- 174&#45;&gt;175 -->\n<g id=\"edge175\" class=\"edge\">\n<title>174&#45;&gt;175</title>\n<path fill=\"none\" stroke=\"#000000\" d=\"M6419.4955,-579.8796C6404.4505,-570.0962 6388.3121,-559.6019 6372.9267,-549.5971\"/>\n<polygon fill=\"#000000\" stroke=\"#000000\" points=\"6374.7598,-546.6143 6364.4684,-544.0969 6370.9437,-552.4827 6374.7598,-546.6143\"/>\n</g>\n<!-- 178 -->\n<g id=\"node179\" class=\"node\">\n<title>178</title>\n<path fill=\"#e78c4b\" stroke=\"#000000\" d=\"M6551,-544C6551,-544 6420,-544 6420,-544 6414,-544 6408,-538 6408,-532 6408,-532 6408,-473 6408,-473 6408,-467 6414,-461 6420,-461 6420,-461 6551,-461 6551,-461 6557,-461 6563,-467 6563,-473 6563,-473 6563,-532 6563,-532 6563,-538 6557,-544 6551,-544\"/>\n<text text-anchor=\"start\" x=\"6416\" y=\"-528.8\" font-family=\"Helvetica,sans-Serif\" font-size=\"14.00\" fill=\"#000000\">accelerations ≤ 0.001</text>\n<text text-anchor=\"start\" x=\"6447.5\" y=\"-513.8\" font-family=\"Helvetica,sans-Serif\" font-size=\"14.00\" fill=\"#000000\">gini = 0.153</text>\n<text text-anchor=\"start\" x=\"6441.5\" y=\"-498.8\" font-family=\"Helvetica,sans-Serif\" font-size=\"14.00\" fill=\"#000000\">samples = 12</text>\n<text text-anchor=\"start\" x=\"6432\" y=\"-483.8\" font-family=\"Helvetica,sans-Serif\" font-size=\"14.00\" fill=\"#000000\">value = [11, 1, 0]</text>\n<text text-anchor=\"start\" x=\"6456.5\" y=\"-468.8\" font-family=\"Helvetica,sans-Serif\" font-size=\"14.00\" fill=\"#000000\">class = 1</text>\n</g>\n<!-- 174&#45;&gt;178 -->\n<g id=\"edge178\" class=\"edge\">\n<title>174&#45;&gt;178</title>\n<path fill=\"none\" stroke=\"#000000\" d=\"M6484.1995,-579.8796C6484.3372,-571.6838 6484.4834,-562.9891 6484.626,-554.5013\"/>\n<polygon fill=\"#000000\" stroke=\"#000000\" points=\"6488.1289,-554.3555 6484.7975,-544.2981 6481.1299,-554.2378 6488.1289,-554.3555\"/>\n</g>\n<!-- 176 -->\n<g id=\"node177\" class=\"node\">\n<title>176</title>\n<path fill=\"#39e581\" stroke=\"#000000\" d=\"M6214,-417.5C6214,-417.5 6123,-417.5 6123,-417.5 6117,-417.5 6111,-411.5 6111,-405.5 6111,-405.5 6111,-361.5 6111,-361.5 6111,-355.5 6117,-349.5 6123,-349.5 6123,-349.5 6214,-349.5 6214,-349.5 6220,-349.5 6226,-355.5 6226,-361.5 6226,-361.5 6226,-405.5 6226,-405.5 6226,-411.5 6220,-417.5 6214,-417.5\"/>\n<text text-anchor=\"start\" x=\"6139\" y=\"-402.3\" font-family=\"Helvetica,sans-Serif\" font-size=\"14.00\" fill=\"#000000\">gini = 0.0</text>\n<text text-anchor=\"start\" x=\"6129\" y=\"-387.3\" font-family=\"Helvetica,sans-Serif\" font-size=\"14.00\" fill=\"#000000\">samples = 4</text>\n<text text-anchor=\"start\" x=\"6119\" y=\"-372.3\" font-family=\"Helvetica,sans-Serif\" font-size=\"14.00\" fill=\"#000000\">value = [0, 4, 0]</text>\n<text text-anchor=\"start\" x=\"6139.5\" y=\"-357.3\" font-family=\"Helvetica,sans-Serif\" font-size=\"14.00\" fill=\"#000000\">class = 2</text>\n</g>\n<!-- 175&#45;&gt;176 -->\n<g id=\"edge176\" class=\"edge\">\n<title>175&#45;&gt;176</title>\n<path fill=\"none\" stroke=\"#000000\" d=\"M6254.3328,-460.8796C6241.2817,-449.1138 6227.0899,-436.3197 6214.0739,-424.5855\"/>\n<polygon fill=\"#000000\" stroke=\"#000000\" points=\"6216.3346,-421.9113 6206.5636,-417.8149 6211.6474,-427.1104 6216.3346,-421.9113\"/>\n</g>\n<!-- 177 -->\n<g id=\"node178\" class=\"node\">\n<title>177</title>\n<path fill=\"#e58139\" stroke=\"#000000\" d=\"M6347,-417.5C6347,-417.5 6256,-417.5 6256,-417.5 6250,-417.5 6244,-411.5 6244,-405.5 6244,-405.5 6244,-361.5 6244,-361.5 6244,-355.5 6250,-349.5 6256,-349.5 6256,-349.5 6347,-349.5 6347,-349.5 6353,-349.5 6359,-355.5 6359,-361.5 6359,-361.5 6359,-405.5 6359,-405.5 6359,-411.5 6353,-417.5 6347,-417.5\"/>\n<text text-anchor=\"start\" x=\"6272\" y=\"-402.3\" font-family=\"Helvetica,sans-Serif\" font-size=\"14.00\" fill=\"#000000\">gini = 0.0</text>\n<text text-anchor=\"start\" x=\"6262\" y=\"-387.3\" font-family=\"Helvetica,sans-Serif\" font-size=\"14.00\" fill=\"#000000\">samples = 2</text>\n<text text-anchor=\"start\" x=\"6252\" y=\"-372.3\" font-family=\"Helvetica,sans-Serif\" font-size=\"14.00\" fill=\"#000000\">value = [2, 0, 0]</text>\n<text text-anchor=\"start\" x=\"6272.5\" y=\"-357.3\" font-family=\"Helvetica,sans-Serif\" font-size=\"14.00\" fill=\"#000000\">class = 1</text>\n</g>\n<!-- 175&#45;&gt;177 -->\n<g id=\"edge177\" class=\"edge\">\n<title>175&#45;&gt;177</title>\n<path fill=\"none\" stroke=\"#000000\" d=\"M6300.8498,-460.8796C6300.9394,-450.2134 6301.0361,-438.7021 6301.1269,-427.9015\"/>\n<polygon fill=\"#000000\" stroke=\"#000000\" points=\"6304.6274,-427.844 6301.2116,-417.8149 6297.6276,-427.7851 6304.6274,-427.844\"/>\n</g>\n<!-- 179 -->\n<g id=\"node180\" class=\"node\">\n<title>179</title>\n<path fill=\"#e58139\" stroke=\"#000000\" d=\"M6489,-417.5C6489,-417.5 6398,-417.5 6398,-417.5 6392,-417.5 6386,-411.5 6386,-405.5 6386,-405.5 6386,-361.5 6386,-361.5 6386,-355.5 6392,-349.5 6398,-349.5 6398,-349.5 6489,-349.5 6489,-349.5 6495,-349.5 6501,-355.5 6501,-361.5 6501,-361.5 6501,-405.5 6501,-405.5 6501,-411.5 6495,-417.5 6489,-417.5\"/>\n<text text-anchor=\"start\" x=\"6414\" y=\"-402.3\" font-family=\"Helvetica,sans-Serif\" font-size=\"14.00\" fill=\"#000000\">gini = 0.0</text>\n<text text-anchor=\"start\" x=\"6404\" y=\"-387.3\" font-family=\"Helvetica,sans-Serif\" font-size=\"14.00\" fill=\"#000000\">samples = 9</text>\n<text text-anchor=\"start\" x=\"6394\" y=\"-372.3\" font-family=\"Helvetica,sans-Serif\" font-size=\"14.00\" fill=\"#000000\">value = [9, 0, 0]</text>\n<text text-anchor=\"start\" x=\"6414.5\" y=\"-357.3\" font-family=\"Helvetica,sans-Serif\" font-size=\"14.00\" fill=\"#000000\">class = 1</text>\n</g>\n<!-- 178&#45;&gt;179 -->\n<g id=\"edge179\" class=\"edge\">\n<title>178&#45;&gt;179</title>\n<path fill=\"none\" stroke=\"#000000\" d=\"M6470.8104,-460.8796C6467.0071,-450.1034 6462.8993,-438.4647 6459.0533,-427.5677\"/>\n<polygon fill=\"#000000\" stroke=\"#000000\" points=\"6462.2399,-426.08 6455.6112,-417.8149 6455.639,-428.4097 6462.2399,-426.08\"/>\n</g>\n<!-- 180 -->\n<g id=\"node181\" class=\"node\">\n<title>180</title>\n<path fill=\"#f2c09c\" stroke=\"#000000\" d=\"M6673.5,-425C6673.5,-425 6531.5,-425 6531.5,-425 6525.5,-425 6519.5,-419 6519.5,-413 6519.5,-413 6519.5,-354 6519.5,-354 6519.5,-348 6525.5,-342 6531.5,-342 6531.5,-342 6673.5,-342 6673.5,-342 6679.5,-342 6685.5,-348 6685.5,-354 6685.5,-354 6685.5,-413 6685.5,-413 6685.5,-419 6679.5,-425 6673.5,-425\"/>\n<text text-anchor=\"start\" x=\"6527.5\" y=\"-409.8\" font-family=\"Helvetica,sans-Serif\" font-size=\"14.00\" fill=\"#000000\">histogram_width ≤ 59.5</text>\n<text text-anchor=\"start\" x=\"6564.5\" y=\"-394.8\" font-family=\"Helvetica,sans-Serif\" font-size=\"14.00\" fill=\"#000000\">gini = 0.444</text>\n<text text-anchor=\"start\" x=\"6563\" y=\"-379.8\" font-family=\"Helvetica,sans-Serif\" font-size=\"14.00\" fill=\"#000000\">samples = 3</text>\n<text text-anchor=\"start\" x=\"6553\" y=\"-364.8\" font-family=\"Helvetica,sans-Serif\" font-size=\"14.00\" fill=\"#000000\">value = [2, 1, 0]</text>\n<text text-anchor=\"start\" x=\"6573.5\" y=\"-349.8\" font-family=\"Helvetica,sans-Serif\" font-size=\"14.00\" fill=\"#000000\">class = 1</text>\n</g>\n<!-- 178&#45;&gt;180 -->\n<g id=\"edge180\" class=\"edge\">\n<title>178&#45;&gt;180</title>\n<path fill=\"none\" stroke=\"#000000\" d=\"M6526.4209,-460.8796C6535.453,-451.6931 6545.1013,-441.8798 6554.3888,-432.4336\"/>\n<polygon fill=\"#000000\" stroke=\"#000000\" points=\"6556.8893,-434.8827 6561.4044,-425.2981 6551.8977,-429.975 6556.8893,-434.8827\"/>\n</g>\n<!-- 181 -->\n<g id=\"node182\" class=\"node\">\n<title>181</title>\n<path fill=\"#e58139\" stroke=\"#000000\" d=\"M6516,-298.5C6516,-298.5 6425,-298.5 6425,-298.5 6419,-298.5 6413,-292.5 6413,-286.5 6413,-286.5 6413,-242.5 6413,-242.5 6413,-236.5 6419,-230.5 6425,-230.5 6425,-230.5 6516,-230.5 6516,-230.5 6522,-230.5 6528,-236.5 6528,-242.5 6528,-242.5 6528,-286.5 6528,-286.5 6528,-292.5 6522,-298.5 6516,-298.5\"/>\n<text text-anchor=\"start\" x=\"6441\" y=\"-283.3\" font-family=\"Helvetica,sans-Serif\" font-size=\"14.00\" fill=\"#000000\">gini = 0.0</text>\n<text text-anchor=\"start\" x=\"6431\" y=\"-268.3\" font-family=\"Helvetica,sans-Serif\" font-size=\"14.00\" fill=\"#000000\">samples = 2</text>\n<text text-anchor=\"start\" x=\"6421\" y=\"-253.3\" font-family=\"Helvetica,sans-Serif\" font-size=\"14.00\" fill=\"#000000\">value = [2, 0, 0]</text>\n<text text-anchor=\"start\" x=\"6441.5\" y=\"-238.3\" font-family=\"Helvetica,sans-Serif\" font-size=\"14.00\" fill=\"#000000\">class = 1</text>\n</g>\n<!-- 180&#45;&gt;181 -->\n<g id=\"edge181\" class=\"edge\">\n<title>180&#45;&gt;181</title>\n<path fill=\"none\" stroke=\"#000000\" d=\"M6556.3328,-341.8796C6543.2817,-330.1138 6529.0899,-317.3197 6516.0739,-305.5855\"/>\n<polygon fill=\"#000000\" stroke=\"#000000\" points=\"6518.3346,-302.9113 6508.5636,-298.8149 6513.6474,-308.1104 6518.3346,-302.9113\"/>\n</g>\n<!-- 182 -->\n<g id=\"node183\" class=\"node\">\n<title>182</title>\n<path fill=\"#39e581\" stroke=\"#000000\" d=\"M6649,-298.5C6649,-298.5 6558,-298.5 6558,-298.5 6552,-298.5 6546,-292.5 6546,-286.5 6546,-286.5 6546,-242.5 6546,-242.5 6546,-236.5 6552,-230.5 6558,-230.5 6558,-230.5 6649,-230.5 6649,-230.5 6655,-230.5 6661,-236.5 6661,-242.5 6661,-242.5 6661,-286.5 6661,-286.5 6661,-292.5 6655,-298.5 6649,-298.5\"/>\n<text text-anchor=\"start\" x=\"6574\" y=\"-283.3\" font-family=\"Helvetica,sans-Serif\" font-size=\"14.00\" fill=\"#000000\">gini = 0.0</text>\n<text text-anchor=\"start\" x=\"6564\" y=\"-268.3\" font-family=\"Helvetica,sans-Serif\" font-size=\"14.00\" fill=\"#000000\">samples = 1</text>\n<text text-anchor=\"start\" x=\"6554\" y=\"-253.3\" font-family=\"Helvetica,sans-Serif\" font-size=\"14.00\" fill=\"#000000\">value = [0, 1, 0]</text>\n<text text-anchor=\"start\" x=\"6574.5\" y=\"-238.3\" font-family=\"Helvetica,sans-Serif\" font-size=\"14.00\" fill=\"#000000\">class = 2</text>\n</g>\n<!-- 180&#45;&gt;182 -->\n<g id=\"edge182\" class=\"edge\">\n<title>180&#45;&gt;182</title>\n<path fill=\"none\" stroke=\"#000000\" d=\"M6602.8498,-341.8796C6602.9394,-331.2134 6603.0361,-319.7021 6603.1269,-308.9015\"/>\n<polygon fill=\"#000000\" stroke=\"#000000\" points=\"6606.6274,-308.844 6603.2116,-298.8149 6599.6276,-308.7851 6606.6274,-308.844\"/>\n</g>\n<!-- 184 -->\n<g id=\"node185\" class=\"node\">\n<title>184</title>\n<path fill=\"#39e581\" stroke=\"#000000\" d=\"M6833,-536.5C6833,-536.5 6742,-536.5 6742,-536.5 6736,-536.5 6730,-530.5 6730,-524.5 6730,-524.5 6730,-480.5 6730,-480.5 6730,-474.5 6736,-468.5 6742,-468.5 6742,-468.5 6833,-468.5 6833,-468.5 6839,-468.5 6845,-474.5 6845,-480.5 6845,-480.5 6845,-524.5 6845,-524.5 6845,-530.5 6839,-536.5 6833,-536.5\"/>\n<text text-anchor=\"start\" x=\"6758\" y=\"-521.3\" font-family=\"Helvetica,sans-Serif\" font-size=\"14.00\" fill=\"#000000\">gini = 0.0</text>\n<text text-anchor=\"start\" x=\"6748\" y=\"-506.3\" font-family=\"Helvetica,sans-Serif\" font-size=\"14.00\" fill=\"#000000\">samples = 8</text>\n<text text-anchor=\"start\" x=\"6738\" y=\"-491.3\" font-family=\"Helvetica,sans-Serif\" font-size=\"14.00\" fill=\"#000000\">value = [0, 8, 0]</text>\n<text text-anchor=\"start\" x=\"6758.5\" y=\"-476.3\" font-family=\"Helvetica,sans-Serif\" font-size=\"14.00\" fill=\"#000000\">class = 2</text>\n</g>\n<!-- 183&#45;&gt;184 -->\n<g id=\"edge184\" class=\"edge\">\n<title>183&#45;&gt;184</title>\n<path fill=\"none\" stroke=\"#000000\" d=\"M6790.101,-579.8796C6789.7425,-569.2134 6789.3555,-557.7021 6788.9925,-546.9015\"/>\n<polygon fill=\"#000000\" stroke=\"#000000\" points=\"6792.4875,-546.6917 6788.6534,-536.8149 6785.4915,-546.9269 6792.4875,-546.6917\"/>\n</g>\n<!-- 185 -->\n<g id=\"node186\" class=\"node\">\n<title>185</title>\n<path fill=\"#ffffff\" stroke=\"#000000\" d=\"M7006,-544C7006,-544 6875,-544 6875,-544 6869,-544 6863,-538 6863,-532 6863,-532 6863,-473 6863,-473 6863,-467 6869,-461 6875,-461 6875,-461 7006,-461 7006,-461 7012,-461 7018,-467 7018,-473 7018,-473 7018,-532 7018,-532 7018,-538 7012,-544 7006,-544\"/>\n<text text-anchor=\"start\" x=\"6871\" y=\"-528.8\" font-family=\"Helvetica,sans-Serif\" font-size=\"14.00\" fill=\"#000000\">accelerations ≤ 0.001</text>\n<text text-anchor=\"start\" x=\"6911\" y=\"-513.8\" font-family=\"Helvetica,sans-Serif\" font-size=\"14.00\" fill=\"#000000\">gini = 0.5</text>\n<text text-anchor=\"start\" x=\"6896.5\" y=\"-498.8\" font-family=\"Helvetica,sans-Serif\" font-size=\"14.00\" fill=\"#000000\">samples = 10</text>\n<text text-anchor=\"start\" x=\"6891\" y=\"-483.8\" font-family=\"Helvetica,sans-Serif\" font-size=\"14.00\" fill=\"#000000\">value = [5, 5, 0]</text>\n<text text-anchor=\"start\" x=\"6911.5\" y=\"-468.8\" font-family=\"Helvetica,sans-Serif\" font-size=\"14.00\" fill=\"#000000\">class = 1</text>\n</g>\n<!-- 183&#45;&gt;185 -->\n<g id=\"edge185\" class=\"edge\">\n<title>183&#45;&gt;185</title>\n<path fill=\"none\" stroke=\"#000000\" d=\"M6843.613,-579.8796C6855.5225,-570.368 6868.2734,-560.1843 6880.4844,-550.432\"/>\n<polygon fill=\"#000000\" stroke=\"#000000\" points=\"6882.7868,-553.0724 6888.4165,-544.0969 6878.4184,-547.6027 6882.7868,-553.0724\"/>\n</g>\n<!-- 186 -->\n<g id=\"node187\" class=\"node\">\n<title>186</title>\n<path fill=\"#b0f5cd\" stroke=\"#000000\" d=\"M6934.5,-425C6934.5,-425 6792.5,-425 6792.5,-425 6786.5,-425 6780.5,-419 6780.5,-413 6780.5,-413 6780.5,-354 6780.5,-354 6780.5,-348 6786.5,-342 6792.5,-342 6792.5,-342 6934.5,-342 6934.5,-342 6940.5,-342 6946.5,-348 6946.5,-354 6946.5,-354 6946.5,-413 6946.5,-413 6946.5,-419 6940.5,-425 6934.5,-425\"/>\n<text text-anchor=\"start\" x=\"6788.5\" y=\"-409.8\" font-family=\"Helvetica,sans-Serif\" font-size=\"14.00\" fill=\"#000000\">histogram_width ≤ 25.5</text>\n<text text-anchor=\"start\" x=\"6825.5\" y=\"-394.8\" font-family=\"Helvetica,sans-Serif\" font-size=\"14.00\" fill=\"#000000\">gini = 0.469</text>\n<text text-anchor=\"start\" x=\"6824\" y=\"-379.8\" font-family=\"Helvetica,sans-Serif\" font-size=\"14.00\" fill=\"#000000\">samples = 8</text>\n<text text-anchor=\"start\" x=\"6814\" y=\"-364.8\" font-family=\"Helvetica,sans-Serif\" font-size=\"14.00\" fill=\"#000000\">value = [3, 5, 0]</text>\n<text text-anchor=\"start\" x=\"6834.5\" y=\"-349.8\" font-family=\"Helvetica,sans-Serif\" font-size=\"14.00\" fill=\"#000000\">class = 2</text>\n</g>\n<!-- 185&#45;&gt;186 -->\n<g id=\"edge186\" class=\"edge\">\n<title>185&#45;&gt;186</title>\n<path fill=\"none\" stroke=\"#000000\" d=\"M6913.5691,-460.8796C6907.9163,-452.1434 6901.8967,-442.8404 6896.0634,-433.8253\"/>\n<polygon fill=\"#000000\" stroke=\"#000000\" points=\"6898.9169,-431.7924 6890.5458,-425.2981 6893.0399,-435.5952 6898.9169,-431.7924\"/>\n</g>\n<!-- 193 -->\n<g id=\"node194\" class=\"node\">\n<title>193</title>\n<path fill=\"#e58139\" stroke=\"#000000\" d=\"M7068,-417.5C7068,-417.5 6977,-417.5 6977,-417.5 6971,-417.5 6965,-411.5 6965,-405.5 6965,-405.5 6965,-361.5 6965,-361.5 6965,-355.5 6971,-349.5 6977,-349.5 6977,-349.5 7068,-349.5 7068,-349.5 7074,-349.5 7080,-355.5 7080,-361.5 7080,-361.5 7080,-405.5 7080,-405.5 7080,-411.5 7074,-417.5 7068,-417.5\"/>\n<text text-anchor=\"start\" x=\"6993\" y=\"-402.3\" font-family=\"Helvetica,sans-Serif\" font-size=\"14.00\" fill=\"#000000\">gini = 0.0</text>\n<text text-anchor=\"start\" x=\"6983\" y=\"-387.3\" font-family=\"Helvetica,sans-Serif\" font-size=\"14.00\" fill=\"#000000\">samples = 2</text>\n<text text-anchor=\"start\" x=\"6973\" y=\"-372.3\" font-family=\"Helvetica,sans-Serif\" font-size=\"14.00\" fill=\"#000000\">value = [2, 0, 0]</text>\n<text text-anchor=\"start\" x=\"6993.5\" y=\"-357.3\" font-family=\"Helvetica,sans-Serif\" font-size=\"14.00\" fill=\"#000000\">class = 1</text>\n</g>\n<!-- 185&#45;&gt;193 -->\n<g id=\"edge193\" class=\"edge\">\n<title>185&#45;&gt;193</title>\n<path fill=\"none\" stroke=\"#000000\" d=\"M6969.1796,-460.8796C6976.9083,-449.6636 6985.2809,-437.5131 6993.0508,-426.2372\"/>\n<polygon fill=\"#000000\" stroke=\"#000000\" points=\"6996.0623,-428.0353 6998.8544,-417.8149 6990.2982,-424.0634 6996.0623,-428.0353\"/>\n</g>\n<!-- 187 -->\n<g id=\"node188\" class=\"node\">\n<title>187</title>\n<path fill=\"#61ea9a\" stroke=\"#000000\" d=\"M6851.5,-306C6851.5,-306 6709.5,-306 6709.5,-306 6703.5,-306 6697.5,-300 6697.5,-294 6697.5,-294 6697.5,-235 6697.5,-235 6697.5,-229 6703.5,-223 6709.5,-223 6709.5,-223 6851.5,-223 6851.5,-223 6857.5,-223 6863.5,-229 6863.5,-235 6863.5,-235 6863.5,-294 6863.5,-294 6863.5,-300 6857.5,-306 6851.5,-306\"/>\n<text text-anchor=\"start\" x=\"6705.5\" y=\"-290.8\" font-family=\"Helvetica,sans-Serif\" font-size=\"14.00\" fill=\"#000000\">histogram_width ≤ 15.5</text>\n<text text-anchor=\"start\" x=\"6742.5\" y=\"-275.8\" font-family=\"Helvetica,sans-Serif\" font-size=\"14.00\" fill=\"#000000\">gini = 0.278</text>\n<text text-anchor=\"start\" x=\"6741\" y=\"-260.8\" font-family=\"Helvetica,sans-Serif\" font-size=\"14.00\" fill=\"#000000\">samples = 6</text>\n<text text-anchor=\"start\" x=\"6731\" y=\"-245.8\" font-family=\"Helvetica,sans-Serif\" font-size=\"14.00\" fill=\"#000000\">value = [1, 5, 0]</text>\n<text text-anchor=\"start\" x=\"6751.5\" y=\"-230.8\" font-family=\"Helvetica,sans-Serif\" font-size=\"14.00\" fill=\"#000000\">class = 2</text>\n</g>\n<!-- 186&#45;&gt;187 -->\n<g id=\"edge187\" class=\"edge\">\n<title>186&#45;&gt;187</title>\n<path fill=\"none\" stroke=\"#000000\" d=\"M6834.4706,-341.8796C6828.3145,-333.0534 6821.7549,-323.6485 6815.4064,-314.5466\"/>\n<polygon fill=\"#000000\" stroke=\"#000000\" points=\"6818.2448,-312.4978 6809.6533,-306.2981 6812.5033,-316.5024 6818.2448,-312.4978\"/>\n</g>\n<!-- 192 -->\n<g id=\"node193\" class=\"node\">\n<title>192</title>\n<path fill=\"#e58139\" stroke=\"#000000\" d=\"M6985,-298.5C6985,-298.5 6894,-298.5 6894,-298.5 6888,-298.5 6882,-292.5 6882,-286.5 6882,-286.5 6882,-242.5 6882,-242.5 6882,-236.5 6888,-230.5 6894,-230.5 6894,-230.5 6985,-230.5 6985,-230.5 6991,-230.5 6997,-236.5 6997,-242.5 6997,-242.5 6997,-286.5 6997,-286.5 6997,-292.5 6991,-298.5 6985,-298.5\"/>\n<text text-anchor=\"start\" x=\"6910\" y=\"-283.3\" font-family=\"Helvetica,sans-Serif\" font-size=\"14.00\" fill=\"#000000\">gini = 0.0</text>\n<text text-anchor=\"start\" x=\"6900\" y=\"-268.3\" font-family=\"Helvetica,sans-Serif\" font-size=\"14.00\" fill=\"#000000\">samples = 2</text>\n<text text-anchor=\"start\" x=\"6890\" y=\"-253.3\" font-family=\"Helvetica,sans-Serif\" font-size=\"14.00\" fill=\"#000000\">value = [2, 0, 0]</text>\n<text text-anchor=\"start\" x=\"6910.5\" y=\"-238.3\" font-family=\"Helvetica,sans-Serif\" font-size=\"14.00\" fill=\"#000000\">class = 1</text>\n</g>\n<!-- 186&#45;&gt;192 -->\n<g id=\"edge192\" class=\"edge\">\n<title>186&#45;&gt;192</title>\n<path fill=\"none\" stroke=\"#000000\" d=\"M6890.0811,-341.8796C6897.174,-330.7735 6904.8521,-318.7513 6911.9937,-307.5691\"/>\n<polygon fill=\"#000000\" stroke=\"#000000\" points=\"6915.1518,-309.1267 6917.5846,-298.8149 6909.2523,-305.3589 6915.1518,-309.1267\"/>\n</g>\n<!-- 188 -->\n<g id=\"node189\" class=\"node\">\n<title>188</title>\n<path fill=\"#ffffff\" stroke=\"#000000\" d=\"M6775,-187C6775,-187 6622,-187 6622,-187 6616,-187 6610,-181 6610,-175 6610,-175 6610,-116 6610,-116 6610,-110 6616,-104 6622,-104 6622,-104 6775,-104 6775,-104 6781,-104 6787,-110 6787,-116 6787,-116 6787,-175 6787,-175 6787,-181 6781,-187 6775,-187\"/>\n<text text-anchor=\"start\" x=\"6618\" y=\"-171.8\" font-family=\"Helvetica,sans-Serif\" font-size=\"14.00\" fill=\"#000000\">histogram_mean ≤ 158.5</text>\n<text text-anchor=\"start\" x=\"6669\" y=\"-156.8\" font-family=\"Helvetica,sans-Serif\" font-size=\"14.00\" fill=\"#000000\">gini = 0.5</text>\n<text text-anchor=\"start\" x=\"6659\" y=\"-141.8\" font-family=\"Helvetica,sans-Serif\" font-size=\"14.00\" fill=\"#000000\">samples = 2</text>\n<text text-anchor=\"start\" x=\"6649\" y=\"-126.8\" font-family=\"Helvetica,sans-Serif\" font-size=\"14.00\" fill=\"#000000\">value = [1, 1, 0]</text>\n<text text-anchor=\"start\" x=\"6669.5\" y=\"-111.8\" font-family=\"Helvetica,sans-Serif\" font-size=\"14.00\" fill=\"#000000\">class = 1</text>\n</g>\n<!-- 187&#45;&gt;188 -->\n<g id=\"edge188\" class=\"edge\">\n<title>187&#45;&gt;188</title>\n<path fill=\"none\" stroke=\"#000000\" d=\"M6751.8204,-222.8796C6745.7385,-214.0534 6739.2578,-204.6485 6732.9859,-195.5466\"/>\n<polygon fill=\"#000000\" stroke=\"#000000\" points=\"6735.8582,-193.5465 6727.302,-187.2981 6730.0941,-197.5184 6735.8582,-193.5465\"/>\n</g>\n<!-- 191 -->\n<g id=\"node192\" class=\"node\">\n<title>191</title>\n<path fill=\"#39e581\" stroke=\"#000000\" d=\"M6908,-179.5C6908,-179.5 6817,-179.5 6817,-179.5 6811,-179.5 6805,-173.5 6805,-167.5 6805,-167.5 6805,-123.5 6805,-123.5 6805,-117.5 6811,-111.5 6817,-111.5 6817,-111.5 6908,-111.5 6908,-111.5 6914,-111.5 6920,-117.5 6920,-123.5 6920,-123.5 6920,-167.5 6920,-167.5 6920,-173.5 6914,-179.5 6908,-179.5\"/>\n<text text-anchor=\"start\" x=\"6833\" y=\"-164.3\" font-family=\"Helvetica,sans-Serif\" font-size=\"14.00\" fill=\"#000000\">gini = 0.0</text>\n<text text-anchor=\"start\" x=\"6823\" y=\"-149.3\" font-family=\"Helvetica,sans-Serif\" font-size=\"14.00\" fill=\"#000000\">samples = 4</text>\n<text text-anchor=\"start\" x=\"6813\" y=\"-134.3\" font-family=\"Helvetica,sans-Serif\" font-size=\"14.00\" fill=\"#000000\">value = [0, 4, 0]</text>\n<text text-anchor=\"start\" x=\"6833.5\" y=\"-119.3\" font-family=\"Helvetica,sans-Serif\" font-size=\"14.00\" fill=\"#000000\">class = 2</text>\n</g>\n<!-- 187&#45;&gt;191 -->\n<g id=\"edge191\" class=\"edge\">\n<title>187&#45;&gt;191</title>\n<path fill=\"none\" stroke=\"#000000\" d=\"M6809.1796,-222.8796C6816.9083,-211.6636 6825.2809,-199.5131 6833.0508,-188.2372\"/>\n<polygon fill=\"#000000\" stroke=\"#000000\" points=\"6836.0623,-190.0353 6838.8544,-179.8149 6830.2982,-186.0634 6836.0623,-190.0353\"/>\n</g>\n<!-- 189 -->\n<g id=\"node190\" class=\"node\">\n<title>189</title>\n<path fill=\"#39e581\" stroke=\"#000000\" d=\"M6677,-68C6677,-68 6586,-68 6586,-68 6580,-68 6574,-62 6574,-56 6574,-56 6574,-12 6574,-12 6574,-6 6580,0 6586,0 6586,0 6677,0 6677,0 6683,0 6689,-6 6689,-12 6689,-12 6689,-56 6689,-56 6689,-62 6683,-68 6677,-68\"/>\n<text text-anchor=\"start\" x=\"6602\" y=\"-52.8\" font-family=\"Helvetica,sans-Serif\" font-size=\"14.00\" fill=\"#000000\">gini = 0.0</text>\n<text text-anchor=\"start\" x=\"6592\" y=\"-37.8\" font-family=\"Helvetica,sans-Serif\" font-size=\"14.00\" fill=\"#000000\">samples = 1</text>\n<text text-anchor=\"start\" x=\"6582\" y=\"-22.8\" font-family=\"Helvetica,sans-Serif\" font-size=\"14.00\" fill=\"#000000\">value = [0, 1, 0]</text>\n<text text-anchor=\"start\" x=\"6602.5\" y=\"-7.8\" font-family=\"Helvetica,sans-Serif\" font-size=\"14.00\" fill=\"#000000\">class = 2</text>\n</g>\n<!-- 188&#45;&gt;189 -->\n<g id=\"edge189\" class=\"edge\">\n<title>188&#45;&gt;189</title>\n<path fill=\"none\" stroke=\"#000000\" d=\"M6673.5517,-103.9815C6668.2499,-95.1585 6662.6419,-85.8258 6657.3089,-76.9506\"/>\n<polygon fill=\"#000000\" stroke=\"#000000\" points=\"6660.2396,-75.0325 6652.0889,-68.2637 6654.2395,-78.638 6660.2396,-75.0325\"/>\n</g>\n<!-- 190 -->\n<g id=\"node191\" class=\"node\">\n<title>190</title>\n<path fill=\"#e58139\" stroke=\"#000000\" d=\"M6810,-68C6810,-68 6719,-68 6719,-68 6713,-68 6707,-62 6707,-56 6707,-56 6707,-12 6707,-12 6707,-6 6713,0 6719,0 6719,0 6810,0 6810,0 6816,0 6822,-6 6822,-12 6822,-12 6822,-56 6822,-56 6822,-62 6816,-68 6810,-68\"/>\n<text text-anchor=\"start\" x=\"6735\" y=\"-52.8\" font-family=\"Helvetica,sans-Serif\" font-size=\"14.00\" fill=\"#000000\">gini = 0.0</text>\n<text text-anchor=\"start\" x=\"6725\" y=\"-37.8\" font-family=\"Helvetica,sans-Serif\" font-size=\"14.00\" fill=\"#000000\">samples = 1</text>\n<text text-anchor=\"start\" x=\"6715\" y=\"-22.8\" font-family=\"Helvetica,sans-Serif\" font-size=\"14.00\" fill=\"#000000\">value = [1, 0, 0]</text>\n<text text-anchor=\"start\" x=\"6735.5\" y=\"-7.8\" font-family=\"Helvetica,sans-Serif\" font-size=\"14.00\" fill=\"#000000\">class = 1</text>\n</g>\n<!-- 188&#45;&gt;190 -->\n<g id=\"edge190\" class=\"edge\">\n<title>188&#45;&gt;190</title>\n<path fill=\"none\" stroke=\"#000000\" d=\"M6723.076,-103.9815C6728.2986,-95.1585 6733.8229,-85.8258 6739.0763,-76.9506\"/>\n<polygon fill=\"#000000\" stroke=\"#000000\" points=\"6742.1364,-78.652 6744.2184,-68.2637 6736.1126,-75.0863 6742.1364,-78.652\"/>\n</g>\n<!-- 195 -->\n<g id=\"node196\" class=\"node\">\n<title>195</title>\n<path fill=\"#9cf2c0\" stroke=\"#000000\" d=\"M6806,-901C6806,-901 6651,-901 6651,-901 6645,-901 6639,-895 6639,-889 6639,-889 6639,-830 6639,-830 6639,-824 6645,-818 6651,-818 6651,-818 6806,-818 6806,-818 6812,-818 6818,-824 6818,-830 6818,-830 6818,-889 6818,-889 6818,-895 6812,-901 6806,-901\"/>\n<text text-anchor=\"start\" x=\"6647\" y=\"-885.8\" font-family=\"Helvetica,sans-Serif\" font-size=\"14.00\" fill=\"#000000\">histogram_variance ≤ 2.5</text>\n<text text-anchor=\"start\" x=\"6690.5\" y=\"-870.8\" font-family=\"Helvetica,sans-Serif\" font-size=\"14.00\" fill=\"#000000\">gini = 0.444</text>\n<text text-anchor=\"start\" x=\"6689\" y=\"-855.8\" font-family=\"Helvetica,sans-Serif\" font-size=\"14.00\" fill=\"#000000\">samples = 3</text>\n<text text-anchor=\"start\" x=\"6679\" y=\"-840.8\" font-family=\"Helvetica,sans-Serif\" font-size=\"14.00\" fill=\"#000000\">value = [1, 2, 0]</text>\n<text text-anchor=\"start\" x=\"6699.5\" y=\"-825.8\" font-family=\"Helvetica,sans-Serif\" font-size=\"14.00\" fill=\"#000000\">class = 2</text>\n</g>\n<!-- 194&#45;&gt;195 -->\n<g id=\"edge195\" class=\"edge\">\n<title>194&#45;&gt;195</title>\n<path fill=\"none\" stroke=\"#000000\" d=\"M6728.5,-936.8796C6728.5,-928.6838 6728.5,-919.9891 6728.5,-911.5013\"/>\n<polygon fill=\"#000000\" stroke=\"#000000\" points=\"6732.0001,-911.298 6728.5,-901.2981 6725.0001,-911.2981 6732.0001,-911.298\"/>\n</g>\n<!-- 198 -->\n<g id=\"node199\" class=\"node\">\n<title>198</title>\n<path fill=\"#e58139\" stroke=\"#000000\" d=\"M6947,-893.5C6947,-893.5 6848,-893.5 6848,-893.5 6842,-893.5 6836,-887.5 6836,-881.5 6836,-881.5 6836,-837.5 6836,-837.5 6836,-831.5 6842,-825.5 6848,-825.5 6848,-825.5 6947,-825.5 6947,-825.5 6953,-825.5 6959,-831.5 6959,-837.5 6959,-837.5 6959,-881.5 6959,-881.5 6959,-887.5 6953,-893.5 6947,-893.5\"/>\n<text text-anchor=\"start\" x=\"6868\" y=\"-878.3\" font-family=\"Helvetica,sans-Serif\" font-size=\"14.00\" fill=\"#000000\">gini = 0.0</text>\n<text text-anchor=\"start\" x=\"6853.5\" y=\"-863.3\" font-family=\"Helvetica,sans-Serif\" font-size=\"14.00\" fill=\"#000000\">samples = 63</text>\n<text text-anchor=\"start\" x=\"6844\" y=\"-848.3\" font-family=\"Helvetica,sans-Serif\" font-size=\"14.00\" fill=\"#000000\">value = [63, 0, 0]</text>\n<text text-anchor=\"start\" x=\"6868.5\" y=\"-833.3\" font-family=\"Helvetica,sans-Serif\" font-size=\"14.00\" fill=\"#000000\">class = 1</text>\n</g>\n<!-- 194&#45;&gt;198 -->\n<g id=\"edge198\" class=\"edge\">\n<title>194&#45;&gt;198</title>\n<path fill=\"none\" stroke=\"#000000\" d=\"M6787.608,-936.8796C6804.8677,-924.7263 6823.6856,-911.4759 6840.793,-899.4297\"/>\n<polygon fill=\"#000000\" stroke=\"#000000\" points=\"6842.8782,-902.2421 6849.0396,-893.623 6838.8481,-896.5187 6842.8782,-902.2421\"/>\n</g>\n<!-- 196 -->\n<g id=\"node197\" class=\"node\">\n<title>196</title>\n<path fill=\"#39e581\" stroke=\"#000000\" d=\"M6774,-774.5C6774,-774.5 6683,-774.5 6683,-774.5 6677,-774.5 6671,-768.5 6671,-762.5 6671,-762.5 6671,-718.5 6671,-718.5 6671,-712.5 6677,-706.5 6683,-706.5 6683,-706.5 6774,-706.5 6774,-706.5 6780,-706.5 6786,-712.5 6786,-718.5 6786,-718.5 6786,-762.5 6786,-762.5 6786,-768.5 6780,-774.5 6774,-774.5\"/>\n<text text-anchor=\"start\" x=\"6699\" y=\"-759.3\" font-family=\"Helvetica,sans-Serif\" font-size=\"14.00\" fill=\"#000000\">gini = 0.0</text>\n<text text-anchor=\"start\" x=\"6689\" y=\"-744.3\" font-family=\"Helvetica,sans-Serif\" font-size=\"14.00\" fill=\"#000000\">samples = 2</text>\n<text text-anchor=\"start\" x=\"6679\" y=\"-729.3\" font-family=\"Helvetica,sans-Serif\" font-size=\"14.00\" fill=\"#000000\">value = [0, 2, 0]</text>\n<text text-anchor=\"start\" x=\"6699.5\" y=\"-714.3\" font-family=\"Helvetica,sans-Serif\" font-size=\"14.00\" fill=\"#000000\">class = 2</text>\n</g>\n<!-- 195&#45;&gt;196 -->\n<g id=\"edge196\" class=\"edge\">\n<title>195&#45;&gt;196</title>\n<path fill=\"none\" stroke=\"#000000\" d=\"M6728.5,-817.8796C6728.5,-807.2134 6728.5,-795.7021 6728.5,-784.9015\"/>\n<polygon fill=\"#000000\" stroke=\"#000000\" points=\"6732.0001,-784.8149 6728.5,-774.8149 6725.0001,-784.815 6732.0001,-784.8149\"/>\n</g>\n<!-- 197 -->\n<g id=\"node198\" class=\"node\">\n<title>197</title>\n<path fill=\"#e58139\" stroke=\"#000000\" d=\"M6907,-774.5C6907,-774.5 6816,-774.5 6816,-774.5 6810,-774.5 6804,-768.5 6804,-762.5 6804,-762.5 6804,-718.5 6804,-718.5 6804,-712.5 6810,-706.5 6816,-706.5 6816,-706.5 6907,-706.5 6907,-706.5 6913,-706.5 6919,-712.5 6919,-718.5 6919,-718.5 6919,-762.5 6919,-762.5 6919,-768.5 6913,-774.5 6907,-774.5\"/>\n<text text-anchor=\"start\" x=\"6832\" y=\"-759.3\" font-family=\"Helvetica,sans-Serif\" font-size=\"14.00\" fill=\"#000000\">gini = 0.0</text>\n<text text-anchor=\"start\" x=\"6822\" y=\"-744.3\" font-family=\"Helvetica,sans-Serif\" font-size=\"14.00\" fill=\"#000000\">samples = 1</text>\n<text text-anchor=\"start\" x=\"6812\" y=\"-729.3\" font-family=\"Helvetica,sans-Serif\" font-size=\"14.00\" fill=\"#000000\">value = [1, 0, 0]</text>\n<text text-anchor=\"start\" x=\"6832.5\" y=\"-714.3\" font-family=\"Helvetica,sans-Serif\" font-size=\"14.00\" fill=\"#000000\">class = 1</text>\n</g>\n<!-- 195&#45;&gt;197 -->\n<g id=\"edge197\" class=\"edge\">\n<title>195&#45;&gt;197</title>\n<path fill=\"none\" stroke=\"#000000\" d=\"M6775.0169,-817.8796C6788.167,-806.1138 6802.4663,-793.3197 6815.5809,-781.5855\"/>\n<polygon fill=\"#000000\" stroke=\"#000000\" points=\"6818.0294,-784.0913 6823.148,-774.8149 6813.3618,-778.8746 6818.0294,-784.0913\"/>\n</g>\n</g>\n</svg>\n"
          },
          "metadata": {},
          "execution_count": 116
        }
      ]
    },
    {
      "cell_type": "code",
      "source": [
        "graph.render(\"feta_classification\")"
      ],
      "metadata": {
        "colab": {
          "base_uri": "https://localhost:8080/",
          "height": 37
        },
        "id": "heJJ8FZSBU45",
        "outputId": "6ea30071-0af9-48de-8f03-f7c0cf0ef19a"
      },
      "execution_count": null,
      "outputs": [
        {
          "output_type": "execute_result",
          "data": {
            "text/plain": [
              "'feta_classification.pdf'"
            ],
            "application/vnd.google.colaboratory.intrinsic+json": {
              "type": "string"
            }
          },
          "metadata": {},
          "execution_count": 117
        }
      ]
    },
    {
      "cell_type": "code",
      "source": [
        "from sklearn.tree import export_text\n",
        "feature_names = ['baseline value', 'accelerations', 'prolongued_decelerations',\n",
        "       'abnormal_short_term_variability',\n",
        "       'mean_value_of_short_term_variability',\n",
        "       'percentage_of_time_with_abnormal_long_term_variability',\n",
        "       'histogram_width', 'histogram_min', 'histogram_mode', 'histogram_mean',\n",
        "       'histogram_median', 'histogram_variance']\n",
        "r = export_text(clf,feature_names = feature_names)\n",
        "print(r)"
      ],
      "metadata": {
        "colab": {
          "base_uri": "https://localhost:8080/"
        },
        "id": "EfKMwDzRBpWT",
        "outputId": "6d70882b-0b11-4628-eea3-986440c69d17"
      },
      "execution_count": null,
      "outputs": [
        {
          "output_type": "stream",
          "name": "stdout",
          "text": [
            "|--- mean_value_of_short_term_variability <= 0.55\n",
            "|   |--- percentage_of_time_with_abnormal_long_term_variability <= 68.50\n",
            "|   |   |--- abnormal_short_term_variability <= 58.50\n",
            "|   |   |   |--- percentage_of_time_with_abnormal_long_term_variability <= 61.00\n",
            "|   |   |   |   |--- histogram_mean <= 167.00\n",
            "|   |   |   |   |   |--- histogram_min <= 135.50\n",
            "|   |   |   |   |   |   |--- histogram_variance <= 6.50\n",
            "|   |   |   |   |   |   |   |--- class: 1.0\n",
            "|   |   |   |   |   |   |--- histogram_variance >  6.50\n",
            "|   |   |   |   |   |   |   |--- percentage_of_time_with_abnormal_long_term_variability <= 12.50\n",
            "|   |   |   |   |   |   |   |   |--- class: 1.0\n",
            "|   |   |   |   |   |   |   |--- percentage_of_time_with_abnormal_long_term_variability >  12.50\n",
            "|   |   |   |   |   |   |   |   |--- class: 2.0\n",
            "|   |   |   |   |   |--- histogram_min >  135.50\n",
            "|   |   |   |   |   |   |--- histogram_width <= 17.50\n",
            "|   |   |   |   |   |   |   |--- class: 1.0\n",
            "|   |   |   |   |   |   |--- histogram_width >  17.50\n",
            "|   |   |   |   |   |   |   |--- accelerations <= 0.00\n",
            "|   |   |   |   |   |   |   |   |--- class: 2.0\n",
            "|   |   |   |   |   |   |   |--- accelerations >  0.00\n",
            "|   |   |   |   |   |   |   |   |--- class: 1.0\n",
            "|   |   |   |   |--- histogram_mean >  167.00\n",
            "|   |   |   |   |   |--- class: 2.0\n",
            "|   |   |   |--- percentage_of_time_with_abnormal_long_term_variability >  61.00\n",
            "|   |   |   |   |--- class: 2.0\n",
            "|   |   |--- abnormal_short_term_variability >  58.50\n",
            "|   |   |   |--- abnormal_short_term_variability <= 79.50\n",
            "|   |   |   |   |--- percentage_of_time_with_abnormal_long_term_variability <= 7.50\n",
            "|   |   |   |   |   |--- baseline value <= 143.50\n",
            "|   |   |   |   |   |   |--- histogram_width <= 19.00\n",
            "|   |   |   |   |   |   |   |--- class: 2.0\n",
            "|   |   |   |   |   |   |--- histogram_width >  19.00\n",
            "|   |   |   |   |   |   |   |--- histogram_width <= 86.00\n",
            "|   |   |   |   |   |   |   |   |--- class: 1.0\n",
            "|   |   |   |   |   |   |   |--- histogram_width >  86.00\n",
            "|   |   |   |   |   |   |   |   |--- class: 2.0\n",
            "|   |   |   |   |   |--- baseline value >  143.50\n",
            "|   |   |   |   |   |   |--- percentage_of_time_with_abnormal_long_term_variability <= 3.50\n",
            "|   |   |   |   |   |   |   |--- class: 1.0\n",
            "|   |   |   |   |   |   |--- percentage_of_time_with_abnormal_long_term_variability >  3.50\n",
            "|   |   |   |   |   |   |   |--- histogram_mean <= 150.50\n",
            "|   |   |   |   |   |   |   |   |--- baseline value <= 146.50\n",
            "|   |   |   |   |   |   |   |   |   |--- class: 2.0\n",
            "|   |   |   |   |   |   |   |   |--- baseline value >  146.50\n",
            "|   |   |   |   |   |   |   |   |   |--- class: 3.0\n",
            "|   |   |   |   |   |   |   |--- histogram_mean >  150.50\n",
            "|   |   |   |   |   |   |   |   |--- class: 2.0\n",
            "|   |   |   |   |--- percentage_of_time_with_abnormal_long_term_variability >  7.50\n",
            "|   |   |   |   |   |--- abnormal_short_term_variability <= 78.50\n",
            "|   |   |   |   |   |   |--- baseline value <= 136.50\n",
            "|   |   |   |   |   |   |   |--- histogram_median <= 138.50\n",
            "|   |   |   |   |   |   |   |   |--- abnormal_short_term_variability <= 59.50\n",
            "|   |   |   |   |   |   |   |   |   |--- class: 1.0\n",
            "|   |   |   |   |   |   |   |   |--- abnormal_short_term_variability >  59.50\n",
            "|   |   |   |   |   |   |   |   |   |--- histogram_width <= 18.50\n",
            "|   |   |   |   |   |   |   |   |   |   |--- histogram_mode <= 124.00\n",
            "|   |   |   |   |   |   |   |   |   |   |   |--- class: 1.0\n",
            "|   |   |   |   |   |   |   |   |   |   |--- histogram_mode >  124.00\n",
            "|   |   |   |   |   |   |   |   |   |   |   |--- class: 2.0\n",
            "|   |   |   |   |   |   |   |   |   |--- histogram_width >  18.50\n",
            "|   |   |   |   |   |   |   |   |   |   |--- class: 2.0\n",
            "|   |   |   |   |   |   |   |--- histogram_median >  138.50\n",
            "|   |   |   |   |   |   |   |   |--- histogram_mode <= 140.50\n",
            "|   |   |   |   |   |   |   |   |   |--- class: 1.0\n",
            "|   |   |   |   |   |   |   |   |--- histogram_mode >  140.50\n",
            "|   |   |   |   |   |   |   |   |   |--- class: 2.0\n",
            "|   |   |   |   |   |   |--- baseline value >  136.50\n",
            "|   |   |   |   |   |   |   |--- percentage_of_time_with_abnormal_long_term_variability <= 18.50\n",
            "|   |   |   |   |   |   |   |   |--- percentage_of_time_with_abnormal_long_term_variability <= 17.50\n",
            "|   |   |   |   |   |   |   |   |   |--- abnormal_short_term_variability <= 67.50\n",
            "|   |   |   |   |   |   |   |   |   |   |--- histogram_min <= 77.50\n",
            "|   |   |   |   |   |   |   |   |   |   |   |--- truncated branch of depth 2\n",
            "|   |   |   |   |   |   |   |   |   |   |--- histogram_min >  77.50\n",
            "|   |   |   |   |   |   |   |   |   |   |   |--- class: 2.0\n",
            "|   |   |   |   |   |   |   |   |   |--- abnormal_short_term_variability >  67.50\n",
            "|   |   |   |   |   |   |   |   |   |   |--- histogram_width <= 21.00\n",
            "|   |   |   |   |   |   |   |   |   |   |   |--- class: 2.0\n",
            "|   |   |   |   |   |   |   |   |   |   |--- histogram_width >  21.00\n",
            "|   |   |   |   |   |   |   |   |   |   |   |--- class: 1.0\n",
            "|   |   |   |   |   |   |   |   |--- percentage_of_time_with_abnormal_long_term_variability >  17.50\n",
            "|   |   |   |   |   |   |   |   |   |--- class: 3.0\n",
            "|   |   |   |   |   |   |   |--- percentage_of_time_with_abnormal_long_term_variability >  18.50\n",
            "|   |   |   |   |   |   |   |   |--- abnormal_short_term_variability <= 59.50\n",
            "|   |   |   |   |   |   |   |   |   |--- histogram_median <= 147.50\n",
            "|   |   |   |   |   |   |   |   |   |   |--- class: 1.0\n",
            "|   |   |   |   |   |   |   |   |   |--- histogram_median >  147.50\n",
            "|   |   |   |   |   |   |   |   |   |   |--- class: 2.0\n",
            "|   |   |   |   |   |   |   |   |--- abnormal_short_term_variability >  59.50\n",
            "|   |   |   |   |   |   |   |   |   |--- class: 2.0\n",
            "|   |   |   |   |   |--- abnormal_short_term_variability >  78.50\n",
            "|   |   |   |   |   |   |--- percentage_of_time_with_abnormal_long_term_variability <= 40.50\n",
            "|   |   |   |   |   |   |   |--- class: 1.0\n",
            "|   |   |   |   |   |   |--- percentage_of_time_with_abnormal_long_term_variability >  40.50\n",
            "|   |   |   |   |   |   |   |--- percentage_of_time_with_abnormal_long_term_variability <= 41.50\n",
            "|   |   |   |   |   |   |   |   |--- class: 3.0\n",
            "|   |   |   |   |   |   |   |--- percentage_of_time_with_abnormal_long_term_variability >  41.50\n",
            "|   |   |   |   |   |   |   |   |--- class: 2.0\n",
            "|   |   |   |--- abnormal_short_term_variability >  79.50\n",
            "|   |   |   |   |--- percentage_of_time_with_abnormal_long_term_variability <= 32.00\n",
            "|   |   |   |   |   |--- class: 3.0\n",
            "|   |   |   |   |--- percentage_of_time_with_abnormal_long_term_variability >  32.00\n",
            "|   |   |   |   |   |--- baseline value <= 142.00\n",
            "|   |   |   |   |   |   |--- class: 1.0\n",
            "|   |   |   |   |   |--- baseline value >  142.00\n",
            "|   |   |   |   |   |   |--- class: 3.0\n",
            "|   |--- percentage_of_time_with_abnormal_long_term_variability >  68.50\n",
            "|   |   |--- mean_value_of_short_term_variability <= 0.45\n",
            "|   |   |   |--- class: 3.0\n",
            "|   |   |--- mean_value_of_short_term_variability >  0.45\n",
            "|   |   |   |--- class: 1.0\n",
            "|--- mean_value_of_short_term_variability >  0.55\n",
            "|   |--- histogram_mean <= 107.50\n",
            "|   |   |--- histogram_width <= 168.50\n",
            "|   |   |   |--- abnormal_short_term_variability <= 25.00\n",
            "|   |   |   |   |--- class: 2.0\n",
            "|   |   |   |--- abnormal_short_term_variability >  25.00\n",
            "|   |   |   |   |--- histogram_min <= 71.50\n",
            "|   |   |   |   |   |--- baseline value <= 115.00\n",
            "|   |   |   |   |   |   |--- mean_value_of_short_term_variability <= 2.30\n",
            "|   |   |   |   |   |   |   |--- class: 1.0\n",
            "|   |   |   |   |   |   |--- mean_value_of_short_term_variability >  2.30\n",
            "|   |   |   |   |   |   |   |--- class: 3.0\n",
            "|   |   |   |   |   |--- baseline value >  115.00\n",
            "|   |   |   |   |   |   |--- class: 3.0\n",
            "|   |   |   |   |--- histogram_min >  71.50\n",
            "|   |   |   |   |   |--- histogram_variance <= 36.50\n",
            "|   |   |   |   |   |   |--- class: 1.0\n",
            "|   |   |   |   |   |--- histogram_variance >  36.50\n",
            "|   |   |   |   |   |   |--- class: 3.0\n",
            "|   |   |--- histogram_width >  168.50\n",
            "|   |   |   |--- class: 1.0\n",
            "|   |--- histogram_mean >  107.50\n",
            "|   |   |--- baseline value <= 143.50\n",
            "|   |   |   |--- prolongued_decelerations <= 0.00\n",
            "|   |   |   |   |--- percentage_of_time_with_abnormal_long_term_variability <= 13.50\n",
            "|   |   |   |   |   |--- histogram_mode <= 102.50\n",
            "|   |   |   |   |   |   |--- histogram_min <= 60.50\n",
            "|   |   |   |   |   |   |   |--- class: 3.0\n",
            "|   |   |   |   |   |   |--- histogram_min >  60.50\n",
            "|   |   |   |   |   |   |   |--- class: 1.0\n",
            "|   |   |   |   |   |--- histogram_mode >  102.50\n",
            "|   |   |   |   |   |   |--- mean_value_of_short_term_variability <= 0.65\n",
            "|   |   |   |   |   |   |   |--- histogram_min <= 63.50\n",
            "|   |   |   |   |   |   |   |   |--- class: 2.0\n",
            "|   |   |   |   |   |   |   |--- histogram_min >  63.50\n",
            "|   |   |   |   |   |   |   |   |--- abnormal_short_term_variability <= 64.50\n",
            "|   |   |   |   |   |   |   |   |   |--- histogram_min <= 89.50\n",
            "|   |   |   |   |   |   |   |   |   |   |--- histogram_mean <= 128.00\n",
            "|   |   |   |   |   |   |   |   |   |   |   |--- class: 2.0\n",
            "|   |   |   |   |   |   |   |   |   |   |--- histogram_mean >  128.00\n",
            "|   |   |   |   |   |   |   |   |   |   |   |--- class: 1.0\n",
            "|   |   |   |   |   |   |   |   |   |--- histogram_min >  89.50\n",
            "|   |   |   |   |   |   |   |   |   |   |--- class: 1.0\n",
            "|   |   |   |   |   |   |   |   |--- abnormal_short_term_variability >  64.50\n",
            "|   |   |   |   |   |   |   |   |   |--- baseline value <= 138.00\n",
            "|   |   |   |   |   |   |   |   |   |   |--- class: 1.0\n",
            "|   |   |   |   |   |   |   |   |   |--- baseline value >  138.00\n",
            "|   |   |   |   |   |   |   |   |   |   |--- class: 2.0\n",
            "|   |   |   |   |   |   |--- mean_value_of_short_term_variability >  0.65\n",
            "|   |   |   |   |   |   |   |--- histogram_width <= 140.00\n",
            "|   |   |   |   |   |   |   |   |--- histogram_median <= 152.50\n",
            "|   |   |   |   |   |   |   |   |   |--- histogram_min <= 126.50\n",
            "|   |   |   |   |   |   |   |   |   |   |--- class: 1.0\n",
            "|   |   |   |   |   |   |   |   |   |--- histogram_min >  126.50\n",
            "|   |   |   |   |   |   |   |   |   |   |--- histogram_width <= 57.00\n",
            "|   |   |   |   |   |   |   |   |   |   |   |--- class: 1.0\n",
            "|   |   |   |   |   |   |   |   |   |   |--- histogram_width >  57.00\n",
            "|   |   |   |   |   |   |   |   |   |   |   |--- class: 2.0\n",
            "|   |   |   |   |   |   |   |   |--- histogram_median >  152.50\n",
            "|   |   |   |   |   |   |   |   |   |--- accelerations <= 0.00\n",
            "|   |   |   |   |   |   |   |   |   |   |--- class: 2.0\n",
            "|   |   |   |   |   |   |   |   |   |--- accelerations >  0.00\n",
            "|   |   |   |   |   |   |   |   |   |   |--- class: 1.0\n",
            "|   |   |   |   |   |   |   |--- histogram_width >  140.00\n",
            "|   |   |   |   |   |   |   |   |--- prolongued_decelerations <= 0.00\n",
            "|   |   |   |   |   |   |   |   |   |--- abnormal_short_term_variability <= 48.50\n",
            "|   |   |   |   |   |   |   |   |   |   |--- class: 1.0\n",
            "|   |   |   |   |   |   |   |   |   |--- abnormal_short_term_variability >  48.50\n",
            "|   |   |   |   |   |   |   |   |   |   |--- histogram_mean <= 129.00\n",
            "|   |   |   |   |   |   |   |   |   |   |   |--- class: 1.0\n",
            "|   |   |   |   |   |   |   |   |   |   |--- histogram_mean >  129.00\n",
            "|   |   |   |   |   |   |   |   |   |   |   |--- class: 2.0\n",
            "|   |   |   |   |   |   |   |   |--- prolongued_decelerations >  0.00\n",
            "|   |   |   |   |   |   |   |   |   |--- histogram_width <= 142.00\n",
            "|   |   |   |   |   |   |   |   |   |   |--- class: 2.0\n",
            "|   |   |   |   |   |   |   |   |   |--- histogram_width >  142.00\n",
            "|   |   |   |   |   |   |   |   |   |   |--- class: 1.0\n",
            "|   |   |   |   |--- percentage_of_time_with_abnormal_long_term_variability >  13.50\n",
            "|   |   |   |   |   |--- histogram_mean <= 149.50\n",
            "|   |   |   |   |   |   |--- abnormal_short_term_variability <= 59.50\n",
            "|   |   |   |   |   |   |   |--- percentage_of_time_with_abnormal_long_term_variability <= 59.50\n",
            "|   |   |   |   |   |   |   |   |--- histogram_mode <= 142.50\n",
            "|   |   |   |   |   |   |   |   |   |--- class: 1.0\n",
            "|   |   |   |   |   |   |   |   |--- histogram_mode >  142.50\n",
            "|   |   |   |   |   |   |   |   |   |--- baseline value <= 135.50\n",
            "|   |   |   |   |   |   |   |   |   |   |--- histogram_median <= 141.00\n",
            "|   |   |   |   |   |   |   |   |   |   |   |--- class: 1.0\n",
            "|   |   |   |   |   |   |   |   |   |   |--- histogram_median >  141.00\n",
            "|   |   |   |   |   |   |   |   |   |   |   |--- class: 2.0\n",
            "|   |   |   |   |   |   |   |   |   |--- baseline value >  135.50\n",
            "|   |   |   |   |   |   |   |   |   |   |--- class: 1.0\n",
            "|   |   |   |   |   |   |   |--- percentage_of_time_with_abnormal_long_term_variability >  59.50\n",
            "|   |   |   |   |   |   |   |   |--- class: 2.0\n",
            "|   |   |   |   |   |   |--- abnormal_short_term_variability >  59.50\n",
            "|   |   |   |   |   |   |   |--- histogram_width <= 28.50\n",
            "|   |   |   |   |   |   |   |   |--- class: 1.0\n",
            "|   |   |   |   |   |   |   |--- histogram_width >  28.50\n",
            "|   |   |   |   |   |   |   |   |--- histogram_min <= 122.00\n",
            "|   |   |   |   |   |   |   |   |   |--- histogram_mode <= 146.50\n",
            "|   |   |   |   |   |   |   |   |   |   |--- class: 2.0\n",
            "|   |   |   |   |   |   |   |   |   |--- histogram_mode >  146.50\n",
            "|   |   |   |   |   |   |   |   |   |   |--- class: 1.0\n",
            "|   |   |   |   |   |   |   |   |--- histogram_min >  122.00\n",
            "|   |   |   |   |   |   |   |   |   |--- class: 1.0\n",
            "|   |   |   |   |   |--- histogram_mean >  149.50\n",
            "|   |   |   |   |   |   |--- histogram_min <= 102.50\n",
            "|   |   |   |   |   |   |   |--- accelerations <= 0.00\n",
            "|   |   |   |   |   |   |   |   |--- class: 2.0\n",
            "|   |   |   |   |   |   |   |--- accelerations >  0.00\n",
            "|   |   |   |   |   |   |   |   |--- class: 1.0\n",
            "|   |   |   |   |   |   |--- histogram_min >  102.50\n",
            "|   |   |   |   |   |   |   |--- class: 2.0\n",
            "|   |   |   |--- prolongued_decelerations >  0.00\n",
            "|   |   |   |   |--- baseline value <= 137.00\n",
            "|   |   |   |   |   |--- baseline value <= 132.50\n",
            "|   |   |   |   |   |   |--- abnormal_short_term_variability <= 51.00\n",
            "|   |   |   |   |   |   |   |--- mean_value_of_short_term_variability <= 2.35\n",
            "|   |   |   |   |   |   |   |   |--- class: 1.0\n",
            "|   |   |   |   |   |   |   |--- mean_value_of_short_term_variability >  2.35\n",
            "|   |   |   |   |   |   |   |   |--- abnormal_short_term_variability <= 17.50\n",
            "|   |   |   |   |   |   |   |   |   |--- class: 1.0\n",
            "|   |   |   |   |   |   |   |   |--- abnormal_short_term_variability >  17.50\n",
            "|   |   |   |   |   |   |   |   |   |--- class: 2.0\n",
            "|   |   |   |   |   |   |--- abnormal_short_term_variability >  51.00\n",
            "|   |   |   |   |   |   |   |--- class: 3.0\n",
            "|   |   |   |   |   |--- baseline value >  132.50\n",
            "|   |   |   |   |   |   |--- baseline value <= 135.00\n",
            "|   |   |   |   |   |   |   |--- class: 3.0\n",
            "|   |   |   |   |   |   |--- baseline value >  135.00\n",
            "|   |   |   |   |   |   |   |--- class: 1.0\n",
            "|   |   |   |   |--- baseline value >  137.00\n",
            "|   |   |   |   |   |--- class: 2.0\n",
            "|   |   |--- baseline value >  143.50\n",
            "|   |   |   |--- accelerations <= 0.00\n",
            "|   |   |   |   |--- abnormal_short_term_variability <= 42.50\n",
            "|   |   |   |   |   |--- histogram_median <= 157.00\n",
            "|   |   |   |   |   |   |--- class: 1.0\n",
            "|   |   |   |   |   |--- histogram_median >  157.00\n",
            "|   |   |   |   |   |   |--- mean_value_of_short_term_variability <= 0.85\n",
            "|   |   |   |   |   |   |   |--- class: 1.0\n",
            "|   |   |   |   |   |   |--- mean_value_of_short_term_variability >  0.85\n",
            "|   |   |   |   |   |   |   |--- class: 2.0\n",
            "|   |   |   |   |--- abnormal_short_term_variability >  42.50\n",
            "|   |   |   |   |   |--- histogram_min <= 59.50\n",
            "|   |   |   |   |   |   |--- class: 2.0\n",
            "|   |   |   |   |   |--- histogram_min >  59.50\n",
            "|   |   |   |   |   |   |--- histogram_min <= 125.50\n",
            "|   |   |   |   |   |   |   |--- histogram_min <= 75.50\n",
            "|   |   |   |   |   |   |   |   |--- histogram_variance <= 7.00\n",
            "|   |   |   |   |   |   |   |   |   |--- class: 2.0\n",
            "|   |   |   |   |   |   |   |   |--- histogram_variance >  7.00\n",
            "|   |   |   |   |   |   |   |   |   |--- class: 1.0\n",
            "|   |   |   |   |   |   |   |--- histogram_min >  75.50\n",
            "|   |   |   |   |   |   |   |   |--- accelerations <= 0.00\n",
            "|   |   |   |   |   |   |   |   |   |--- class: 1.0\n",
            "|   |   |   |   |   |   |   |   |--- accelerations >  0.00\n",
            "|   |   |   |   |   |   |   |   |   |--- histogram_width <= 59.50\n",
            "|   |   |   |   |   |   |   |   |   |   |--- class: 1.0\n",
            "|   |   |   |   |   |   |   |   |   |--- histogram_width >  59.50\n",
            "|   |   |   |   |   |   |   |   |   |   |--- class: 2.0\n",
            "|   |   |   |   |   |   |--- histogram_min >  125.50\n",
            "|   |   |   |   |   |   |   |--- percentage_of_time_with_abnormal_long_term_variability <= 4.50\n",
            "|   |   |   |   |   |   |   |   |--- class: 2.0\n",
            "|   |   |   |   |   |   |   |--- percentage_of_time_with_abnormal_long_term_variability >  4.50\n",
            "|   |   |   |   |   |   |   |   |--- accelerations <= 0.00\n",
            "|   |   |   |   |   |   |   |   |   |--- histogram_width <= 25.50\n",
            "|   |   |   |   |   |   |   |   |   |   |--- histogram_width <= 15.50\n",
            "|   |   |   |   |   |   |   |   |   |   |   |--- truncated branch of depth 2\n",
            "|   |   |   |   |   |   |   |   |   |   |--- histogram_width >  15.50\n",
            "|   |   |   |   |   |   |   |   |   |   |   |--- class: 2.0\n",
            "|   |   |   |   |   |   |   |   |   |--- histogram_width >  25.50\n",
            "|   |   |   |   |   |   |   |   |   |   |--- class: 1.0\n",
            "|   |   |   |   |   |   |   |   |--- accelerations >  0.00\n",
            "|   |   |   |   |   |   |   |   |   |--- class: 1.0\n",
            "|   |   |   |--- accelerations >  0.00\n",
            "|   |   |   |   |--- histogram_width <= 26.50\n",
            "|   |   |   |   |   |--- histogram_variance <= 2.50\n",
            "|   |   |   |   |   |   |--- class: 2.0\n",
            "|   |   |   |   |   |--- histogram_variance >  2.50\n",
            "|   |   |   |   |   |   |--- class: 1.0\n",
            "|   |   |   |   |--- histogram_width >  26.50\n",
            "|   |   |   |   |   |--- class: 1.0\n",
            "\n"
          ]
        }
      ]
    },
    {
      "cell_type": "markdown",
      "source": [
        "**CROSS_VALIDATION and HYPERPARAMETER TUNING**\n"
      ],
      "metadata": {
        "id": "aAp0HHvM8pBx"
      }
    },
    {
      "cell_type": "code",
      "source": [
        "from sklearn.model_selection import cross_val_score, cross_validate, StratifiedKFold, StratifiedShuffleSplit, RandomizedSearchCV"
      ],
      "metadata": {
        "id": "-Z76wSBwHiPV"
      },
      "execution_count": null,
      "outputs": []
    },
    {
      "cell_type": "code",
      "source": [
        "cv = StratifiedKFold(n_splits=5,random_state = 55,shuffle = True)\n",
        "model_cv = cross_validate(clf,X_train,y_train,cv=cv,verbose = 2,return_train_score = True)"
      ],
      "metadata": {
        "colab": {
          "base_uri": "https://localhost:8080/"
        },
        "id": "iyGCNeSpHt6R",
        "outputId": "47056fa5-d367-41db-ae87-17ec537798ad"
      },
      "execution_count": null,
      "outputs": [
        {
          "output_type": "stream",
          "name": "stdout",
          "text": [
            "[CV] END .................................................... total time=   0.0s\n",
            "[CV] END .................................................... total time=   0.0s\n",
            "[CV] END .................................................... total time=   0.0s\n",
            "[CV] END .................................................... total time=   0.0s\n",
            "[CV] END .................................................... total time=   0.0s\n"
          ]
        },
        {
          "output_type": "stream",
          "name": "stderr",
          "text": [
            "[Parallel(n_jobs=1)]: Using backend SequentialBackend with 1 concurrent workers.\n",
            "[Parallel(n_jobs=1)]: Done   1 out of   1 | elapsed:    0.1s remaining:    0.0s\n",
            "[Parallel(n_jobs=1)]: Done   5 out of   5 | elapsed:    0.2s finished\n"
          ]
        }
      ]
    },
    {
      "cell_type": "code",
      "source": [
        "for x in model_cv.keys():\n",
        "  model_cv[x] = model_cv[x].mean()"
      ],
      "metadata": {
        "id": "L-1JwFZfHyEL"
      },
      "execution_count": null,
      "outputs": []
    },
    {
      "cell_type": "code",
      "source": [
        "for x in model_cv.keys():\n",
        "  print(x, \" : \", model_cv[x])"
      ],
      "metadata": {
        "colab": {
          "base_uri": "https://localhost:8080/"
        },
        "id": "L7monqCMJJes",
        "outputId": "1334af26-a9cf-4b38-a3b6-1cec8963eed5"
      },
      "execution_count": null,
      "outputs": [
        {
          "output_type": "stream",
          "name": "stdout",
          "text": [
            "fit_time  :  0.020966339111328124\n",
            "score_time  :  0.003781700134277344\n",
            "test_score  :  0.9199530516431926\n",
            "train_score  :  1.0\n"
          ]
        }
      ]
    },
    {
      "cell_type": "code",
      "source": [
        "param_dist = {\"max_depth\": [3,4,5,6,7,8],\n",
        "              \"max_features\": [i for i in range(1,10)],\n",
        "              \"min_samples_leaf\": [i for i in range(1,10)],\n",
        "              \"criterion\": [\"gini\", \"entropy\"]}"
      ],
      "metadata": {
        "id": "ZwpKf-XtJi8d"
      },
      "execution_count": null,
      "outputs": []
    },
    {
      "cell_type": "code",
      "source": [
        "tree_cv = RandomizedSearchCV(clf, param_dist, cv=5,n_iter = 10)"
      ],
      "metadata": {
        "id": "SCBnolrcKIYH"
      },
      "execution_count": null,
      "outputs": []
    },
    {
      "cell_type": "code",
      "source": [
        "tree_cv.fit(X_train,y_train)\n",
        "\n",
        "# Print the tuned parameters and score\n",
        "print(\"Tuned Decision Tree Parameters: {}\".format(tree_cv.best_params_))"
      ],
      "metadata": {
        "colab": {
          "base_uri": "https://localhost:8080/"
        },
        "id": "fCJzNDVSKPlk",
        "outputId": "266a1ab2-b3a0-41cf-91ec-407063581bee"
      },
      "execution_count": null,
      "outputs": [
        {
          "output_type": "stream",
          "name": "stdout",
          "text": [
            "Tuned Decision Tree Parameters: {'min_samples_leaf': 1, 'max_features': 7, 'max_depth': 8, 'criterion': 'entropy'}\n"
          ]
        }
      ]
    },
    {
      "cell_type": "code",
      "source": [
        "print(accuracy_score(y_test,tree_cv.predict(X_test)))"
      ],
      "metadata": {
        "colab": {
          "base_uri": "https://localhost:8080/"
        },
        "id": "M_4X5NSVKWzC",
        "outputId": "5b84c300-eb7b-4d2f-8b64-ccaac4ca7aa8"
      },
      "execution_count": null,
      "outputs": [
        {
          "output_type": "stream",
          "name": "stdout",
          "text": [
            "0.9216524216524217\n"
          ]
        }
      ]
    },
    {
      "cell_type": "code",
      "source": [],
      "metadata": {
        "id": "fHiA3LsxERlH"
      },
      "execution_count": null,
      "outputs": []
    }
  ]
}