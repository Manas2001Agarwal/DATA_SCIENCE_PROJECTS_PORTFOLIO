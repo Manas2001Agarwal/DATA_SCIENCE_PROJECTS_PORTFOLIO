{
  "nbformat": 4,
  "nbformat_minor": 0,
  "metadata": {
    "colab": {
      "provenance": []
    },
    "kernelspec": {
      "name": "python3",
      "display_name": "Python 3"
    },
    "language_info": {
      "name": "python"
    }
  },
  "cells": [
    {
      "cell_type": "code",
      "execution_count": null,
      "metadata": {
        "id": "3xTJEa68TtEf"
      },
      "outputs": [],
      "source": [
        "import pandas as pd\n",
        "import seaborn as sns\n",
        "import numpy as np\n",
        "import scipy.stats as stats"
      ]
    },
    {
      "cell_type": "markdown",
      "source": [
        "## One way Annova Test"
      ],
      "metadata": {
        "id": "1YeTzEvINjVj"
      }
    },
    {
      "cell_type": "code",
      "source": [
        "data = sns.load_dataset(\"iris\")"
      ],
      "metadata": {
        "id": "7PEe5TPMT80b"
      },
      "execution_count": null,
      "outputs": []
    },
    {
      "cell_type": "code",
      "source": [
        "data"
      ],
      "metadata": {
        "colab": {
          "base_uri": "https://localhost:8080/",
          "height": 419
        },
        "id": "0PZzknLsUFuI",
        "outputId": "4769b4e3-977b-4c58-ee35-0bbacfda4968"
      },
      "execution_count": null,
      "outputs": [
        {
          "output_type": "execute_result",
          "data": {
            "text/plain": [
              "     sepal_length  sepal_width  petal_length  petal_width    species\n",
              "0             5.1          3.5           1.4          0.2     setosa\n",
              "1             4.9          3.0           1.4          0.2     setosa\n",
              "2             4.7          3.2           1.3          0.2     setosa\n",
              "3             4.6          3.1           1.5          0.2     setosa\n",
              "4             5.0          3.6           1.4          0.2     setosa\n",
              "..            ...          ...           ...          ...        ...\n",
              "145           6.7          3.0           5.2          2.3  virginica\n",
              "146           6.3          2.5           5.0          1.9  virginica\n",
              "147           6.5          3.0           5.2          2.0  virginica\n",
              "148           6.2          3.4           5.4          2.3  virginica\n",
              "149           5.9          3.0           5.1          1.8  virginica\n",
              "\n",
              "[150 rows x 5 columns]"
            ],
            "text/html": [
              "\n",
              "  <div id=\"df-56d4d47c-de99-4e2e-96f2-98ec1b461bc3\">\n",
              "    <div class=\"colab-df-container\">\n",
              "      <div>\n",
              "<style scoped>\n",
              "    .dataframe tbody tr th:only-of-type {\n",
              "        vertical-align: middle;\n",
              "    }\n",
              "\n",
              "    .dataframe tbody tr th {\n",
              "        vertical-align: top;\n",
              "    }\n",
              "\n",
              "    .dataframe thead th {\n",
              "        text-align: right;\n",
              "    }\n",
              "</style>\n",
              "<table border=\"1\" class=\"dataframe\">\n",
              "  <thead>\n",
              "    <tr style=\"text-align: right;\">\n",
              "      <th></th>\n",
              "      <th>sepal_length</th>\n",
              "      <th>sepal_width</th>\n",
              "      <th>petal_length</th>\n",
              "      <th>petal_width</th>\n",
              "      <th>species</th>\n",
              "    </tr>\n",
              "  </thead>\n",
              "  <tbody>\n",
              "    <tr>\n",
              "      <th>0</th>\n",
              "      <td>5.1</td>\n",
              "      <td>3.5</td>\n",
              "      <td>1.4</td>\n",
              "      <td>0.2</td>\n",
              "      <td>setosa</td>\n",
              "    </tr>\n",
              "    <tr>\n",
              "      <th>1</th>\n",
              "      <td>4.9</td>\n",
              "      <td>3.0</td>\n",
              "      <td>1.4</td>\n",
              "      <td>0.2</td>\n",
              "      <td>setosa</td>\n",
              "    </tr>\n",
              "    <tr>\n",
              "      <th>2</th>\n",
              "      <td>4.7</td>\n",
              "      <td>3.2</td>\n",
              "      <td>1.3</td>\n",
              "      <td>0.2</td>\n",
              "      <td>setosa</td>\n",
              "    </tr>\n",
              "    <tr>\n",
              "      <th>3</th>\n",
              "      <td>4.6</td>\n",
              "      <td>3.1</td>\n",
              "      <td>1.5</td>\n",
              "      <td>0.2</td>\n",
              "      <td>setosa</td>\n",
              "    </tr>\n",
              "    <tr>\n",
              "      <th>4</th>\n",
              "      <td>5.0</td>\n",
              "      <td>3.6</td>\n",
              "      <td>1.4</td>\n",
              "      <td>0.2</td>\n",
              "      <td>setosa</td>\n",
              "    </tr>\n",
              "    <tr>\n",
              "      <th>...</th>\n",
              "      <td>...</td>\n",
              "      <td>...</td>\n",
              "      <td>...</td>\n",
              "      <td>...</td>\n",
              "      <td>...</td>\n",
              "    </tr>\n",
              "    <tr>\n",
              "      <th>145</th>\n",
              "      <td>6.7</td>\n",
              "      <td>3.0</td>\n",
              "      <td>5.2</td>\n",
              "      <td>2.3</td>\n",
              "      <td>virginica</td>\n",
              "    </tr>\n",
              "    <tr>\n",
              "      <th>146</th>\n",
              "      <td>6.3</td>\n",
              "      <td>2.5</td>\n",
              "      <td>5.0</td>\n",
              "      <td>1.9</td>\n",
              "      <td>virginica</td>\n",
              "    </tr>\n",
              "    <tr>\n",
              "      <th>147</th>\n",
              "      <td>6.5</td>\n",
              "      <td>3.0</td>\n",
              "      <td>5.2</td>\n",
              "      <td>2.0</td>\n",
              "      <td>virginica</td>\n",
              "    </tr>\n",
              "    <tr>\n",
              "      <th>148</th>\n",
              "      <td>6.2</td>\n",
              "      <td>3.4</td>\n",
              "      <td>5.4</td>\n",
              "      <td>2.3</td>\n",
              "      <td>virginica</td>\n",
              "    </tr>\n",
              "    <tr>\n",
              "      <th>149</th>\n",
              "      <td>5.9</td>\n",
              "      <td>3.0</td>\n",
              "      <td>5.1</td>\n",
              "      <td>1.8</td>\n",
              "      <td>virginica</td>\n",
              "    </tr>\n",
              "  </tbody>\n",
              "</table>\n",
              "<p>150 rows × 5 columns</p>\n",
              "</div>\n",
              "      <button class=\"colab-df-convert\" onclick=\"convertToInteractive('df-56d4d47c-de99-4e2e-96f2-98ec1b461bc3')\"\n",
              "              title=\"Convert this dataframe to an interactive table.\"\n",
              "              style=\"display:none;\">\n",
              "        \n",
              "  <svg xmlns=\"http://www.w3.org/2000/svg\" height=\"24px\"viewBox=\"0 0 24 24\"\n",
              "       width=\"24px\">\n",
              "    <path d=\"M0 0h24v24H0V0z\" fill=\"none\"/>\n",
              "    <path d=\"M18.56 5.44l.94 2.06.94-2.06 2.06-.94-2.06-.94-.94-2.06-.94 2.06-2.06.94zm-11 1L8.5 8.5l.94-2.06 2.06-.94-2.06-.94L8.5 2.5l-.94 2.06-2.06.94zm10 10l.94 2.06.94-2.06 2.06-.94-2.06-.94-.94-2.06-.94 2.06-2.06.94z\"/><path d=\"M17.41 7.96l-1.37-1.37c-.4-.4-.92-.59-1.43-.59-.52 0-1.04.2-1.43.59L10.3 9.45l-7.72 7.72c-.78.78-.78 2.05 0 2.83L4 21.41c.39.39.9.59 1.41.59.51 0 1.02-.2 1.41-.59l7.78-7.78 2.81-2.81c.8-.78.8-2.07 0-2.86zM5.41 20L4 18.59l7.72-7.72 1.47 1.35L5.41 20z\"/>\n",
              "  </svg>\n",
              "      </button>\n",
              "      \n",
              "  <style>\n",
              "    .colab-df-container {\n",
              "      display:flex;\n",
              "      flex-wrap:wrap;\n",
              "      gap: 12px;\n",
              "    }\n",
              "\n",
              "    .colab-df-convert {\n",
              "      background-color: #E8F0FE;\n",
              "      border: none;\n",
              "      border-radius: 50%;\n",
              "      cursor: pointer;\n",
              "      display: none;\n",
              "      fill: #1967D2;\n",
              "      height: 32px;\n",
              "      padding: 0 0 0 0;\n",
              "      width: 32px;\n",
              "    }\n",
              "\n",
              "    .colab-df-convert:hover {\n",
              "      background-color: #E2EBFA;\n",
              "      box-shadow: 0px 1px 2px rgba(60, 64, 67, 0.3), 0px 1px 3px 1px rgba(60, 64, 67, 0.15);\n",
              "      fill: #174EA6;\n",
              "    }\n",
              "\n",
              "    [theme=dark] .colab-df-convert {\n",
              "      background-color: #3B4455;\n",
              "      fill: #D2E3FC;\n",
              "    }\n",
              "\n",
              "    [theme=dark] .colab-df-convert:hover {\n",
              "      background-color: #434B5C;\n",
              "      box-shadow: 0px 1px 3px 1px rgba(0, 0, 0, 0.15);\n",
              "      filter: drop-shadow(0px 1px 2px rgba(0, 0, 0, 0.3));\n",
              "      fill: #FFFFFF;\n",
              "    }\n",
              "  </style>\n",
              "\n",
              "      <script>\n",
              "        const buttonEl =\n",
              "          document.querySelector('#df-56d4d47c-de99-4e2e-96f2-98ec1b461bc3 button.colab-df-convert');\n",
              "        buttonEl.style.display =\n",
              "          google.colab.kernel.accessAllowed ? 'block' : 'none';\n",
              "\n",
              "        async function convertToInteractive(key) {\n",
              "          const element = document.querySelector('#df-56d4d47c-de99-4e2e-96f2-98ec1b461bc3');\n",
              "          const dataTable =\n",
              "            await google.colab.kernel.invokeFunction('convertToInteractive',\n",
              "                                                     [key], {});\n",
              "          if (!dataTable) return;\n",
              "\n",
              "          const docLinkHtml = 'Like what you see? Visit the ' +\n",
              "            '<a target=\"_blank\" href=https://colab.research.google.com/notebooks/data_table.ipynb>data table notebook</a>'\n",
              "            + ' to learn more about interactive tables.';\n",
              "          element.innerHTML = '';\n",
              "          dataTable['output_type'] = 'display_data';\n",
              "          await google.colab.output.renderOutput(dataTable, element);\n",
              "          const docLink = document.createElement('div');\n",
              "          docLink.innerHTML = docLinkHtml;\n",
              "          element.appendChild(docLink);\n",
              "        }\n",
              "      </script>\n",
              "    </div>\n",
              "  </div>\n",
              "  "
            ]
          },
          "metadata": {},
          "execution_count": 47
        }
      ]
    },
    {
      "cell_type": "code",
      "source": [
        "data.info()"
      ],
      "metadata": {
        "colab": {
          "base_uri": "https://localhost:8080/"
        },
        "id": "hLg-g1CNbP2l",
        "outputId": "ecadcfa0-6832-4fcb-d580-4e61bd0dc53e"
      },
      "execution_count": null,
      "outputs": [
        {
          "output_type": "stream",
          "name": "stdout",
          "text": [
            "<class 'pandas.core.frame.DataFrame'>\n",
            "RangeIndex: 150 entries, 0 to 149\n",
            "Data columns (total 5 columns):\n",
            " #   Column        Non-Null Count  Dtype  \n",
            "---  ------        --------------  -----  \n",
            " 0   sepal_length  150 non-null    float64\n",
            " 1   sepal_width   150 non-null    float64\n",
            " 2   petal_length  150 non-null    float64\n",
            " 3   petal_width   150 non-null    float64\n",
            " 4   species       150 non-null    object \n",
            "dtypes: float64(4), object(1)\n",
            "memory usage: 6.0+ KB\n"
          ]
        }
      ]
    },
    {
      "cell_type": "code",
      "source": [
        "data.isnull().sum()"
      ],
      "metadata": {
        "colab": {
          "base_uri": "https://localhost:8080/"
        },
        "id": "X4Py-o3JbSP_",
        "outputId": "a4c4cbd6-0a1d-459e-e61c-360be8706112"
      },
      "execution_count": null,
      "outputs": [
        {
          "output_type": "execute_result",
          "data": {
            "text/plain": [
              "sepal_length    0\n",
              "sepal_width     0\n",
              "petal_length    0\n",
              "petal_width     0\n",
              "species         0\n",
              "dtype: int64"
            ]
          },
          "metadata": {},
          "execution_count": 50
        }
      ]
    },
    {
      "cell_type": "code",
      "source": [
        "data['species'].unique()"
      ],
      "metadata": {
        "colab": {
          "base_uri": "https://localhost:8080/"
        },
        "id": "9g4ICbUFUGxW",
        "outputId": "0c69ce45-d942-4529-d6e4-ae67c5537786"
      },
      "execution_count": null,
      "outputs": [
        {
          "output_type": "execute_result",
          "data": {
            "text/plain": [
              "array(['setosa', 'versicolor', 'virginica'], dtype=object)"
            ]
          },
          "metadata": {},
          "execution_count": 48
        }
      ]
    },
    {
      "cell_type": "code",
      "source": [
        "data['species'].value_counts()"
      ],
      "metadata": {
        "colab": {
          "base_uri": "https://localhost:8080/"
        },
        "id": "UAJOOOXvbeTF",
        "outputId": "06d9126a-6dc7-487b-c637-83d83204f524"
      },
      "execution_count": null,
      "outputs": [
        {
          "output_type": "execute_result",
          "data": {
            "text/plain": [
              "setosa        50\n",
              "versicolor    50\n",
              "virginica     50\n",
              "Name: species, dtype: int64"
            ]
          },
          "metadata": {},
          "execution_count": 52
        }
      ]
    },
    {
      "cell_type": "code",
      "source": [
        "sns.countplot(x='species',data=data)"
      ],
      "metadata": {
        "colab": {
          "base_uri": "https://localhost:8080/",
          "height": 296
        },
        "id": "mXQOPKVvbXBL",
        "outputId": "7ee62ae8-1d10-4e21-e234-3a6a781f270b"
      },
      "execution_count": null,
      "outputs": [
        {
          "output_type": "execute_result",
          "data": {
            "text/plain": [
              "<matplotlib.axes._subplots.AxesSubplot at 0x7f9682f0ded0>"
            ]
          },
          "metadata": {},
          "execution_count": 51
        },
        {
          "output_type": "display_data",
          "data": {
            "text/plain": [
              "<Figure size 432x288 with 1 Axes>"
            ],
            "image/png": "[encoded data removed]"
          },
          "metadata": {
            "needs_background": "light"
          }
        }
      ]
    },
    {
      "cell_type": "markdown",
      "source": [
        "Here we see that we have three categories of flowers, Now we want to test whether petal width is same for all the three categories or they are different. \n",
        "\n",
        "For this we will use annova test"
      ],
      "metadata": {
        "id": "v7UK2uTMUPb_"
      }
    },
    {
      "cell_type": "markdown",
      "source": [
        "H0:- Petal width is same for all three different categories of flowers\n",
        "\n",
        "H1:- Petal width is different for all three different categories of flowers"
      ],
      "metadata": {
        "id": "jt4Bq9aSUmhG"
      }
    },
    {
      "cell_type": "code",
      "source": [
        "d_setosa = data[ data['species']=='setosa' ]['petal_width'].to_numpy()"
      ],
      "metadata": {
        "id": "lAdU1rAeUli2"
      },
      "execution_count": null,
      "outputs": []
    },
    {
      "cell_type": "code",
      "source": [
        "d_setosa"
      ],
      "metadata": {
        "colab": {
          "base_uri": "https://localhost:8080/"
        },
        "id": "mRypJmGuUPBb",
        "outputId": "beefdda7-a902-4d24-cd8b-3614c3ae8cca"
      },
      "execution_count": null,
      "outputs": [
        {
          "output_type": "execute_result",
          "data": {
            "text/plain": [
              "array([0.2, 0.2, 0.2, 0.2, 0.2, 0.4, 0.3, 0.2, 0.2, 0.1, 0.2, 0.2, 0.1,\n",
              "       0.1, 0.2, 0.4, 0.4, 0.3, 0.3, 0.3, 0.2, 0.4, 0.2, 0.5, 0.2, 0.2,\n",
              "       0.4, 0.2, 0.2, 0.2, 0.2, 0.4, 0.1, 0.2, 0.2, 0.2, 0.2, 0.1, 0.2,\n",
              "       0.2, 0.3, 0.3, 0.2, 0.6, 0.4, 0.3, 0.2, 0.2, 0.2, 0.2])"
            ]
          },
          "metadata": {},
          "execution_count": 54
        }
      ]
    },
    {
      "cell_type": "code",
      "source": [
        "d_versicolor = data[ data['species']=='versicolor' ]['petal_width'].to_numpy()"
      ],
      "metadata": {
        "id": "BFOuqh15UOK7"
      },
      "execution_count": null,
      "outputs": []
    },
    {
      "cell_type": "code",
      "source": [
        "d_versicolor"
      ],
      "metadata": {
        "colab": {
          "base_uri": "https://localhost:8080/"
        },
        "id": "t-duIXcDbqjB",
        "outputId": "f822a920-5a63-4052-d0b6-6a525c873c64"
      },
      "execution_count": null,
      "outputs": [
        {
          "output_type": "execute_result",
          "data": {
            "text/plain": [
              "array([1.4, 1.5, 1.5, 1.3, 1.5, 1.3, 1.6, 1. , 1.3, 1.4, 1. , 1.5, 1. ,\n",
              "       1.4, 1.3, 1.4, 1.5, 1. , 1.5, 1.1, 1.8, 1.3, 1.5, 1.2, 1.3, 1.4,\n",
              "       1.4, 1.7, 1.5, 1. , 1.1, 1. , 1.2, 1.6, 1.5, 1.6, 1.5, 1.3, 1.3,\n",
              "       1.3, 1.2, 1.4, 1.2, 1. , 1.3, 1.2, 1.3, 1.3, 1.1, 1.3])"
            ]
          },
          "metadata": {},
          "execution_count": 57
        }
      ]
    },
    {
      "cell_type": "code",
      "source": [
        "d_virginica = data[ data['species']=='virginica' ]['petal_width'].to_numpy()"
      ],
      "metadata": {
        "id": "2Lue6XBIVfVg"
      },
      "execution_count": null,
      "outputs": []
    },
    {
      "cell_type": "code",
      "source": [
        "d_virginica"
      ],
      "metadata": {
        "colab": {
          "base_uri": "https://localhost:8080/"
        },
        "id": "5gy7Uk-nbsEH",
        "outputId": "e6db57bf-cf90-4dad-aaf2-3aa9edf64b44"
      },
      "execution_count": null,
      "outputs": [
        {
          "output_type": "execute_result",
          "data": {
            "text/plain": [
              "array([2.5, 1.9, 2.1, 1.8, 2.2, 2.1, 1.7, 1.8, 1.8, 2.5, 2. , 1.9, 2.1,\n",
              "       2. , 2.4, 2.3, 1.8, 2.2, 2.3, 1.5, 2.3, 2. , 2. , 1.8, 2.1, 1.8,\n",
              "       1.8, 1.8, 2.1, 1.6, 1.9, 2. , 2.2, 1.5, 1.4, 2.3, 2.4, 1.8, 1.8,\n",
              "       2.1, 2.4, 2.3, 1.9, 2.3, 2.5, 2.3, 1.9, 2. , 2.3, 1.8])"
            ]
          },
          "metadata": {},
          "execution_count": 58
        }
      ]
    },
    {
      "cell_type": "code",
      "source": [
        "F, p_value = stats.f_oneway(d_setosa,d_versicolor,d_virginica)"
      ],
      "metadata": {
        "id": "HQ0y6htHVj_b"
      },
      "execution_count": null,
      "outputs": []
    },
    {
      "cell_type": "code",
      "source": [
        "p_value"
      ],
      "metadata": {
        "colab": {
          "base_uri": "https://localhost:8080/"
        },
        "id": "1vl_5jaRVvip",
        "outputId": "7d9b06b7-a952-4c74-9966-a539ef46fed5"
      },
      "execution_count": null,
      "outputs": [
        {
          "output_type": "execute_result",
          "data": {
            "text/plain": [
              "4.169445839443116e-85"
            ]
          },
          "metadata": {},
          "execution_count": 62
        }
      ]
    },
    {
      "cell_type": "code",
      "source": [
        "alpha = 0.05"
      ],
      "metadata": {
        "id": "2gwTWYHUb1po"
      },
      "execution_count": null,
      "outputs": []
    },
    {
      "cell_type": "code",
      "source": [
        "print(f' Test statistics : {F} \\n Alpha : {alpha} \\n P-value : {p_value}')\n",
        "if p_value > alpha:\n",
        "  print(' ')\n",
        "  print('Accept Null Hypothesis')\n",
        "else:\n",
        "  print(' ')\n",
        "  print('Reject Null Hypothesis')"
      ],
      "metadata": {
        "colab": {
          "base_uri": "https://localhost:8080/"
        },
        "id": "zQ7tmSRGbyST",
        "outputId": "59864e3c-0bdd-43a1-cc0a-04a7d1061255"
      },
      "execution_count": null,
      "outputs": [
        {
          "output_type": "stream",
          "name": "stdout",
          "text": [
            " Test statistics : 960.007146801809 \n",
            " Alpha : 0.05 \n",
            " P-value : 4.169445839443116e-85\n",
            " \n",
            "Reject Null Hypothesis\n"
          ]
        }
      ]
    },
    {
      "cell_type": "markdown",
      "source": [
        "Here we see that P_value is less than 0.05 (our significance level) so we reject our Null hypothesis and accept our Alternate hypothesis"
      ],
      "metadata": {
        "id": "3-kevozRVzpY"
      }
    },
    {
      "cell_type": "markdown",
      "source": [
        "This Proves that petal_width of flowers of different categories are different"
      ],
      "metadata": {
        "id": "BoDIAxenWMUh"
      }
    },
    {
      "cell_type": "markdown",
      "source": [
        "## Two sample t-Test"
      ],
      "metadata": {
        "id": "i1Do0jnONbfy"
      }
    },
    {
      "cell_type": "code",
      "source": [
        "import pandas as pd\n",
        "import seaborn as sns\n",
        "import numpy as np\n",
        "import scipy.stats as stats"
      ],
      "metadata": {
        "id": "SD2WKnYVNx-h"
      },
      "execution_count": null,
      "outputs": []
    },
    {
      "cell_type": "code",
      "source": [
        "dataset = pd.read_csv('/content/day.csv',index_col = 'instant')\n",
        "dataset"
      ],
      "metadata": {
        "colab": {
          "base_uri": "https://localhost:8080/",
          "height": 684
        },
        "id": "dLYjmuuUNfs6",
        "outputId": "47354f4a-9baa-4238-cec1-01b4cdea671b"
      },
      "execution_count": null,
      "outputs": [
        {
          "output_type": "execute_result",
          "data": {
            "text/plain": [
              "             dteday  season  yr  mnth  holiday  weekday  workingday  \\\n",
              "instant                                                               \n",
              "1        2011-01-01       1   0     1        0        6           0   \n",
              "2        2011-01-02       1   0     1        0        0           0   \n",
              "3        2011-01-03       1   0     1        0        1           1   \n",
              "4        2011-01-04       1   0     1        0        2           1   \n",
              "5        2011-01-05       1   0     1        0        3           1   \n",
              "...             ...     ...  ..   ...      ...      ...         ...   \n",
              "727      2012-12-27       1   1    12        0        4           1   \n",
              "728      2012-12-28       1   1    12        0        5           1   \n",
              "729      2012-12-29       1   1    12        0        6           0   \n",
              "730      2012-12-30       1   1    12        0        0           0   \n",
              "731      2012-12-31       1   1    12        0        1           1   \n",
              "\n",
              "         weathersit      temp     atemp       hum  windspeed  casual  \\\n",
              "instant                                                                \n",
              "1                 2  0.344167  0.363625  0.805833   0.160446     331   \n",
              "2                 2  0.363478  0.353739  0.696087   0.248539     131   \n",
              "3                 1  0.196364  0.189405  0.437273   0.248309     120   \n",
              "4                 1  0.200000  0.212122  0.590435   0.160296     108   \n",
              "5                 1  0.226957  0.229270  0.436957   0.186900      82   \n",
              "...             ...       ...       ...       ...        ...     ...   \n",
              "727               2  0.254167  0.226642  0.652917   0.350133     247   \n",
              "728               2  0.253333  0.255046  0.590000   0.155471     644   \n",
              "729               2  0.253333  0.242400  0.752917   0.124383     159   \n",
              "730               1  0.255833  0.231700  0.483333   0.350754     364   \n",
              "731               2  0.215833  0.223487  0.577500   0.154846     439   \n",
              "\n",
              "         registered   cnt  \n",
              "instant                    \n",
              "1               654   985  \n",
              "2               670   801  \n",
              "3              1229  1349  \n",
              "4              1454  1562  \n",
              "5              1518  1600  \n",
              "...             ...   ...  \n",
              "727            1867  2114  \n",
              "728            2451  3095  \n",
              "729            1182  1341  \n",
              "730            1432  1796  \n",
              "731            2290  2729  \n",
              "\n",
              "[731 rows x 15 columns]"
            ],
            "text/html": [
              "\n",
              "  <div id=\"df-f05299b4-20e1-4312-b569-b21d1770faa0\">\n",
              "    <div class=\"colab-df-container\">\n",
              "      <div>\n",
              "<style scoped>\n",
              "    .dataframe tbody tr th:only-of-type {\n",
              "        vertical-align: middle;\n",
              "    }\n",
              "\n",
              "    .dataframe tbody tr th {\n",
              "        vertical-align: top;\n",
              "    }\n",
              "\n",
              "    .dataframe thead th {\n",
              "        text-align: right;\n",
              "    }\n",
              "</style>\n",
              "<table border=\"1\" class=\"dataframe\">\n",
              "  <thead>\n",
              "    <tr style=\"text-align: right;\">\n",
              "      <th></th>\n",
              "      <th>dteday</th>\n",
              "      <th>season</th>\n",
              "      <th>yr</th>\n",
              "      <th>mnth</th>\n",
              "      <th>holiday</th>\n",
              "      <th>weekday</th>\n",
              "      <th>workingday</th>\n",
              "      <th>weathersit</th>\n",
              "      <th>temp</th>\n",
              "      <th>atemp</th>\n",
              "      <th>hum</th>\n",
              "      <th>windspeed</th>\n",
              "      <th>casual</th>\n",
              "      <th>registered</th>\n",
              "      <th>cnt</th>\n",
              "    </tr>\n",
              "    <tr>\n",
              "      <th>instant</th>\n",
              "      <th></th>\n",
              "      <th></th>\n",
              "      <th></th>\n",
              "      <th></th>\n",
              "      <th></th>\n",
              "      <th></th>\n",
              "      <th></th>\n",
              "      <th></th>\n",
              "      <th></th>\n",
              "      <th></th>\n",
              "      <th></th>\n",
              "      <th></th>\n",
              "      <th></th>\n",
              "      <th></th>\n",
              "      <th></th>\n",
              "    </tr>\n",
              "  </thead>\n",
              "  <tbody>\n",
              "    <tr>\n",
              "      <th>1</th>\n",
              "      <td>2011-01-01</td>\n",
              "      <td>1</td>\n",
              "      <td>0</td>\n",
              "      <td>1</td>\n",
              "      <td>0</td>\n",
              "      <td>6</td>\n",
              "      <td>0</td>\n",
              "      <td>2</td>\n",
              "      <td>0.344167</td>\n",
              "      <td>0.363625</td>\n",
              "      <td>0.805833</td>\n",
              "      <td>0.160446</td>\n",
              "      <td>331</td>\n",
              "      <td>654</td>\n",
              "      <td>985</td>\n",
              "    </tr>\n",
              "    <tr>\n",
              "      <th>2</th>\n",
              "      <td>2011-01-02</td>\n",
              "      <td>1</td>\n",
              "      <td>0</td>\n",
              "      <td>1</td>\n",
              "      <td>0</td>\n",
              "      <td>0</td>\n",
              "      <td>0</td>\n",
              "      <td>2</td>\n",
              "      <td>0.363478</td>\n",
              "      <td>0.353739</td>\n",
              "      <td>0.696087</td>\n",
              "      <td>0.248539</td>\n",
              "      <td>131</td>\n",
              "      <td>670</td>\n",
              "      <td>801</td>\n",
              "    </tr>\n",
              "    <tr>\n",
              "      <th>3</th>\n",
              "      <td>2011-01-03</td>\n",
              "      <td>1</td>\n",
              "      <td>0</td>\n",
              "      <td>1</td>\n",
              "      <td>0</td>\n",
              "      <td>1</td>\n",
              "      <td>1</td>\n",
              "      <td>1</td>\n",
              "      <td>0.196364</td>\n",
              "      <td>0.189405</td>\n",
              "      <td>0.437273</td>\n",
              "      <td>0.248309</td>\n",
              "      <td>120</td>\n",
              "      <td>1229</td>\n",
              "      <td>1349</td>\n",
              "    </tr>\n",
              "    <tr>\n",
              "      <th>4</th>\n",
              "      <td>2011-01-04</td>\n",
              "      <td>1</td>\n",
              "      <td>0</td>\n",
              "      <td>1</td>\n",
              "      <td>0</td>\n",
              "      <td>2</td>\n",
              "      <td>1</td>\n",
              "      <td>1</td>\n",
              "      <td>0.200000</td>\n",
              "      <td>0.212122</td>\n",
              "      <td>0.590435</td>\n",
              "      <td>0.160296</td>\n",
              "      <td>108</td>\n",
              "      <td>1454</td>\n",
              "      <td>1562</td>\n",
              "    </tr>\n",
              "    <tr>\n",
              "      <th>5</th>\n",
              "      <td>2011-01-05</td>\n",
              "      <td>1</td>\n",
              "      <td>0</td>\n",
              "      <td>1</td>\n",
              "      <td>0</td>\n",
              "      <td>3</td>\n",
              "      <td>1</td>\n",
              "      <td>1</td>\n",
              "      <td>0.226957</td>\n",
              "      <td>0.229270</td>\n",
              "      <td>0.436957</td>\n",
              "      <td>0.186900</td>\n",
              "      <td>82</td>\n",
              "      <td>1518</td>\n",
              "      <td>1600</td>\n",
              "    </tr>\n",
              "    <tr>\n",
              "      <th>...</th>\n",
              "      <td>...</td>\n",
              "      <td>...</td>\n",
              "      <td>...</td>\n",
              "      <td>...</td>\n",
              "      <td>...</td>\n",
              "      <td>...</td>\n",
              "      <td>...</td>\n",
              "      <td>...</td>\n",
              "      <td>...</td>\n",
              "      <td>...</td>\n",
              "      <td>...</td>\n",
              "      <td>...</td>\n",
              "      <td>...</td>\n",
              "      <td>...</td>\n",
              "      <td>...</td>\n",
              "    </tr>\n",
              "    <tr>\n",
              "      <th>727</th>\n",
              "      <td>2012-12-27</td>\n",
              "      <td>1</td>\n",
              "      <td>1</td>\n",
              "      <td>12</td>\n",
              "      <td>0</td>\n",
              "      <td>4</td>\n",
              "      <td>1</td>\n",
              "      <td>2</td>\n",
              "      <td>0.254167</td>\n",
              "      <td>0.226642</td>\n",
              "      <td>0.652917</td>\n",
              "      <td>0.350133</td>\n",
              "      <td>247</td>\n",
              "      <td>1867</td>\n",
              "      <td>2114</td>\n",
              "    </tr>\n",
              "    <tr>\n",
              "      <th>728</th>\n",
              "      <td>2012-12-28</td>\n",
              "      <td>1</td>\n",
              "      <td>1</td>\n",
              "      <td>12</td>\n",
              "      <td>0</td>\n",
              "      <td>5</td>\n",
              "      <td>1</td>\n",
              "      <td>2</td>\n",
              "      <td>0.253333</td>\n",
              "      <td>0.255046</td>\n",
              "      <td>0.590000</td>\n",
              "      <td>0.155471</td>\n",
              "      <td>644</td>\n",
              "      <td>2451</td>\n",
              "      <td>3095</td>\n",
              "    </tr>\n",
              "    <tr>\n",
              "      <th>729</th>\n",
              "      <td>2012-12-29</td>\n",
              "      <td>1</td>\n",
              "      <td>1</td>\n",
              "      <td>12</td>\n",
              "      <td>0</td>\n",
              "      <td>6</td>\n",
              "      <td>0</td>\n",
              "      <td>2</td>\n",
              "      <td>0.253333</td>\n",
              "      <td>0.242400</td>\n",
              "      <td>0.752917</td>\n",
              "      <td>0.124383</td>\n",
              "      <td>159</td>\n",
              "      <td>1182</td>\n",
              "      <td>1341</td>\n",
              "    </tr>\n",
              "    <tr>\n",
              "      <th>730</th>\n",
              "      <td>2012-12-30</td>\n",
              "      <td>1</td>\n",
              "      <td>1</td>\n",
              "      <td>12</td>\n",
              "      <td>0</td>\n",
              "      <td>0</td>\n",
              "      <td>0</td>\n",
              "      <td>1</td>\n",
              "      <td>0.255833</td>\n",
              "      <td>0.231700</td>\n",
              "      <td>0.483333</td>\n",
              "      <td>0.350754</td>\n",
              "      <td>364</td>\n",
              "      <td>1432</td>\n",
              "      <td>1796</td>\n",
              "    </tr>\n",
              "    <tr>\n",
              "      <th>731</th>\n",
              "      <td>2012-12-31</td>\n",
              "      <td>1</td>\n",
              "      <td>1</td>\n",
              "      <td>12</td>\n",
              "      <td>0</td>\n",
              "      <td>1</td>\n",
              "      <td>1</td>\n",
              "      <td>2</td>\n",
              "      <td>0.215833</td>\n",
              "      <td>0.223487</td>\n",
              "      <td>0.577500</td>\n",
              "      <td>0.154846</td>\n",
              "      <td>439</td>\n",
              "      <td>2290</td>\n",
              "      <td>2729</td>\n",
              "    </tr>\n",
              "  </tbody>\n",
              "</table>\n",
              "<p>731 rows × 15 columns</p>\n",
              "</div>\n",
              "      <button class=\"colab-df-convert\" onclick=\"convertToInteractive('df-f05299b4-20e1-4312-b569-b21d1770faa0')\"\n",
              "              title=\"Convert this dataframe to an interactive table.\"\n",
              "              style=\"display:none;\">\n",
              "        \n",
              "  <svg xmlns=\"http://www.w3.org/2000/svg\" height=\"24px\"viewBox=\"0 0 24 24\"\n",
              "       width=\"24px\">\n",
              "    <path d=\"M0 0h24v24H0V0z\" fill=\"none\"/>\n",
              "    <path d=\"M18.56 5.44l.94 2.06.94-2.06 2.06-.94-2.06-.94-.94-2.06-.94 2.06-2.06.94zm-11 1L8.5 8.5l.94-2.06 2.06-.94-2.06-.94L8.5 2.5l-.94 2.06-2.06.94zm10 10l.94 2.06.94-2.06 2.06-.94-2.06-.94-.94-2.06-.94 2.06-2.06.94z\"/><path d=\"M17.41 7.96l-1.37-1.37c-.4-.4-.92-.59-1.43-.59-.52 0-1.04.2-1.43.59L10.3 9.45l-7.72 7.72c-.78.78-.78 2.05 0 2.83L4 21.41c.39.39.9.59 1.41.59.51 0 1.02-.2 1.41-.59l7.78-7.78 2.81-2.81c.8-.78.8-2.07 0-2.86zM5.41 20L4 18.59l7.72-7.72 1.47 1.35L5.41 20z\"/>\n",
              "  </svg>\n",
              "      </button>\n",
              "      \n",
              "  <style>\n",
              "    .colab-df-container {\n",
              "      display:flex;\n",
              "      flex-wrap:wrap;\n",
              "      gap: 12px;\n",
              "    }\n",
              "\n",
              "    .colab-df-convert {\n",
              "      background-color: #E8F0FE;\n",
              "      border: none;\n",
              "      border-radius: 50%;\n",
              "      cursor: pointer;\n",
              "      display: none;\n",
              "      fill: #1967D2;\n",
              "      height: 32px;\n",
              "      padding: 0 0 0 0;\n",
              "      width: 32px;\n",
              "    }\n",
              "\n",
              "    .colab-df-convert:hover {\n",
              "      background-color: #E2EBFA;\n",
              "      box-shadow: 0px 1px 2px rgba(60, 64, 67, 0.3), 0px 1px 3px 1px rgba(60, 64, 67, 0.15);\n",
              "      fill: #174EA6;\n",
              "    }\n",
              "\n",
              "    [theme=dark] .colab-df-convert {\n",
              "      background-color: #3B4455;\n",
              "      fill: #D2E3FC;\n",
              "    }\n",
              "\n",
              "    [theme=dark] .colab-df-convert:hover {\n",
              "      background-color: #434B5C;\n",
              "      box-shadow: 0px 1px 3px 1px rgba(0, 0, 0, 0.15);\n",
              "      filter: drop-shadow(0px 1px 2px rgba(0, 0, 0, 0.3));\n",
              "      fill: #FFFFFF;\n",
              "    }\n",
              "  </style>\n",
              "\n",
              "      <script>\n",
              "        const buttonEl =\n",
              "          document.querySelector('#df-f05299b4-20e1-4312-b569-b21d1770faa0 button.colab-df-convert');\n",
              "        buttonEl.style.display =\n",
              "          google.colab.kernel.accessAllowed ? 'block' : 'none';\n",
              "\n",
              "        async function convertToInteractive(key) {\n",
              "          const element = document.querySelector('#df-f05299b4-20e1-4312-b569-b21d1770faa0');\n",
              "          const dataTable =\n",
              "            await google.colab.kernel.invokeFunction('convertToInteractive',\n",
              "                                                     [key], {});\n",
              "          if (!dataTable) return;\n",
              "\n",
              "          const docLinkHtml = 'Like what you see? Visit the ' +\n",
              "            '<a target=\"_blank\" href=https://colab.research.google.com/notebooks/data_table.ipynb>data table notebook</a>'\n",
              "            + ' to learn more about interactive tables.';\n",
              "          element.innerHTML = '';\n",
              "          dataTable['output_type'] = 'display_data';\n",
              "          await google.colab.output.renderOutput(dataTable, element);\n",
              "          const docLink = document.createElement('div');\n",
              "          docLink.innerHTML = docLinkHtml;\n",
              "          element.appendChild(docLink);\n",
              "        }\n",
              "      </script>\n",
              "    </div>\n",
              "  </div>\n",
              "  "
            ]
          },
          "metadata": {},
          "execution_count": 12
        }
      ]
    },
    {
      "cell_type": "code",
      "source": [
        "dataset.info()"
      ],
      "metadata": {
        "colab": {
          "base_uri": "https://localhost:8080/"
        },
        "id": "bIhJhLv7N2_1",
        "outputId": "4ebb182d-c933-4a27-93de-0b4f8b8209d2"
      },
      "execution_count": null,
      "outputs": [
        {
          "output_type": "stream",
          "name": "stdout",
          "text": [
            "<class 'pandas.core.frame.DataFrame'>\n",
            "Int64Index: 731 entries, 1 to 731\n",
            "Data columns (total 15 columns):\n",
            " #   Column      Non-Null Count  Dtype  \n",
            "---  ------      --------------  -----  \n",
            " 0   dteday      731 non-null    object \n",
            " 1   season      731 non-null    int64  \n",
            " 2   yr          731 non-null    int64  \n",
            " 3   mnth        731 non-null    int64  \n",
            " 4   holiday     731 non-null    int64  \n",
            " 5   weekday     731 non-null    int64  \n",
            " 6   workingday  731 non-null    int64  \n",
            " 7   weathersit  731 non-null    int64  \n",
            " 8   temp        731 non-null    float64\n",
            " 9   atemp       731 non-null    float64\n",
            " 10  hum         731 non-null    float64\n",
            " 11  windspeed   731 non-null    float64\n",
            " 12  casual      731 non-null    int64  \n",
            " 13  registered  731 non-null    int64  \n",
            " 14  cnt         731 non-null    int64  \n",
            "dtypes: float64(4), int64(10), object(1)\n",
            "memory usage: 91.4+ KB\n"
          ]
        }
      ]
    },
    {
      "cell_type": "markdown",
      "source": [
        "Here we see that all the values are integer or float except date (dteday) which is an object"
      ],
      "metadata": {
        "id": "dPC56xxPOfyk"
      }
    },
    {
      "cell_type": "code",
      "source": [
        "dataset.isnull().sum()"
      ],
      "metadata": {
        "colab": {
          "base_uri": "https://localhost:8080/"
        },
        "id": "YUMVwhLfOWp1",
        "outputId": "fb5ce050-e33e-48c7-8f7b-21228c50bf90"
      },
      "execution_count": null,
      "outputs": [
        {
          "output_type": "execute_result",
          "data": {
            "text/plain": [
              "dteday        0\n",
              "season        0\n",
              "yr            0\n",
              "mnth          0\n",
              "holiday       0\n",
              "weekday       0\n",
              "workingday    0\n",
              "weathersit    0\n",
              "temp          0\n",
              "atemp         0\n",
              "hum           0\n",
              "windspeed     0\n",
              "casual        0\n",
              "registered    0\n",
              "cnt           0\n",
              "dtype: int64"
            ]
          },
          "metadata": {},
          "execution_count": 14
        }
      ]
    },
    {
      "cell_type": "markdown",
      "source": [
        "We don't have any null values in this dataset"
      ],
      "metadata": {
        "id": "tME9vjRvPmC-"
      }
    },
    {
      "cell_type": "code",
      "source": [
        "import matplotlib.pyplot as plt\n",
        "plt.figure(figsize=(12,12))\n",
        "sns.heatmap(dataset.corr(),annot=True)"
      ],
      "metadata": {
        "colab": {
          "base_uri": "https://localhost:8080/",
          "height": 769
        },
        "id": "M080dZiIOZ6p",
        "outputId": "3f76b4f1-3b76-4833-da6e-961d35d1b2fd"
      },
      "execution_count": null,
      "outputs": [
        {
          "output_type": "execute_result",
          "data": {
            "text/plain": [
              "<matplotlib.axes._subplots.AxesSubplot at 0x7f9683f99750>"
            ]
          },
          "metadata": {},
          "execution_count": 15
        },
        {
          "output_type": "display_data",
          "data": {
            "text/plain": [
              "<Figure size 864x864 with 2 Axes>"
            ],
            "image/png": "[encoded data removed]"
          },
          "metadata": {
            "needs_background": "light"
          }
        }
      ]
    },
    {
      "cell_type": "markdown",
      "source": [
        "From above figure we can see that there is a high correlation between temp and atemp variable. \n",
        "\n",
        "Also season and month also have high correlation of about 83%. This suggest we can drop features like Month and atemp\n",
        "\n",
        "Also the date feature which is a object in our dataset needs to be parsed and convert into a integer type dataset..\n",
        "\n",
        "Our aim as of now is not do predictive analysis using Machine Leraning algorithm but rather we will bw doing Hypothesis testing on our dataset.\n",
        "\n",
        "So we will drop this feature also"
      ],
      "metadata": {
        "id": "jXrUI-64RmWu"
      }
    },
    {
      "cell_type": "code",
      "source": [
        "df = dataset.drop(columns = ['mnth','atemp','dteday'],axis=1)"
      ],
      "metadata": {
        "id": "Ol7HmfDNPzF3"
      },
      "execution_count": null,
      "outputs": []
    },
    {
      "cell_type": "code",
      "source": [
        "df"
      ],
      "metadata": {
        "colab": {
          "base_uri": "https://localhost:8080/",
          "height": 450
        },
        "id": "E3SgMO45TQXC",
        "outputId": "68ba7558-6843-4167-9839-70db0cf74cb6"
      },
      "execution_count": null,
      "outputs": [
        {
          "output_type": "execute_result",
          "data": {
            "text/plain": [
              "         season  yr  holiday  weekday  workingday  weathersit      temp  \\\n",
              "instant                                                                   \n",
              "1             1   0        0        6           0           2  0.344167   \n",
              "2             1   0        0        0           0           2  0.363478   \n",
              "3             1   0        0        1           1           1  0.196364   \n",
              "4             1   0        0        2           1           1  0.200000   \n",
              "5             1   0        0        3           1           1  0.226957   \n",
              "...         ...  ..      ...      ...         ...         ...       ...   \n",
              "727           1   1        0        4           1           2  0.254167   \n",
              "728           1   1        0        5           1           2  0.253333   \n",
              "729           1   1        0        6           0           2  0.253333   \n",
              "730           1   1        0        0           0           1  0.255833   \n",
              "731           1   1        0        1           1           2  0.215833   \n",
              "\n",
              "              hum  windspeed  casual  registered   cnt  \n",
              "instant                                                 \n",
              "1        0.805833   0.160446     331         654   985  \n",
              "2        0.696087   0.248539     131         670   801  \n",
              "3        0.437273   0.248309     120        1229  1349  \n",
              "4        0.590435   0.160296     108        1454  1562  \n",
              "5        0.436957   0.186900      82        1518  1600  \n",
              "...           ...        ...     ...         ...   ...  \n",
              "727      0.652917   0.350133     247        1867  2114  \n",
              "728      0.590000   0.155471     644        2451  3095  \n",
              "729      0.752917   0.124383     159        1182  1341  \n",
              "730      0.483333   0.350754     364        1432  1796  \n",
              "731      0.577500   0.154846     439        2290  2729  \n",
              "\n",
              "[731 rows x 12 columns]"
            ],
            "text/html": [
              "\n",
              "  <div id=\"df-8e7d02ae-6e90-4272-adf2-dfc09537dcff\">\n",
              "    <div class=\"colab-df-container\">\n",
              "      <div>\n",
              "<style scoped>\n",
              "    .dataframe tbody tr th:only-of-type {\n",
              "        vertical-align: middle;\n",
              "    }\n",
              "\n",
              "    .dataframe tbody tr th {\n",
              "        vertical-align: top;\n",
              "    }\n",
              "\n",
              "    .dataframe thead th {\n",
              "        text-align: right;\n",
              "    }\n",
              "</style>\n",
              "<table border=\"1\" class=\"dataframe\">\n",
              "  <thead>\n",
              "    <tr style=\"text-align: right;\">\n",
              "      <th></th>\n",
              "      <th>season</th>\n",
              "      <th>yr</th>\n",
              "      <th>holiday</th>\n",
              "      <th>weekday</th>\n",
              "      <th>workingday</th>\n",
              "      <th>weathersit</th>\n",
              "      <th>temp</th>\n",
              "      <th>hum</th>\n",
              "      <th>windspeed</th>\n",
              "      <th>casual</th>\n",
              "      <th>registered</th>\n",
              "      <th>cnt</th>\n",
              "    </tr>\n",
              "    <tr>\n",
              "      <th>instant</th>\n",
              "      <th></th>\n",
              "      <th></th>\n",
              "      <th></th>\n",
              "      <th></th>\n",
              "      <th></th>\n",
              "      <th></th>\n",
              "      <th></th>\n",
              "      <th></th>\n",
              "      <th></th>\n",
              "      <th></th>\n",
              "      <th></th>\n",
              "      <th></th>\n",
              "    </tr>\n",
              "  </thead>\n",
              "  <tbody>\n",
              "    <tr>\n",
              "      <th>1</th>\n",
              "      <td>1</td>\n",
              "      <td>0</td>\n",
              "      <td>0</td>\n",
              "      <td>6</td>\n",
              "      <td>0</td>\n",
              "      <td>2</td>\n",
              "      <td>0.344167</td>\n",
              "      <td>0.805833</td>\n",
              "      <td>0.160446</td>\n",
              "      <td>331</td>\n",
              "      <td>654</td>\n",
              "      <td>985</td>\n",
              "    </tr>\n",
              "    <tr>\n",
              "      <th>2</th>\n",
              "      <td>1</td>\n",
              "      <td>0</td>\n",
              "      <td>0</td>\n",
              "      <td>0</td>\n",
              "      <td>0</td>\n",
              "      <td>2</td>\n",
              "      <td>0.363478</td>\n",
              "      <td>0.696087</td>\n",
              "      <td>0.248539</td>\n",
              "      <td>131</td>\n",
              "      <td>670</td>\n",
              "      <td>801</td>\n",
              "    </tr>\n",
              "    <tr>\n",
              "      <th>3</th>\n",
              "      <td>1</td>\n",
              "      <td>0</td>\n",
              "      <td>0</td>\n",
              "      <td>1</td>\n",
              "      <td>1</td>\n",
              "      <td>1</td>\n",
              "      <td>0.196364</td>\n",
              "      <td>0.437273</td>\n",
              "      <td>0.248309</td>\n",
              "      <td>120</td>\n",
              "      <td>1229</td>\n",
              "      <td>1349</td>\n",
              "    </tr>\n",
              "    <tr>\n",
              "      <th>4</th>\n",
              "      <td>1</td>\n",
              "      <td>0</td>\n",
              "      <td>0</td>\n",
              "      <td>2</td>\n",
              "      <td>1</td>\n",
              "      <td>1</td>\n",
              "      <td>0.200000</td>\n",
              "      <td>0.590435</td>\n",
              "      <td>0.160296</td>\n",
              "      <td>108</td>\n",
              "      <td>1454</td>\n",
              "      <td>1562</td>\n",
              "    </tr>\n",
              "    <tr>\n",
              "      <th>5</th>\n",
              "      <td>1</td>\n",
              "      <td>0</td>\n",
              "      <td>0</td>\n",
              "      <td>3</td>\n",
              "      <td>1</td>\n",
              "      <td>1</td>\n",
              "      <td>0.226957</td>\n",
              "      <td>0.436957</td>\n",
              "      <td>0.186900</td>\n",
              "      <td>82</td>\n",
              "      <td>1518</td>\n",
              "      <td>1600</td>\n",
              "    </tr>\n",
              "    <tr>\n",
              "      <th>...</th>\n",
              "      <td>...</td>\n",
              "      <td>...</td>\n",
              "      <td>...</td>\n",
              "      <td>...</td>\n",
              "      <td>...</td>\n",
              "      <td>...</td>\n",
              "      <td>...</td>\n",
              "      <td>...</td>\n",
              "      <td>...</td>\n",
              "      <td>...</td>\n",
              "      <td>...</td>\n",
              "      <td>...</td>\n",
              "    </tr>\n",
              "    <tr>\n",
              "      <th>727</th>\n",
              "      <td>1</td>\n",
              "      <td>1</td>\n",
              "      <td>0</td>\n",
              "      <td>4</td>\n",
              "      <td>1</td>\n",
              "      <td>2</td>\n",
              "      <td>0.254167</td>\n",
              "      <td>0.652917</td>\n",
              "      <td>0.350133</td>\n",
              "      <td>247</td>\n",
              "      <td>1867</td>\n",
              "      <td>2114</td>\n",
              "    </tr>\n",
              "    <tr>\n",
              "      <th>728</th>\n",
              "      <td>1</td>\n",
              "      <td>1</td>\n",
              "      <td>0</td>\n",
              "      <td>5</td>\n",
              "      <td>1</td>\n",
              "      <td>2</td>\n",
              "      <td>0.253333</td>\n",
              "      <td>0.590000</td>\n",
              "      <td>0.155471</td>\n",
              "      <td>644</td>\n",
              "      <td>2451</td>\n",
              "      <td>3095</td>\n",
              "    </tr>\n",
              "    <tr>\n",
              "      <th>729</th>\n",
              "      <td>1</td>\n",
              "      <td>1</td>\n",
              "      <td>0</td>\n",
              "      <td>6</td>\n",
              "      <td>0</td>\n",
              "      <td>2</td>\n",
              "      <td>0.253333</td>\n",
              "      <td>0.752917</td>\n",
              "      <td>0.124383</td>\n",
              "      <td>159</td>\n",
              "      <td>1182</td>\n",
              "      <td>1341</td>\n",
              "    </tr>\n",
              "    <tr>\n",
              "      <th>730</th>\n",
              "      <td>1</td>\n",
              "      <td>1</td>\n",
              "      <td>0</td>\n",
              "      <td>0</td>\n",
              "      <td>0</td>\n",
              "      <td>1</td>\n",
              "      <td>0.255833</td>\n",
              "      <td>0.483333</td>\n",
              "      <td>0.350754</td>\n",
              "      <td>364</td>\n",
              "      <td>1432</td>\n",
              "      <td>1796</td>\n",
              "    </tr>\n",
              "    <tr>\n",
              "      <th>731</th>\n",
              "      <td>1</td>\n",
              "      <td>1</td>\n",
              "      <td>0</td>\n",
              "      <td>1</td>\n",
              "      <td>1</td>\n",
              "      <td>2</td>\n",
              "      <td>0.215833</td>\n",
              "      <td>0.577500</td>\n",
              "      <td>0.154846</td>\n",
              "      <td>439</td>\n",
              "      <td>2290</td>\n",
              "      <td>2729</td>\n",
              "    </tr>\n",
              "  </tbody>\n",
              "</table>\n",
              "<p>731 rows × 12 columns</p>\n",
              "</div>\n",
              "      <button class=\"colab-df-convert\" onclick=\"convertToInteractive('df-8e7d02ae-6e90-4272-adf2-dfc09537dcff')\"\n",
              "              title=\"Convert this dataframe to an interactive table.\"\n",
              "              style=\"display:none;\">\n",
              "        \n",
              "  <svg xmlns=\"http://www.w3.org/2000/svg\" height=\"24px\"viewBox=\"0 0 24 24\"\n",
              "       width=\"24px\">\n",
              "    <path d=\"M0 0h24v24H0V0z\" fill=\"none\"/>\n",
              "    <path d=\"M18.56 5.44l.94 2.06.94-2.06 2.06-.94-2.06-.94-.94-2.06-.94 2.06-2.06.94zm-11 1L8.5 8.5l.94-2.06 2.06-.94-2.06-.94L8.5 2.5l-.94 2.06-2.06.94zm10 10l.94 2.06.94-2.06 2.06-.94-2.06-.94-.94-2.06-.94 2.06-2.06.94z\"/><path d=\"M17.41 7.96l-1.37-1.37c-.4-.4-.92-.59-1.43-.59-.52 0-1.04.2-1.43.59L10.3 9.45l-7.72 7.72c-.78.78-.78 2.05 0 2.83L4 21.41c.39.39.9.59 1.41.59.51 0 1.02-.2 1.41-.59l7.78-7.78 2.81-2.81c.8-.78.8-2.07 0-2.86zM5.41 20L4 18.59l7.72-7.72 1.47 1.35L5.41 20z\"/>\n",
              "  </svg>\n",
              "      </button>\n",
              "      \n",
              "  <style>\n",
              "    .colab-df-container {\n",
              "      display:flex;\n",
              "      flex-wrap:wrap;\n",
              "      gap: 12px;\n",
              "    }\n",
              "\n",
              "    .colab-df-convert {\n",
              "      background-color: #E8F0FE;\n",
              "      border: none;\n",
              "      border-radius: 50%;\n",
              "      cursor: pointer;\n",
              "      display: none;\n",
              "      fill: #1967D2;\n",
              "      height: 32px;\n",
              "      padding: 0 0 0 0;\n",
              "      width: 32px;\n",
              "    }\n",
              "\n",
              "    .colab-df-convert:hover {\n",
              "      background-color: #E2EBFA;\n",
              "      box-shadow: 0px 1px 2px rgba(60, 64, 67, 0.3), 0px 1px 3px 1px rgba(60, 64, 67, 0.15);\n",
              "      fill: #174EA6;\n",
              "    }\n",
              "\n",
              "    [theme=dark] .colab-df-convert {\n",
              "      background-color: #3B4455;\n",
              "      fill: #D2E3FC;\n",
              "    }\n",
              "\n",
              "    [theme=dark] .colab-df-convert:hover {\n",
              "      background-color: #434B5C;\n",
              "      box-shadow: 0px 1px 3px 1px rgba(0, 0, 0, 0.15);\n",
              "      filter: drop-shadow(0px 1px 2px rgba(0, 0, 0, 0.3));\n",
              "      fill: #FFFFFF;\n",
              "    }\n",
              "  </style>\n",
              "\n",
              "      <script>\n",
              "        const buttonEl =\n",
              "          document.querySelector('#df-8e7d02ae-6e90-4272-adf2-dfc09537dcff button.colab-df-convert');\n",
              "        buttonEl.style.display =\n",
              "          google.colab.kernel.accessAllowed ? 'block' : 'none';\n",
              "\n",
              "        async function convertToInteractive(key) {\n",
              "          const element = document.querySelector('#df-8e7d02ae-6e90-4272-adf2-dfc09537dcff');\n",
              "          const dataTable =\n",
              "            await google.colab.kernel.invokeFunction('convertToInteractive',\n",
              "                                                     [key], {});\n",
              "          if (!dataTable) return;\n",
              "\n",
              "          const docLinkHtml = 'Like what you see? Visit the ' +\n",
              "            '<a target=\"_blank\" href=https://colab.research.google.com/notebooks/data_table.ipynb>data table notebook</a>'\n",
              "            + ' to learn more about interactive tables.';\n",
              "          element.innerHTML = '';\n",
              "          dataTable['output_type'] = 'display_data';\n",
              "          await google.colab.output.renderOutput(dataTable, element);\n",
              "          const docLink = document.createElement('div');\n",
              "          docLink.innerHTML = docLinkHtml;\n",
              "          element.appendChild(docLink);\n",
              "        }\n",
              "      </script>\n",
              "    </div>\n",
              "  </div>\n",
              "  "
            ]
          },
          "metadata": {},
          "execution_count": 19
        }
      ]
    },
    {
      "cell_type": "markdown",
      "source": [
        "Now we want to find ot that--- Is there any relationship between count of bicycle rented and workingday variable"
      ],
      "metadata": {
        "id": "I8J3Cl1OTcpP"
      }
    },
    {
      "cell_type": "markdown",
      "source": [
        "Our Null hypothesis is as follows \n",
        "\n",
        "H0:- Number of bicycles rented are same irrespective of working day\n",
        "\n",
        "While our Alternative Hypothesis suggests that \n",
        "\n",
        "H1:- Number of bicycle rented are different and depends whether it's a working day or not"
      ],
      "metadata": {
        "id": "LNtGhws1TxKC"
      }
    },
    {
      "cell_type": "code",
      "source": [
        "df['workingday'].value_counts()"
      ],
      "metadata": {
        "colab": {
          "base_uri": "https://localhost:8080/"
        },
        "id": "EZIKOO_zTZGz",
        "outputId": "92ccd153-5343-45bd-9bb7-045e0ac2c407"
      },
      "execution_count": null,
      "outputs": [
        {
          "output_type": "execute_result",
          "data": {
            "text/plain": [
              "1    500\n",
              "0    231\n",
              "Name: workingday, dtype: int64"
            ]
          },
          "metadata": {},
          "execution_count": 66
        }
      ]
    },
    {
      "cell_type": "markdown",
      "source": [
        "We need equal sample for both the classes (0 and ) to perform our two sample t - Test"
      ],
      "metadata": {
        "id": "LkK8_5sTU_mN"
      }
    },
    {
      "cell_type": "code",
      "source": [
        "sample1 = df[df['workingday']==1].sample(n=231)['cnt']\n",
        "sample2 = df[df['workingday']==0]['cnt']"
      ],
      "metadata": {
        "id": "9_DaCaoqU7SY"
      },
      "execution_count": null,
      "outputs": []
    },
    {
      "cell_type": "code",
      "source": [
        "sample1 = sample1.to_numpy()\n",
        "sample1"
      ],
      "metadata": {
        "colab": {
          "base_uri": "https://localhost:8080/"
        },
        "id": "LEhmtCbjVloJ",
        "outputId": "e42b6b85-d690-43a4-b988-69618c897e94"
      },
      "execution_count": null,
      "outputs": [
        {
          "output_type": "execute_result",
          "data": {
            "text/plain": [
              "array([3598, 2115, 3982, 4401, 4708, 4109, 3613, 6073, 4189, 4332, 4576,\n",
              "       2209, 6772, 8362, 3777, 2660, 5102, 4539, 7001, 1927,  623, 2134,\n",
              "       1872, 2368, 3141, 3292, 6211, 4795, 5585, 3272, 4040, 7697, 3740,\n",
              "       5170, 4339, 6784, 4608, 6778, 7415, 4458, 6133, 3669, 7112, 1650,\n",
              "       5558, 2594, 5204, 4835, 1917, 1471, 8156, 3214, 5382, 5225, 4097,\n",
              "       7393, 3053, 5634, 5532, 5501, 1321, 5743, 4972, 6153, 5992,  705,\n",
              "       5936, 5315, 4590, 2133, 4375, 5260, 7870, 3910, 4401, 5409, 3855,\n",
              "       1406, 4068, 7006, 6904, 5698, 4864, 4128, 7442, 3239, 4839, 4602,\n",
              "       5538, 3570, 4098, 7286, 2424, 3727,  683, 2703, 5740, 3831, 1461,\n",
              "       4665, 2802, 4378, 7328, 6192, 4679, 5020, 7013, 1263, 1349, 2192,\n",
              "       4304,  431, 5298, 3624,  920, 7335, 5698, 6864, 5713, 5087, 2475,\n",
              "       7338, 5099, 1685, 5557, 3623, 4390, 4359, 7466, 4639, 1536, 4274,\n",
              "       1526, 2744, 5895, 6966, 7580, 4187, 3310, 1510, 5115, 4891, 3974,\n",
              "       3644, 2121, 7444, 4677, 3487, 5572, 5515, 4968, 4985, 4916, 4826,\n",
              "       3958, 6861, 4845, 4338, 4780, 5026, 2210, 4456, 7538, 5499, 7446,\n",
              "       2425, 7494, 4258, 2028, 6871, 4790, 4123, 7534, 7375, 7572, 7105,\n",
              "       6093, 4548, 2913, 4326, 6565, 2034, 3392, 2765, 5786, 3544, 4046,\n",
              "       4630, 5495, 3709, 4073, 4182, 4127, 5905, 2566, 4717, 3944, 5362,\n",
              "       7592, 2927, 4058, 3542, 2933, 4748, 8009, 5146, 5115, 1543, 3915,\n",
              "       4634, 7359, 1167, 5375, 7384, 4978, 4844, 4322, 1851, 1817, 5728,\n",
              "       7767, 4035, 4760, 7055, 6196, 5058, 5008, 3333, 1815, 2808, 2056])"
            ]
          },
          "metadata": {},
          "execution_count": 68
        }
      ]
    },
    {
      "cell_type": "code",
      "source": [
        "sample2 = sample2.to_numpy()\n",
        "sample2"
      ],
      "metadata": {
        "colab": {
          "base_uri": "https://localhost:8080/"
        },
        "id": "VNKf2uDEVvXg",
        "outputId": "528b8285-d015-4287-d9ce-687e88530e13"
      },
      "execution_count": null,
      "outputs": [
        {
          "output_type": "execute_result",
          "data": {
            "text/plain": [
              "array([ 985,  801,  959,  822, 1248, 1204, 1000,  981,  986, 1098, 1096,\n",
              "       1005, 1623, 1472, 1589, 1635, 1812, 1107, 1969, 2402, 2077,  605,\n",
              "       2132, 2417, 3117, 2471, 2496, 1693, 2252, 3249, 2455, 2895, 3126,\n",
              "        795, 3744, 4036, 4191, 5312, 3351, 4714, 4333, 3409, 4553, 5805,\n",
              "       4660, 4758, 4788, 4098, 5342, 4906, 4966, 4460, 5119, 4744, 5202,\n",
              "       5305, 5119, 4649, 6043, 5336, 4881, 5923, 5302, 3285, 3606, 4475,\n",
              "       4302, 4294, 3785, 4150, 3820, 5191, 3873, 1115, 4334, 4484, 4940,\n",
              "       3351, 5345, 5046, 4511, 4274, 5423, 5010, 2429, 2918, 5409, 5511,\n",
              "       5117, 5217, 5041, 4308, 4381,  627, 3331, 3926, 3649, 3368, 4067,\n",
              "       3717, 3663, 3520, 1495, 3068, 3071, 3614, 3485, 3190, 2743, 2739,\n",
              "       2431, 1011,  754, 1317, 2485, 2294, 1951, 4521, 3425, 2493, 2311,\n",
              "       2298, 1301, 1977, 4023, 3243, 2832, 2947, 2169, 1529, 4318, 2689,\n",
              "       3129, 2732, 3389, 4066, 3423, 4118, 4911, 7836, 5892, 3372, 4996,\n",
              "       6235, 6041, 6857, 5169, 7460, 7132, 6370, 6624, 1027, 4220, 6304,\n",
              "       6883, 6359, 7429, 6118, 8294, 7129, 6536, 6591, 6043, 8120, 7641,\n",
              "       7498, 6598, 7702, 6978, 7458, 6891, 5687, 5531, 7403, 4840, 4672,\n",
              "       6969, 6031, 4459, 7410, 6685, 6597, 6824, 5464, 6299, 6544, 7865,\n",
              "       4549, 6053, 5255, 6140, 5810, 6034, 5976, 8227, 8714, 7333, 8395,\n",
              "       7907, 8555, 6889, 7965, 3510, 5478, 7109, 6639, 8090, 6824, 7852,\n",
              "       4459, 5138, 5107, 6536, 6852, 6269, 5629, 4669, 2425, 2277, 2424,\n",
              "       5191, 4649, 5582, 3228, 5047, 3786, 1749, 1787, 1013, 1341, 1796])"
            ]
          },
          "metadata": {},
          "execution_count": 69
        }
      ]
    },
    {
      "cell_type": "code",
      "source": [
        "from sklearn.preprocessing import scale\n",
        "sns.displot(x = scale(sample2-sample1),kind = 'kde')"
      ],
      "metadata": {
        "colab": {
          "base_uri": "https://localhost:8080/",
          "height": 386
        },
        "id": "YspGzmATWG3r",
        "outputId": "86c3869f-4854-4805-93a2-e7c60e7ef567"
      },
      "execution_count": null,
      "outputs": [
        {
          "output_type": "execute_result",
          "data": {
            "text/plain": [
              "<seaborn.axisgrid.FacetGrid at 0x7f9682e99a50>"
            ]
          },
          "metadata": {},
          "execution_count": 70
        },
        {
          "output_type": "display_data",
          "data": {
            "text/plain": [
              "<Figure size 360x360 with 1 Axes>"
            ],
            "image/png": "[encoded data removed]"
          },
          "metadata": {
            "needs_background": "light"
          }
        }
      ]
    },
    {
      "cell_type": "markdown",
      "source": [
        "This closely resembles normal distribution so we can use two sample t-test"
      ],
      "metadata": {
        "id": "O3n1uxL8X0Lq"
      }
    },
    {
      "cell_type": "markdown",
      "source": [
        "Shapiro-Wilk test for confirmation of Normal distribution"
      ],
      "metadata": {
        "id": "BquNDcHNZSEu"
      }
    },
    {
      "cell_type": "code",
      "source": [
        "alpha = 0.05\n",
        "statistic,p_value = stats.shapiro(sample2-sample1)\n",
        "if p_value > alpha:\n",
        "  print(f'Normally distributed p-value : {p_value}')\n",
        "else:\n",
        "  print(f' Not Normally distributed p-value : {p_value}')"
      ],
      "metadata": {
        "colab": {
          "base_uri": "https://localhost:8080/"
        },
        "id": "VF51kkkBZCQw",
        "outputId": "56172497-b119-42c0-bd50-ae0aad237291"
      },
      "execution_count": null,
      "outputs": [
        {
          "output_type": "stream",
          "name": "stdout",
          "text": [
            "Normally distributed p-value : 0.6368043422698975\n"
          ]
        }
      ]
    },
    {
      "cell_type": "markdown",
      "source": [
        "To Check for variance we will proceed with Levene's test"
      ],
      "metadata": {
        "id": "DPk_4-hDYa2D"
      }
    },
    {
      "cell_type": "markdown",
      "source": [
        "Levene's test to check whether the variances of the two group are same.\n",
        "\n",
        "H0 : Variances are same.\n",
        "\n",
        "H1 : Variances are not same.\n",
        "\n",
        "Alpha = 0.05%\n",
        "\n",
        "if p-value > alpha (Cannot reject H0)\n",
        "\n",
        "if p-value < alpha (Accept null hypothesis)"
      ],
      "metadata": {
        "id": "sSMp68XbYP20"
      }
    },
    {
      "cell_type": "code",
      "source": [
        "alpha = 0.05\n",
        "\n",
        "Stats,Pvalue = stats.levene(sample1,sample2)\n",
        "\n",
        "print(f' Test statistics : {Stats} \\n Alpha : {alpha} \\n P-value : {Pvalue}')\n",
        "if Pvalue > alpha:\n",
        "  print(' Variances are same accept null hypothesis ')\n",
        "else:\n",
        "  print(' Variances are not same reject not null hypothesis ')"
      ],
      "metadata": {
        "colab": {
          "base_uri": "https://localhost:8080/"
        },
        "id": "tAiGhijNXN_o",
        "outputId": "a36b2184-3b06-4861-f8ad-40b6945ae9b5"
      },
      "execution_count": null,
      "outputs": [
        {
          "output_type": "stream",
          "name": "stdout",
          "text": [
            " Test statistics : 6.358842196980686 \n",
            " Alpha : 0.05 \n",
            " P-value : 0.012016457468435224\n",
            " Variances are not same reject not null hypothesis \n"
          ]
        }
      ]
    },
    {
      "cell_type": "markdown",
      "source": [
        "##  Another Example for One-way Annova test based on this dataset"
      ],
      "metadata": {
        "id": "OMsR58Mu6BaL"
      }
    },
    {
      "cell_type": "markdown",
      "source": [
        "Now that we have the data ready for t - Test we again state ou null and alternate hypothesis and perform our test"
      ],
      "metadata": {
        "id": "rMIptWKeZ-0l"
      }
    },
    {
      "cell_type": "markdown",
      "source": [
        "**H0:- Numberof bicycles rented are same irrespective of working day**\n",
        " \n",
        "\n",
        "**H1:- Number of bicycle rented are different and depends whether it's a working day or not**"
      ],
      "metadata": {
        "id": "4ShZX3ZVaQj_"
      }
    },
    {
      "cell_type": "code",
      "source": [
        "alpha = 0.05\n",
        "\n",
        "Stats,Pvalue = stats.ttest_ind(sample1,sample2)\n",
        "\n",
        "print(f' Test statistics : {Stats} \\n Alpha : {alpha} \\n P-value : {Pvalue}')\n",
        "if Pvalue > alpha:\n",
        "  print('Accept Null Hypothesis')\n",
        "else:\n",
        "  print('Reject Null Hypothesis')"
      ],
      "metadata": {
        "colab": {
          "base_uri": "https://localhost:8080/"
        },
        "id": "MuRcUuj5YzOV",
        "outputId": "7b7ff260-2343-4db7-de91-7d1f86031329"
      },
      "execution_count": null,
      "outputs": [
        {
          "output_type": "stream",
          "name": "stdout",
          "text": [
            " Test statistics : 1.181083217263005 \n",
            " Alpha : 0.05 \n",
            " P-value : 0.23817995512754409\n",
            "Accept Null Hypothesis\n"
          ]
        }
      ]
    },
    {
      "cell_type": "markdown",
      "source": [
        "\n",
        "\n",
        "> ***As we can see that the p-value is greater than alpha. So we can't reject our null hypothesis.\n",
        "working day has no effect on number of bikes rented.***\n",
        "\n"
      ],
      "metadata": {
        "id": "ympyza6Va2G3"
      }
    },
    {
      "cell_type": "markdown",
      "source": [
        "Now ANOTHER QUESTION that may arise in our mind is that whether the number of bike rentals on a day depends on the weather or not."
      ],
      "metadata": {
        "id": "LQpqT8CbteFC"
      }
    },
    {
      "cell_type": "code",
      "source": [
        "df['weathersit'].unique()"
      ],
      "metadata": {
        "colab": {
          "base_uri": "https://localhost:8080/"
        },
        "id": "UP_xAFSXtdmi",
        "outputId": "899eef50-a802-447f-bd8e-49cd7a8bbcd2"
      },
      "execution_count": null,
      "outputs": [
        {
          "output_type": "execute_result",
          "data": {
            "text/plain": [
              "array([2, 1, 3])"
            ]
          },
          "metadata": {},
          "execution_count": 74
        }
      ]
    },
    {
      "cell_type": "code",
      "source": [
        "df['weathersit'].value_counts()"
      ],
      "metadata": {
        "colab": {
          "base_uri": "https://localhost:8080/"
        },
        "id": "Vn7NlWEkaucI",
        "outputId": "6c43e096-9041-46bd-b804-927939f954fa"
      },
      "execution_count": null,
      "outputs": [
        {
          "output_type": "execute_result",
          "data": {
            "text/plain": [
              "1    463\n",
              "2    247\n",
              "3     21\n",
              "Name: weathersit, dtype: int64"
            ]
          },
          "metadata": {},
          "execution_count": 75
        }
      ]
    },
    {
      "cell_type": "code",
      "source": [
        "sns.boxplot(x=df['weathersit'],y=df['cnt'],data = df)"
      ],
      "metadata": {
        "colab": {
          "base_uri": "https://localhost:8080/",
          "height": 296
        },
        "id": "dfihzBKeuS-0",
        "outputId": "60133a62-74e3-48f3-8d7d-8480a107301c"
      },
      "execution_count": null,
      "outputs": [
        {
          "output_type": "execute_result",
          "data": {
            "text/plain": [
              "<matplotlib.axes._subplots.AxesSubplot at 0x7f96808a5050>"
            ]
          },
          "metadata": {},
          "execution_count": 79
        },
        {
          "output_type": "display_data",
          "data": {
            "text/plain": [
              "<Figure size 432x288 with 1 Axes>"
            ],
            "image/png": "[encoded data removed]"
          },
          "metadata": {
            "needs_background": "light"
          }
        }
      ]
    },
    {
      "cell_type": "code",
      "source": [
        "sns.kdeplot(x = df[df['weathersit']==1]['cnt'],label = 'weather_1',shade=True)\n",
        "sns.kdeplot(x = df[df['weathersit']==2]['cnt'],label = 'weather_2',shade=True)\n",
        "plt.legend()"
      ],
      "metadata": {
        "colab": {
          "base_uri": "https://localhost:8080/",
          "height": 296
        },
        "id": "r5GRQ239u4Ub",
        "outputId": "dfa3defc-f5c7-4380-f678-1e278071cdc6"
      },
      "execution_count": null,
      "outputs": [
        {
          "output_type": "execute_result",
          "data": {
            "text/plain": [
              "<matplotlib.legend.Legend at 0x7f967ff6fe50>"
            ]
          },
          "metadata": {},
          "execution_count": 95
        },
        {
          "output_type": "display_data",
          "data": {
            "text/plain": [
              "<Figure size 432x288 with 1 Axes>"
            ],
            "image/png": "[encoded data removed]"
          },
          "metadata": {
            "needs_background": "light"
          }
        }
      ]
    },
    {
      "cell_type": "code",
      "source": [
        "sns.displot(x = df['cnt'],kind = 'kde',hue = 'weathersit', data = df)"
      ],
      "metadata": {
        "colab": {
          "base_uri": "https://localhost:8080/",
          "height": 386
        },
        "id": "h2r47VRGwFyE",
        "outputId": "38a50172-aa46-4ff9-b136-e8f3223dc2c4"
      },
      "execution_count": null,
      "outputs": [
        {
          "output_type": "execute_result",
          "data": {
            "text/plain": [
              "<seaborn.axisgrid.FacetGrid at 0x7f96805335d0>"
            ]
          },
          "metadata": {},
          "execution_count": 92
        },
        {
          "output_type": "display_data",
          "data": {
            "text/plain": [
              "<Figure size 420.875x360 with 1 Axes>"
            ],
            "image/png": "[encoded data removed]"
          },
          "metadata": {
            "needs_background": "light"
          }
        }
      ]
    },
    {
      "cell_type": "markdown",
      "source": [
        "As a first step we state our null and alternate hypothesis"
      ],
      "metadata": {
        "id": "gklxBRrp0s1o"
      }
    },
    {
      "cell_type": "markdown",
      "source": [
        "H0:- There is no relationship between number of bike rentals and weather for a paticular day\n",
        "\n",
        "\n",
        "H1 :- Number of Bike rentals on a day is different for different weather"
      ],
      "metadata": {
        "id": "2b3FLPzR3PgH"
      }
    },
    {
      "cell_type": "markdown",
      "source": [
        "**Since number of bike rentals is a continuous variable and we have more than two categories for weather we will use one way annova test**"
      ],
      "metadata": {
        "id": "9y72XclL38BQ"
      }
    },
    {
      "cell_type": "code",
      "source": [
        "d_weather1 = df[ df['weathersit']==1 ]['cnt'].sample(n=25).to_numpy()\n",
        "d_weather1"
      ],
      "metadata": {
        "colab": {
          "base_uri": "https://localhost:8080/"
        },
        "id": "8vrC6u-FxRrY",
        "outputId": "5e3a0201-0471-4525-bf13-4a0975bf1181"
      },
      "execution_count": null,
      "outputs": [
        {
          "output_type": "execute_result",
          "data": {
            "text/plain": [
              "array([2298, 6883, 2703, 5041, 5298, 5729, 8294, 4840, 4339, 1321, 7347,\n",
              "       4486, 2133, 7109, 5267, 6857, 6457, 6565, 4456, 3239, 4322, 5102,\n",
              "       3272, 3785, 7105])"
            ]
          },
          "metadata": {},
          "execution_count": 99
        }
      ]
    },
    {
      "cell_type": "code",
      "source": [
        "d_weather2 = df[ df['weathersit']==2 ]['cnt'].sample(n=25).to_numpy()\n",
        "d_weather2"
      ],
      "metadata": {
        "colab": {
          "base_uri": "https://localhost:8080/"
        },
        "id": "-_WokmgG4mYV",
        "outputId": "0cec6780-070f-4487-9519-4dfa00885be5"
      },
      "execution_count": null,
      "outputs": [
        {
          "output_type": "execute_result",
          "data": {
            "text/plain": [
              "array([3053, 1162, 6230, 5010, 7175, 1944, 4036, 3740, 2121, 4367, 3974,\n",
              "       1107, 6664, 4150, 4378, 4451, 7572, 2162, 4127, 1248, 1446, 7328,\n",
              "       1360, 1526, 6140])"
            ]
          },
          "metadata": {},
          "execution_count": 100
        }
      ]
    },
    {
      "cell_type": "code",
      "source": [
        "d_weather3 = df[ df['weathersit']==3 ]['cnt'].to_numpy()\n",
        "d_weather3"
      ],
      "metadata": {
        "colab": {
          "base_uri": "https://localhost:8080/"
        },
        "id": "drEmjYb24s9k",
        "outputId": "449268ca-10cf-4eba-b1c6-dec7e02ea0b9"
      },
      "execution_count": null,
      "outputs": [
        {
          "output_type": "execute_result",
          "data": {
            "text/plain": [
              "array([ 506,  623, 1685,  795, 2710, 1996, 1842, 2416, 2424,  627, 1817,\n",
              "       2765, 1607, 2594,  705, 2169, 1027, 4459, 4639,   22,  441])"
            ]
          },
          "metadata": {},
          "execution_count": 98
        }
      ]
    },
    {
      "cell_type": "code",
      "source": [
        "F, p_value = stats.f_oneway(d_weather1,d_weather2,d_weather3)"
      ],
      "metadata": {
        "id": "oawISrHH4zNx"
      },
      "execution_count": null,
      "outputs": []
    },
    {
      "cell_type": "code",
      "source": [
        "p_value"
      ],
      "metadata": {
        "colab": {
          "base_uri": "https://localhost:8080/"
        },
        "id": "vCLzJAxQ5QiZ",
        "outputId": "fbfe08f8-2288-4f1a-b14f-1b5bab779d50"
      },
      "execution_count": null,
      "outputs": [
        {
          "output_type": "execute_result",
          "data": {
            "text/plain": [
              "5.140216133849556e-07"
            ]
          },
          "metadata": {},
          "execution_count": 103
        }
      ]
    },
    {
      "cell_type": "code",
      "source": [
        "if p_value>0.05:\n",
        "  print(\"Accept the Null hypothesis\")\n",
        "else:\n",
        "  print(\"\\nWe reject the null hypothesis and conclude that weather has effects on number of bike rentals on a day\")"
      ],
      "metadata": {
        "colab": {
          "base_uri": "https://localhost:8080/"
        },
        "id": "ppfWIs0B5aV8",
        "outputId": "470b7f10-a6d3-4ae8-ac2c-6f01fd0c1b11"
      },
      "execution_count": null,
      "outputs": [
        {
          "output_type": "stream",
          "name": "stdout",
          "text": [
            "\n",
            "We reject the null hypothesis and conclude that weather has effects on number of bike rentals on a day\n"
          ]
        }
      ]
    },
    {
      "cell_type": "code",
      "source": [],
      "metadata": {
        "id": "2NQ9B7E2566X"
      },
      "execution_count": null,
      "outputs": []
    }
  ]
}